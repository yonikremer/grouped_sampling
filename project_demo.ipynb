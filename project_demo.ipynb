{
  "cells": [
    {
      "cell_type": "markdown",
      "metadata": {
        "id": "view-in-github",
        "colab_type": "text"
      },
      "source": [
        "<a href=\"https://colab.research.google.com/github/yonikremer/final_project/blob/master/project_demo.ipynb\" target=\"_parent\"><img src=\"https://colab.research.google.com/assets/colab-badge.svg\" alt=\"Open In Colab\"/></a>"
      ]
    },
    {
      "cell_type": "markdown",
      "metadata": {
        "id": "JHhVA_vxD6NV"
      },
      "source": [
        "# Demo - this is a demo for the project - \n",
        "\n",
        "Here yu can try out the sampling method I intreduced in my research.\n",
        "I highly reccomend to lookup [my research project](https://github.com/yonikremer/final_project) for more information."
      ]
    },
    {
      "cell_type": "markdown",
      "metadata": {
        "id": "yDbjm_yg5-5t"
      },
      "source": [
        "# Set Up"
      ]
    },
    {
      "cell_type": "markdown",
      "metadata": {
        "id": "0A1EbQSf6WtO"
      },
      "source": [
        "Please run the following cell once, than restart the kernal and run the other cells by order"
      ]
    },
    {
      "cell_type": "code",
      "execution_count": 1,
      "metadata": {
        "id": "th_b4EHG4b4l",
        "colab": {
          "base_uri": "https://localhost:8080/"
        },
        "outputId": "f2e5053f-b66e-45bd-916e-87d25c62936a"
      },
      "outputs": [
        {
          "output_type": "stream",
          "name": "stdout",
          "text": [
            "\u001b[K     |████████████████████████████████| 4.7 MB 7.0 MB/s \n",
            "\u001b[K     |████████████████████████████████| 6.6 MB 46.4 MB/s \n",
            "\u001b[K     |████████████████████████████████| 120 kB 65.1 MB/s \n",
            "\u001b[?25h"
          ]
        }
      ],
      "source": [
        "%pip install -q transformers;\n",
        "%pip install -q torch;"
      ]
    },
    {
      "cell_type": "code",
      "source": [
        "from typing import List, Tuple, Iterable, Set, Dict, Optional\n",
        "from functools import reduce\n",
        "import random\n",
        "from copy import deepcopy"
      ],
      "metadata": {
        "id": "NTkbZjWS5pSc"
      },
      "execution_count": 2,
      "outputs": []
    },
    {
      "cell_type": "code",
      "execution_count": 33,
      "metadata": {
        "id": "Rou3pmrewyXG"
      },
      "outputs": [],
      "source": [
        "from transformers import AutoTokenizer, AutoModelForCausalLM, AutoConfig, PreTrainedModel, BatchEncoding\n",
        "\n",
        "import torch\n",
        "from torch import cuda, device, LongTensor\n",
        "from torch.nn import Softmax"
      ]
    },
    {
      "cell_type": "code",
      "execution_count": 4,
      "metadata": {
        "id": "yNv-zShOcIPB"
      },
      "outputs": [],
      "source": [
        "if not cuda.is_available():\n",
        "    print(\"Warning: CUDA not available\")\n",
        "    print(\"Running on CPU wil be very slow\")\n",
        "    print(\"it's highly recommended to use colab's GPU runtime\")\n",
        "    exit()\n",
        "else:\n",
        "    cuda = device('cuda')"
      ]
    },
    {
      "cell_type": "markdown",
      "metadata": {
        "id": "dNzB89UE5anV"
      },
      "source": [
        "# Important Notes:\n",
        "\n",
        "\n",
        "*   Please make sure the model you choose is not too big for your hardware\n",
        "*   gpt2 is the smallest version of gpt-2, gpt2-xl is the largest\n",
        "*   bloom is the largest vesion of bloom\n",
        "\n"
      ]
    },
    {
      "cell_type": "markdown",
      "metadata": {
        "id": "lhKi5OED6J30"
      },
      "source": [
        "# Selecting a Model"
      ]
    },
    {
      "cell_type": "code",
      "execution_count": null,
      "metadata": {
        "cellView": "form",
        "id": "lDyw05iOoo98"
      },
      "outputs": [],
      "source": [
        "#@title Select a model from the list\n",
        "\n",
        "model_name = \"gpt2\" #@param [\"facebook/opt-125m\", \"facebook/opt-1.3b\", \"facebook/opt-13b\", \"facebook/opt-125m\", \"facebook/opt-2.7b\", \"facebook/opt-30b\", \"facebook/opt-350m\", \"facebook/opt-6.7b\", \"facebook/opt-66b\", \"gpt2\", \"gpt2-medium\", \"gpt2-xl\", \"gpt2-large\", \"bigscience/bloom\", \"bigscience/bloom-7b1\", \"bigscience/bloom-6b3\", \"bigscience/bloom-3b\", \"bigscience/bloom-1b7\", \"bigscience/bloom-1b1\", \"bigscience/bloom-560m\"]"
      ]
    },
    {
      "cell_type": "code",
      "execution_count": 6,
      "metadata": {
        "id": "oFpZRiSR9mlh",
        "colab": {
          "base_uri": "https://localhost:8080/",
          "height": 177,
          "referenced_widgets": [
            "0e0c93adf4654faa99745ff348771f58",
            "8fb6edb412044c00a93bad910850c79e",
            "1b9a18923dbd47968e021f7381919c20",
            "3ee8414e1789400097d03ed059cdff00",
            "daf2f6bdc5e94cb99cf0fc871ae74bd5",
            "e5222d475c3b4445b420b8bcec14fd74",
            "06135704822449a9a0317ac11b3a3fc8",
            "9ba839dbd7234e06943da20a7be377fd",
            "d0faefd807c94926913c68045363f12f",
            "f285e5a545a24c7d8c7a5ccf6974fda9",
            "cf009170b8a54801a0901a296c50dff9",
            "1b85e62cbd434e08989860f1315405f3",
            "655fdb48e05d481d878f7dc4f07dcab5",
            "59ae8b767b1041aaace4530af14a9eeb",
            "6f9dc807da184b4c954227c017e6178c",
            "2f059d1561cd4a42866a153686909186",
            "1bc8fd239ece428da92322da07d3f541",
            "df2e58484dc940f88d92027ad007ace0",
            "85e7893fd18140018d3ff6fbbcf6a3d6",
            "5f95c1b1f03c494389fe9ca36ec4f418",
            "e09def8652ad4693aee93c78bb7512aa",
            "1ddd999aa6154b938c5af3e62d1bce11",
            "bcfed9dc723f48af85c9abe888657be8",
            "c7f55fb0eaea4277a5faaeda2ab87833",
            "b73e518efd934004a28469b3f9575110",
            "f1c5e26cccfa4757adfdd304adfdfcfe",
            "ccef131afc93493dad36c4903049d35d",
            "f32fa162c8eb4fa8a79308c6f2153c71",
            "9d28e6790b6d4df999567928117c9e01",
            "42f4871a7f04420c8e8acaeece7ca171",
            "44235b625fef4eaca91e5b1d71dab49d",
            "928ecaaaeb6a4f8f829565caf6fa4628",
            "fd2abaa9f86f4844885c4c22d403e03a",
            "869f3e07c6ed469e80556d6d7a5e2c85",
            "dd7edb7b86e64668b1962010bab98056",
            "5e5f2256b3a14a429914af0fc4cc4ae0",
            "45d1d1104b6243f9916974434da3e275",
            "2d113547762d44fabbbaa44ea4710324",
            "e6f02ba37e5249fe885bdc097e593c3f",
            "4575fe52ed3a45dba4460096d2709cd7",
            "b9dddb67b7454430ab87619422797639",
            "92e4a14b7ddb4741bff5cf7097e257a8",
            "045461bd803741f2a0e09972841226d0",
            "d61098dd2d2a46bf87563fc004afaa16",
            "76f26542b2034f2a8467c6ea04b17b4c",
            "83afd198e7064ea6baebd5010f21c3c2",
            "9a1356c80b9c4ddb9713fb19d4d99082",
            "d83f3204487045059c3f07aa7c300c63",
            "52ccb965a95d4efa9009db0e78efb054",
            "457888a40b884a97bf762dad2438ff50",
            "b2c01b85ec5f4cb8a9a5c42768444546",
            "9139292daac345bea8253fecbeff46b4",
            "80aa619077c2445b959276a1bd1e116c",
            "8679ac04f70446c4a454b0a677163aba",
            "f8be1039e0284bb9a86efc5029d6a774"
          ]
        },
        "outputId": "907682ff-63d5-49d9-d152-086d98f408ee"
      },
      "outputs": [
        {
          "output_type": "display_data",
          "data": {
            "text/plain": [
              "Downloading config.json:   0%|          | 0.00/665 [00:00<?, ?B/s]"
            ],
            "application/vnd.jupyter.widget-view+json": {
              "version_major": 2,
              "version_minor": 0,
              "model_id": "0e0c93adf4654faa99745ff348771f58"
            }
          },
          "metadata": {}
        },
        {
          "output_type": "display_data",
          "data": {
            "text/plain": [
              "Downloading vocab.json:   0%|          | 0.00/0.99M [00:00<?, ?B/s]"
            ],
            "application/vnd.jupyter.widget-view+json": {
              "version_major": 2,
              "version_minor": 0,
              "model_id": "1b85e62cbd434e08989860f1315405f3"
            }
          },
          "metadata": {}
        },
        {
          "output_type": "display_data",
          "data": {
            "text/plain": [
              "Downloading merges.txt:   0%|          | 0.00/446k [00:00<?, ?B/s]"
            ],
            "application/vnd.jupyter.widget-view+json": {
              "version_major": 2,
              "version_minor": 0,
              "model_id": "bcfed9dc723f48af85c9abe888657be8"
            }
          },
          "metadata": {}
        },
        {
          "output_type": "display_data",
          "data": {
            "text/plain": [
              "Downloading tokenizer.json:   0%|          | 0.00/1.29M [00:00<?, ?B/s]"
            ],
            "application/vnd.jupyter.widget-view+json": {
              "version_major": 2,
              "version_minor": 0,
              "model_id": "869f3e07c6ed469e80556d6d7a5e2c85"
            }
          },
          "metadata": {}
        },
        {
          "output_type": "display_data",
          "data": {
            "text/plain": [
              "Downloading pytorch_model.bin:   0%|          | 0.00/523M [00:00<?, ?B/s]"
            ],
            "application/vnd.jupyter.widget-view+json": {
              "version_major": 2,
              "version_minor": 0,
              "model_id": "76f26542b2034f2a8467c6ea04b17b4c"
            }
          },
          "metadata": {}
        }
      ],
      "source": [
        "tokenizer = AutoTokenizer.from_pretrained(model_name);\n",
        "model = AutoModelForCausalLM.from_pretrained(model_name).cuda();\n",
        "vocab_size = AutoConfig.from_pretrained(model_name).vocab_size;"
      ]
    },
    {
      "cell_type": "code",
      "source": [
        "random.seed(0)"
      ],
      "metadata": {
        "id": "J4j-VY-GEM2j"
      },
      "execution_count": 7,
      "outputs": []
    },
    {
      "cell_type": "code",
      "source": [
        "def print_bases(obj):\n",
        "    curr_base = type(obj)\n",
        "    while curr_base != object:\n",
        "        print(curr_base)\n",
        "        curr_base = curr_base.__base__\n",
        "\n",
        "print_bases(model)"
      ],
      "metadata": {
        "colab": {
          "base_uri": "https://localhost:8080/"
        },
        "id": "e9VAuvvtCA29",
        "outputId": "ec6778d8-148d-47e2-fa4d-54a9a7ac1430"
      },
      "execution_count": 8,
      "outputs": [
        {
          "output_type": "stream",
          "name": "stdout",
          "text": [
            "<class 'transformers.models.gpt2.modeling_gpt2.GPT2LMHeadModel'>\n",
            "<class 'transformers.models.gpt2.modeling_gpt2.GPT2PreTrainedModel'>\n",
            "<class 'transformers.modeling_utils.PreTrainedModel'>\n",
            "<class 'torch.nn.modules.module.Module'>\n"
          ]
        }
      ]
    },
    {
      "cell_type": "code",
      "source": [
        "tokenizer(\"Tokenize this\", return_tensors=\"pt\")[\"input_ids\"].shape"
      ],
      "metadata": {
        "id": "R85qVazLFJ9X",
        "outputId": "8ae83dc4-9820-482e-9c13-f4d44f1b57ec",
        "colab": {
          "base_uri": "https://localhost:8080/"
        }
      },
      "execution_count": 10,
      "outputs": [
        {
          "output_type": "execute_result",
          "data": {
            "text/plain": [
              "torch.Size([1, 3])"
            ]
          },
          "metadata": {},
          "execution_count": 10
        }
      ]
    },
    {
      "cell_type": "markdown",
      "metadata": {
        "id": "7S5lrpOO0jS8"
      },
      "source": [
        "# The code I use to sample:"
      ]
    },
    {
      "cell_type": "markdown",
      "source": [
        "## Get probability matrix"
      ],
      "metadata": {
        "id": "2pHI8lbP8HK8"
      }
    },
    {
      "cell_type": "code",
      "source": [
        "def get_prob_mat(prompt: Optional[str], group_size: int, token_list: Optional[List[int]] = None):\n",
        "    \"\"\"Returns the probability matrix as a list of lists of floats\"\"\"\n",
        "    if not isinstance(model, PreTrainedModel): \n",
        "        raise NotImplementedError(\"Only AutoModelForCausalLM is supported\")\n",
        "\n",
        "    if token_list is None:\n",
        "        inputs = tokenizer(prompt, return_tensors=\"pt\")\n",
        "    else:\n",
        "        attention_mask = torch.ones([1, len(token_list)])\n",
        "        inputs = {\"input_ids\": LongTensor([token_list]), \"attention_mask\": attention_mask}\n",
        "    inputs = {name: tensor.cuda() for name, tensor in inputs.items()}\n",
        "\n",
        "    if not isinstance(inputs, dict):\n",
        "        logits_pt_tensor = model(**inputs).logits.squeeze(0)\n",
        "    elif not \"input_ids\" in inputs.keys():\n",
        "        logits_pt_tensor = model(**inputs).logits.squeeze(0)\n",
        "    else:\n",
        "        logits_pt_tensor = model(**inputs, labels=inputs[\"input_ids\"]).logits.squeeze(0)\n",
        "    \n",
        "    prob_tensor = Softmax(dim=1)(logits_pt_tensor)\n",
        "    if group_size <= prob_tensor.shape[0]:\n",
        "        prob_tensor = prob_tensor[:group_size, :]\n",
        "        prob_mat = [prob_tensor[i, :].tolist() for i in range(group_size)]\n",
        "    else:\n",
        "        print(\"Warning: the group size is bigger than the length of the model's output\")\n",
        "        print(\"If the length of the model input (in tokens) is n, n will be length of the model's output\")\n",
        "        print(f\"the predicted text will be {group_size - prob_tensor.shape[0]} tokens shorter\")\n",
        "        prob_mat = [prob_tensor[i, :].tolist() for i in range(prob_tensor.shape[0])]\n",
        "      \n",
        "    return prob_mat"
      ],
      "metadata": {
        "id": "8i7pkdOu8GSI"
      },
      "execution_count": 18,
      "outputs": []
    },
    {
      "cell_type": "code",
      "source": [
        "exm_prob_mat = get_prob_mat(None, 3, [1, 2,3])"
      ],
      "metadata": {
        "id": "XviiklNYEaIP"
      },
      "execution_count": 19,
      "outputs": []
    },
    {
      "cell_type": "code",
      "source": [
        "type(exm_prob_mat), len(exm_prob_mat), type(exm_prob_mat[0]), len(exm_prob_mat[0]), sum(exm_prob_mat[0])"
      ],
      "metadata": {
        "colab": {
          "base_uri": "https://localhost:8080/"
        },
        "id": "6zyv20LEFBEK",
        "outputId": "922712af-be76-48b6-9e8d-a7ffb3eddd31"
      },
      "execution_count": 22,
      "outputs": [
        {
          "output_type": "execute_result",
          "data": {
            "text/plain": [
              "(list, 3, list, 50257, 0.9999998332914264)"
            ]
          },
          "metadata": {},
          "execution_count": 22
        }
      ]
    },
    {
      "cell_type": "markdown",
      "source": [
        "## distribution sampling  "
      ],
      "metadata": {
        "id": "qHgtzS6dvM3Y"
      }
    },
    {
      "cell_type": "code",
      "source": [
        "def grouped_top_p_sampling(prob_mat: List[List[float]], top_p: float, org_used_tokens: List[int]):\n",
        "    used_tokens = deepcopy(org_used_tokens)\n",
        "    answer = []\n",
        "    for curr_token_prob_list in prob_mat:\n",
        "        for used_token in used_tokens:\n",
        "            curr_token_prob_list[used_token] = 0.0\n",
        "\n",
        "        indexed_prob: Dict[int, float] = {i: prob for i, prob in enumerate(curr_token_prob_list)}  # O(vocab_size)\n",
        "        sorted_items = sorted(indexed_prob.items(), key = lambda item: item[1], reverse=True)\n",
        "        sorted_indexed_prob = {key: value for key, value in sorted_items}\n",
        "        top_p_indexed_prob: Dict[int, float] = {}\n",
        "        prob_sum: float = 0.0\n",
        "        for i, (curr_token, curr_prob) in enumerate(sorted_indexed_prob.items()):\n",
        "            if i > 0 and prob_sum + curr_prob > top_p:\n",
        "                break\n",
        "            prob_sum += curr_prob\n",
        "            top_p_indexed_prob[curr_token] = curr_prob\n",
        "\n",
        "        weighted_probs = {key: value / prob_sum for key, value in top_p_indexed_prob.items()}\n",
        "\n",
        "        sampled_token: int = random.choices(list(weighted_probs.keys()), weights = weighted_probs.values(), k=1)[0]\n",
        "        answer.append(sampled_token)\n",
        "        used_tokens.append(sampled_token)\n",
        "    return answer\n",
        "\n",
        "\n",
        "def grouped_top_k_sampling(prob_mat: List[List[float]], top_k: int, org_used_tokens: List[int]):\n",
        "    used_tokens = deepcopy(org_used_tokens)\n",
        "    answer = []\n",
        "    for curr_token_prob_list in prob_mat:\n",
        "        for used_token in used_tokens:\n",
        "            curr_token_prob_list[used_token] = 0.0\n",
        "\n",
        "        indexed_prob: Dict[int, float] = {i: prob for i, prob in enumerate(curr_token_prob_list)}  # O(vocab_size)\n",
        "        sorted_items = sorted(indexed_prob.items(), key = lambda item: item[1], reverse=True)\n",
        "        sorted_indexed_prob = {key: value for key, value in sorted_items}\n",
        "        sorted_top_k_keys = list(sorted_indexed_prob.keys())[:top_k]\n",
        "        top_k_indexed_prob: Dict[int, float] = {key: sorted_indexed_prob[key] for key in sorted_top_k_keys}\n",
        "        prob_sum: float = sum(top_k_indexed_prob.values())\n",
        "        weighted_probs = {key: value / prob_sum for key, value in top_k_indexed_prob.items()}\n",
        "\n",
        "        sampled_token: int = random.choices(list(weighted_probs.keys()), weights = weighted_probs.values(), k=1)[0]\n",
        "        answer.append(sampled_token)\n",
        "        used_tokens.append(sampled_token)\n",
        "    return answer\n",
        "\n",
        "\n",
        "def generate_distribution(prompt, top_p, top_k, num_groups, group_size):\n",
        "    already_used_tokens: List[int] = []\n",
        "    tokenized_prompt_ten = tokenizer(prompt, return_tensors=\"pt\")\n",
        "    if isinstance(tokenized_prompt_ten, dict) or isinstance(tokenized_prompt_ten, BatchEncoding):\n",
        "        if \"input_ids\" in tokenized_prompt_ten.keys():\n",
        "            tokenized_prompt_ten = tokenized_prompt_ten[\"input_ids\"]\n",
        "    \n",
        "    curr_token_list = tokenized_prompt_ten.squeeze().tolist()\n",
        "    for _ in range(num_groups):\n",
        "        prob_mat = get_prob_mat(None, group_size, curr_token_list)\n",
        "        if top_p is None and top_k is not None:\n",
        "            new_tokens = grouped_top_k_sampling(prob_mat, top_k, curr_token_list)\n",
        "        elif top_k is None and top_p is not None:\n",
        "            new_tokens = grouped_top_p_sampling(prob_mat, top_p, curr_token_list)\n",
        "        else:\n",
        "            raise ValueError(\"Either top_p ot top_k should be None, but not both\")\n",
        "        curr_token_list.extend(new_tokens)\n",
        "    final_ans = tokenizer.decode(curr_token_list)\n",
        "    return final_ans"
      ],
      "metadata": {
        "id": "YKJqvrxovUYa"
      },
      "execution_count": 49,
      "outputs": []
    },
    {
      "cell_type": "code",
      "source": [
        "generate_distribution(\"Translate \", None, 1, 8, 3)"
      ],
      "metadata": {
        "colab": {
          "base_uri": "https://localhost:8080/",
          "height": 35
        },
        "id": "UjpWpkq-46fr",
        "outputId": "158fbca4-3fe2-4377-d02d-e3e41978abe2"
      },
      "execution_count": 52,
      "outputs": [
        {
          "output_type": "execute_result",
          "data": {
            "text/plain": [
              "'complete this, section\\xa0\\n year!!!. isiph and to!!!!- feature____ the pagevern of timext ( optionurn'"
            ],
            "application/vnd.google.colaboratory.intrinsic+json": {
              "type": "string"
            }
          },
          "metadata": {},
          "execution_count": 52
        }
      ]
    },
    {
      "cell_type": "markdown",
      "source": [
        "## Brute force sampling"
      ],
      "metadata": {
        "id": "xcp_Xnw3vJ8M"
      }
    },
    {
      "cell_type": "code",
      "execution_count": null,
      "metadata": {
        "id": "7xP7MjctCfgq"
      },
      "outputs": [],
      "source": [
        "def combinations(mat):\n",
        "    \"\"\"Returns all the lists such that list[j] is in mat[j]\n",
        "    complexity: prod([len(mat[i]) for i in range(len(mat))])\"\"\"\n",
        "    if len(mat) == 1:\n",
        "        return [[mat[0][i]] for i in range(len(mat[0]))]\n",
        "    res = []\n",
        "    for i in mat[0]:\n",
        "        for j in combinations(mat[1:]):\n",
        "            res.append([i] + j)\n",
        "    filtered_res = list(filter(doesnt_have_duplicates, res))\n",
        "    return filtered_res\n",
        "\n",
        "\n",
        "def doesnt_have_duplicates(my_list):\n",
        "    \"\"\"Return if there isn't a repetition in the list\n",
        "    complexity: O(n) where n is the length of the list\"\"\"\n",
        "    return len(my_list) == len(set(my_list))\n",
        "\n",
        "\n",
        "def seq_prob(tokens, prob_mat, org_prompt_prob):\n",
        "    \"\"\"Given the probability matrix and a list of tokens\n",
        "    returns the probability of the sequence\n",
        "    prob_mat[a][b] is the probability of the token with id b the a-th token in the sequence\"\"\"\n",
        "    probability = org_prompt_prob\n",
        "    sequence_length = len(tokens)\n",
        "    for i in range(sequence_length):\n",
        "        curr_token = tokens[i]\n",
        "        probability *= prob_mat[i][curr_token]\n",
        "    return probability\n",
        "\n",
        "\n",
        "def grouped_sampling(prob_mat: List[List[float]], top_p, top_k) -> List[List[int]]:\n",
        "    \"\"\"given a matrix of probabilities, returns a list of lists of tokens\n",
        "    the matrixs is of size group_size x vocab_size\n",
        "    where matrix[i, j] is the probability of token j the i-th token in the group\n",
        "    samples the tokens such that for each place in the group,\n",
        "    at most top_k tokens are sampled and at least one token is sampled\n",
        "    and the added probability of all the tokens is less than or equal top_p\n",
        "    returns a list of where every item is a tuple of a sequense and probability\n",
        "    over all complexity of the function in O(group_size * vocab_size * log(vocab_size))\"\"\"\n",
        "    \n",
        "    # prob_tensor.shape is now (group_size, vocab_size)\n",
        "    posible_tokens = []\n",
        "    already_predicted = set()\n",
        "    for token_prob in prob_mat: # group_size times\n",
        "        vocab_size = len(token_prob)  # O(1)\n",
        "        indexed_prob = list(zip(token_prob, range(vocab_size)))  # O(vocab_size)\n",
        "        sorted_indexed_prob = sorted(indexed_prob, key=lambda x: x[0], reverse=True) # O(vocab_size*log(vocab_size))\n",
        "        curr_k = 0\n",
        "        total_prob = 0\n",
        "        curr_indices = []\n",
        "        for prob, token in sorted_indexed_prob:  # O(top_k)\n",
        "            if total_prob + prob > top_p or curr_k == top_k:\n",
        "                break\n",
        "            if not token in already_predicted:\n",
        "                already_predicted.add(token)\n",
        "                curr_k += 1\n",
        "                total_prob += prob\n",
        "                curr_indices.append(token)\n",
        "        posible_tokens.append(curr_indices)  # O(1)\n",
        "    new_sequences: List[List[int]] = combinations(posible_tokens)  # theta(prod(len(indices[i]) for i in range(group_size)))\n",
        "    # len(indices[i]) < min(top_k, vocab_size)\n",
        "    # therefore the complexity is O(min(top_k, vocab_size) * group_size)\n",
        "    return new_sequences\n",
        "\n",
        "\n",
        "def flatten(l: list) -> List:\n",
        "    \"\"\"Gets a list where some of the elements might be lists\n",
        "    and adds every item in the inner list to the outer list.\n",
        "    example: [1, [2, 3], 4, [[5]]] -> [1, 2, 3, 4, 5]\n",
        "    Complexity: O(len(the flatten list) + the number of diffrent lists))\"\"\"\n",
        "    new_list = []\n",
        "    for item in l:\n",
        "        if isinstance(item, list):\n",
        "            new_list.extend(flatten(item))\n",
        "        else:\n",
        "            new_list.append(item)\n",
        "    return new_list\n",
        "\n",
        "\n",
        "def complete(model_name, org_prompt, top_p, top_k, num_groups, group_size, org_prompt_prob = 1.0) -> Dict[Tuple[int], float]:\n",
        "    \"\"\"preprocess the prompt and completes the text\n",
        "    model name: str\n",
        "    org_prompt: str\n",
        "    top_p: float (0.0 - 1.0)\n",
        "    top_k: int > 0\n",
        "    num_groups: int > 0\n",
        "    group_size: int > 0\n",
        "    org_prompt_prob: float <= 1\n",
        "    \"\"\"\n",
        "    if isinstance(org_prompt, str):\n",
        "        str_prompt = org_prompt\n",
        "        try:\n",
        "            tokenized_prompt_ten = tokenizer(str_prompt, return_tensors=\"pt\")[\"input_ids\"]\n",
        "        except Exception:\n",
        "            tokenized_prompt_ten = tokenizer(str_prompt, return_tensors=\"pt\")\n",
        "        tokenized_prompt_list = tokenized_prompt_ten.tolist()\n",
        "    elif isinstance(org_prompt, list) or isinstance(org_prompt, tuple):\n",
        "        tokenized_prompt_list = flatten(org_prompt)\n",
        "        str_prompt = tokenizer.decode(tokenized_prompt_list)\n",
        "    else:\n",
        "        print(org_prompt)\n",
        "        raise ValueError(\"org_prompt must be a string or list of integers\")\n",
        "    \n",
        "    prob_mat = get_prob_mat(model_name, str_prompt, group_size)\n",
        "    tokenized_ans_list = grouped_sampling(prob_mat, top_p, top_k)\n",
        "    prob_list: List[Tuple[List[int], float]] = [seq_prob(seq, prob_mat, org_prompt_prob) for seq in tokenized_ans_list]\n",
        "    new_prompts: List[List[int]] = [flatten(tokenized_prompt_list + ans) for ans in tokenized_ans_list]\n",
        "    complition_prob_dict = remove_duplicates(new_prompts, prob_list)\n",
        "    if num_groups == 1:\n",
        "        return complition_prob_dict\n",
        "    new_complitions: Dict[Tuple[int], float] = dict()\n",
        "    for curr_new_prompt, curr_new_prompt_prob in complition_prob_dict.items():\n",
        "        curr_completions: Dict[Tuple[int], float] = complete(model_name, curr_new_prompt, top_p, top_k, num_groups - 1, group_size, curr_new_prompt_prob)\n",
        "        tokens: Tuple[int]\n",
        "        prob: float\n",
        "        for tokens, prob in curr_completions.items():\n",
        "            new_complitions[tokens] = prob\n",
        "    return new_complitions\n",
        "\n",
        "\n",
        "def remove_duplicates(completions: List[List[int]], probs: List[float]) -> Dict[Tuple[int], float]:\n",
        "    \"\"\"Given a list of tokenized answers and the probability of each complition,\n",
        "    removes every repeated completion and every complition that have repeated tokens\"\"\"\n",
        "    filtered_completions: Dict[Tuple[int], float] = dict()\n",
        "    for curr_comp, curr_prob in zip(completions, probs):\n",
        "        try:\n",
        "            cond = len(curr_comp) == len(set(curr_comp))\n",
        "        except TypeError as e:\n",
        "            print(curr_comp)\n",
        "            raise e\n",
        "        if cond:\n",
        "            curr_comp_tuple = tuple(curr_comp)\n",
        "            filtered_completions[curr_comp_tuple] = curr_prob\n",
        "    return filtered_completions\n"
      ]
    },
    {
      "cell_type": "markdown",
      "metadata": {
        "id": "pDOGorUX0pFg"
      },
      "source": [
        "# Use grouped sampling:"
      ]
    },
    {
      "cell_type": "markdown",
      "metadata": {
        "id": "LS3o1Umjx6b3"
      },
      "source": [
        "## How to use previous methods:\n",
        "\n",
        "| brute force         | nucleus (top p)                 | top k                              | greedy         |\n",
        "|---------------------|---------------------------------|------------------------------------|----------------|\n",
        "| top p=0             | 0 < top p < 1                   | top p = 1                          | top p = 0      |\n",
        "| top k >= vocab_size | top k >= the model's vocab size | 1 < top k < the model's vocab size | top k = 1      |\n",
        "| group_size = 1      | group_size = 1                  | group_size = 1                     | group_size = 1 |"
      ]
    },
    {
      "cell_type": "code",
      "execution_count": null,
      "metadata": {
        "id": "9BUwTv4reNg_",
        "colab": {
          "base_uri": "https://localhost:8080/"
        },
        "outputId": "d45b51f5-f15f-45c9-f29d-29d3a7f6252e"
      },
      "outputs": [
        {
          "output_type": "stream",
          "name": "stdout",
          "text": [
            "The model will generate 16 tokens (words or parts of words)\n",
            "It will call the model at most 21 times to the model\n",
            "Previous methods will need up to 34492631578947368421 call to the model to genrate the same text\n"
          ]
        }
      ],
      "source": [
        ", maximum\n",
        "prompt = \"Hello, I'm am conscious and\" #@param {type:\"string\"}\n",
        "top_p = 0.7 #@param {type:\"slider\", min:0.05, max:1.0, step:0.05}\n",
        "top_k = 20 #@param {type:\"integer\"}\n",
        "group_size = 8 #@param {type:\"integer\"}\n",
        "num_groups = 2 #@param {type:\"integer\"}\n",
        "sampling_type = 'from distribution' #@param [\"from distribution\", \"brute force\"]\n",
        "\n",
        "\n",
        "actual_top_k = min(top_k, vocab_size)\n",
        "num_tokens_genrated = num_groups * group_size\n",
        "\n",
        "if sampling_type == \"brute force\":\n",
        "    max_num_calls = sum((actual_top_k ** i) for i in range(num_groups))    \n",
        "    pervious_methods_max_num_calls = sum((actual_top_k ** i) for i in range(num_tokens_genrated))\n",
        "else:\n",
        "    max_num_calls = num_groups\n",
        "    pervious_methods_max_num_calls = num_tokens_genrated\n",
        "\n",
        "print(f\"The model will generate {num_tokens_genrated} tokens (words or parts of words)\")\n",
        "print(f\"It will call the model at most {max_num_calls} times to the model\")\n",
        "print(f\"Previous methods will need up to {pervious_methods_max_num_calls} call to the model to genrate the same text\")"
      ]
    },
    {
      "cell_type": "code",
      "execution_count": null,
      "metadata": {
        "colab": {
          "base_uri": "https://localhost:8080/",
          "height": 433
        },
        "id": "5X4jSTghn5fD",
        "outputId": "28e83a74-8846-4b3d-c548-0589417c073e"
      },
      "outputs": [
        {
          "output_type": "stream",
          "name": "stdout",
          "text": [
            "Warning: the group size is bigger than the length of the model's output\n",
            "If the length of the model input (in tokens) is n, n will be length of the model's output\n",
            "the predicted text will be 1 tokens shorter\n"
          ]
        },
        {
          "output_type": "error",
          "ename": "KeyboardInterrupt",
          "evalue": "ignored",
          "traceback": [
            "\u001b[0;31m---------------------------------------------------------------------------\u001b[0m",
            "\u001b[0;31mKeyboardInterrupt\u001b[0m                         Traceback (most recent call last)",
            "\u001b[0;32m<ipython-input-39-d15c40238ce9>\u001b[0m in \u001b[0;36m<module>\u001b[0;34m\u001b[0m\n\u001b[0;32m----> 1\u001b[0;31m \u001b[0mcompletions\u001b[0m \u001b[0;34m=\u001b[0m \u001b[0mcomplete\u001b[0m\u001b[0;34m(\u001b[0m\u001b[0mmodel_name\u001b[0m\u001b[0;34m,\u001b[0m \u001b[0mprompt\u001b[0m\u001b[0;34m,\u001b[0m \u001b[0mtop_p\u001b[0m\u001b[0;34m,\u001b[0m \u001b[0mtop_k\u001b[0m\u001b[0;34m,\u001b[0m \u001b[0mnum_groups\u001b[0m\u001b[0;34m,\u001b[0m \u001b[0mgroup_size\u001b[0m\u001b[0;34m)\u001b[0m\u001b[0;34m\u001b[0m\u001b[0;34m\u001b[0m\u001b[0m\n\u001b[0m\u001b[1;32m      2\u001b[0m \u001b[0;34m\u001b[0m\u001b[0m\n\u001b[1;32m      3\u001b[0m \u001b[0;34m\u001b[0m\u001b[0m\n\u001b[1;32m      4\u001b[0m \u001b[0;32mif\u001b[0m \u001b[0mlen\u001b[0m\u001b[0;34m(\u001b[0m\u001b[0mcompletions\u001b[0m\u001b[0;34m.\u001b[0m\u001b[0mkeys\u001b[0m\u001b[0;34m(\u001b[0m\u001b[0;34m)\u001b[0m\u001b[0;34m)\u001b[0m \u001b[0;34m>\u001b[0m \u001b[0;36m0\u001b[0m\u001b[0;34m:\u001b[0m\u001b[0;34m\u001b[0m\u001b[0;34m\u001b[0m\u001b[0m\n\u001b[1;32m      5\u001b[0m     \u001b[0mgrouped_sampling_best_comp_tokenized\u001b[0m \u001b[0;34m=\u001b[0m \u001b[0mmax\u001b[0m\u001b[0;34m(\u001b[0m\u001b[0mcompletions\u001b[0m\u001b[0;34m,\u001b[0m \u001b[0mkey\u001b[0m\u001b[0;34m=\u001b[0m\u001b[0mcompletions\u001b[0m\u001b[0;34m.\u001b[0m\u001b[0mget\u001b[0m\u001b[0;34m)\u001b[0m\u001b[0;34m\u001b[0m\u001b[0;34m\u001b[0m\u001b[0m\n",
            "\u001b[0;32m<ipython-input-36-167b194b12da>\u001b[0m in \u001b[0;36mcomplete\u001b[0;34m(model_name, org_prompt, top_p, top_k, num_groups, group_size, org_prompt_prob)\u001b[0m\n\u001b[1;32m    129\u001b[0m \u001b[0;34m\u001b[0m\u001b[0m\n\u001b[1;32m    130\u001b[0m     \u001b[0mprob_mat\u001b[0m \u001b[0;34m=\u001b[0m \u001b[0mget_prob_mat\u001b[0m\u001b[0;34m(\u001b[0m\u001b[0mmodel_name\u001b[0m\u001b[0;34m,\u001b[0m \u001b[0mstr_prompt\u001b[0m\u001b[0;34m,\u001b[0m \u001b[0mgroup_size\u001b[0m\u001b[0;34m)\u001b[0m\u001b[0;34m\u001b[0m\u001b[0;34m\u001b[0m\u001b[0m\n\u001b[0;32m--> 131\u001b[0;31m     \u001b[0mtokenized_ans_list\u001b[0m \u001b[0;34m=\u001b[0m \u001b[0mgrouped_sampling\u001b[0m\u001b[0;34m(\u001b[0m\u001b[0mprob_mat\u001b[0m\u001b[0;34m,\u001b[0m \u001b[0mtop_p\u001b[0m\u001b[0;34m,\u001b[0m \u001b[0mtop_k\u001b[0m\u001b[0;34m)\u001b[0m\u001b[0;34m\u001b[0m\u001b[0;34m\u001b[0m\u001b[0m\n\u001b[0m\u001b[1;32m    132\u001b[0m     \u001b[0mprob_list\u001b[0m\u001b[0;34m:\u001b[0m \u001b[0mList\u001b[0m\u001b[0;34m[\u001b[0m\u001b[0mTuple\u001b[0m\u001b[0;34m[\u001b[0m\u001b[0mList\u001b[0m\u001b[0;34m[\u001b[0m\u001b[0mint\u001b[0m\u001b[0;34m]\u001b[0m\u001b[0;34m,\u001b[0m \u001b[0mfloat\u001b[0m\u001b[0;34m]\u001b[0m\u001b[0;34m]\u001b[0m \u001b[0;34m=\u001b[0m \u001b[0;34m[\u001b[0m\u001b[0mseq_prob\u001b[0m\u001b[0;34m(\u001b[0m\u001b[0mseq\u001b[0m\u001b[0;34m,\u001b[0m \u001b[0mprob_mat\u001b[0m\u001b[0;34m,\u001b[0m \u001b[0morg_prompt_prob\u001b[0m\u001b[0;34m)\u001b[0m \u001b[0;32mfor\u001b[0m \u001b[0mseq\u001b[0m \u001b[0;32min\u001b[0m \u001b[0mtokenized_ans_list\u001b[0m\u001b[0;34m]\u001b[0m\u001b[0;34m\u001b[0m\u001b[0;34m\u001b[0m\u001b[0m\n\u001b[1;32m    133\u001b[0m     \u001b[0mnew_prompts\u001b[0m\u001b[0;34m:\u001b[0m \u001b[0mList\u001b[0m\u001b[0;34m[\u001b[0m\u001b[0mList\u001b[0m\u001b[0;34m[\u001b[0m\u001b[0mint\u001b[0m\u001b[0;34m]\u001b[0m\u001b[0;34m]\u001b[0m \u001b[0;34m=\u001b[0m \u001b[0;34m[\u001b[0m\u001b[0mflatten\u001b[0m\u001b[0;34m(\u001b[0m\u001b[0mtokenized_prompt_list\u001b[0m \u001b[0;34m+\u001b[0m \u001b[0mans\u001b[0m\u001b[0;34m)\u001b[0m \u001b[0;32mfor\u001b[0m \u001b[0mans\u001b[0m \u001b[0;32min\u001b[0m \u001b[0mtokenized_ans_list\u001b[0m\u001b[0;34m]\u001b[0m\u001b[0;34m\u001b[0m\u001b[0;34m\u001b[0m\u001b[0m\n",
            "\u001b[0;32m<ipython-input-36-167b194b12da>\u001b[0m in \u001b[0;36mgrouped_sampling\u001b[0;34m(prob_mat, top_p, top_k)\u001b[0m\n\u001b[1;32m     59\u001b[0m                 \u001b[0mcurr_indices\u001b[0m\u001b[0;34m.\u001b[0m\u001b[0mappend\u001b[0m\u001b[0;34m(\u001b[0m\u001b[0mtoken\u001b[0m\u001b[0;34m)\u001b[0m\u001b[0;34m\u001b[0m\u001b[0;34m\u001b[0m\u001b[0m\n\u001b[1;32m     60\u001b[0m         \u001b[0mposible_tokens\u001b[0m\u001b[0;34m.\u001b[0m\u001b[0mappend\u001b[0m\u001b[0;34m(\u001b[0m\u001b[0mcurr_indices\u001b[0m\u001b[0;34m)\u001b[0m  \u001b[0;31m# O(1)\u001b[0m\u001b[0;34m\u001b[0m\u001b[0;34m\u001b[0m\u001b[0m\n\u001b[0;32m---> 61\u001b[0;31m     \u001b[0mnew_sequences\u001b[0m\u001b[0;34m:\u001b[0m \u001b[0mList\u001b[0m\u001b[0;34m[\u001b[0m\u001b[0mList\u001b[0m\u001b[0;34m[\u001b[0m\u001b[0mint\u001b[0m\u001b[0;34m]\u001b[0m\u001b[0;34m]\u001b[0m \u001b[0;34m=\u001b[0m \u001b[0mcombinations\u001b[0m\u001b[0;34m(\u001b[0m\u001b[0mposible_tokens\u001b[0m\u001b[0;34m)\u001b[0m  \u001b[0;31m# theta(prod(len(indices[i]) for i in range(group_size)))\u001b[0m\u001b[0;34m\u001b[0m\u001b[0;34m\u001b[0m\u001b[0m\n\u001b[0m\u001b[1;32m     62\u001b[0m     \u001b[0;31m# len(indices[i]) < min(top_k, vocab_size)\u001b[0m\u001b[0;34m\u001b[0m\u001b[0;34m\u001b[0m\u001b[0;34m\u001b[0m\u001b[0m\n\u001b[1;32m     63\u001b[0m     \u001b[0;31m# therefore the complexity is O(min(top_k, vocab_size) * group_size)\u001b[0m\u001b[0;34m\u001b[0m\u001b[0;34m\u001b[0m\u001b[0;34m\u001b[0m\u001b[0m\n",
            "\u001b[0;32m<ipython-input-36-167b194b12da>\u001b[0m in \u001b[0;36mcombinations\u001b[0;34m(mat)\u001b[0m\n\u001b[1;32m      6\u001b[0m     \u001b[0mres\u001b[0m \u001b[0;34m=\u001b[0m \u001b[0;34m[\u001b[0m\u001b[0;34m]\u001b[0m\u001b[0;34m\u001b[0m\u001b[0;34m\u001b[0m\u001b[0m\n\u001b[1;32m      7\u001b[0m     \u001b[0;32mfor\u001b[0m \u001b[0mi\u001b[0m \u001b[0;32min\u001b[0m \u001b[0mmat\u001b[0m\u001b[0;34m[\u001b[0m\u001b[0;36m0\u001b[0m\u001b[0;34m]\u001b[0m\u001b[0;34m:\u001b[0m\u001b[0;34m\u001b[0m\u001b[0;34m\u001b[0m\u001b[0m\n\u001b[0;32m----> 8\u001b[0;31m         \u001b[0;32mfor\u001b[0m \u001b[0mj\u001b[0m \u001b[0;32min\u001b[0m \u001b[0mcombinations\u001b[0m\u001b[0;34m(\u001b[0m\u001b[0mmat\u001b[0m\u001b[0;34m[\u001b[0m\u001b[0;36m1\u001b[0m\u001b[0;34m:\u001b[0m\u001b[0;34m]\u001b[0m\u001b[0;34m)\u001b[0m\u001b[0;34m:\u001b[0m\u001b[0;34m\u001b[0m\u001b[0;34m\u001b[0m\u001b[0m\n\u001b[0m\u001b[1;32m      9\u001b[0m             \u001b[0mres\u001b[0m\u001b[0;34m.\u001b[0m\u001b[0mappend\u001b[0m\u001b[0;34m(\u001b[0m\u001b[0;34m[\u001b[0m\u001b[0mi\u001b[0m\u001b[0;34m]\u001b[0m \u001b[0;34m+\u001b[0m \u001b[0mj\u001b[0m\u001b[0;34m)\u001b[0m\u001b[0;34m\u001b[0m\u001b[0;34m\u001b[0m\u001b[0m\n\u001b[1;32m     10\u001b[0m     \u001b[0mfiltered_res\u001b[0m \u001b[0;34m=\u001b[0m \u001b[0mlist\u001b[0m\u001b[0;34m(\u001b[0m\u001b[0mfilter\u001b[0m\u001b[0;34m(\u001b[0m\u001b[0mdoesnt_have_duplicates\u001b[0m\u001b[0;34m,\u001b[0m \u001b[0mres\u001b[0m\u001b[0;34m)\u001b[0m\u001b[0;34m)\u001b[0m\u001b[0;34m\u001b[0m\u001b[0;34m\u001b[0m\u001b[0m\n",
            "\u001b[0;32m<ipython-input-36-167b194b12da>\u001b[0m in \u001b[0;36mcombinations\u001b[0;34m(mat)\u001b[0m\n\u001b[1;32m      6\u001b[0m     \u001b[0mres\u001b[0m \u001b[0;34m=\u001b[0m \u001b[0;34m[\u001b[0m\u001b[0;34m]\u001b[0m\u001b[0;34m\u001b[0m\u001b[0;34m\u001b[0m\u001b[0m\n\u001b[1;32m      7\u001b[0m     \u001b[0;32mfor\u001b[0m \u001b[0mi\u001b[0m \u001b[0;32min\u001b[0m \u001b[0mmat\u001b[0m\u001b[0;34m[\u001b[0m\u001b[0;36m0\u001b[0m\u001b[0;34m]\u001b[0m\u001b[0;34m:\u001b[0m\u001b[0;34m\u001b[0m\u001b[0;34m\u001b[0m\u001b[0m\n\u001b[0;32m----> 8\u001b[0;31m         \u001b[0;32mfor\u001b[0m \u001b[0mj\u001b[0m \u001b[0;32min\u001b[0m \u001b[0mcombinations\u001b[0m\u001b[0;34m(\u001b[0m\u001b[0mmat\u001b[0m\u001b[0;34m[\u001b[0m\u001b[0;36m1\u001b[0m\u001b[0;34m:\u001b[0m\u001b[0;34m]\u001b[0m\u001b[0;34m)\u001b[0m\u001b[0;34m:\u001b[0m\u001b[0;34m\u001b[0m\u001b[0;34m\u001b[0m\u001b[0m\n\u001b[0m\u001b[1;32m      9\u001b[0m             \u001b[0mres\u001b[0m\u001b[0;34m.\u001b[0m\u001b[0mappend\u001b[0m\u001b[0;34m(\u001b[0m\u001b[0;34m[\u001b[0m\u001b[0mi\u001b[0m\u001b[0;34m]\u001b[0m \u001b[0;34m+\u001b[0m \u001b[0mj\u001b[0m\u001b[0;34m)\u001b[0m\u001b[0;34m\u001b[0m\u001b[0;34m\u001b[0m\u001b[0m\n\u001b[1;32m     10\u001b[0m     \u001b[0mfiltered_res\u001b[0m \u001b[0;34m=\u001b[0m \u001b[0mlist\u001b[0m\u001b[0;34m(\u001b[0m\u001b[0mfilter\u001b[0m\u001b[0;34m(\u001b[0m\u001b[0mdoesnt_have_duplicates\u001b[0m\u001b[0;34m,\u001b[0m \u001b[0mres\u001b[0m\u001b[0;34m)\u001b[0m\u001b[0;34m)\u001b[0m\u001b[0;34m\u001b[0m\u001b[0;34m\u001b[0m\u001b[0m\n",
            "\u001b[0;32m<ipython-input-36-167b194b12da>\u001b[0m in \u001b[0;36mcombinations\u001b[0;34m(mat)\u001b[0m\n\u001b[1;32m      6\u001b[0m     \u001b[0mres\u001b[0m \u001b[0;34m=\u001b[0m \u001b[0;34m[\u001b[0m\u001b[0;34m]\u001b[0m\u001b[0;34m\u001b[0m\u001b[0;34m\u001b[0m\u001b[0m\n\u001b[1;32m      7\u001b[0m     \u001b[0;32mfor\u001b[0m \u001b[0mi\u001b[0m \u001b[0;32min\u001b[0m \u001b[0mmat\u001b[0m\u001b[0;34m[\u001b[0m\u001b[0;36m0\u001b[0m\u001b[0;34m]\u001b[0m\u001b[0;34m:\u001b[0m\u001b[0;34m\u001b[0m\u001b[0;34m\u001b[0m\u001b[0m\n\u001b[0;32m----> 8\u001b[0;31m         \u001b[0;32mfor\u001b[0m \u001b[0mj\u001b[0m \u001b[0;32min\u001b[0m \u001b[0mcombinations\u001b[0m\u001b[0;34m(\u001b[0m\u001b[0mmat\u001b[0m\u001b[0;34m[\u001b[0m\u001b[0;36m1\u001b[0m\u001b[0;34m:\u001b[0m\u001b[0;34m]\u001b[0m\u001b[0;34m)\u001b[0m\u001b[0;34m:\u001b[0m\u001b[0;34m\u001b[0m\u001b[0;34m\u001b[0m\u001b[0m\n\u001b[0m\u001b[1;32m      9\u001b[0m             \u001b[0mres\u001b[0m\u001b[0;34m.\u001b[0m\u001b[0mappend\u001b[0m\u001b[0;34m(\u001b[0m\u001b[0;34m[\u001b[0m\u001b[0mi\u001b[0m\u001b[0;34m]\u001b[0m \u001b[0;34m+\u001b[0m \u001b[0mj\u001b[0m\u001b[0;34m)\u001b[0m\u001b[0;34m\u001b[0m\u001b[0;34m\u001b[0m\u001b[0m\n\u001b[1;32m     10\u001b[0m     \u001b[0mfiltered_res\u001b[0m \u001b[0;34m=\u001b[0m \u001b[0mlist\u001b[0m\u001b[0;34m(\u001b[0m\u001b[0mfilter\u001b[0m\u001b[0;34m(\u001b[0m\u001b[0mdoesnt_have_duplicates\u001b[0m\u001b[0;34m,\u001b[0m \u001b[0mres\u001b[0m\u001b[0;34m)\u001b[0m\u001b[0;34m)\u001b[0m\u001b[0;34m\u001b[0m\u001b[0;34m\u001b[0m\u001b[0m\n",
            "\u001b[0;31mKeyboardInterrupt\u001b[0m: "
          ]
        }
      ],
      "source": [
        "completions = complete(model_name, prompt, top_p, top_k, num_groups, group_size)\n",
        "\n",
        "\n",
        "if len(completions.keys()) > 0:\n",
        "    grouped_sampling_best_comp_tokenized = max(completions, key=completions.get)\n",
        "else:\n",
        "    raise ValueError(\"\"\"\n",
        "        The model could not generate a complition with the constrains of the sampling method, U should try:\n",
        "        1) Increase top p and/or top k\n",
        "        2) Use diffrent (larger) model\n",
        "        3) Decrease the number of groups\n",
        "        4) Decrease the group size\n",
        "        \"\"\")\n",
        "    \n",
        "grouped_sampling_best_comp = tokenizer.decode(grouped_sampling_best_comp_tokenized)\n",
        "print(\"The best text generated by grouped sampling is:\")\n",
        "print(grouped_sampling_best_comp)"
      ]
    },
    {
      "cell_type": "code",
      "execution_count": null,
      "metadata": {
        "id": "5y1Tu90rpFu0"
      },
      "outputs": [],
      "source": [
        "sorted_complitions = sorted(completions, key = completions.get)\n",
        "print(\"Here are all the complitions created by predicted probability\")\n",
        "for tokens in sorted_complitions:\n",
        "    print(tokenizer.decode(tokens))"
      ]
    },
    {
      "cell_type": "markdown",
      "metadata": {
        "id": "t8y5JMNk7wW9"
      },
      "source": [
        "# Change the hyper parameters to see what will happend!"
      ]
    },
    {
      "cell_type": "code",
      "source": [
        "import sys\n",
        "\n",
        "# These are the usual ipython objects, including this one you are creating\n",
        "\n",
        "special_vars = {\"model\", \"tokenizer\", \"config\", 'In', 'Out', 'exit', 'quit', 'get_ipython', 'ipython_vars', \"g\"}\n",
        "\n",
        "def is_global_obj(my_obj_name):\n",
        "    if my_obj_name.startswith('_') or my_obj_name in sys.modules or my_obj_name in special_vars:\n",
        "        return False\n",
        "    return True\n",
        "\n",
        "\n",
        "# Get a sorted list of the objects and their sizes\n",
        "global_vars = [(x, sys.getsizeof(globals().get(x))) for x in dir() if is_global_obj(x)]\n",
        "sorted(global_vars, key=lambda x: x[1], reverse=True)"
      ],
      "metadata": {
        "id": "i2KFVYVKIJI3",
        "outputId": "effd0cf1-06bb-4735-8210-95607c69e842",
        "colab": {
          "base_uri": "https://localhost:8080/"
        }
      },
      "execution_count": null,
      "outputs": [
        {
          "output_type": "execute_result",
          "data": {
            "text/plain": [
              "[('special_vars', 744), ('is_global_obj', 144)]"
            ]
          },
          "metadata": {},
          "execution_count": 1
        }
      ]
    }
  ],
  "metadata": {
    "accelerator": "GPU",
    "colab": {
      "name": "final_project_demo.ipynb",
      "provenance": [],
      "include_colab_link": true
    },
    "gpuClass": "standard",
    "kernelspec": {
      "display_name": "Python 3.9.12",
      "language": "python",
      "name": "python3"
    },
    "language_info": {
      "name": "python",
      "version": "3.9.12"
    },
    "vscode": {
      "interpreter": {
        "hash": "4c667eb41e29edd16195f2712b5916a29b36d4e6f17fe7c0a7edbb7a73b8ba8a"
      }
    },
    "widgets": {
      "application/vnd.jupyter.widget-state+json": {
        "0e0c93adf4654faa99745ff348771f58": {
          "model_module": "@jupyter-widgets/controls",
          "model_name": "HBoxModel",
          "model_module_version": "1.5.0",
          "state": {
            "_dom_classes": [],
            "_model_module": "@jupyter-widgets/controls",
            "_model_module_version": "1.5.0",
            "_model_name": "HBoxModel",
            "_view_count": null,
            "_view_module": "@jupyter-widgets/controls",
            "_view_module_version": "1.5.0",
            "_view_name": "HBoxView",
            "box_style": "",
            "children": [
              "IPY_MODEL_8fb6edb412044c00a93bad910850c79e",
              "IPY_MODEL_1b9a18923dbd47968e021f7381919c20",
              "IPY_MODEL_3ee8414e1789400097d03ed059cdff00"
            ],
            "layout": "IPY_MODEL_daf2f6bdc5e94cb99cf0fc871ae74bd5"
          }
        },
        "8fb6edb412044c00a93bad910850c79e": {
          "model_module": "@jupyter-widgets/controls",
          "model_name": "HTMLModel",
          "model_module_version": "1.5.0",
          "state": {
            "_dom_classes": [],
            "_model_module": "@jupyter-widgets/controls",
            "_model_module_version": "1.5.0",
            "_model_name": "HTMLModel",
            "_view_count": null,
            "_view_module": "@jupyter-widgets/controls",
            "_view_module_version": "1.5.0",
            "_view_name": "HTMLView",
            "description": "",
            "description_tooltip": null,
            "layout": "IPY_MODEL_e5222d475c3b4445b420b8bcec14fd74",
            "placeholder": "​",
            "style": "IPY_MODEL_06135704822449a9a0317ac11b3a3fc8",
            "value": "Downloading config.json: 100%"
          }
        },
        "1b9a18923dbd47968e021f7381919c20": {
          "model_module": "@jupyter-widgets/controls",
          "model_name": "FloatProgressModel",
          "model_module_version": "1.5.0",
          "state": {
            "_dom_classes": [],
            "_model_module": "@jupyter-widgets/controls",
            "_model_module_version": "1.5.0",
            "_model_name": "FloatProgressModel",
            "_view_count": null,
            "_view_module": "@jupyter-widgets/controls",
            "_view_module_version": "1.5.0",
            "_view_name": "ProgressView",
            "bar_style": "success",
            "description": "",
            "description_tooltip": null,
            "layout": "IPY_MODEL_9ba839dbd7234e06943da20a7be377fd",
            "max": 665,
            "min": 0,
            "orientation": "horizontal",
            "style": "IPY_MODEL_d0faefd807c94926913c68045363f12f",
            "value": 665
          }
        },
        "3ee8414e1789400097d03ed059cdff00": {
          "model_module": "@jupyter-widgets/controls",
          "model_name": "HTMLModel",
          "model_module_version": "1.5.0",
          "state": {
            "_dom_classes": [],
            "_model_module": "@jupyter-widgets/controls",
            "_model_module_version": "1.5.0",
            "_model_name": "HTMLModel",
            "_view_count": null,
            "_view_module": "@jupyter-widgets/controls",
            "_view_module_version": "1.5.0",
            "_view_name": "HTMLView",
            "description": "",
            "description_tooltip": null,
            "layout": "IPY_MODEL_f285e5a545a24c7d8c7a5ccf6974fda9",
            "placeholder": "​",
            "style": "IPY_MODEL_cf009170b8a54801a0901a296c50dff9",
            "value": " 665/665 [00:00&lt;00:00, 20.8kB/s]"
          }
        },
        "daf2f6bdc5e94cb99cf0fc871ae74bd5": {
          "model_module": "@jupyter-widgets/base",
          "model_name": "LayoutModel",
          "model_module_version": "1.2.0",
          "state": {
            "_model_module": "@jupyter-widgets/base",
            "_model_module_version": "1.2.0",
            "_model_name": "LayoutModel",
            "_view_count": null,
            "_view_module": "@jupyter-widgets/base",
            "_view_module_version": "1.2.0",
            "_view_name": "LayoutView",
            "align_content": null,
            "align_items": null,
            "align_self": null,
            "border": null,
            "bottom": null,
            "display": null,
            "flex": null,
            "flex_flow": null,
            "grid_area": null,
            "grid_auto_columns": null,
            "grid_auto_flow": null,
            "grid_auto_rows": null,
            "grid_column": null,
            "grid_gap": null,
            "grid_row": null,
            "grid_template_areas": null,
            "grid_template_columns": null,
            "grid_template_rows": null,
            "height": null,
            "justify_content": null,
            "justify_items": null,
            "left": null,
            "margin": null,
            "max_height": null,
            "max_width": null,
            "min_height": null,
            "min_width": null,
            "object_fit": null,
            "object_position": null,
            "order": null,
            "overflow": null,
            "overflow_x": null,
            "overflow_y": null,
            "padding": null,
            "right": null,
            "top": null,
            "visibility": null,
            "width": null
          }
        },
        "e5222d475c3b4445b420b8bcec14fd74": {
          "model_module": "@jupyter-widgets/base",
          "model_name": "LayoutModel",
          "model_module_version": "1.2.0",
          "state": {
            "_model_module": "@jupyter-widgets/base",
            "_model_module_version": "1.2.0",
            "_model_name": "LayoutModel",
            "_view_count": null,
            "_view_module": "@jupyter-widgets/base",
            "_view_module_version": "1.2.0",
            "_view_name": "LayoutView",
            "align_content": null,
            "align_items": null,
            "align_self": null,
            "border": null,
            "bottom": null,
            "display": null,
            "flex": null,
            "flex_flow": null,
            "grid_area": null,
            "grid_auto_columns": null,
            "grid_auto_flow": null,
            "grid_auto_rows": null,
            "grid_column": null,
            "grid_gap": null,
            "grid_row": null,
            "grid_template_areas": null,
            "grid_template_columns": null,
            "grid_template_rows": null,
            "height": null,
            "justify_content": null,
            "justify_items": null,
            "left": null,
            "margin": null,
            "max_height": null,
            "max_width": null,
            "min_height": null,
            "min_width": null,
            "object_fit": null,
            "object_position": null,
            "order": null,
            "overflow": null,
            "overflow_x": null,
            "overflow_y": null,
            "padding": null,
            "right": null,
            "top": null,
            "visibility": null,
            "width": null
          }
        },
        "06135704822449a9a0317ac11b3a3fc8": {
          "model_module": "@jupyter-widgets/controls",
          "model_name": "DescriptionStyleModel",
          "model_module_version": "1.5.0",
          "state": {
            "_model_module": "@jupyter-widgets/controls",
            "_model_module_version": "1.5.0",
            "_model_name": "DescriptionStyleModel",
            "_view_count": null,
            "_view_module": "@jupyter-widgets/base",
            "_view_module_version": "1.2.0",
            "_view_name": "StyleView",
            "description_width": ""
          }
        },
        "9ba839dbd7234e06943da20a7be377fd": {
          "model_module": "@jupyter-widgets/base",
          "model_name": "LayoutModel",
          "model_module_version": "1.2.0",
          "state": {
            "_model_module": "@jupyter-widgets/base",
            "_model_module_version": "1.2.0",
            "_model_name": "LayoutModel",
            "_view_count": null,
            "_view_module": "@jupyter-widgets/base",
            "_view_module_version": "1.2.0",
            "_view_name": "LayoutView",
            "align_content": null,
            "align_items": null,
            "align_self": null,
            "border": null,
            "bottom": null,
            "display": null,
            "flex": null,
            "flex_flow": null,
            "grid_area": null,
            "grid_auto_columns": null,
            "grid_auto_flow": null,
            "grid_auto_rows": null,
            "grid_column": null,
            "grid_gap": null,
            "grid_row": null,
            "grid_template_areas": null,
            "grid_template_columns": null,
            "grid_template_rows": null,
            "height": null,
            "justify_content": null,
            "justify_items": null,
            "left": null,
            "margin": null,
            "max_height": null,
            "max_width": null,
            "min_height": null,
            "min_width": null,
            "object_fit": null,
            "object_position": null,
            "order": null,
            "overflow": null,
            "overflow_x": null,
            "overflow_y": null,
            "padding": null,
            "right": null,
            "top": null,
            "visibility": null,
            "width": null
          }
        },
        "d0faefd807c94926913c68045363f12f": {
          "model_module": "@jupyter-widgets/controls",
          "model_name": "ProgressStyleModel",
          "model_module_version": "1.5.0",
          "state": {
            "_model_module": "@jupyter-widgets/controls",
            "_model_module_version": "1.5.0",
            "_model_name": "ProgressStyleModel",
            "_view_count": null,
            "_view_module": "@jupyter-widgets/base",
            "_view_module_version": "1.2.0",
            "_view_name": "StyleView",
            "bar_color": null,
            "description_width": ""
          }
        },
        "f285e5a545a24c7d8c7a5ccf6974fda9": {
          "model_module": "@jupyter-widgets/base",
          "model_name": "LayoutModel",
          "model_module_version": "1.2.0",
          "state": {
            "_model_module": "@jupyter-widgets/base",
            "_model_module_version": "1.2.0",
            "_model_name": "LayoutModel",
            "_view_count": null,
            "_view_module": "@jupyter-widgets/base",
            "_view_module_version": "1.2.0",
            "_view_name": "LayoutView",
            "align_content": null,
            "align_items": null,
            "align_self": null,
            "border": null,
            "bottom": null,
            "display": null,
            "flex": null,
            "flex_flow": null,
            "grid_area": null,
            "grid_auto_columns": null,
            "grid_auto_flow": null,
            "grid_auto_rows": null,
            "grid_column": null,
            "grid_gap": null,
            "grid_row": null,
            "grid_template_areas": null,
            "grid_template_columns": null,
            "grid_template_rows": null,
            "height": null,
            "justify_content": null,
            "justify_items": null,
            "left": null,
            "margin": null,
            "max_height": null,
            "max_width": null,
            "min_height": null,
            "min_width": null,
            "object_fit": null,
            "object_position": null,
            "order": null,
            "overflow": null,
            "overflow_x": null,
            "overflow_y": null,
            "padding": null,
            "right": null,
            "top": null,
            "visibility": null,
            "width": null
          }
        },
        "cf009170b8a54801a0901a296c50dff9": {
          "model_module": "@jupyter-widgets/controls",
          "model_name": "DescriptionStyleModel",
          "model_module_version": "1.5.0",
          "state": {
            "_model_module": "@jupyter-widgets/controls",
            "_model_module_version": "1.5.0",
            "_model_name": "DescriptionStyleModel",
            "_view_count": null,
            "_view_module": "@jupyter-widgets/base",
            "_view_module_version": "1.2.0",
            "_view_name": "StyleView",
            "description_width": ""
          }
        },
        "1b85e62cbd434e08989860f1315405f3": {
          "model_module": "@jupyter-widgets/controls",
          "model_name": "HBoxModel",
          "model_module_version": "1.5.0",
          "state": {
            "_dom_classes": [],
            "_model_module": "@jupyter-widgets/controls",
            "_model_module_version": "1.5.0",
            "_model_name": "HBoxModel",
            "_view_count": null,
            "_view_module": "@jupyter-widgets/controls",
            "_view_module_version": "1.5.0",
            "_view_name": "HBoxView",
            "box_style": "",
            "children": [
              "IPY_MODEL_655fdb48e05d481d878f7dc4f07dcab5",
              "IPY_MODEL_59ae8b767b1041aaace4530af14a9eeb",
              "IPY_MODEL_6f9dc807da184b4c954227c017e6178c"
            ],
            "layout": "IPY_MODEL_2f059d1561cd4a42866a153686909186"
          }
        },
        "655fdb48e05d481d878f7dc4f07dcab5": {
          "model_module": "@jupyter-widgets/controls",
          "model_name": "HTMLModel",
          "model_module_version": "1.5.0",
          "state": {
            "_dom_classes": [],
            "_model_module": "@jupyter-widgets/controls",
            "_model_module_version": "1.5.0",
            "_model_name": "HTMLModel",
            "_view_count": null,
            "_view_module": "@jupyter-widgets/controls",
            "_view_module_version": "1.5.0",
            "_view_name": "HTMLView",
            "description": "",
            "description_tooltip": null,
            "layout": "IPY_MODEL_1bc8fd239ece428da92322da07d3f541",
            "placeholder": "​",
            "style": "IPY_MODEL_df2e58484dc940f88d92027ad007ace0",
            "value": "Downloading vocab.json: 100%"
          }
        },
        "59ae8b767b1041aaace4530af14a9eeb": {
          "model_module": "@jupyter-widgets/controls",
          "model_name": "FloatProgressModel",
          "model_module_version": "1.5.0",
          "state": {
            "_dom_classes": [],
            "_model_module": "@jupyter-widgets/controls",
            "_model_module_version": "1.5.0",
            "_model_name": "FloatProgressModel",
            "_view_count": null,
            "_view_module": "@jupyter-widgets/controls",
            "_view_module_version": "1.5.0",
            "_view_name": "ProgressView",
            "bar_style": "success",
            "description": "",
            "description_tooltip": null,
            "layout": "IPY_MODEL_85e7893fd18140018d3ff6fbbcf6a3d6",
            "max": 1042301,
            "min": 0,
            "orientation": "horizontal",
            "style": "IPY_MODEL_5f95c1b1f03c494389fe9ca36ec4f418",
            "value": 1042301
          }
        },
        "6f9dc807da184b4c954227c017e6178c": {
          "model_module": "@jupyter-widgets/controls",
          "model_name": "HTMLModel",
          "model_module_version": "1.5.0",
          "state": {
            "_dom_classes": [],
            "_model_module": "@jupyter-widgets/controls",
            "_model_module_version": "1.5.0",
            "_model_name": "HTMLModel",
            "_view_count": null,
            "_view_module": "@jupyter-widgets/controls",
            "_view_module_version": "1.5.0",
            "_view_name": "HTMLView",
            "description": "",
            "description_tooltip": null,
            "layout": "IPY_MODEL_e09def8652ad4693aee93c78bb7512aa",
            "placeholder": "​",
            "style": "IPY_MODEL_1ddd999aa6154b938c5af3e62d1bce11",
            "value": " 0.99M/0.99M [00:00&lt;00:00, 2.90MB/s]"
          }
        },
        "2f059d1561cd4a42866a153686909186": {
          "model_module": "@jupyter-widgets/base",
          "model_name": "LayoutModel",
          "model_module_version": "1.2.0",
          "state": {
            "_model_module": "@jupyter-widgets/base",
            "_model_module_version": "1.2.0",
            "_model_name": "LayoutModel",
            "_view_count": null,
            "_view_module": "@jupyter-widgets/base",
            "_view_module_version": "1.2.0",
            "_view_name": "LayoutView",
            "align_content": null,
            "align_items": null,
            "align_self": null,
            "border": null,
            "bottom": null,
            "display": null,
            "flex": null,
            "flex_flow": null,
            "grid_area": null,
            "grid_auto_columns": null,
            "grid_auto_flow": null,
            "grid_auto_rows": null,
            "grid_column": null,
            "grid_gap": null,
            "grid_row": null,
            "grid_template_areas": null,
            "grid_template_columns": null,
            "grid_template_rows": null,
            "height": null,
            "justify_content": null,
            "justify_items": null,
            "left": null,
            "margin": null,
            "max_height": null,
            "max_width": null,
            "min_height": null,
            "min_width": null,
            "object_fit": null,
            "object_position": null,
            "order": null,
            "overflow": null,
            "overflow_x": null,
            "overflow_y": null,
            "padding": null,
            "right": null,
            "top": null,
            "visibility": null,
            "width": null
          }
        },
        "1bc8fd239ece428da92322da07d3f541": {
          "model_module": "@jupyter-widgets/base",
          "model_name": "LayoutModel",
          "model_module_version": "1.2.0",
          "state": {
            "_model_module": "@jupyter-widgets/base",
            "_model_module_version": "1.2.0",
            "_model_name": "LayoutModel",
            "_view_count": null,
            "_view_module": "@jupyter-widgets/base",
            "_view_module_version": "1.2.0",
            "_view_name": "LayoutView",
            "align_content": null,
            "align_items": null,
            "align_self": null,
            "border": null,
            "bottom": null,
            "display": null,
            "flex": null,
            "flex_flow": null,
            "grid_area": null,
            "grid_auto_columns": null,
            "grid_auto_flow": null,
            "grid_auto_rows": null,
            "grid_column": null,
            "grid_gap": null,
            "grid_row": null,
            "grid_template_areas": null,
            "grid_template_columns": null,
            "grid_template_rows": null,
            "height": null,
            "justify_content": null,
            "justify_items": null,
            "left": null,
            "margin": null,
            "max_height": null,
            "max_width": null,
            "min_height": null,
            "min_width": null,
            "object_fit": null,
            "object_position": null,
            "order": null,
            "overflow": null,
            "overflow_x": null,
            "overflow_y": null,
            "padding": null,
            "right": null,
            "top": null,
            "visibility": null,
            "width": null
          }
        },
        "df2e58484dc940f88d92027ad007ace0": {
          "model_module": "@jupyter-widgets/controls",
          "model_name": "DescriptionStyleModel",
          "model_module_version": "1.5.0",
          "state": {
            "_model_module": "@jupyter-widgets/controls",
            "_model_module_version": "1.5.0",
            "_model_name": "DescriptionStyleModel",
            "_view_count": null,
            "_view_module": "@jupyter-widgets/base",
            "_view_module_version": "1.2.0",
            "_view_name": "StyleView",
            "description_width": ""
          }
        },
        "85e7893fd18140018d3ff6fbbcf6a3d6": {
          "model_module": "@jupyter-widgets/base",
          "model_name": "LayoutModel",
          "model_module_version": "1.2.0",
          "state": {
            "_model_module": "@jupyter-widgets/base",
            "_model_module_version": "1.2.0",
            "_model_name": "LayoutModel",
            "_view_count": null,
            "_view_module": "@jupyter-widgets/base",
            "_view_module_version": "1.2.0",
            "_view_name": "LayoutView",
            "align_content": null,
            "align_items": null,
            "align_self": null,
            "border": null,
            "bottom": null,
            "display": null,
            "flex": null,
            "flex_flow": null,
            "grid_area": null,
            "grid_auto_columns": null,
            "grid_auto_flow": null,
            "grid_auto_rows": null,
            "grid_column": null,
            "grid_gap": null,
            "grid_row": null,
            "grid_template_areas": null,
            "grid_template_columns": null,
            "grid_template_rows": null,
            "height": null,
            "justify_content": null,
            "justify_items": null,
            "left": null,
            "margin": null,
            "max_height": null,
            "max_width": null,
            "min_height": null,
            "min_width": null,
            "object_fit": null,
            "object_position": null,
            "order": null,
            "overflow": null,
            "overflow_x": null,
            "overflow_y": null,
            "padding": null,
            "right": null,
            "top": null,
            "visibility": null,
            "width": null
          }
        },
        "5f95c1b1f03c494389fe9ca36ec4f418": {
          "model_module": "@jupyter-widgets/controls",
          "model_name": "ProgressStyleModel",
          "model_module_version": "1.5.0",
          "state": {
            "_model_module": "@jupyter-widgets/controls",
            "_model_module_version": "1.5.0",
            "_model_name": "ProgressStyleModel",
            "_view_count": null,
            "_view_module": "@jupyter-widgets/base",
            "_view_module_version": "1.2.0",
            "_view_name": "StyleView",
            "bar_color": null,
            "description_width": ""
          }
        },
        "e09def8652ad4693aee93c78bb7512aa": {
          "model_module": "@jupyter-widgets/base",
          "model_name": "LayoutModel",
          "model_module_version": "1.2.0",
          "state": {
            "_model_module": "@jupyter-widgets/base",
            "_model_module_version": "1.2.0",
            "_model_name": "LayoutModel",
            "_view_count": null,
            "_view_module": "@jupyter-widgets/base",
            "_view_module_version": "1.2.0",
            "_view_name": "LayoutView",
            "align_content": null,
            "align_items": null,
            "align_self": null,
            "border": null,
            "bottom": null,
            "display": null,
            "flex": null,
            "flex_flow": null,
            "grid_area": null,
            "grid_auto_columns": null,
            "grid_auto_flow": null,
            "grid_auto_rows": null,
            "grid_column": null,
            "grid_gap": null,
            "grid_row": null,
            "grid_template_areas": null,
            "grid_template_columns": null,
            "grid_template_rows": null,
            "height": null,
            "justify_content": null,
            "justify_items": null,
            "left": null,
            "margin": null,
            "max_height": null,
            "max_width": null,
            "min_height": null,
            "min_width": null,
            "object_fit": null,
            "object_position": null,
            "order": null,
            "overflow": null,
            "overflow_x": null,
            "overflow_y": null,
            "padding": null,
            "right": null,
            "top": null,
            "visibility": null,
            "width": null
          }
        },
        "1ddd999aa6154b938c5af3e62d1bce11": {
          "model_module": "@jupyter-widgets/controls",
          "model_name": "DescriptionStyleModel",
          "model_module_version": "1.5.0",
          "state": {
            "_model_module": "@jupyter-widgets/controls",
            "_model_module_version": "1.5.0",
            "_model_name": "DescriptionStyleModel",
            "_view_count": null,
            "_view_module": "@jupyter-widgets/base",
            "_view_module_version": "1.2.0",
            "_view_name": "StyleView",
            "description_width": ""
          }
        },
        "bcfed9dc723f48af85c9abe888657be8": {
          "model_module": "@jupyter-widgets/controls",
          "model_name": "HBoxModel",
          "model_module_version": "1.5.0",
          "state": {
            "_dom_classes": [],
            "_model_module": "@jupyter-widgets/controls",
            "_model_module_version": "1.5.0",
            "_model_name": "HBoxModel",
            "_view_count": null,
            "_view_module": "@jupyter-widgets/controls",
            "_view_module_version": "1.5.0",
            "_view_name": "HBoxView",
            "box_style": "",
            "children": [
              "IPY_MODEL_c7f55fb0eaea4277a5faaeda2ab87833",
              "IPY_MODEL_b73e518efd934004a28469b3f9575110",
              "IPY_MODEL_f1c5e26cccfa4757adfdd304adfdfcfe"
            ],
            "layout": "IPY_MODEL_ccef131afc93493dad36c4903049d35d"
          }
        },
        "c7f55fb0eaea4277a5faaeda2ab87833": {
          "model_module": "@jupyter-widgets/controls",
          "model_name": "HTMLModel",
          "model_module_version": "1.5.0",
          "state": {
            "_dom_classes": [],
            "_model_module": "@jupyter-widgets/controls",
            "_model_module_version": "1.5.0",
            "_model_name": "HTMLModel",
            "_view_count": null,
            "_view_module": "@jupyter-widgets/controls",
            "_view_module_version": "1.5.0",
            "_view_name": "HTMLView",
            "description": "",
            "description_tooltip": null,
            "layout": "IPY_MODEL_f32fa162c8eb4fa8a79308c6f2153c71",
            "placeholder": "​",
            "style": "IPY_MODEL_9d28e6790b6d4df999567928117c9e01",
            "value": "Downloading merges.txt: 100%"
          }
        },
        "b73e518efd934004a28469b3f9575110": {
          "model_module": "@jupyter-widgets/controls",
          "model_name": "FloatProgressModel",
          "model_module_version": "1.5.0",
          "state": {
            "_dom_classes": [],
            "_model_module": "@jupyter-widgets/controls",
            "_model_module_version": "1.5.0",
            "_model_name": "FloatProgressModel",
            "_view_count": null,
            "_view_module": "@jupyter-widgets/controls",
            "_view_module_version": "1.5.0",
            "_view_name": "ProgressView",
            "bar_style": "success",
            "description": "",
            "description_tooltip": null,
            "layout": "IPY_MODEL_42f4871a7f04420c8e8acaeece7ca171",
            "max": 456318,
            "min": 0,
            "orientation": "horizontal",
            "style": "IPY_MODEL_44235b625fef4eaca91e5b1d71dab49d",
            "value": 456318
          }
        },
        "f1c5e26cccfa4757adfdd304adfdfcfe": {
          "model_module": "@jupyter-widgets/controls",
          "model_name": "HTMLModel",
          "model_module_version": "1.5.0",
          "state": {
            "_dom_classes": [],
            "_model_module": "@jupyter-widgets/controls",
            "_model_module_version": "1.5.0",
            "_model_name": "HTMLModel",
            "_view_count": null,
            "_view_module": "@jupyter-widgets/controls",
            "_view_module_version": "1.5.0",
            "_view_name": "HTMLView",
            "description": "",
            "description_tooltip": null,
            "layout": "IPY_MODEL_928ecaaaeb6a4f8f829565caf6fa4628",
            "placeholder": "​",
            "style": "IPY_MODEL_fd2abaa9f86f4844885c4c22d403e03a",
            "value": " 446k/446k [00:00&lt;00:00, 922kB/s]"
          }
        },
        "ccef131afc93493dad36c4903049d35d": {
          "model_module": "@jupyter-widgets/base",
          "model_name": "LayoutModel",
          "model_module_version": "1.2.0",
          "state": {
            "_model_module": "@jupyter-widgets/base",
            "_model_module_version": "1.2.0",
            "_model_name": "LayoutModel",
            "_view_count": null,
            "_view_module": "@jupyter-widgets/base",
            "_view_module_version": "1.2.0",
            "_view_name": "LayoutView",
            "align_content": null,
            "align_items": null,
            "align_self": null,
            "border": null,
            "bottom": null,
            "display": null,
            "flex": null,
            "flex_flow": null,
            "grid_area": null,
            "grid_auto_columns": null,
            "grid_auto_flow": null,
            "grid_auto_rows": null,
            "grid_column": null,
            "grid_gap": null,
            "grid_row": null,
            "grid_template_areas": null,
            "grid_template_columns": null,
            "grid_template_rows": null,
            "height": null,
            "justify_content": null,
            "justify_items": null,
            "left": null,
            "margin": null,
            "max_height": null,
            "max_width": null,
            "min_height": null,
            "min_width": null,
            "object_fit": null,
            "object_position": null,
            "order": null,
            "overflow": null,
            "overflow_x": null,
            "overflow_y": null,
            "padding": null,
            "right": null,
            "top": null,
            "visibility": null,
            "width": null
          }
        },
        "f32fa162c8eb4fa8a79308c6f2153c71": {
          "model_module": "@jupyter-widgets/base",
          "model_name": "LayoutModel",
          "model_module_version": "1.2.0",
          "state": {
            "_model_module": "@jupyter-widgets/base",
            "_model_module_version": "1.2.0",
            "_model_name": "LayoutModel",
            "_view_count": null,
            "_view_module": "@jupyter-widgets/base",
            "_view_module_version": "1.2.0",
            "_view_name": "LayoutView",
            "align_content": null,
            "align_items": null,
            "align_self": null,
            "border": null,
            "bottom": null,
            "display": null,
            "flex": null,
            "flex_flow": null,
            "grid_area": null,
            "grid_auto_columns": null,
            "grid_auto_flow": null,
            "grid_auto_rows": null,
            "grid_column": null,
            "grid_gap": null,
            "grid_row": null,
            "grid_template_areas": null,
            "grid_template_columns": null,
            "grid_template_rows": null,
            "height": null,
            "justify_content": null,
            "justify_items": null,
            "left": null,
            "margin": null,
            "max_height": null,
            "max_width": null,
            "min_height": null,
            "min_width": null,
            "object_fit": null,
            "object_position": null,
            "order": null,
            "overflow": null,
            "overflow_x": null,
            "overflow_y": null,
            "padding": null,
            "right": null,
            "top": null,
            "visibility": null,
            "width": null
          }
        },
        "9d28e6790b6d4df999567928117c9e01": {
          "model_module": "@jupyter-widgets/controls",
          "model_name": "DescriptionStyleModel",
          "model_module_version": "1.5.0",
          "state": {
            "_model_module": "@jupyter-widgets/controls",
            "_model_module_version": "1.5.0",
            "_model_name": "DescriptionStyleModel",
            "_view_count": null,
            "_view_module": "@jupyter-widgets/base",
            "_view_module_version": "1.2.0",
            "_view_name": "StyleView",
            "description_width": ""
          }
        },
        "42f4871a7f04420c8e8acaeece7ca171": {
          "model_module": "@jupyter-widgets/base",
          "model_name": "LayoutModel",
          "model_module_version": "1.2.0",
          "state": {
            "_model_module": "@jupyter-widgets/base",
            "_model_module_version": "1.2.0",
            "_model_name": "LayoutModel",
            "_view_count": null,
            "_view_module": "@jupyter-widgets/base",
            "_view_module_version": "1.2.0",
            "_view_name": "LayoutView",
            "align_content": null,
            "align_items": null,
            "align_self": null,
            "border": null,
            "bottom": null,
            "display": null,
            "flex": null,
            "flex_flow": null,
            "grid_area": null,
            "grid_auto_columns": null,
            "grid_auto_flow": null,
            "grid_auto_rows": null,
            "grid_column": null,
            "grid_gap": null,
            "grid_row": null,
            "grid_template_areas": null,
            "grid_template_columns": null,
            "grid_template_rows": null,
            "height": null,
            "justify_content": null,
            "justify_items": null,
            "left": null,
            "margin": null,
            "max_height": null,
            "max_width": null,
            "min_height": null,
            "min_width": null,
            "object_fit": null,
            "object_position": null,
            "order": null,
            "overflow": null,
            "overflow_x": null,
            "overflow_y": null,
            "padding": null,
            "right": null,
            "top": null,
            "visibility": null,
            "width": null
          }
        },
        "44235b625fef4eaca91e5b1d71dab49d": {
          "model_module": "@jupyter-widgets/controls",
          "model_name": "ProgressStyleModel",
          "model_module_version": "1.5.0",
          "state": {
            "_model_module": "@jupyter-widgets/controls",
            "_model_module_version": "1.5.0",
            "_model_name": "ProgressStyleModel",
            "_view_count": null,
            "_view_module": "@jupyter-widgets/base",
            "_view_module_version": "1.2.0",
            "_view_name": "StyleView",
            "bar_color": null,
            "description_width": ""
          }
        },
        "928ecaaaeb6a4f8f829565caf6fa4628": {
          "model_module": "@jupyter-widgets/base",
          "model_name": "LayoutModel",
          "model_module_version": "1.2.0",
          "state": {
            "_model_module": "@jupyter-widgets/base",
            "_model_module_version": "1.2.0",
            "_model_name": "LayoutModel",
            "_view_count": null,
            "_view_module": "@jupyter-widgets/base",
            "_view_module_version": "1.2.0",
            "_view_name": "LayoutView",
            "align_content": null,
            "align_items": null,
            "align_self": null,
            "border": null,
            "bottom": null,
            "display": null,
            "flex": null,
            "flex_flow": null,
            "grid_area": null,
            "grid_auto_columns": null,
            "grid_auto_flow": null,
            "grid_auto_rows": null,
            "grid_column": null,
            "grid_gap": null,
            "grid_row": null,
            "grid_template_areas": null,
            "grid_template_columns": null,
            "grid_template_rows": null,
            "height": null,
            "justify_content": null,
            "justify_items": null,
            "left": null,
            "margin": null,
            "max_height": null,
            "max_width": null,
            "min_height": null,
            "min_width": null,
            "object_fit": null,
            "object_position": null,
            "order": null,
            "overflow": null,
            "overflow_x": null,
            "overflow_y": null,
            "padding": null,
            "right": null,
            "top": null,
            "visibility": null,
            "width": null
          }
        },
        "fd2abaa9f86f4844885c4c22d403e03a": {
          "model_module": "@jupyter-widgets/controls",
          "model_name": "DescriptionStyleModel",
          "model_module_version": "1.5.0",
          "state": {
            "_model_module": "@jupyter-widgets/controls",
            "_model_module_version": "1.5.0",
            "_model_name": "DescriptionStyleModel",
            "_view_count": null,
            "_view_module": "@jupyter-widgets/base",
            "_view_module_version": "1.2.0",
            "_view_name": "StyleView",
            "description_width": ""
          }
        },
        "869f3e07c6ed469e80556d6d7a5e2c85": {
          "model_module": "@jupyter-widgets/controls",
          "model_name": "HBoxModel",
          "model_module_version": "1.5.0",
          "state": {
            "_dom_classes": [],
            "_model_module": "@jupyter-widgets/controls",
            "_model_module_version": "1.5.0",
            "_model_name": "HBoxModel",
            "_view_count": null,
            "_view_module": "@jupyter-widgets/controls",
            "_view_module_version": "1.5.0",
            "_view_name": "HBoxView",
            "box_style": "",
            "children": [
              "IPY_MODEL_dd7edb7b86e64668b1962010bab98056",
              "IPY_MODEL_5e5f2256b3a14a429914af0fc4cc4ae0",
              "IPY_MODEL_45d1d1104b6243f9916974434da3e275"
            ],
            "layout": "IPY_MODEL_2d113547762d44fabbbaa44ea4710324"
          }
        },
        "dd7edb7b86e64668b1962010bab98056": {
          "model_module": "@jupyter-widgets/controls",
          "model_name": "HTMLModel",
          "model_module_version": "1.5.0",
          "state": {
            "_dom_classes": [],
            "_model_module": "@jupyter-widgets/controls",
            "_model_module_version": "1.5.0",
            "_model_name": "HTMLModel",
            "_view_count": null,
            "_view_module": "@jupyter-widgets/controls",
            "_view_module_version": "1.5.0",
            "_view_name": "HTMLView",
            "description": "",
            "description_tooltip": null,
            "layout": "IPY_MODEL_e6f02ba37e5249fe885bdc097e593c3f",
            "placeholder": "​",
            "style": "IPY_MODEL_4575fe52ed3a45dba4460096d2709cd7",
            "value": "Downloading tokenizer.json: 100%"
          }
        },
        "5e5f2256b3a14a429914af0fc4cc4ae0": {
          "model_module": "@jupyter-widgets/controls",
          "model_name": "FloatProgressModel",
          "model_module_version": "1.5.0",
          "state": {
            "_dom_classes": [],
            "_model_module": "@jupyter-widgets/controls",
            "_model_module_version": "1.5.0",
            "_model_name": "FloatProgressModel",
            "_view_count": null,
            "_view_module": "@jupyter-widgets/controls",
            "_view_module_version": "1.5.0",
            "_view_name": "ProgressView",
            "bar_style": "success",
            "description": "",
            "description_tooltip": null,
            "layout": "IPY_MODEL_b9dddb67b7454430ab87619422797639",
            "max": 1355256,
            "min": 0,
            "orientation": "horizontal",
            "style": "IPY_MODEL_92e4a14b7ddb4741bff5cf7097e257a8",
            "value": 1355256
          }
        },
        "45d1d1104b6243f9916974434da3e275": {
          "model_module": "@jupyter-widgets/controls",
          "model_name": "HTMLModel",
          "model_module_version": "1.5.0",
          "state": {
            "_dom_classes": [],
            "_model_module": "@jupyter-widgets/controls",
            "_model_module_version": "1.5.0",
            "_model_name": "HTMLModel",
            "_view_count": null,
            "_view_module": "@jupyter-widgets/controls",
            "_view_module_version": "1.5.0",
            "_view_name": "HTMLView",
            "description": "",
            "description_tooltip": null,
            "layout": "IPY_MODEL_045461bd803741f2a0e09972841226d0",
            "placeholder": "​",
            "style": "IPY_MODEL_d61098dd2d2a46bf87563fc004afaa16",
            "value": " 1.29M/1.29M [00:00&lt;00:00, 3.08MB/s]"
          }
        },
        "2d113547762d44fabbbaa44ea4710324": {
          "model_module": "@jupyter-widgets/base",
          "model_name": "LayoutModel",
          "model_module_version": "1.2.0",
          "state": {
            "_model_module": "@jupyter-widgets/base",
            "_model_module_version": "1.2.0",
            "_model_name": "LayoutModel",
            "_view_count": null,
            "_view_module": "@jupyter-widgets/base",
            "_view_module_version": "1.2.0",
            "_view_name": "LayoutView",
            "align_content": null,
            "align_items": null,
            "align_self": null,
            "border": null,
            "bottom": null,
            "display": null,
            "flex": null,
            "flex_flow": null,
            "grid_area": null,
            "grid_auto_columns": null,
            "grid_auto_flow": null,
            "grid_auto_rows": null,
            "grid_column": null,
            "grid_gap": null,
            "grid_row": null,
            "grid_template_areas": null,
            "grid_template_columns": null,
            "grid_template_rows": null,
            "height": null,
            "justify_content": null,
            "justify_items": null,
            "left": null,
            "margin": null,
            "max_height": null,
            "max_width": null,
            "min_height": null,
            "min_width": null,
            "object_fit": null,
            "object_position": null,
            "order": null,
            "overflow": null,
            "overflow_x": null,
            "overflow_y": null,
            "padding": null,
            "right": null,
            "top": null,
            "visibility": null,
            "width": null
          }
        },
        "e6f02ba37e5249fe885bdc097e593c3f": {
          "model_module": "@jupyter-widgets/base",
          "model_name": "LayoutModel",
          "model_module_version": "1.2.0",
          "state": {
            "_model_module": "@jupyter-widgets/base",
            "_model_module_version": "1.2.0",
            "_model_name": "LayoutModel",
            "_view_count": null,
            "_view_module": "@jupyter-widgets/base",
            "_view_module_version": "1.2.0",
            "_view_name": "LayoutView",
            "align_content": null,
            "align_items": null,
            "align_self": null,
            "border": null,
            "bottom": null,
            "display": null,
            "flex": null,
            "flex_flow": null,
            "grid_area": null,
            "grid_auto_columns": null,
            "grid_auto_flow": null,
            "grid_auto_rows": null,
            "grid_column": null,
            "grid_gap": null,
            "grid_row": null,
            "grid_template_areas": null,
            "grid_template_columns": null,
            "grid_template_rows": null,
            "height": null,
            "justify_content": null,
            "justify_items": null,
            "left": null,
            "margin": null,
            "max_height": null,
            "max_width": null,
            "min_height": null,
            "min_width": null,
            "object_fit": null,
            "object_position": null,
            "order": null,
            "overflow": null,
            "overflow_x": null,
            "overflow_y": null,
            "padding": null,
            "right": null,
            "top": null,
            "visibility": null,
            "width": null
          }
        },
        "4575fe52ed3a45dba4460096d2709cd7": {
          "model_module": "@jupyter-widgets/controls",
          "model_name": "DescriptionStyleModel",
          "model_module_version": "1.5.0",
          "state": {
            "_model_module": "@jupyter-widgets/controls",
            "_model_module_version": "1.5.0",
            "_model_name": "DescriptionStyleModel",
            "_view_count": null,
            "_view_module": "@jupyter-widgets/base",
            "_view_module_version": "1.2.0",
            "_view_name": "StyleView",
            "description_width": ""
          }
        },
        "b9dddb67b7454430ab87619422797639": {
          "model_module": "@jupyter-widgets/base",
          "model_name": "LayoutModel",
          "model_module_version": "1.2.0",
          "state": {
            "_model_module": "@jupyter-widgets/base",
            "_model_module_version": "1.2.0",
            "_model_name": "LayoutModel",
            "_view_count": null,
            "_view_module": "@jupyter-widgets/base",
            "_view_module_version": "1.2.0",
            "_view_name": "LayoutView",
            "align_content": null,
            "align_items": null,
            "align_self": null,
            "border": null,
            "bottom": null,
            "display": null,
            "flex": null,
            "flex_flow": null,
            "grid_area": null,
            "grid_auto_columns": null,
            "grid_auto_flow": null,
            "grid_auto_rows": null,
            "grid_column": null,
            "grid_gap": null,
            "grid_row": null,
            "grid_template_areas": null,
            "grid_template_columns": null,
            "grid_template_rows": null,
            "height": null,
            "justify_content": null,
            "justify_items": null,
            "left": null,
            "margin": null,
            "max_height": null,
            "max_width": null,
            "min_height": null,
            "min_width": null,
            "object_fit": null,
            "object_position": null,
            "order": null,
            "overflow": null,
            "overflow_x": null,
            "overflow_y": null,
            "padding": null,
            "right": null,
            "top": null,
            "visibility": null,
            "width": null
          }
        },
        "92e4a14b7ddb4741bff5cf7097e257a8": {
          "model_module": "@jupyter-widgets/controls",
          "model_name": "ProgressStyleModel",
          "model_module_version": "1.5.0",
          "state": {
            "_model_module": "@jupyter-widgets/controls",
            "_model_module_version": "1.5.0",
            "_model_name": "ProgressStyleModel",
            "_view_count": null,
            "_view_module": "@jupyter-widgets/base",
            "_view_module_version": "1.2.0",
            "_view_name": "StyleView",
            "bar_color": null,
            "description_width": ""
          }
        },
        "045461bd803741f2a0e09972841226d0": {
          "model_module": "@jupyter-widgets/base",
          "model_name": "LayoutModel",
          "model_module_version": "1.2.0",
          "state": {
            "_model_module": "@jupyter-widgets/base",
            "_model_module_version": "1.2.0",
            "_model_name": "LayoutModel",
            "_view_count": null,
            "_view_module": "@jupyter-widgets/base",
            "_view_module_version": "1.2.0",
            "_view_name": "LayoutView",
            "align_content": null,
            "align_items": null,
            "align_self": null,
            "border": null,
            "bottom": null,
            "display": null,
            "flex": null,
            "flex_flow": null,
            "grid_area": null,
            "grid_auto_columns": null,
            "grid_auto_flow": null,
            "grid_auto_rows": null,
            "grid_column": null,
            "grid_gap": null,
            "grid_row": null,
            "grid_template_areas": null,
            "grid_template_columns": null,
            "grid_template_rows": null,
            "height": null,
            "justify_content": null,
            "justify_items": null,
            "left": null,
            "margin": null,
            "max_height": null,
            "max_width": null,
            "min_height": null,
            "min_width": null,
            "object_fit": null,
            "object_position": null,
            "order": null,
            "overflow": null,
            "overflow_x": null,
            "overflow_y": null,
            "padding": null,
            "right": null,
            "top": null,
            "visibility": null,
            "width": null
          }
        },
        "d61098dd2d2a46bf87563fc004afaa16": {
          "model_module": "@jupyter-widgets/controls",
          "model_name": "DescriptionStyleModel",
          "model_module_version": "1.5.0",
          "state": {
            "_model_module": "@jupyter-widgets/controls",
            "_model_module_version": "1.5.0",
            "_model_name": "DescriptionStyleModel",
            "_view_count": null,
            "_view_module": "@jupyter-widgets/base",
            "_view_module_version": "1.2.0",
            "_view_name": "StyleView",
            "description_width": ""
          }
        },
        "76f26542b2034f2a8467c6ea04b17b4c": {
          "model_module": "@jupyter-widgets/controls",
          "model_name": "HBoxModel",
          "model_module_version": "1.5.0",
          "state": {
            "_dom_classes": [],
            "_model_module": "@jupyter-widgets/controls",
            "_model_module_version": "1.5.0",
            "_model_name": "HBoxModel",
            "_view_count": null,
            "_view_module": "@jupyter-widgets/controls",
            "_view_module_version": "1.5.0",
            "_view_name": "HBoxView",
            "box_style": "",
            "children": [
              "IPY_MODEL_83afd198e7064ea6baebd5010f21c3c2",
              "IPY_MODEL_9a1356c80b9c4ddb9713fb19d4d99082",
              "IPY_MODEL_d83f3204487045059c3f07aa7c300c63"
            ],
            "layout": "IPY_MODEL_52ccb965a95d4efa9009db0e78efb054"
          }
        },
        "83afd198e7064ea6baebd5010f21c3c2": {
          "model_module": "@jupyter-widgets/controls",
          "model_name": "HTMLModel",
          "model_module_version": "1.5.0",
          "state": {
            "_dom_classes": [],
            "_model_module": "@jupyter-widgets/controls",
            "_model_module_version": "1.5.0",
            "_model_name": "HTMLModel",
            "_view_count": null,
            "_view_module": "@jupyter-widgets/controls",
            "_view_module_version": "1.5.0",
            "_view_name": "HTMLView",
            "description": "",
            "description_tooltip": null,
            "layout": "IPY_MODEL_457888a40b884a97bf762dad2438ff50",
            "placeholder": "​",
            "style": "IPY_MODEL_b2c01b85ec5f4cb8a9a5c42768444546",
            "value": "Downloading pytorch_model.bin: 100%"
          }
        },
        "9a1356c80b9c4ddb9713fb19d4d99082": {
          "model_module": "@jupyter-widgets/controls",
          "model_name": "FloatProgressModel",
          "model_module_version": "1.5.0",
          "state": {
            "_dom_classes": [],
            "_model_module": "@jupyter-widgets/controls",
            "_model_module_version": "1.5.0",
            "_model_name": "FloatProgressModel",
            "_view_count": null,
            "_view_module": "@jupyter-widgets/controls",
            "_view_module_version": "1.5.0",
            "_view_name": "ProgressView",
            "bar_style": "success",
            "description": "",
            "description_tooltip": null,
            "layout": "IPY_MODEL_9139292daac345bea8253fecbeff46b4",
            "max": 548118077,
            "min": 0,
            "orientation": "horizontal",
            "style": "IPY_MODEL_80aa619077c2445b959276a1bd1e116c",
            "value": 548118077
          }
        },
        "d83f3204487045059c3f07aa7c300c63": {
          "model_module": "@jupyter-widgets/controls",
          "model_name": "HTMLModel",
          "model_module_version": "1.5.0",
          "state": {
            "_dom_classes": [],
            "_model_module": "@jupyter-widgets/controls",
            "_model_module_version": "1.5.0",
            "_model_name": "HTMLModel",
            "_view_count": null,
            "_view_module": "@jupyter-widgets/controls",
            "_view_module_version": "1.5.0",
            "_view_name": "HTMLView",
            "description": "",
            "description_tooltip": null,
            "layout": "IPY_MODEL_8679ac04f70446c4a454b0a677163aba",
            "placeholder": "​",
            "style": "IPY_MODEL_f8be1039e0284bb9a86efc5029d6a774",
            "value": " 523M/523M [00:09&lt;00:00, 59.6MB/s]"
          }
        },
        "52ccb965a95d4efa9009db0e78efb054": {
          "model_module": "@jupyter-widgets/base",
          "model_name": "LayoutModel",
          "model_module_version": "1.2.0",
          "state": {
            "_model_module": "@jupyter-widgets/base",
            "_model_module_version": "1.2.0",
            "_model_name": "LayoutModel",
            "_view_count": null,
            "_view_module": "@jupyter-widgets/base",
            "_view_module_version": "1.2.0",
            "_view_name": "LayoutView",
            "align_content": null,
            "align_items": null,
            "align_self": null,
            "border": null,
            "bottom": null,
            "display": null,
            "flex": null,
            "flex_flow": null,
            "grid_area": null,
            "grid_auto_columns": null,
            "grid_auto_flow": null,
            "grid_auto_rows": null,
            "grid_column": null,
            "grid_gap": null,
            "grid_row": null,
            "grid_template_areas": null,
            "grid_template_columns": null,
            "grid_template_rows": null,
            "height": null,
            "justify_content": null,
            "justify_items": null,
            "left": null,
            "margin": null,
            "max_height": null,
            "max_width": null,
            "min_height": null,
            "min_width": null,
            "object_fit": null,
            "object_position": null,
            "order": null,
            "overflow": null,
            "overflow_x": null,
            "overflow_y": null,
            "padding": null,
            "right": null,
            "top": null,
            "visibility": null,
            "width": null
          }
        },
        "457888a40b884a97bf762dad2438ff50": {
          "model_module": "@jupyter-widgets/base",
          "model_name": "LayoutModel",
          "model_module_version": "1.2.0",
          "state": {
            "_model_module": "@jupyter-widgets/base",
            "_model_module_version": "1.2.0",
            "_model_name": "LayoutModel",
            "_view_count": null,
            "_view_module": "@jupyter-widgets/base",
            "_view_module_version": "1.2.0",
            "_view_name": "LayoutView",
            "align_content": null,
            "align_items": null,
            "align_self": null,
            "border": null,
            "bottom": null,
            "display": null,
            "flex": null,
            "flex_flow": null,
            "grid_area": null,
            "grid_auto_columns": null,
            "grid_auto_flow": null,
            "grid_auto_rows": null,
            "grid_column": null,
            "grid_gap": null,
            "grid_row": null,
            "grid_template_areas": null,
            "grid_template_columns": null,
            "grid_template_rows": null,
            "height": null,
            "justify_content": null,
            "justify_items": null,
            "left": null,
            "margin": null,
            "max_height": null,
            "max_width": null,
            "min_height": null,
            "min_width": null,
            "object_fit": null,
            "object_position": null,
            "order": null,
            "overflow": null,
            "overflow_x": null,
            "overflow_y": null,
            "padding": null,
            "right": null,
            "top": null,
            "visibility": null,
            "width": null
          }
        },
        "b2c01b85ec5f4cb8a9a5c42768444546": {
          "model_module": "@jupyter-widgets/controls",
          "model_name": "DescriptionStyleModel",
          "model_module_version": "1.5.0",
          "state": {
            "_model_module": "@jupyter-widgets/controls",
            "_model_module_version": "1.5.0",
            "_model_name": "DescriptionStyleModel",
            "_view_count": null,
            "_view_module": "@jupyter-widgets/base",
            "_view_module_version": "1.2.0",
            "_view_name": "StyleView",
            "description_width": ""
          }
        },
        "9139292daac345bea8253fecbeff46b4": {
          "model_module": "@jupyter-widgets/base",
          "model_name": "LayoutModel",
          "model_module_version": "1.2.0",
          "state": {
            "_model_module": "@jupyter-widgets/base",
            "_model_module_version": "1.2.0",
            "_model_name": "LayoutModel",
            "_view_count": null,
            "_view_module": "@jupyter-widgets/base",
            "_view_module_version": "1.2.0",
            "_view_name": "LayoutView",
            "align_content": null,
            "align_items": null,
            "align_self": null,
            "border": null,
            "bottom": null,
            "display": null,
            "flex": null,
            "flex_flow": null,
            "grid_area": null,
            "grid_auto_columns": null,
            "grid_auto_flow": null,
            "grid_auto_rows": null,
            "grid_column": null,
            "grid_gap": null,
            "grid_row": null,
            "grid_template_areas": null,
            "grid_template_columns": null,
            "grid_template_rows": null,
            "height": null,
            "justify_content": null,
            "justify_items": null,
            "left": null,
            "margin": null,
            "max_height": null,
            "max_width": null,
            "min_height": null,
            "min_width": null,
            "object_fit": null,
            "object_position": null,
            "order": null,
            "overflow": null,
            "overflow_x": null,
            "overflow_y": null,
            "padding": null,
            "right": null,
            "top": null,
            "visibility": null,
            "width": null
          }
        },
        "80aa619077c2445b959276a1bd1e116c": {
          "model_module": "@jupyter-widgets/controls",
          "model_name": "ProgressStyleModel",
          "model_module_version": "1.5.0",
          "state": {
            "_model_module": "@jupyter-widgets/controls",
            "_model_module_version": "1.5.0",
            "_model_name": "ProgressStyleModel",
            "_view_count": null,
            "_view_module": "@jupyter-widgets/base",
            "_view_module_version": "1.2.0",
            "_view_name": "StyleView",
            "bar_color": null,
            "description_width": ""
          }
        },
        "8679ac04f70446c4a454b0a677163aba": {
          "model_module": "@jupyter-widgets/base",
          "model_name": "LayoutModel",
          "model_module_version": "1.2.0",
          "state": {
            "_model_module": "@jupyter-widgets/base",
            "_model_module_version": "1.2.0",
            "_model_name": "LayoutModel",
            "_view_count": null,
            "_view_module": "@jupyter-widgets/base",
            "_view_module_version": "1.2.0",
            "_view_name": "LayoutView",
            "align_content": null,
            "align_items": null,
            "align_self": null,
            "border": null,
            "bottom": null,
            "display": null,
            "flex": null,
            "flex_flow": null,
            "grid_area": null,
            "grid_auto_columns": null,
            "grid_auto_flow": null,
            "grid_auto_rows": null,
            "grid_column": null,
            "grid_gap": null,
            "grid_row": null,
            "grid_template_areas": null,
            "grid_template_columns": null,
            "grid_template_rows": null,
            "height": null,
            "justify_content": null,
            "justify_items": null,
            "left": null,
            "margin": null,
            "max_height": null,
            "max_width": null,
            "min_height": null,
            "min_width": null,
            "object_fit": null,
            "object_position": null,
            "order": null,
            "overflow": null,
            "overflow_x": null,
            "overflow_y": null,
            "padding": null,
            "right": null,
            "top": null,
            "visibility": null,
            "width": null
          }
        },
        "f8be1039e0284bb9a86efc5029d6a774": {
          "model_module": "@jupyter-widgets/controls",
          "model_name": "DescriptionStyleModel",
          "model_module_version": "1.5.0",
          "state": {
            "_model_module": "@jupyter-widgets/controls",
            "_model_module_version": "1.5.0",
            "_model_name": "DescriptionStyleModel",
            "_view_count": null,
            "_view_module": "@jupyter-widgets/base",
            "_view_module_version": "1.2.0",
            "_view_name": "StyleView",
            "description_width": ""
          }
        }
      }
    }
  },
  "nbformat": 4,
  "nbformat_minor": 0
}