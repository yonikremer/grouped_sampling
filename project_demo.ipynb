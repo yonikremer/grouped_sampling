{
  "cells": [
    {
      "cell_type": "markdown",
      "metadata": {
        "id": "view-in-github",
        "colab_type": "text"
      },
      "source": [
        "<a href=\"https://colab.research.google.com/github/yonikremer/final_project/blob/master/project_demo.ipynb\" target=\"_parent\"><img src=\"https://colab.research.google.com/assets/colab-badge.svg\" alt=\"Open In Colab\"/></a>"
      ]
    },
    {
      "cell_type": "markdown",
      "metadata": {
        "id": "JHhVA_vxD6NV"
      },
      "source": [
        "# Demo - this is a demo for the project - \n",
        "\n",
        "Here yu can try out the sampling method I intreduced in my research.\n",
        "I highly reccomend to lookup [my research project](https://github.com/yonikremer/final_project) for more information."
      ]
    },
    {
      "cell_type": "markdown",
      "metadata": {
        "id": "yDbjm_yg5-5t"
      },
      "source": [
        "# Set Up"
      ]
    },
    {
      "cell_type": "markdown",
      "metadata": {
        "id": "0A1EbQSf6WtO"
      },
      "source": [
        "Please run the following cell once, than restart the kernal and run the other cells by order"
      ]
    },
    {
      "cell_type": "code",
      "execution_count": 1,
      "metadata": {
        "id": "th_b4EHG4b4l",
        "colab": {
          "base_uri": "https://localhost:8080/"
        },
        "outputId": "259bb154-a11e-4799-c5db-b6d8908b2bf4"
      },
      "outputs": [
        {
          "output_type": "stream",
          "name": "stdout",
          "text": [
            "\u001b[K     |████████████████████████████████| 4.7 MB 29.3 MB/s \n",
            "\u001b[K     |████████████████████████████████| 6.6 MB 55.5 MB/s \n",
            "\u001b[K     |████████████████████████████████| 120 kB 71.7 MB/s \n",
            "\u001b[?25h"
          ]
        }
      ],
      "source": [
        "%pip install -q transformers;\n",
        "%pip install -q torch;"
      ]
    },
    {
      "cell_type": "code",
      "source": [
        "from typing import List, Tuple, Iterable, Set, Dict, Optional\n",
        "from functools import reduce\n",
        "import random\n",
        "from copy import deepcopy"
      ],
      "metadata": {
        "id": "NTkbZjWS5pSc"
      },
      "execution_count": 1,
      "outputs": []
    },
    {
      "cell_type": "code",
      "execution_count": 2,
      "metadata": {
        "id": "Rou3pmrewyXG"
      },
      "outputs": [],
      "source": [
        "from transformers import AutoTokenizer, AutoModelForCausalLM, AutoConfig, PreTrainedModel, BatchEncoding\n",
        "\n",
        "import torch\n",
        "from torch import cuda, device, LongTensor\n",
        "from torch.nn import Softmax"
      ]
    },
    {
      "cell_type": "code",
      "execution_count": 3,
      "metadata": {
        "id": "yNv-zShOcIPB"
      },
      "outputs": [],
      "source": [
        "if not cuda.is_available():\n",
        "    print(\"Warning: CUDA not available\")\n",
        "    print(\"Running on CPU wil be very slow\")\n",
        "    print(\"it's highly recommended to use colab's GPU runtime\")\n",
        "    exit()\n",
        "else:\n",
        "    cuda = device('cuda')"
      ]
    },
    {
      "cell_type": "markdown",
      "metadata": {
        "id": "dNzB89UE5anV"
      },
      "source": [
        "# Important Notes:\n",
        "\n",
        "\n",
        "*   Please make sure the model you choose is not too big for your hardware\n",
        "*   gpt2 is the smallest version of gpt-2, gpt2-xl is the largest\n",
        "*   bloom is the largest vesion of bloom\n",
        "\n"
      ]
    },
    {
      "cell_type": "markdown",
      "metadata": {
        "id": "lhKi5OED6J30"
      },
      "source": [
        "# Selecting a Model"
      ]
    },
    {
      "cell_type": "code",
      "execution_count": 4,
      "metadata": {
        "id": "lDyw05iOoo98"
      },
      "outputs": [],
      "source": [
        "#@title Select a model from the list\n",
        "\n",
        "model_name = \"bigscience/bloom-560m\" #@param [\"facebook/opt-125m\", \"facebook/opt-1.3b\", \"facebook/opt-350m\", \"gpt2\", \"gpt2-medium\", \"gpt2-large\", \"bigscience/bloom-1b7\", \"bigscience/bloom-1b1\", \"bigscience/bloom-560m\"]"
      ]
    },
    {
      "cell_type": "code",
      "execution_count": 5,
      "metadata": {
        "id": "oFpZRiSR9mlh",
        "colab": {
          "base_uri": "https://localhost:8080/",
          "height": 177,
          "referenced_widgets": [
            "0f9de9ac71f042d58ca88cdf4f16b949",
            "909f736a9b9d4b9eb79f3abe5f701550",
            "48e05a8b4727467aa32a7eedfcaf0730",
            "7daa00dd7b2b4033b4555a0a919cfd6d",
            "d4d5a650785b43e09af3f75528ec0439",
            "0245be0357c5489795481c3a1b5f34ca",
            "09fb7dd8e8494f7d8b9dc0ef205755ce",
            "c4e38d0c57564a8fa58397131788f9c0",
            "5873a6cb7b6f41bcbe0a0abcd44f003f",
            "b8db833ed36f40de9aed5c103d587178",
            "3ca28e3530cf498092923405cabfbca9",
            "7277c4f6e6f14e6aaf18c119963558e5",
            "427895dce80e4f79b50f309ab57d6b08",
            "9251a53d4fde4ce5a7f8cb86a8fa78c3",
            "5b9ffe8a90d341d18a63c2fae71f0183",
            "b66c1b74a28b41b59bd698f04abfbf8b",
            "1b5c04cfaa5e4a76b82cc1996da119a6",
            "be7bbdfb87dc4432adbf75dfb1c2bd17",
            "bb0ef003edaf4f76a2ee10c6c188f08c",
            "b3a5a371245e49db8d7c64c5cd7a214d",
            "9cdfc444520c41748445b19406f1d726",
            "0dca265606d04abb820c35834c88962e",
            "f147745fb2ae4628b76a55ec38eae430",
            "bddd4a711fa347d5a03be82c9da489fb",
            "10ed3d639f2e44faa3cb4f1e6dd12bb0",
            "f1d7294d1d8e4fa0908cdaec2218e86c",
            "2bf8ee2adbe640c5b69889f9e6e1ec18",
            "f4aa3d6982604b38a22ea197ad435bb1",
            "a3e8998a2649463196bd3d1f6ade3dcd",
            "624f42c6f9c241388de9c496b910964f",
            "406b0533b09a4caa925b6b273b8e6298",
            "7ed442197d314413aaffdf9271a4175e",
            "df63a3f881aa4d5d8128be5e422189fd",
            "92e0c8dcbad04f72ab6727a040383160",
            "5319142ed2324fe7a56df517e41060cf",
            "fff486c1b89940e9ae22a545f7a68a48",
            "7238964239ae4ce19f1160177209c476",
            "e1b2f106adb047efa3d82b0049012321",
            "3153a38a3b314153a230640f73a1d7ab",
            "35109d91c85c4f1db3597273f7505705",
            "28fbff7b24b04f1a99dc9fa4160ae894",
            "93f28a936fdf4205ad928a7bf8cf99e0",
            "0de7831db0074ada9db3024b64526270",
            "24ffa1f8e2254308b917583b14f3e759",
            "6fb92d339b654bd1bbc161b457178d5e",
            "7aaefc2c19bc466da98fa077fe5020f8",
            "6b91bf5beb6443de82541a910d6ba49f",
            "0bad9b5942f74af7b17de0238d10de66",
            "ffb93598b6ff45d988b788fedb69756a",
            "9d9a7e4c463f482880efb035ebcace47",
            "dc8654f2d1d0418e8aea2c9e5cd7c1da",
            "070758b31ac2442e839af8494426ed7d",
            "8b460801f9704fd69b75072f7a89602d",
            "fc8da2acf4944483a84bb6470a3b6ba3",
            "60d50d8d31f34d8f9cce310d8e99b8e0"
          ]
        },
        "outputId": "48468715-9132-431c-daa7-04527641a4cd"
      },
      "outputs": [
        {
          "output_type": "display_data",
          "data": {
            "text/plain": [
              "Downloading tokenizer_config.json:   0%|          | 0.00/222 [00:00<?, ?B/s]"
            ],
            "application/vnd.jupyter.widget-view+json": {
              "version_major": 2,
              "version_minor": 0,
              "model_id": "0f9de9ac71f042d58ca88cdf4f16b949"
            }
          },
          "metadata": {}
        },
        {
          "output_type": "display_data",
          "data": {
            "text/plain": [
              "Downloading tokenizer.json:   0%|          | 0.00/13.8M [00:00<?, ?B/s]"
            ],
            "application/vnd.jupyter.widget-view+json": {
              "version_major": 2,
              "version_minor": 0,
              "model_id": "7277c4f6e6f14e6aaf18c119963558e5"
            }
          },
          "metadata": {}
        },
        {
          "output_type": "display_data",
          "data": {
            "text/plain": [
              "Downloading special_tokens_map.json:   0%|          | 0.00/85.0 [00:00<?, ?B/s]"
            ],
            "application/vnd.jupyter.widget-view+json": {
              "version_major": 2,
              "version_minor": 0,
              "model_id": "f147745fb2ae4628b76a55ec38eae430"
            }
          },
          "metadata": {}
        },
        {
          "output_type": "display_data",
          "data": {
            "text/plain": [
              "Downloading config.json:   0%|          | 0.00/710 [00:00<?, ?B/s]"
            ],
            "application/vnd.jupyter.widget-view+json": {
              "version_major": 2,
              "version_minor": 0,
              "model_id": "92e0c8dcbad04f72ab6727a040383160"
            }
          },
          "metadata": {}
        },
        {
          "output_type": "display_data",
          "data": {
            "text/plain": [
              "Downloading pytorch_model.bin:   0%|          | 0.00/1.98G [00:00<?, ?B/s]"
            ],
            "application/vnd.jupyter.widget-view+json": {
              "version_major": 2,
              "version_minor": 0,
              "model_id": "6fb92d339b654bd1bbc161b457178d5e"
            }
          },
          "metadata": {}
        }
      ],
      "source": [
        "tokenizer = AutoTokenizer.from_pretrained(model_name);\n",
        "model = AutoModelForCausalLM.from_pretrained(model_name).cuda();\n",
        "vocab_size = AutoConfig.from_pretrained(model_name).vocab_size;"
      ]
    },
    {
      "cell_type": "code",
      "source": [
        "random.seed(0)"
      ],
      "metadata": {
        "id": "J4j-VY-GEM2j"
      },
      "execution_count": 6,
      "outputs": []
    },
    {
      "cell_type": "code",
      "source": [
        "def print_bases(obj):\n",
        "    curr_base = type(obj)\n",
        "    while curr_base != object:\n",
        "        print(curr_base)\n",
        "        curr_base = curr_base.__base__\n",
        "\n",
        "print_bases(model)"
      ],
      "metadata": {
        "colab": {
          "base_uri": "https://localhost:8080/"
        },
        "id": "e9VAuvvtCA29",
        "outputId": "1d7fb9eb-db2c-4ad1-bb0c-bbd2429bb7f9"
      },
      "execution_count": 7,
      "outputs": [
        {
          "output_type": "stream",
          "name": "stdout",
          "text": [
            "<class 'transformers.models.bloom.modeling_bloom.BloomForCausalLM'>\n",
            "<class 'transformers.models.bloom.modeling_bloom.BloomPreTrainedModel'>\n",
            "<class 'transformers.modeling_utils.PreTrainedModel'>\n",
            "<class 'torch.nn.modules.module.Module'>\n"
          ]
        }
      ]
    },
    {
      "cell_type": "markdown",
      "metadata": {
        "id": "7S5lrpOO0jS8"
      },
      "source": [
        "# The code I use to sample:"
      ]
    },
    {
      "cell_type": "markdown",
      "source": [
        "## Get probability matrix"
      ],
      "metadata": {
        "id": "2pHI8lbP8HK8"
      }
    },
    {
      "cell_type": "code",
      "source": [
        "def get_prob_mat(prompt: Optional[str], group_size: int, token_list: Optional[List[int]] = None, temp: float = 1.0):\n",
        "    \"\"\"Returns the probability matrix as a list of lists of floats\"\"\"\n",
        "    if not isinstance(model, PreTrainedModel): \n",
        "        raise NotImplementedError(\"Only AutoModelForCausalLM is supported\")\n",
        "\n",
        "    if token_list is None:\n",
        "        inputs = tokenizer(prompt, return_tensors=\"pt\")\n",
        "    else:\n",
        "        attention_mask = torch.ones([1, len(token_list)])\n",
        "        inputs = {\"input_ids\": LongTensor([token_list]), \"attention_mask\": attention_mask}\n",
        "    inputs = {name: tensor.cuda() for name, tensor in inputs.items()}\n",
        "\n",
        "    if not isinstance(inputs, dict):\n",
        "        logits_pt_tensor = model(**inputs).logits.squeeze(0) / temp\n",
        "    elif not \"input_ids\" in inputs.keys():\n",
        "        logits_pt_tensor = model(**inputs).logits.squeeze(0) / temp\n",
        "    else:\n",
        "        logits_pt_tensor = model(**inputs, labels=inputs[\"input_ids\"]).logits.squeeze(0)\n",
        "    \n",
        "    prob_tensor = Softmax(dim=1)(logits_pt_tensor)\n",
        "    if group_size <= prob_tensor.shape[0]:\n",
        "        prob_tensor = prob_tensor[-group_size:, :]\n",
        "        prob_mat = [prob_tensor[i, :].tolist() for i in range(group_size)]\n",
        "    else:\n",
        "        print(\"Warning: the group size is bigger than the length of the model's output\")\n",
        "        print(\"If the length of the model input (in tokens) is n, n will be length of the model's output\")\n",
        "        print(f\"the predicted text will be {group_size - prob_tensor.shape[0]} tokens shorter\")\n",
        "        prob_mat = [prob_tensor[i, :].tolist() for i in range(prob_tensor.shape[0])]\n",
        "      \n",
        "    return prob_mat"
      ],
      "metadata": {
        "id": "8i7pkdOu8GSI"
      },
      "execution_count": 12,
      "outputs": []
    },
    {
      "cell_type": "markdown",
      "source": [
        "## distribution sampling  "
      ],
      "metadata": {
        "id": "qHgtzS6dvM3Y"
      }
    },
    {
      "cell_type": "code",
      "source": [
        "def grouped_top_p_sampling(prob_mat: List[List[float]], top_p: float, org_used_tokens: List[int]):\n",
        "    used_tokens = deepcopy(org_used_tokens)\n",
        "    answer = []\n",
        "    for curr_token_prob_list in prob_mat:\n",
        "        for used_token in used_tokens:\n",
        "            curr_token_prob_list[used_token] = 0.0\n",
        "\n",
        "        indexed_prob: Dict[int, float] = {i: prob for i, prob in enumerate(curr_token_prob_list)}  # O(vocab_size)\n",
        "        sorted_items = sorted(indexed_prob.items(), key = lambda item: item[1], reverse=True)\n",
        "        sorted_indexed_prob = {key: value for key, value in sorted_items}\n",
        "        top_p_indexed_prob: Dict[int, float] = {}\n",
        "        prob_sum: float = 0.0\n",
        "        for i, (curr_token, curr_prob) in enumerate(sorted_indexed_prob.items()):\n",
        "            if i > 0 and prob_sum + curr_prob > top_p:\n",
        "                break\n",
        "            prob_sum += curr_prob\n",
        "            top_p_indexed_prob[curr_token] = curr_prob\n",
        "\n",
        "        weighted_probs = {key: value / prob_sum for key, value in top_p_indexed_prob.items()}\n",
        "\n",
        "        sampled_token: int = random.choices(list(weighted_probs.keys()), weights = weighted_probs.values(), k=1)[0]\n",
        "        answer.append(sampled_token)\n",
        "        used_tokens.append(sampled_token)\n",
        "    return answer\n",
        "\n",
        "\n",
        "def grouped_top_k_sampling(prob_mat: List[List[float]], top_k: int, org_used_tokens: List[int]):\n",
        "    used_tokens = deepcopy(org_used_tokens)\n",
        "    answer = []\n",
        "    for curr_token_prob_list in prob_mat:\n",
        "        for used_token in used_tokens:\n",
        "            curr_token_prob_list[used_token] = 0.0\n",
        "\n",
        "        indexed_prob: Dict[int, float] = {i: prob for i, prob in enumerate(curr_token_prob_list)}  # O(vocab_size)\n",
        "        sorted_items = sorted(indexed_prob.items(), key = lambda item: item[1], reverse=True)\n",
        "        sorted_indexed_prob = {key: value for key, value in sorted_items}\n",
        "        sorted_top_k_keys = list(sorted_indexed_prob.keys())[:top_k]\n",
        "        top_k_indexed_prob: Dict[int, float] = {key: sorted_indexed_prob[key] for key in sorted_top_k_keys}\n",
        "        prob_sum: float = sum(top_k_indexed_prob.values())\n",
        "        weighted_probs = {key: value / prob_sum for key, value in top_k_indexed_prob.items()}\n",
        "\n",
        "        sampled_token: int = random.choices(list(weighted_probs.keys()), weights = weighted_probs.values(), k=1)[0]\n",
        "        answer.append(sampled_token)\n",
        "        used_tokens.append(sampled_token)\n",
        "    return answer\n",
        "\n",
        "\n",
        "def generate_distribution(prompt, top_p, top_k, num_groups, group_size, temp: float = 1.0):\n",
        "    already_used_tokens: List[int] = []\n",
        "    tokenized_prompt_ten = tokenizer(prompt, return_tensors=\"pt\")\n",
        "    if isinstance(tokenized_prompt_ten, dict) or isinstance(tokenized_prompt_ten, BatchEncoding):\n",
        "        if \"input_ids\" in tokenized_prompt_ten.keys():\n",
        "            tokenized_prompt_ten = tokenized_prompt_ten[\"input_ids\"]\n",
        "    \n",
        "    curr_token_list = tokenized_prompt_ten.squeeze().tolist()\n",
        "    for _ in range(num_groups):\n",
        "        prob_mat = get_prob_mat(None, group_size, curr_token_list, temp)\n",
        "        if top_p is None and top_k is not None:\n",
        "            new_tokens = grouped_top_k_sampling(prob_mat, top_k, curr_token_list)\n",
        "        elif top_k is None and top_p is not None:\n",
        "            new_tokens = grouped_top_p_sampling(prob_mat, top_p, curr_token_list)\n",
        "        else:\n",
        "            raise ValueError(\"Either top_p ot top_k should be None, but not both\")\n",
        "        curr_token_list.extend(new_tokens)\n",
        "    final_ans = tokenizer.decode(curr_token_list)\n",
        "    return final_ans"
      ],
      "metadata": {
        "id": "YKJqvrxovUYa"
      },
      "execution_count": 13,
      "outputs": []
    },
    {
      "cell_type": "code",
      "source": [
        "generate_distribution(\"Translate english to french: \\n english: I am the best swimmer in the world \\n french:\", 4, None, 4, 3)"
      ],
      "metadata": {
        "colab": {
          "base_uri": "https://localhost:8080/",
          "height": 35
        },
        "id": "UjpWpkq-46fr",
        "outputId": "1055dfe5-cdfd-4af2-991a-dd91a3e14f1a"
      },
      "execution_count": 20,
      "outputs": [
        {
          "output_type": "execute_result",
          "data": {
            "text/plain": [
              "'Translate english to french: \\n english: I am the best swimmer in the world \\n french: fr:m Jeereonsieur suisw\\n\\n leormA:oser'"
            ],
            "application/vnd.google.colaboratory.intrinsic+json": {
              "type": "string"
            }
          },
          "metadata": {},
          "execution_count": 20
        }
      ]
    },
    {
      "cell_type": "markdown",
      "source": [
        "## Brute force sampling"
      ],
      "metadata": {
        "id": "xcp_Xnw3vJ8M"
      }
    },
    {
      "cell_type": "code",
      "execution_count": null,
      "metadata": {
        "id": "7xP7MjctCfgq"
      },
      "outputs": [],
      "source": [
        "def combinations(mat):\n",
        "    \"\"\"Returns all the lists such that list[j] is in mat[j]\n",
        "    complexity: prod([len(mat[i]) for i in range(len(mat))])\"\"\"\n",
        "    if len(mat) == 1:\n",
        "        return [[mat[0][i]] for i in range(len(mat[0]))]\n",
        "    res = []\n",
        "    for i in mat[0]:\n",
        "        for j in combinations(mat[1:]):\n",
        "            res.append([i] + j)\n",
        "    filtered_res = list(filter(doesnt_have_duplicates, res))\n",
        "    return filtered_res\n",
        "\n",
        "\n",
        "def doesnt_have_duplicates(my_list):\n",
        "    \"\"\"Return if there isn't a repetition in the list\n",
        "    complexity: O(n) where n is the length of the list\"\"\"\n",
        "    return len(my_list) == len(set(my_list))\n",
        "\n",
        "\n",
        "def seq_prob(tokens, prob_mat, org_prompt_prob):\n",
        "    \"\"\"Given the probability matrix and a list of tokens\n",
        "    returns the probability of the sequence\n",
        "    prob_mat[a][b] is the probability of the token with id b the a-th token in the sequence\"\"\"\n",
        "    probability = org_prompt_prob\n",
        "    sequence_length = len(tokens)\n",
        "    for i in range(sequence_length):\n",
        "        curr_token = tokens[i]\n",
        "        probability *= prob_mat[i][curr_token]\n",
        "    return probability\n",
        "\n",
        "\n",
        "def grouped_sampling(prob_mat: List[List[float]], top_p, top_k) -> List[List[int]]:\n",
        "    \"\"\"given a matrix of probabilities, returns a list of lists of tokens\n",
        "    the matrixs is of size group_size x vocab_size\n",
        "    where matrix[i, j] is the probability of token j the i-th token in the group\n",
        "    samples the tokens such that for each place in the group,\n",
        "    at most top_k tokens are sampled and at least one token is sampled\n",
        "    and the added probability of all the tokens is less than or equal top_p\n",
        "    returns a list of where every item is a tuple of a sequense and probability\n",
        "    over all complexity of the function in O(group_size * vocab_size * log(vocab_size))\"\"\"\n",
        "    \n",
        "    # prob_tensor.shape is now (group_size, vocab_size)\n",
        "    posible_tokens = []\n",
        "    already_predicted = set()\n",
        "    for token_prob in prob_mat: # group_size times\n",
        "        vocab_size = len(token_prob)  # O(1)\n",
        "        indexed_prob = list(zip(token_prob, range(vocab_size)))  # O(vocab_size)\n",
        "        sorted_indexed_prob = sorted(indexed_prob, key=lambda x: x[0], reverse=True) # O(vocab_size*log(vocab_size))\n",
        "        curr_k = 0\n",
        "        total_prob = 0\n",
        "        curr_indices = []\n",
        "        for prob, token in sorted_indexed_prob:  # O(top_k)\n",
        "            if total_prob + prob > top_p or curr_k == top_k:\n",
        "                break\n",
        "            if not token in already_predicted:\n",
        "                already_predicted.add(token)\n",
        "                curr_k += 1\n",
        "                total_prob += prob\n",
        "                curr_indices.append(token)\n",
        "        posible_tokens.append(curr_indices)  # O(1)\n",
        "    new_sequences: List[List[int]] = combinations(posible_tokens)  # theta(prod(len(indices[i]) for i in range(group_size)))\n",
        "    # len(indices[i]) < min(top_k, vocab_size)\n",
        "    # therefore the complexity is O(min(top_k, vocab_size) * group_size)\n",
        "    return new_sequences\n",
        "\n",
        "\n",
        "def flatten(l: list) -> List:\n",
        "    \"\"\"Gets a list where some of the elements might be lists\n",
        "    and adds every item in the inner list to the outer list.\n",
        "    example: [1, [2, 3], 4, [[5]]] -> [1, 2, 3, 4, 5]\n",
        "    Complexity: O(len(the flatten list) + the number of diffrent lists))\"\"\"\n",
        "    new_list = []\n",
        "    for item in l:\n",
        "        if isinstance(item, list):\n",
        "            new_list.extend(flatten(item))\n",
        "        else:\n",
        "            new_list.append(item)\n",
        "    return new_list\n",
        "\n",
        "\n",
        "def generate_beam(org_prompt, top_p, top_k, num_groups, group_size, org_prompt_prob = 1.0, temp = 1.0) -> Dict[Tuple[int], float]:\n",
        "    \"\"\"preprocess the prompt and completes the text\n",
        "    model name: str\n",
        "    org_prompt: str\n",
        "    top_p: float (0.0 - 1.0)\n",
        "    top_k: int > 0\n",
        "    num_groups: int > 0\n",
        "    group_size: int > 0\n",
        "    org_prompt_prob: float <= 1\n",
        "    \"\"\"\n",
        "    if isinstance(org_prompt, str):\n",
        "        str_prompt = org_prompt\n",
        "        try:\n",
        "            tokenized_prompt_ten = tokenizer(str_prompt, return_tensors=\"pt\")[\"input_ids\"]\n",
        "        except Exception:\n",
        "            tokenized_prompt_ten = tokenizer(str_prompt, return_tensors=\"pt\")\n",
        "        tokenized_prompt_list = tokenized_prompt_ten.tolist()\n",
        "    elif isinstance(org_prompt, list) or isinstance(org_prompt, tuple):\n",
        "        tokenized_prompt_list = flatten(org_prompt)\n",
        "        str_prompt = tokenizer.decode(tokenized_prompt_list)\n",
        "    else:\n",
        "        print(org_prompt)\n",
        "        raise ValueError(\"org_prompt must be a string or list of integers\")\n",
        "    \n",
        "    prob_mat = get_prob_mat(str_prompt, group_size, temp)\n",
        "    tokenized_ans_list = grouped_sampling(prob_mat, top_p, top_k)\n",
        "    prob_list: List[Tuple[List[int], float]] = [seq_prob(seq, prob_mat, org_prompt_prob) for seq in tokenized_ans_list]\n",
        "    new_prompts: List[List[int]] = [flatten(tokenized_prompt_list + ans) for ans in tokenized_ans_list]\n",
        "    complition_prob_dict = remove_duplicates(new_prompts, prob_list)\n",
        "    if num_groups == 1:\n",
        "        return complition_prob_dict\n",
        "    new_complitions: Dict[Tuple[int], float] = dict()\n",
        "    for curr_new_prompt, curr_new_prompt_prob in complition_prob_dict.items():\n",
        "        curr_completions: Dict[Tuple[int], float] = generate_beam(model_name, curr_new_prompt, top_p, top_k, num_groups - 1, group_size, curr_new_prompt_prob)\n",
        "        tokens: Tuple[int]\n",
        "        prob: float\n",
        "        for tokens, prob in curr_completions.items():\n",
        "            new_complitions[tokens] = prob\n",
        "    return new_complitions\n",
        "\n",
        "\n",
        "def remove_duplicates(completions: List[List[int]], probs: List[float]) -> Dict[Tuple[int], float]:\n",
        "    \"\"\"Given a list of tokenized answers and the probability of each complition,\n",
        "    removes every repeated completion and every complition that have repeated tokens\"\"\"\n",
        "    filtered_completions: Dict[Tuple[int], float] = dict()\n",
        "    for curr_comp, curr_prob in zip(completions, probs):\n",
        "        try:\n",
        "            cond = len(curr_comp) == len(set(curr_comp))\n",
        "        except TypeError as e:\n",
        "            print(curr_comp)\n",
        "            raise e\n",
        "        if cond:\n",
        "            curr_comp_tuple = tuple(curr_comp)\n",
        "            filtered_completions[curr_comp_tuple] = curr_prob\n",
        "    return filtered_completions\n"
      ]
    },
    {
      "cell_type": "markdown",
      "metadata": {
        "id": "pDOGorUX0pFg"
      },
      "source": [
        "# Use grouped sampling:"
      ]
    },
    {
      "cell_type": "markdown",
      "metadata": {
        "id": "LS3o1Umjx6b3"
      },
      "source": [
        "## How to use previous methods:\n",
        "\n",
        "| brute force         | nucleus (top p)                 | top k                              | greedy         |\n",
        "|---------------------|---------------------------------|------------------------------------|----------------|\n",
        "| top p=0             | 0 < top p < 1                   | top p = 1                          | top p = 0      |\n",
        "| top k >= vocab_size | top k >= the model's vocab size | 1 < top k < the model's vocab size | top k = 1      |\n",
        "| group_size = 1      | group_size = 1                  | group_size = 1                     | group_size = 1 |"
      ]
    },
    {
      "cell_type": "code",
      "execution_count": 1,
      "metadata": {
        "id": "9BUwTv4reNg_",
        "colab": {
          "base_uri": "https://localhost:8080/",
          "height": 235
        },
        "outputId": "3d83bcda-e33d-4d17-a764-fbaca3906ac7"
      },
      "outputs": [
        {
          "output_type": "error",
          "ename": "NameError",
          "evalue": "ignored",
          "traceback": [
            "\u001b[0;31m---------------------------------------------------------------------------\u001b[0m",
            "\u001b[0;31mNameError\u001b[0m                                 Traceback (most recent call last)",
            "\u001b[0;32m<ipython-input-1-ce159673d93e>\u001b[0m in \u001b[0;36m<module>\u001b[0;34m\u001b[0m\n\u001b[1;32m      8\u001b[0m \u001b[0;34m\u001b[0m\u001b[0m\n\u001b[1;32m      9\u001b[0m \u001b[0;34m\u001b[0m\u001b[0m\n\u001b[0;32m---> 10\u001b[0;31m \u001b[0mactual_top_k\u001b[0m \u001b[0;34m=\u001b[0m \u001b[0mmin\u001b[0m\u001b[0;34m(\u001b[0m\u001b[0mtop_k\u001b[0m\u001b[0;34m,\u001b[0m \u001b[0mvocab_size\u001b[0m \u001b[0;34m*\u001b[0m \u001b[0mtop_p\u001b[0m\u001b[0;34m)\u001b[0m\u001b[0;34m\u001b[0m\u001b[0;34m\u001b[0m\u001b[0m\n\u001b[0m\u001b[1;32m     11\u001b[0m \u001b[0mnum_tokens_genrated\u001b[0m \u001b[0;34m=\u001b[0m \u001b[0mnum_groups\u001b[0m \u001b[0;34m*\u001b[0m \u001b[0mgroup_size\u001b[0m\u001b[0;34m\u001b[0m\u001b[0;34m\u001b[0m\u001b[0m\n\u001b[1;32m     12\u001b[0m \u001b[0;34m\u001b[0m\u001b[0m\n",
            "\u001b[0;31mNameError\u001b[0m: name 'vocab_size' is not defined"
          ]
        }
      ],
      "source": [
        "prompt = \"def logger(original_function: callable, file_name: str): \\\\n \\\"\\\"\\\"A decerator that logs the argument and key word arguments of  original_function to file_name.log\\\"\\\"\\\"\\\\n\" #@param {type:\"string\"}\n",
        "top_p = 1 #@param {type:\"slider\", min:0.05, max:1.0, step:0.05}\n",
        "top_k = 5 #@param {type:\"integer\"}\n",
        "group_size = 8 #@param {type:\"integer\"}\n",
        "num_groups = 2 #@param {type:\"integer\"}\n",
        "temperature = 0 #@param {type:\"number\", min:0.000000001}\n",
        "sampling_type = 'from distribution' #@param [\"from distribution\", \"brute force\"]\n",
        "\n",
        "\n",
        "actual_top_k = min(top_k, vocab_size * top_p)\n",
        "num_tokens_genrated = num_groups * group_size\n",
        "\n",
        "if sampling_type == \"brute force\":\n",
        "    max_num_calls = sum((actual_top_k ** i) for i in range(num_groups))    \n",
        "    pervious_methods_max_num_calls = sum((actual_top_k ** i) for i in range(num_tokens_genrated))\n",
        "else:\n",
        "    max_num_calls = num_groups\n",
        "    pervious_methods_max_num_calls = num_tokens_genrated\n",
        "\n",
        "print(f\"The model will generate {num_tokens_genrated} tokens (words or parts of words)\")\n",
        "print(f\"It will call the model at most {max_num_calls} times to the model\")\n",
        "print(f\"Previous methods will need up to {pervious_methods_max_num_calls} call to the model to genrate the same text\")"
      ]
    },
    {
      "cell_type": "code",
      "execution_count": null,
      "metadata": {
        "colab": {
          "base_uri": "https://localhost:8080/",
          "height": 433
        },
        "id": "5X4jSTghn5fD",
        "outputId": "28e83a74-8846-4b3d-c548-0589417c073e"
      },
      "outputs": [
        {
          "output_type": "stream",
          "name": "stdout",
          "text": [
            "Warning: the group size is bigger than the length of the model's output\n",
            "If the length of the model input (in tokens) is n, n will be length of the model's output\n",
            "the predicted text will be 1 tokens shorter\n"
          ]
        },
        {
          "output_type": "error",
          "ename": "KeyboardInterrupt",
          "evalue": "ignored",
          "traceback": [
            "\u001b[0;31m---------------------------------------------------------------------------\u001b[0m",
            "\u001b[0;31mKeyboardInterrupt\u001b[0m                         Traceback (most recent call last)",
            "\u001b[0;32m<ipython-input-39-d15c40238ce9>\u001b[0m in \u001b[0;36m<module>\u001b[0;34m\u001b[0m\n\u001b[0;32m----> 1\u001b[0;31m \u001b[0mcompletions\u001b[0m \u001b[0;34m=\u001b[0m \u001b[0mcomplete\u001b[0m\u001b[0;34m(\u001b[0m\u001b[0mmodel_name\u001b[0m\u001b[0;34m,\u001b[0m \u001b[0mprompt\u001b[0m\u001b[0;34m,\u001b[0m \u001b[0mtop_p\u001b[0m\u001b[0;34m,\u001b[0m \u001b[0mtop_k\u001b[0m\u001b[0;34m,\u001b[0m \u001b[0mnum_groups\u001b[0m\u001b[0;34m,\u001b[0m \u001b[0mgroup_size\u001b[0m\u001b[0;34m)\u001b[0m\u001b[0;34m\u001b[0m\u001b[0;34m\u001b[0m\u001b[0m\n\u001b[0m\u001b[1;32m      2\u001b[0m \u001b[0;34m\u001b[0m\u001b[0m\n\u001b[1;32m      3\u001b[0m \u001b[0;34m\u001b[0m\u001b[0m\n\u001b[1;32m      4\u001b[0m \u001b[0;32mif\u001b[0m \u001b[0mlen\u001b[0m\u001b[0;34m(\u001b[0m\u001b[0mcompletions\u001b[0m\u001b[0;34m.\u001b[0m\u001b[0mkeys\u001b[0m\u001b[0;34m(\u001b[0m\u001b[0;34m)\u001b[0m\u001b[0;34m)\u001b[0m \u001b[0;34m>\u001b[0m \u001b[0;36m0\u001b[0m\u001b[0;34m:\u001b[0m\u001b[0;34m\u001b[0m\u001b[0;34m\u001b[0m\u001b[0m\n\u001b[1;32m      5\u001b[0m     \u001b[0mgrouped_sampling_best_comp_tokenized\u001b[0m \u001b[0;34m=\u001b[0m \u001b[0mmax\u001b[0m\u001b[0;34m(\u001b[0m\u001b[0mcompletions\u001b[0m\u001b[0;34m,\u001b[0m \u001b[0mkey\u001b[0m\u001b[0;34m=\u001b[0m\u001b[0mcompletions\u001b[0m\u001b[0;34m.\u001b[0m\u001b[0mget\u001b[0m\u001b[0;34m)\u001b[0m\u001b[0;34m\u001b[0m\u001b[0;34m\u001b[0m\u001b[0m\n",
            "\u001b[0;32m<ipython-input-36-167b194b12da>\u001b[0m in \u001b[0;36mcomplete\u001b[0;34m(model_name, org_prompt, top_p, top_k, num_groups, group_size, org_prompt_prob)\u001b[0m\n\u001b[1;32m    129\u001b[0m \u001b[0;34m\u001b[0m\u001b[0m\n\u001b[1;32m    130\u001b[0m     \u001b[0mprob_mat\u001b[0m \u001b[0;34m=\u001b[0m \u001b[0mget_prob_mat\u001b[0m\u001b[0;34m(\u001b[0m\u001b[0mmodel_name\u001b[0m\u001b[0;34m,\u001b[0m \u001b[0mstr_prompt\u001b[0m\u001b[0;34m,\u001b[0m \u001b[0mgroup_size\u001b[0m\u001b[0;34m)\u001b[0m\u001b[0;34m\u001b[0m\u001b[0;34m\u001b[0m\u001b[0m\n\u001b[0;32m--> 131\u001b[0;31m     \u001b[0mtokenized_ans_list\u001b[0m \u001b[0;34m=\u001b[0m \u001b[0mgrouped_sampling\u001b[0m\u001b[0;34m(\u001b[0m\u001b[0mprob_mat\u001b[0m\u001b[0;34m,\u001b[0m \u001b[0mtop_p\u001b[0m\u001b[0;34m,\u001b[0m \u001b[0mtop_k\u001b[0m\u001b[0;34m)\u001b[0m\u001b[0;34m\u001b[0m\u001b[0;34m\u001b[0m\u001b[0m\n\u001b[0m\u001b[1;32m    132\u001b[0m     \u001b[0mprob_list\u001b[0m\u001b[0;34m:\u001b[0m \u001b[0mList\u001b[0m\u001b[0;34m[\u001b[0m\u001b[0mTuple\u001b[0m\u001b[0;34m[\u001b[0m\u001b[0mList\u001b[0m\u001b[0;34m[\u001b[0m\u001b[0mint\u001b[0m\u001b[0;34m]\u001b[0m\u001b[0;34m,\u001b[0m \u001b[0mfloat\u001b[0m\u001b[0;34m]\u001b[0m\u001b[0;34m]\u001b[0m \u001b[0;34m=\u001b[0m \u001b[0;34m[\u001b[0m\u001b[0mseq_prob\u001b[0m\u001b[0;34m(\u001b[0m\u001b[0mseq\u001b[0m\u001b[0;34m,\u001b[0m \u001b[0mprob_mat\u001b[0m\u001b[0;34m,\u001b[0m \u001b[0morg_prompt_prob\u001b[0m\u001b[0;34m)\u001b[0m \u001b[0;32mfor\u001b[0m \u001b[0mseq\u001b[0m \u001b[0;32min\u001b[0m \u001b[0mtokenized_ans_list\u001b[0m\u001b[0;34m]\u001b[0m\u001b[0;34m\u001b[0m\u001b[0;34m\u001b[0m\u001b[0m\n\u001b[1;32m    133\u001b[0m     \u001b[0mnew_prompts\u001b[0m\u001b[0;34m:\u001b[0m \u001b[0mList\u001b[0m\u001b[0;34m[\u001b[0m\u001b[0mList\u001b[0m\u001b[0;34m[\u001b[0m\u001b[0mint\u001b[0m\u001b[0;34m]\u001b[0m\u001b[0;34m]\u001b[0m \u001b[0;34m=\u001b[0m \u001b[0;34m[\u001b[0m\u001b[0mflatten\u001b[0m\u001b[0;34m(\u001b[0m\u001b[0mtokenized_prompt_list\u001b[0m \u001b[0;34m+\u001b[0m \u001b[0mans\u001b[0m\u001b[0;34m)\u001b[0m \u001b[0;32mfor\u001b[0m \u001b[0mans\u001b[0m \u001b[0;32min\u001b[0m \u001b[0mtokenized_ans_list\u001b[0m\u001b[0;34m]\u001b[0m\u001b[0;34m\u001b[0m\u001b[0;34m\u001b[0m\u001b[0m\n",
            "\u001b[0;32m<ipython-input-36-167b194b12da>\u001b[0m in \u001b[0;36mgrouped_sampling\u001b[0;34m(prob_mat, top_p, top_k)\u001b[0m\n\u001b[1;32m     59\u001b[0m                 \u001b[0mcurr_indices\u001b[0m\u001b[0;34m.\u001b[0m\u001b[0mappend\u001b[0m\u001b[0;34m(\u001b[0m\u001b[0mtoken\u001b[0m\u001b[0;34m)\u001b[0m\u001b[0;34m\u001b[0m\u001b[0;34m\u001b[0m\u001b[0m\n\u001b[1;32m     60\u001b[0m         \u001b[0mposible_tokens\u001b[0m\u001b[0;34m.\u001b[0m\u001b[0mappend\u001b[0m\u001b[0;34m(\u001b[0m\u001b[0mcurr_indices\u001b[0m\u001b[0;34m)\u001b[0m  \u001b[0;31m# O(1)\u001b[0m\u001b[0;34m\u001b[0m\u001b[0;34m\u001b[0m\u001b[0m\n\u001b[0;32m---> 61\u001b[0;31m     \u001b[0mnew_sequences\u001b[0m\u001b[0;34m:\u001b[0m \u001b[0mList\u001b[0m\u001b[0;34m[\u001b[0m\u001b[0mList\u001b[0m\u001b[0;34m[\u001b[0m\u001b[0mint\u001b[0m\u001b[0;34m]\u001b[0m\u001b[0;34m]\u001b[0m \u001b[0;34m=\u001b[0m \u001b[0mcombinations\u001b[0m\u001b[0;34m(\u001b[0m\u001b[0mposible_tokens\u001b[0m\u001b[0;34m)\u001b[0m  \u001b[0;31m# theta(prod(len(indices[i]) for i in range(group_size)))\u001b[0m\u001b[0;34m\u001b[0m\u001b[0;34m\u001b[0m\u001b[0m\n\u001b[0m\u001b[1;32m     62\u001b[0m     \u001b[0;31m# len(indices[i]) < min(top_k, vocab_size)\u001b[0m\u001b[0;34m\u001b[0m\u001b[0;34m\u001b[0m\u001b[0;34m\u001b[0m\u001b[0m\n\u001b[1;32m     63\u001b[0m     \u001b[0;31m# therefore the complexity is O(min(top_k, vocab_size) * group_size)\u001b[0m\u001b[0;34m\u001b[0m\u001b[0;34m\u001b[0m\u001b[0;34m\u001b[0m\u001b[0m\n",
            "\u001b[0;32m<ipython-input-36-167b194b12da>\u001b[0m in \u001b[0;36mcombinations\u001b[0;34m(mat)\u001b[0m\n\u001b[1;32m      6\u001b[0m     \u001b[0mres\u001b[0m \u001b[0;34m=\u001b[0m \u001b[0;34m[\u001b[0m\u001b[0;34m]\u001b[0m\u001b[0;34m\u001b[0m\u001b[0;34m\u001b[0m\u001b[0m\n\u001b[1;32m      7\u001b[0m     \u001b[0;32mfor\u001b[0m \u001b[0mi\u001b[0m \u001b[0;32min\u001b[0m \u001b[0mmat\u001b[0m\u001b[0;34m[\u001b[0m\u001b[0;36m0\u001b[0m\u001b[0;34m]\u001b[0m\u001b[0;34m:\u001b[0m\u001b[0;34m\u001b[0m\u001b[0;34m\u001b[0m\u001b[0m\n\u001b[0;32m----> 8\u001b[0;31m         \u001b[0;32mfor\u001b[0m \u001b[0mj\u001b[0m \u001b[0;32min\u001b[0m \u001b[0mcombinations\u001b[0m\u001b[0;34m(\u001b[0m\u001b[0mmat\u001b[0m\u001b[0;34m[\u001b[0m\u001b[0;36m1\u001b[0m\u001b[0;34m:\u001b[0m\u001b[0;34m]\u001b[0m\u001b[0;34m)\u001b[0m\u001b[0;34m:\u001b[0m\u001b[0;34m\u001b[0m\u001b[0;34m\u001b[0m\u001b[0m\n\u001b[0m\u001b[1;32m      9\u001b[0m             \u001b[0mres\u001b[0m\u001b[0;34m.\u001b[0m\u001b[0mappend\u001b[0m\u001b[0;34m(\u001b[0m\u001b[0;34m[\u001b[0m\u001b[0mi\u001b[0m\u001b[0;34m]\u001b[0m \u001b[0;34m+\u001b[0m \u001b[0mj\u001b[0m\u001b[0;34m)\u001b[0m\u001b[0;34m\u001b[0m\u001b[0;34m\u001b[0m\u001b[0m\n\u001b[1;32m     10\u001b[0m     \u001b[0mfiltered_res\u001b[0m \u001b[0;34m=\u001b[0m \u001b[0mlist\u001b[0m\u001b[0;34m(\u001b[0m\u001b[0mfilter\u001b[0m\u001b[0;34m(\u001b[0m\u001b[0mdoesnt_have_duplicates\u001b[0m\u001b[0;34m,\u001b[0m \u001b[0mres\u001b[0m\u001b[0;34m)\u001b[0m\u001b[0;34m)\u001b[0m\u001b[0;34m\u001b[0m\u001b[0;34m\u001b[0m\u001b[0m\n",
            "\u001b[0;32m<ipython-input-36-167b194b12da>\u001b[0m in \u001b[0;36mcombinations\u001b[0;34m(mat)\u001b[0m\n\u001b[1;32m      6\u001b[0m     \u001b[0mres\u001b[0m \u001b[0;34m=\u001b[0m \u001b[0;34m[\u001b[0m\u001b[0;34m]\u001b[0m\u001b[0;34m\u001b[0m\u001b[0;34m\u001b[0m\u001b[0m\n\u001b[1;32m      7\u001b[0m     \u001b[0;32mfor\u001b[0m \u001b[0mi\u001b[0m \u001b[0;32min\u001b[0m \u001b[0mmat\u001b[0m\u001b[0;34m[\u001b[0m\u001b[0;36m0\u001b[0m\u001b[0;34m]\u001b[0m\u001b[0;34m:\u001b[0m\u001b[0;34m\u001b[0m\u001b[0;34m\u001b[0m\u001b[0m\n\u001b[0;32m----> 8\u001b[0;31m         \u001b[0;32mfor\u001b[0m \u001b[0mj\u001b[0m \u001b[0;32min\u001b[0m \u001b[0mcombinations\u001b[0m\u001b[0;34m(\u001b[0m\u001b[0mmat\u001b[0m\u001b[0;34m[\u001b[0m\u001b[0;36m1\u001b[0m\u001b[0;34m:\u001b[0m\u001b[0;34m]\u001b[0m\u001b[0;34m)\u001b[0m\u001b[0;34m:\u001b[0m\u001b[0;34m\u001b[0m\u001b[0;34m\u001b[0m\u001b[0m\n\u001b[0m\u001b[1;32m      9\u001b[0m             \u001b[0mres\u001b[0m\u001b[0;34m.\u001b[0m\u001b[0mappend\u001b[0m\u001b[0;34m(\u001b[0m\u001b[0;34m[\u001b[0m\u001b[0mi\u001b[0m\u001b[0;34m]\u001b[0m \u001b[0;34m+\u001b[0m \u001b[0mj\u001b[0m\u001b[0;34m)\u001b[0m\u001b[0;34m\u001b[0m\u001b[0;34m\u001b[0m\u001b[0m\n\u001b[1;32m     10\u001b[0m     \u001b[0mfiltered_res\u001b[0m \u001b[0;34m=\u001b[0m \u001b[0mlist\u001b[0m\u001b[0;34m(\u001b[0m\u001b[0mfilter\u001b[0m\u001b[0;34m(\u001b[0m\u001b[0mdoesnt_have_duplicates\u001b[0m\u001b[0;34m,\u001b[0m \u001b[0mres\u001b[0m\u001b[0;34m)\u001b[0m\u001b[0;34m)\u001b[0m\u001b[0;34m\u001b[0m\u001b[0;34m\u001b[0m\u001b[0m\n",
            "\u001b[0;32m<ipython-input-36-167b194b12da>\u001b[0m in \u001b[0;36mcombinations\u001b[0;34m(mat)\u001b[0m\n\u001b[1;32m      6\u001b[0m     \u001b[0mres\u001b[0m \u001b[0;34m=\u001b[0m \u001b[0;34m[\u001b[0m\u001b[0;34m]\u001b[0m\u001b[0;34m\u001b[0m\u001b[0;34m\u001b[0m\u001b[0m\n\u001b[1;32m      7\u001b[0m     \u001b[0;32mfor\u001b[0m \u001b[0mi\u001b[0m \u001b[0;32min\u001b[0m \u001b[0mmat\u001b[0m\u001b[0;34m[\u001b[0m\u001b[0;36m0\u001b[0m\u001b[0;34m]\u001b[0m\u001b[0;34m:\u001b[0m\u001b[0;34m\u001b[0m\u001b[0;34m\u001b[0m\u001b[0m\n\u001b[0;32m----> 8\u001b[0;31m         \u001b[0;32mfor\u001b[0m \u001b[0mj\u001b[0m \u001b[0;32min\u001b[0m \u001b[0mcombinations\u001b[0m\u001b[0;34m(\u001b[0m\u001b[0mmat\u001b[0m\u001b[0;34m[\u001b[0m\u001b[0;36m1\u001b[0m\u001b[0;34m:\u001b[0m\u001b[0;34m]\u001b[0m\u001b[0;34m)\u001b[0m\u001b[0;34m:\u001b[0m\u001b[0;34m\u001b[0m\u001b[0;34m\u001b[0m\u001b[0m\n\u001b[0m\u001b[1;32m      9\u001b[0m             \u001b[0mres\u001b[0m\u001b[0;34m.\u001b[0m\u001b[0mappend\u001b[0m\u001b[0;34m(\u001b[0m\u001b[0;34m[\u001b[0m\u001b[0mi\u001b[0m\u001b[0;34m]\u001b[0m \u001b[0;34m+\u001b[0m \u001b[0mj\u001b[0m\u001b[0;34m)\u001b[0m\u001b[0;34m\u001b[0m\u001b[0;34m\u001b[0m\u001b[0m\n\u001b[1;32m     10\u001b[0m     \u001b[0mfiltered_res\u001b[0m \u001b[0;34m=\u001b[0m \u001b[0mlist\u001b[0m\u001b[0;34m(\u001b[0m\u001b[0mfilter\u001b[0m\u001b[0;34m(\u001b[0m\u001b[0mdoesnt_have_duplicates\u001b[0m\u001b[0;34m,\u001b[0m \u001b[0mres\u001b[0m\u001b[0;34m)\u001b[0m\u001b[0;34m)\u001b[0m\u001b[0;34m\u001b[0m\u001b[0;34m\u001b[0m\u001b[0m\n",
            "\u001b[0;31mKeyboardInterrupt\u001b[0m: "
          ]
        }
      ],
      "source": [
        "if sampling_type == \"brute_force\":\n",
        "    start_grouped_generation = timeit.default_timer()\n",
        "    grouped_completions = generate_beam(prompt, top_p, top_k, num_groups, group_size, temperature)\n",
        "    stop_grouped_generation = timeit.default_timer()\n",
        "\n",
        "    start_old_generation = timeit.default_timer()\n",
        "    old_completions = generate_beam(prompt, top_p, top_k, num_tokens_genrated, 1, temperature)\n",
        "    stop_old_generation = timeit.default_timer()\n",
        "\n",
        "    if len(grouped_completions.keys()) > 0 and len(old_completions.keys()) > 0:\n",
        "        grouped_best_token_list = max(grouped_completions, key=grouped_completions.get)\n",
        "        old_best_token_list = max(old_completions, key=old_completions.get)\n",
        "    else:\n",
        "        raise ValueError(\"\"\"\n",
        "            The model could not generate a complition with the constrains of the sampling method, U should try:\n",
        "            1) Increase top p and/or top k\n",
        "            2) Use diffrent (larger) model\n",
        "            3) Decrease the number of groups\n",
        "            4) Decrease the group size\n",
        "            \"\"\")\n",
        "else:\n",
        "    start_grouped_generation = timeit.default_timer()\n",
        "    if 0 < top_p < 1:\n",
        "        grouped_best_token_list = generate_distribution(model_name, prompt, top_p, None, num_groups, group_size, temperature)\n",
        "    else:\n",
        "        grouped_best_token_list = generate_distribution(model_name, prompt, None, top_k, num_groups, group_size, temperature)\n",
        "    stop_grouped_generation = timeit.default_timer()\n",
        "\n",
        "    start_old_generation = timeit.default_timer()\n",
        "    if 0 < top_p < 1:\n",
        "        old_best_token_list = generate_distribution(model_name, prompt, top_p, None, num_tokens_genrated, 1)\n",
        "    else:\n",
        "        old_best_token_list = generate_distribution(model_name, prompt, None, top_k, num_tokens_genrated, 1)\n",
        "    stop_old_generation = timeit.default_timer()\n",
        "\n",
        "    \n",
        "grouped_best_str = tokenizer.decode(grouped_best_token_list)\n",
        "old_best_str = tokenizer.decode(old_best_token_list)\n",
        "\n",
        "print(\"The best text generated by grouped sampling is:\")\n",
        "print(grouped_best_str)\n",
        "print(\"The best text generated by previous methods sampling is:\")\n",
        "print(old_best_str)"
      ]
    },
    {
      "cell_type": "code",
      "execution_count": null,
      "metadata": {
        "id": "5y1Tu90rpFu0"
      },
      "outputs": [],
      "source": [
        "if sampling_type == \"brute_force\":\n",
        "    sorted_complitions = sorted(completions, key = completions.get)\n",
        "    print(\"Here are all the complitions created by predicted probability\")\n",
        "    for tokens in sorted_complitions:\n",
        "        print(tokenizer.decode(tokens))"
      ]
    },
    {
      "cell_type": "markdown",
      "metadata": {
        "id": "t8y5JMNk7wW9"
      },
      "source": [
        "# Change the hyper parameters to see what will happend!"
      ]
    },
    {
      "cell_type": "code",
      "source": [
        "import numpy as np\n",
        "def create_look_ahead_mask(seq_len: int):\n",
        "    answer = np.zeros(shape=[seq_len, seq_len])\n",
        "    for i in range(seq_len):\n",
        "        for j in range(seq_len):\n",
        "            if j > i:\n",
        "                answer[i, j] = 1\n",
        "    return answer\n",
        "create_look_ahead_mask(4)"
      ],
      "metadata": {
        "id": "MUbYwwoRExWb",
        "outputId": "5161eae9-a046-4f63-af46-0770b2ac5897",
        "colab": {
          "base_uri": "https://localhost:8080/"
        }
      },
      "execution_count": 9,
      "outputs": [
        {
          "output_type": "execute_result",
          "data": {
            "text/plain": [
              "array([[0., 1., 1., 1.],\n",
              "       [0., 0., 1., 1.],\n",
              "       [0., 0., 0., 1.],\n",
              "       [0., 0., 0., 0.]])"
            ]
          },
          "metadata": {},
          "execution_count": 9
        }
      ]
    }
  ],
  "metadata": {
    "colab": {
      "name": "final_project_demo.ipynb",
      "provenance": [],
      "include_colab_link": true
    },
    "gpuClass": "standard",
    "kernelspec": {
      "display_name": "Python 3.9.12",
      "language": "python",
      "name": "python3"
    },
    "language_info": {
      "name": "python",
      "version": "3.9.12"
    },
    "vscode": {
      "interpreter": {
        "hash": "4c667eb41e29edd16195f2712b5916a29b36d4e6f17fe7c0a7edbb7a73b8ba8a"
      }
    },
    "widgets": {
      "application/vnd.jupyter.widget-state+json": {
        "0f9de9ac71f042d58ca88cdf4f16b949": {
          "model_module": "@jupyter-widgets/controls",
          "model_name": "HBoxModel",
          "model_module_version": "1.5.0",
          "state": {
            "_dom_classes": [],
            "_model_module": "@jupyter-widgets/controls",
            "_model_module_version": "1.5.0",
            "_model_name": "HBoxModel",
            "_view_count": null,
            "_view_module": "@jupyter-widgets/controls",
            "_view_module_version": "1.5.0",
            "_view_name": "HBoxView",
            "box_style": "",
            "children": [
              "IPY_MODEL_909f736a9b9d4b9eb79f3abe5f701550",
              "IPY_MODEL_48e05a8b4727467aa32a7eedfcaf0730",
              "IPY_MODEL_7daa00dd7b2b4033b4555a0a919cfd6d"
            ],
            "layout": "IPY_MODEL_d4d5a650785b43e09af3f75528ec0439"
          }
        },
        "909f736a9b9d4b9eb79f3abe5f701550": {
          "model_module": "@jupyter-widgets/controls",
          "model_name": "HTMLModel",
          "model_module_version": "1.5.0",
          "state": {
            "_dom_classes": [],
            "_model_module": "@jupyter-widgets/controls",
            "_model_module_version": "1.5.0",
            "_model_name": "HTMLModel",
            "_view_count": null,
            "_view_module": "@jupyter-widgets/controls",
            "_view_module_version": "1.5.0",
            "_view_name": "HTMLView",
            "description": "",
            "description_tooltip": null,
            "layout": "IPY_MODEL_0245be0357c5489795481c3a1b5f34ca",
            "placeholder": "​",
            "style": "IPY_MODEL_09fb7dd8e8494f7d8b9dc0ef205755ce",
            "value": "Downloading tokenizer_config.json: 100%"
          }
        },
        "48e05a8b4727467aa32a7eedfcaf0730": {
          "model_module": "@jupyter-widgets/controls",
          "model_name": "FloatProgressModel",
          "model_module_version": "1.5.0",
          "state": {
            "_dom_classes": [],
            "_model_module": "@jupyter-widgets/controls",
            "_model_module_version": "1.5.0",
            "_model_name": "FloatProgressModel",
            "_view_count": null,
            "_view_module": "@jupyter-widgets/controls",
            "_view_module_version": "1.5.0",
            "_view_name": "ProgressView",
            "bar_style": "success",
            "description": "",
            "description_tooltip": null,
            "layout": "IPY_MODEL_c4e38d0c57564a8fa58397131788f9c0",
            "max": 222,
            "min": 0,
            "orientation": "horizontal",
            "style": "IPY_MODEL_5873a6cb7b6f41bcbe0a0abcd44f003f",
            "value": 222
          }
        },
        "7daa00dd7b2b4033b4555a0a919cfd6d": {
          "model_module": "@jupyter-widgets/controls",
          "model_name": "HTMLModel",
          "model_module_version": "1.5.0",
          "state": {
            "_dom_classes": [],
            "_model_module": "@jupyter-widgets/controls",
            "_model_module_version": "1.5.0",
            "_model_name": "HTMLModel",
            "_view_count": null,
            "_view_module": "@jupyter-widgets/controls",
            "_view_module_version": "1.5.0",
            "_view_name": "HTMLView",
            "description": "",
            "description_tooltip": null,
            "layout": "IPY_MODEL_b8db833ed36f40de9aed5c103d587178",
            "placeholder": "​",
            "style": "IPY_MODEL_3ca28e3530cf498092923405cabfbca9",
            "value": " 222/222 [00:00&lt;00:00, 6.63kB/s]"
          }
        },
        "d4d5a650785b43e09af3f75528ec0439": {
          "model_module": "@jupyter-widgets/base",
          "model_name": "LayoutModel",
          "model_module_version": "1.2.0",
          "state": {
            "_model_module": "@jupyter-widgets/base",
            "_model_module_version": "1.2.0",
            "_model_name": "LayoutModel",
            "_view_count": null,
            "_view_module": "@jupyter-widgets/base",
            "_view_module_version": "1.2.0",
            "_view_name": "LayoutView",
            "align_content": null,
            "align_items": null,
            "align_self": null,
            "border": null,
            "bottom": null,
            "display": null,
            "flex": null,
            "flex_flow": null,
            "grid_area": null,
            "grid_auto_columns": null,
            "grid_auto_flow": null,
            "grid_auto_rows": null,
            "grid_column": null,
            "grid_gap": null,
            "grid_row": null,
            "grid_template_areas": null,
            "grid_template_columns": null,
            "grid_template_rows": null,
            "height": null,
            "justify_content": null,
            "justify_items": null,
            "left": null,
            "margin": null,
            "max_height": null,
            "max_width": null,
            "min_height": null,
            "min_width": null,
            "object_fit": null,
            "object_position": null,
            "order": null,
            "overflow": null,
            "overflow_x": null,
            "overflow_y": null,
            "padding": null,
            "right": null,
            "top": null,
            "visibility": null,
            "width": null
          }
        },
        "0245be0357c5489795481c3a1b5f34ca": {
          "model_module": "@jupyter-widgets/base",
          "model_name": "LayoutModel",
          "model_module_version": "1.2.0",
          "state": {
            "_model_module": "@jupyter-widgets/base",
            "_model_module_version": "1.2.0",
            "_model_name": "LayoutModel",
            "_view_count": null,
            "_view_module": "@jupyter-widgets/base",
            "_view_module_version": "1.2.0",
            "_view_name": "LayoutView",
            "align_content": null,
            "align_items": null,
            "align_self": null,
            "border": null,
            "bottom": null,
            "display": null,
            "flex": null,
            "flex_flow": null,
            "grid_area": null,
            "grid_auto_columns": null,
            "grid_auto_flow": null,
            "grid_auto_rows": null,
            "grid_column": null,
            "grid_gap": null,
            "grid_row": null,
            "grid_template_areas": null,
            "grid_template_columns": null,
            "grid_template_rows": null,
            "height": null,
            "justify_content": null,
            "justify_items": null,
            "left": null,
            "margin": null,
            "max_height": null,
            "max_width": null,
            "min_height": null,
            "min_width": null,
            "object_fit": null,
            "object_position": null,
            "order": null,
            "overflow": null,
            "overflow_x": null,
            "overflow_y": null,
            "padding": null,
            "right": null,
            "top": null,
            "visibility": null,
            "width": null
          }
        },
        "09fb7dd8e8494f7d8b9dc0ef205755ce": {
          "model_module": "@jupyter-widgets/controls",
          "model_name": "DescriptionStyleModel",
          "model_module_version": "1.5.0",
          "state": {
            "_model_module": "@jupyter-widgets/controls",
            "_model_module_version": "1.5.0",
            "_model_name": "DescriptionStyleModel",
            "_view_count": null,
            "_view_module": "@jupyter-widgets/base",
            "_view_module_version": "1.2.0",
            "_view_name": "StyleView",
            "description_width": ""
          }
        },
        "c4e38d0c57564a8fa58397131788f9c0": {
          "model_module": "@jupyter-widgets/base",
          "model_name": "LayoutModel",
          "model_module_version": "1.2.0",
          "state": {
            "_model_module": "@jupyter-widgets/base",
            "_model_module_version": "1.2.0",
            "_model_name": "LayoutModel",
            "_view_count": null,
            "_view_module": "@jupyter-widgets/base",
            "_view_module_version": "1.2.0",
            "_view_name": "LayoutView",
            "align_content": null,
            "align_items": null,
            "align_self": null,
            "border": null,
            "bottom": null,
            "display": null,
            "flex": null,
            "flex_flow": null,
            "grid_area": null,
            "grid_auto_columns": null,
            "grid_auto_flow": null,
            "grid_auto_rows": null,
            "grid_column": null,
            "grid_gap": null,
            "grid_row": null,
            "grid_template_areas": null,
            "grid_template_columns": null,
            "grid_template_rows": null,
            "height": null,
            "justify_content": null,
            "justify_items": null,
            "left": null,
            "margin": null,
            "max_height": null,
            "max_width": null,
            "min_height": null,
            "min_width": null,
            "object_fit": null,
            "object_position": null,
            "order": null,
            "overflow": null,
            "overflow_x": null,
            "overflow_y": null,
            "padding": null,
            "right": null,
            "top": null,
            "visibility": null,
            "width": null
          }
        },
        "5873a6cb7b6f41bcbe0a0abcd44f003f": {
          "model_module": "@jupyter-widgets/controls",
          "model_name": "ProgressStyleModel",
          "model_module_version": "1.5.0",
          "state": {
            "_model_module": "@jupyter-widgets/controls",
            "_model_module_version": "1.5.0",
            "_model_name": "ProgressStyleModel",
            "_view_count": null,
            "_view_module": "@jupyter-widgets/base",
            "_view_module_version": "1.2.0",
            "_view_name": "StyleView",
            "bar_color": null,
            "description_width": ""
          }
        },
        "b8db833ed36f40de9aed5c103d587178": {
          "model_module": "@jupyter-widgets/base",
          "model_name": "LayoutModel",
          "model_module_version": "1.2.0",
          "state": {
            "_model_module": "@jupyter-widgets/base",
            "_model_module_version": "1.2.0",
            "_model_name": "LayoutModel",
            "_view_count": null,
            "_view_module": "@jupyter-widgets/base",
            "_view_module_version": "1.2.0",
            "_view_name": "LayoutView",
            "align_content": null,
            "align_items": null,
            "align_self": null,
            "border": null,
            "bottom": null,
            "display": null,
            "flex": null,
            "flex_flow": null,
            "grid_area": null,
            "grid_auto_columns": null,
            "grid_auto_flow": null,
            "grid_auto_rows": null,
            "grid_column": null,
            "grid_gap": null,
            "grid_row": null,
            "grid_template_areas": null,
            "grid_template_columns": null,
            "grid_template_rows": null,
            "height": null,
            "justify_content": null,
            "justify_items": null,
            "left": null,
            "margin": null,
            "max_height": null,
            "max_width": null,
            "min_height": null,
            "min_width": null,
            "object_fit": null,
            "object_position": null,
            "order": null,
            "overflow": null,
            "overflow_x": null,
            "overflow_y": null,
            "padding": null,
            "right": null,
            "top": null,
            "visibility": null,
            "width": null
          }
        },
        "3ca28e3530cf498092923405cabfbca9": {
          "model_module": "@jupyter-widgets/controls",
          "model_name": "DescriptionStyleModel",
          "model_module_version": "1.5.0",
          "state": {
            "_model_module": "@jupyter-widgets/controls",
            "_model_module_version": "1.5.0",
            "_model_name": "DescriptionStyleModel",
            "_view_count": null,
            "_view_module": "@jupyter-widgets/base",
            "_view_module_version": "1.2.0",
            "_view_name": "StyleView",
            "description_width": ""
          }
        },
        "7277c4f6e6f14e6aaf18c119963558e5": {
          "model_module": "@jupyter-widgets/controls",
          "model_name": "HBoxModel",
          "model_module_version": "1.5.0",
          "state": {
            "_dom_classes": [],
            "_model_module": "@jupyter-widgets/controls",
            "_model_module_version": "1.5.0",
            "_model_name": "HBoxModel",
            "_view_count": null,
            "_view_module": "@jupyter-widgets/controls",
            "_view_module_version": "1.5.0",
            "_view_name": "HBoxView",
            "box_style": "",
            "children": [
              "IPY_MODEL_427895dce80e4f79b50f309ab57d6b08",
              "IPY_MODEL_9251a53d4fde4ce5a7f8cb86a8fa78c3",
              "IPY_MODEL_5b9ffe8a90d341d18a63c2fae71f0183"
            ],
            "layout": "IPY_MODEL_b66c1b74a28b41b59bd698f04abfbf8b"
          }
        },
        "427895dce80e4f79b50f309ab57d6b08": {
          "model_module": "@jupyter-widgets/controls",
          "model_name": "HTMLModel",
          "model_module_version": "1.5.0",
          "state": {
            "_dom_classes": [],
            "_model_module": "@jupyter-widgets/controls",
            "_model_module_version": "1.5.0",
            "_model_name": "HTMLModel",
            "_view_count": null,
            "_view_module": "@jupyter-widgets/controls",
            "_view_module_version": "1.5.0",
            "_view_name": "HTMLView",
            "description": "",
            "description_tooltip": null,
            "layout": "IPY_MODEL_1b5c04cfaa5e4a76b82cc1996da119a6",
            "placeholder": "​",
            "style": "IPY_MODEL_be7bbdfb87dc4432adbf75dfb1c2bd17",
            "value": "Downloading tokenizer.json: 100%"
          }
        },
        "9251a53d4fde4ce5a7f8cb86a8fa78c3": {
          "model_module": "@jupyter-widgets/controls",
          "model_name": "FloatProgressModel",
          "model_module_version": "1.5.0",
          "state": {
            "_dom_classes": [],
            "_model_module": "@jupyter-widgets/controls",
            "_model_module_version": "1.5.0",
            "_model_name": "FloatProgressModel",
            "_view_count": null,
            "_view_module": "@jupyter-widgets/controls",
            "_view_module_version": "1.5.0",
            "_view_name": "ProgressView",
            "bar_style": "success",
            "description": "",
            "description_tooltip": null,
            "layout": "IPY_MODEL_bb0ef003edaf4f76a2ee10c6c188f08c",
            "max": 14500438,
            "min": 0,
            "orientation": "horizontal",
            "style": "IPY_MODEL_b3a5a371245e49db8d7c64c5cd7a214d",
            "value": 14500438
          }
        },
        "5b9ffe8a90d341d18a63c2fae71f0183": {
          "model_module": "@jupyter-widgets/controls",
          "model_name": "HTMLModel",
          "model_module_version": "1.5.0",
          "state": {
            "_dom_classes": [],
            "_model_module": "@jupyter-widgets/controls",
            "_model_module_version": "1.5.0",
            "_model_name": "HTMLModel",
            "_view_count": null,
            "_view_module": "@jupyter-widgets/controls",
            "_view_module_version": "1.5.0",
            "_view_name": "HTMLView",
            "description": "",
            "description_tooltip": null,
            "layout": "IPY_MODEL_9cdfc444520c41748445b19406f1d726",
            "placeholder": "​",
            "style": "IPY_MODEL_0dca265606d04abb820c35834c88962e",
            "value": " 13.8M/13.8M [00:00&lt;00:00, 38.0MB/s]"
          }
        },
        "b66c1b74a28b41b59bd698f04abfbf8b": {
          "model_module": "@jupyter-widgets/base",
          "model_name": "LayoutModel",
          "model_module_version": "1.2.0",
          "state": {
            "_model_module": "@jupyter-widgets/base",
            "_model_module_version": "1.2.0",
            "_model_name": "LayoutModel",
            "_view_count": null,
            "_view_module": "@jupyter-widgets/base",
            "_view_module_version": "1.2.0",
            "_view_name": "LayoutView",
            "align_content": null,
            "align_items": null,
            "align_self": null,
            "border": null,
            "bottom": null,
            "display": null,
            "flex": null,
            "flex_flow": null,
            "grid_area": null,
            "grid_auto_columns": null,
            "grid_auto_flow": null,
            "grid_auto_rows": null,
            "grid_column": null,
            "grid_gap": null,
            "grid_row": null,
            "grid_template_areas": null,
            "grid_template_columns": null,
            "grid_template_rows": null,
            "height": null,
            "justify_content": null,
            "justify_items": null,
            "left": null,
            "margin": null,
            "max_height": null,
            "max_width": null,
            "min_height": null,
            "min_width": null,
            "object_fit": null,
            "object_position": null,
            "order": null,
            "overflow": null,
            "overflow_x": null,
            "overflow_y": null,
            "padding": null,
            "right": null,
            "top": null,
            "visibility": null,
            "width": null
          }
        },
        "1b5c04cfaa5e4a76b82cc1996da119a6": {
          "model_module": "@jupyter-widgets/base",
          "model_name": "LayoutModel",
          "model_module_version": "1.2.0",
          "state": {
            "_model_module": "@jupyter-widgets/base",
            "_model_module_version": "1.2.0",
            "_model_name": "LayoutModel",
            "_view_count": null,
            "_view_module": "@jupyter-widgets/base",
            "_view_module_version": "1.2.0",
            "_view_name": "LayoutView",
            "align_content": null,
            "align_items": null,
            "align_self": null,
            "border": null,
            "bottom": null,
            "display": null,
            "flex": null,
            "flex_flow": null,
            "grid_area": null,
            "grid_auto_columns": null,
            "grid_auto_flow": null,
            "grid_auto_rows": null,
            "grid_column": null,
            "grid_gap": null,
            "grid_row": null,
            "grid_template_areas": null,
            "grid_template_columns": null,
            "grid_template_rows": null,
            "height": null,
            "justify_content": null,
            "justify_items": null,
            "left": null,
            "margin": null,
            "max_height": null,
            "max_width": null,
            "min_height": null,
            "min_width": null,
            "object_fit": null,
            "object_position": null,
            "order": null,
            "overflow": null,
            "overflow_x": null,
            "overflow_y": null,
            "padding": null,
            "right": null,
            "top": null,
            "visibility": null,
            "width": null
          }
        },
        "be7bbdfb87dc4432adbf75dfb1c2bd17": {
          "model_module": "@jupyter-widgets/controls",
          "model_name": "DescriptionStyleModel",
          "model_module_version": "1.5.0",
          "state": {
            "_model_module": "@jupyter-widgets/controls",
            "_model_module_version": "1.5.0",
            "_model_name": "DescriptionStyleModel",
            "_view_count": null,
            "_view_module": "@jupyter-widgets/base",
            "_view_module_version": "1.2.0",
            "_view_name": "StyleView",
            "description_width": ""
          }
        },
        "bb0ef003edaf4f76a2ee10c6c188f08c": {
          "model_module": "@jupyter-widgets/base",
          "model_name": "LayoutModel",
          "model_module_version": "1.2.0",
          "state": {
            "_model_module": "@jupyter-widgets/base",
            "_model_module_version": "1.2.0",
            "_model_name": "LayoutModel",
            "_view_count": null,
            "_view_module": "@jupyter-widgets/base",
            "_view_module_version": "1.2.0",
            "_view_name": "LayoutView",
            "align_content": null,
            "align_items": null,
            "align_self": null,
            "border": null,
            "bottom": null,
            "display": null,
            "flex": null,
            "flex_flow": null,
            "grid_area": null,
            "grid_auto_columns": null,
            "grid_auto_flow": null,
            "grid_auto_rows": null,
            "grid_column": null,
            "grid_gap": null,
            "grid_row": null,
            "grid_template_areas": null,
            "grid_template_columns": null,
            "grid_template_rows": null,
            "height": null,
            "justify_content": null,
            "justify_items": null,
            "left": null,
            "margin": null,
            "max_height": null,
            "max_width": null,
            "min_height": null,
            "min_width": null,
            "object_fit": null,
            "object_position": null,
            "order": null,
            "overflow": null,
            "overflow_x": null,
            "overflow_y": null,
            "padding": null,
            "right": null,
            "top": null,
            "visibility": null,
            "width": null
          }
        },
        "b3a5a371245e49db8d7c64c5cd7a214d": {
          "model_module": "@jupyter-widgets/controls",
          "model_name": "ProgressStyleModel",
          "model_module_version": "1.5.0",
          "state": {
            "_model_module": "@jupyter-widgets/controls",
            "_model_module_version": "1.5.0",
            "_model_name": "ProgressStyleModel",
            "_view_count": null,
            "_view_module": "@jupyter-widgets/base",
            "_view_module_version": "1.2.0",
            "_view_name": "StyleView",
            "bar_color": null,
            "description_width": ""
          }
        },
        "9cdfc444520c41748445b19406f1d726": {
          "model_module": "@jupyter-widgets/base",
          "model_name": "LayoutModel",
          "model_module_version": "1.2.0",
          "state": {
            "_model_module": "@jupyter-widgets/base",
            "_model_module_version": "1.2.0",
            "_model_name": "LayoutModel",
            "_view_count": null,
            "_view_module": "@jupyter-widgets/base",
            "_view_module_version": "1.2.0",
            "_view_name": "LayoutView",
            "align_content": null,
            "align_items": null,
            "align_self": null,
            "border": null,
            "bottom": null,
            "display": null,
            "flex": null,
            "flex_flow": null,
            "grid_area": null,
            "grid_auto_columns": null,
            "grid_auto_flow": null,
            "grid_auto_rows": null,
            "grid_column": null,
            "grid_gap": null,
            "grid_row": null,
            "grid_template_areas": null,
            "grid_template_columns": null,
            "grid_template_rows": null,
            "height": null,
            "justify_content": null,
            "justify_items": null,
            "left": null,
            "margin": null,
            "max_height": null,
            "max_width": null,
            "min_height": null,
            "min_width": null,
            "object_fit": null,
            "object_position": null,
            "order": null,
            "overflow": null,
            "overflow_x": null,
            "overflow_y": null,
            "padding": null,
            "right": null,
            "top": null,
            "visibility": null,
            "width": null
          }
        },
        "0dca265606d04abb820c35834c88962e": {
          "model_module": "@jupyter-widgets/controls",
          "model_name": "DescriptionStyleModel",
          "model_module_version": "1.5.0",
          "state": {
            "_model_module": "@jupyter-widgets/controls",
            "_model_module_version": "1.5.0",
            "_model_name": "DescriptionStyleModel",
            "_view_count": null,
            "_view_module": "@jupyter-widgets/base",
            "_view_module_version": "1.2.0",
            "_view_name": "StyleView",
            "description_width": ""
          }
        },
        "f147745fb2ae4628b76a55ec38eae430": {
          "model_module": "@jupyter-widgets/controls",
          "model_name": "HBoxModel",
          "model_module_version": "1.5.0",
          "state": {
            "_dom_classes": [],
            "_model_module": "@jupyter-widgets/controls",
            "_model_module_version": "1.5.0",
            "_model_name": "HBoxModel",
            "_view_count": null,
            "_view_module": "@jupyter-widgets/controls",
            "_view_module_version": "1.5.0",
            "_view_name": "HBoxView",
            "box_style": "",
            "children": [
              "IPY_MODEL_bddd4a711fa347d5a03be82c9da489fb",
              "IPY_MODEL_10ed3d639f2e44faa3cb4f1e6dd12bb0",
              "IPY_MODEL_f1d7294d1d8e4fa0908cdaec2218e86c"
            ],
            "layout": "IPY_MODEL_2bf8ee2adbe640c5b69889f9e6e1ec18"
          }
        },
        "bddd4a711fa347d5a03be82c9da489fb": {
          "model_module": "@jupyter-widgets/controls",
          "model_name": "HTMLModel",
          "model_module_version": "1.5.0",
          "state": {
            "_dom_classes": [],
            "_model_module": "@jupyter-widgets/controls",
            "_model_module_version": "1.5.0",
            "_model_name": "HTMLModel",
            "_view_count": null,
            "_view_module": "@jupyter-widgets/controls",
            "_view_module_version": "1.5.0",
            "_view_name": "HTMLView",
            "description": "",
            "description_tooltip": null,
            "layout": "IPY_MODEL_f4aa3d6982604b38a22ea197ad435bb1",
            "placeholder": "​",
            "style": "IPY_MODEL_a3e8998a2649463196bd3d1f6ade3dcd",
            "value": "Downloading special_tokens_map.json: 100%"
          }
        },
        "10ed3d639f2e44faa3cb4f1e6dd12bb0": {
          "model_module": "@jupyter-widgets/controls",
          "model_name": "FloatProgressModel",
          "model_module_version": "1.5.0",
          "state": {
            "_dom_classes": [],
            "_model_module": "@jupyter-widgets/controls",
            "_model_module_version": "1.5.0",
            "_model_name": "FloatProgressModel",
            "_view_count": null,
            "_view_module": "@jupyter-widgets/controls",
            "_view_module_version": "1.5.0",
            "_view_name": "ProgressView",
            "bar_style": "success",
            "description": "",
            "description_tooltip": null,
            "layout": "IPY_MODEL_624f42c6f9c241388de9c496b910964f",
            "max": 85,
            "min": 0,
            "orientation": "horizontal",
            "style": "IPY_MODEL_406b0533b09a4caa925b6b273b8e6298",
            "value": 85
          }
        },
        "f1d7294d1d8e4fa0908cdaec2218e86c": {
          "model_module": "@jupyter-widgets/controls",
          "model_name": "HTMLModel",
          "model_module_version": "1.5.0",
          "state": {
            "_dom_classes": [],
            "_model_module": "@jupyter-widgets/controls",
            "_model_module_version": "1.5.0",
            "_model_name": "HTMLModel",
            "_view_count": null,
            "_view_module": "@jupyter-widgets/controls",
            "_view_module_version": "1.5.0",
            "_view_name": "HTMLView",
            "description": "",
            "description_tooltip": null,
            "layout": "IPY_MODEL_7ed442197d314413aaffdf9271a4175e",
            "placeholder": "​",
            "style": "IPY_MODEL_df63a3f881aa4d5d8128be5e422189fd",
            "value": " 85.0/85.0 [00:00&lt;00:00, 2.13kB/s]"
          }
        },
        "2bf8ee2adbe640c5b69889f9e6e1ec18": {
          "model_module": "@jupyter-widgets/base",
          "model_name": "LayoutModel",
          "model_module_version": "1.2.0",
          "state": {
            "_model_module": "@jupyter-widgets/base",
            "_model_module_version": "1.2.0",
            "_model_name": "LayoutModel",
            "_view_count": null,
            "_view_module": "@jupyter-widgets/base",
            "_view_module_version": "1.2.0",
            "_view_name": "LayoutView",
            "align_content": null,
            "align_items": null,
            "align_self": null,
            "border": null,
            "bottom": null,
            "display": null,
            "flex": null,
            "flex_flow": null,
            "grid_area": null,
            "grid_auto_columns": null,
            "grid_auto_flow": null,
            "grid_auto_rows": null,
            "grid_column": null,
            "grid_gap": null,
            "grid_row": null,
            "grid_template_areas": null,
            "grid_template_columns": null,
            "grid_template_rows": null,
            "height": null,
            "justify_content": null,
            "justify_items": null,
            "left": null,
            "margin": null,
            "max_height": null,
            "max_width": null,
            "min_height": null,
            "min_width": null,
            "object_fit": null,
            "object_position": null,
            "order": null,
            "overflow": null,
            "overflow_x": null,
            "overflow_y": null,
            "padding": null,
            "right": null,
            "top": null,
            "visibility": null,
            "width": null
          }
        },
        "f4aa3d6982604b38a22ea197ad435bb1": {
          "model_module": "@jupyter-widgets/base",
          "model_name": "LayoutModel",
          "model_module_version": "1.2.0",
          "state": {
            "_model_module": "@jupyter-widgets/base",
            "_model_module_version": "1.2.0",
            "_model_name": "LayoutModel",
            "_view_count": null,
            "_view_module": "@jupyter-widgets/base",
            "_view_module_version": "1.2.0",
            "_view_name": "LayoutView",
            "align_content": null,
            "align_items": null,
            "align_self": null,
            "border": null,
            "bottom": null,
            "display": null,
            "flex": null,
            "flex_flow": null,
            "grid_area": null,
            "grid_auto_columns": null,
            "grid_auto_flow": null,
            "grid_auto_rows": null,
            "grid_column": null,
            "grid_gap": null,
            "grid_row": null,
            "grid_template_areas": null,
            "grid_template_columns": null,
            "grid_template_rows": null,
            "height": null,
            "justify_content": null,
            "justify_items": null,
            "left": null,
            "margin": null,
            "max_height": null,
            "max_width": null,
            "min_height": null,
            "min_width": null,
            "object_fit": null,
            "object_position": null,
            "order": null,
            "overflow": null,
            "overflow_x": null,
            "overflow_y": null,
            "padding": null,
            "right": null,
            "top": null,
            "visibility": null,
            "width": null
          }
        },
        "a3e8998a2649463196bd3d1f6ade3dcd": {
          "model_module": "@jupyter-widgets/controls",
          "model_name": "DescriptionStyleModel",
          "model_module_version": "1.5.0",
          "state": {
            "_model_module": "@jupyter-widgets/controls",
            "_model_module_version": "1.5.0",
            "_model_name": "DescriptionStyleModel",
            "_view_count": null,
            "_view_module": "@jupyter-widgets/base",
            "_view_module_version": "1.2.0",
            "_view_name": "StyleView",
            "description_width": ""
          }
        },
        "624f42c6f9c241388de9c496b910964f": {
          "model_module": "@jupyter-widgets/base",
          "model_name": "LayoutModel",
          "model_module_version": "1.2.0",
          "state": {
            "_model_module": "@jupyter-widgets/base",
            "_model_module_version": "1.2.0",
            "_model_name": "LayoutModel",
            "_view_count": null,
            "_view_module": "@jupyter-widgets/base",
            "_view_module_version": "1.2.0",
            "_view_name": "LayoutView",
            "align_content": null,
            "align_items": null,
            "align_self": null,
            "border": null,
            "bottom": null,
            "display": null,
            "flex": null,
            "flex_flow": null,
            "grid_area": null,
            "grid_auto_columns": null,
            "grid_auto_flow": null,
            "grid_auto_rows": null,
            "grid_column": null,
            "grid_gap": null,
            "grid_row": null,
            "grid_template_areas": null,
            "grid_template_columns": null,
            "grid_template_rows": null,
            "height": null,
            "justify_content": null,
            "justify_items": null,
            "left": null,
            "margin": null,
            "max_height": null,
            "max_width": null,
            "min_height": null,
            "min_width": null,
            "object_fit": null,
            "object_position": null,
            "order": null,
            "overflow": null,
            "overflow_x": null,
            "overflow_y": null,
            "padding": null,
            "right": null,
            "top": null,
            "visibility": null,
            "width": null
          }
        },
        "406b0533b09a4caa925b6b273b8e6298": {
          "model_module": "@jupyter-widgets/controls",
          "model_name": "ProgressStyleModel",
          "model_module_version": "1.5.0",
          "state": {
            "_model_module": "@jupyter-widgets/controls",
            "_model_module_version": "1.5.0",
            "_model_name": "ProgressStyleModel",
            "_view_count": null,
            "_view_module": "@jupyter-widgets/base",
            "_view_module_version": "1.2.0",
            "_view_name": "StyleView",
            "bar_color": null,
            "description_width": ""
          }
        },
        "7ed442197d314413aaffdf9271a4175e": {
          "model_module": "@jupyter-widgets/base",
          "model_name": "LayoutModel",
          "model_module_version": "1.2.0",
          "state": {
            "_model_module": "@jupyter-widgets/base",
            "_model_module_version": "1.2.0",
            "_model_name": "LayoutModel",
            "_view_count": null,
            "_view_module": "@jupyter-widgets/base",
            "_view_module_version": "1.2.0",
            "_view_name": "LayoutView",
            "align_content": null,
            "align_items": null,
            "align_self": null,
            "border": null,
            "bottom": null,
            "display": null,
            "flex": null,
            "flex_flow": null,
            "grid_area": null,
            "grid_auto_columns": null,
            "grid_auto_flow": null,
            "grid_auto_rows": null,
            "grid_column": null,
            "grid_gap": null,
            "grid_row": null,
            "grid_template_areas": null,
            "grid_template_columns": null,
            "grid_template_rows": null,
            "height": null,
            "justify_content": null,
            "justify_items": null,
            "left": null,
            "margin": null,
            "max_height": null,
            "max_width": null,
            "min_height": null,
            "min_width": null,
            "object_fit": null,
            "object_position": null,
            "order": null,
            "overflow": null,
            "overflow_x": null,
            "overflow_y": null,
            "padding": null,
            "right": null,
            "top": null,
            "visibility": null,
            "width": null
          }
        },
        "df63a3f881aa4d5d8128be5e422189fd": {
          "model_module": "@jupyter-widgets/controls",
          "model_name": "DescriptionStyleModel",
          "model_module_version": "1.5.0",
          "state": {
            "_model_module": "@jupyter-widgets/controls",
            "_model_module_version": "1.5.0",
            "_model_name": "DescriptionStyleModel",
            "_view_count": null,
            "_view_module": "@jupyter-widgets/base",
            "_view_module_version": "1.2.0",
            "_view_name": "StyleView",
            "description_width": ""
          }
        },
        "92e0c8dcbad04f72ab6727a040383160": {
          "model_module": "@jupyter-widgets/controls",
          "model_name": "HBoxModel",
          "model_module_version": "1.5.0",
          "state": {
            "_dom_classes": [],
            "_model_module": "@jupyter-widgets/controls",
            "_model_module_version": "1.5.0",
            "_model_name": "HBoxModel",
            "_view_count": null,
            "_view_module": "@jupyter-widgets/controls",
            "_view_module_version": "1.5.0",
            "_view_name": "HBoxView",
            "box_style": "",
            "children": [
              "IPY_MODEL_5319142ed2324fe7a56df517e41060cf",
              "IPY_MODEL_fff486c1b89940e9ae22a545f7a68a48",
              "IPY_MODEL_7238964239ae4ce19f1160177209c476"
            ],
            "layout": "IPY_MODEL_e1b2f106adb047efa3d82b0049012321"
          }
        },
        "5319142ed2324fe7a56df517e41060cf": {
          "model_module": "@jupyter-widgets/controls",
          "model_name": "HTMLModel",
          "model_module_version": "1.5.0",
          "state": {
            "_dom_classes": [],
            "_model_module": "@jupyter-widgets/controls",
            "_model_module_version": "1.5.0",
            "_model_name": "HTMLModel",
            "_view_count": null,
            "_view_module": "@jupyter-widgets/controls",
            "_view_module_version": "1.5.0",
            "_view_name": "HTMLView",
            "description": "",
            "description_tooltip": null,
            "layout": "IPY_MODEL_3153a38a3b314153a230640f73a1d7ab",
            "placeholder": "​",
            "style": "IPY_MODEL_35109d91c85c4f1db3597273f7505705",
            "value": "Downloading config.json: 100%"
          }
        },
        "fff486c1b89940e9ae22a545f7a68a48": {
          "model_module": "@jupyter-widgets/controls",
          "model_name": "FloatProgressModel",
          "model_module_version": "1.5.0",
          "state": {
            "_dom_classes": [],
            "_model_module": "@jupyter-widgets/controls",
            "_model_module_version": "1.5.0",
            "_model_name": "FloatProgressModel",
            "_view_count": null,
            "_view_module": "@jupyter-widgets/controls",
            "_view_module_version": "1.5.0",
            "_view_name": "ProgressView",
            "bar_style": "success",
            "description": "",
            "description_tooltip": null,
            "layout": "IPY_MODEL_28fbff7b24b04f1a99dc9fa4160ae894",
            "max": 710,
            "min": 0,
            "orientation": "horizontal",
            "style": "IPY_MODEL_93f28a936fdf4205ad928a7bf8cf99e0",
            "value": 710
          }
        },
        "7238964239ae4ce19f1160177209c476": {
          "model_module": "@jupyter-widgets/controls",
          "model_name": "HTMLModel",
          "model_module_version": "1.5.0",
          "state": {
            "_dom_classes": [],
            "_model_module": "@jupyter-widgets/controls",
            "_model_module_version": "1.5.0",
            "_model_name": "HTMLModel",
            "_view_count": null,
            "_view_module": "@jupyter-widgets/controls",
            "_view_module_version": "1.5.0",
            "_view_name": "HTMLView",
            "description": "",
            "description_tooltip": null,
            "layout": "IPY_MODEL_0de7831db0074ada9db3024b64526270",
            "placeholder": "​",
            "style": "IPY_MODEL_24ffa1f8e2254308b917583b14f3e759",
            "value": " 710/710 [00:00&lt;00:00, 19.1kB/s]"
          }
        },
        "e1b2f106adb047efa3d82b0049012321": {
          "model_module": "@jupyter-widgets/base",
          "model_name": "LayoutModel",
          "model_module_version": "1.2.0",
          "state": {
            "_model_module": "@jupyter-widgets/base",
            "_model_module_version": "1.2.0",
            "_model_name": "LayoutModel",
            "_view_count": null,
            "_view_module": "@jupyter-widgets/base",
            "_view_module_version": "1.2.0",
            "_view_name": "LayoutView",
            "align_content": null,
            "align_items": null,
            "align_self": null,
            "border": null,
            "bottom": null,
            "display": null,
            "flex": null,
            "flex_flow": null,
            "grid_area": null,
            "grid_auto_columns": null,
            "grid_auto_flow": null,
            "grid_auto_rows": null,
            "grid_column": null,
            "grid_gap": null,
            "grid_row": null,
            "grid_template_areas": null,
            "grid_template_columns": null,
            "grid_template_rows": null,
            "height": null,
            "justify_content": null,
            "justify_items": null,
            "left": null,
            "margin": null,
            "max_height": null,
            "max_width": null,
            "min_height": null,
            "min_width": null,
            "object_fit": null,
            "object_position": null,
            "order": null,
            "overflow": null,
            "overflow_x": null,
            "overflow_y": null,
            "padding": null,
            "right": null,
            "top": null,
            "visibility": null,
            "width": null
          }
        },
        "3153a38a3b314153a230640f73a1d7ab": {
          "model_module": "@jupyter-widgets/base",
          "model_name": "LayoutModel",
          "model_module_version": "1.2.0",
          "state": {
            "_model_module": "@jupyter-widgets/base",
            "_model_module_version": "1.2.0",
            "_model_name": "LayoutModel",
            "_view_count": null,
            "_view_module": "@jupyter-widgets/base",
            "_view_module_version": "1.2.0",
            "_view_name": "LayoutView",
            "align_content": null,
            "align_items": null,
            "align_self": null,
            "border": null,
            "bottom": null,
            "display": null,
            "flex": null,
            "flex_flow": null,
            "grid_area": null,
            "grid_auto_columns": null,
            "grid_auto_flow": null,
            "grid_auto_rows": null,
            "grid_column": null,
            "grid_gap": null,
            "grid_row": null,
            "grid_template_areas": null,
            "grid_template_columns": null,
            "grid_template_rows": null,
            "height": null,
            "justify_content": null,
            "justify_items": null,
            "left": null,
            "margin": null,
            "max_height": null,
            "max_width": null,
            "min_height": null,
            "min_width": null,
            "object_fit": null,
            "object_position": null,
            "order": null,
            "overflow": null,
            "overflow_x": null,
            "overflow_y": null,
            "padding": null,
            "right": null,
            "top": null,
            "visibility": null,
            "width": null
          }
        },
        "35109d91c85c4f1db3597273f7505705": {
          "model_module": "@jupyter-widgets/controls",
          "model_name": "DescriptionStyleModel",
          "model_module_version": "1.5.0",
          "state": {
            "_model_module": "@jupyter-widgets/controls",
            "_model_module_version": "1.5.0",
            "_model_name": "DescriptionStyleModel",
            "_view_count": null,
            "_view_module": "@jupyter-widgets/base",
            "_view_module_version": "1.2.0",
            "_view_name": "StyleView",
            "description_width": ""
          }
        },
        "28fbff7b24b04f1a99dc9fa4160ae894": {
          "model_module": "@jupyter-widgets/base",
          "model_name": "LayoutModel",
          "model_module_version": "1.2.0",
          "state": {
            "_model_module": "@jupyter-widgets/base",
            "_model_module_version": "1.2.0",
            "_model_name": "LayoutModel",
            "_view_count": null,
            "_view_module": "@jupyter-widgets/base",
            "_view_module_version": "1.2.0",
            "_view_name": "LayoutView",
            "align_content": null,
            "align_items": null,
            "align_self": null,
            "border": null,
            "bottom": null,
            "display": null,
            "flex": null,
            "flex_flow": null,
            "grid_area": null,
            "grid_auto_columns": null,
            "grid_auto_flow": null,
            "grid_auto_rows": null,
            "grid_column": null,
            "grid_gap": null,
            "grid_row": null,
            "grid_template_areas": null,
            "grid_template_columns": null,
            "grid_template_rows": null,
            "height": null,
            "justify_content": null,
            "justify_items": null,
            "left": null,
            "margin": null,
            "max_height": null,
            "max_width": null,
            "min_height": null,
            "min_width": null,
            "object_fit": null,
            "object_position": null,
            "order": null,
            "overflow": null,
            "overflow_x": null,
            "overflow_y": null,
            "padding": null,
            "right": null,
            "top": null,
            "visibility": null,
            "width": null
          }
        },
        "93f28a936fdf4205ad928a7bf8cf99e0": {
          "model_module": "@jupyter-widgets/controls",
          "model_name": "ProgressStyleModel",
          "model_module_version": "1.5.0",
          "state": {
            "_model_module": "@jupyter-widgets/controls",
            "_model_module_version": "1.5.0",
            "_model_name": "ProgressStyleModel",
            "_view_count": null,
            "_view_module": "@jupyter-widgets/base",
            "_view_module_version": "1.2.0",
            "_view_name": "StyleView",
            "bar_color": null,
            "description_width": ""
          }
        },
        "0de7831db0074ada9db3024b64526270": {
          "model_module": "@jupyter-widgets/base",
          "model_name": "LayoutModel",
          "model_module_version": "1.2.0",
          "state": {
            "_model_module": "@jupyter-widgets/base",
            "_model_module_version": "1.2.0",
            "_model_name": "LayoutModel",
            "_view_count": null,
            "_view_module": "@jupyter-widgets/base",
            "_view_module_version": "1.2.0",
            "_view_name": "LayoutView",
            "align_content": null,
            "align_items": null,
            "align_self": null,
            "border": null,
            "bottom": null,
            "display": null,
            "flex": null,
            "flex_flow": null,
            "grid_area": null,
            "grid_auto_columns": null,
            "grid_auto_flow": null,
            "grid_auto_rows": null,
            "grid_column": null,
            "grid_gap": null,
            "grid_row": null,
            "grid_template_areas": null,
            "grid_template_columns": null,
            "grid_template_rows": null,
            "height": null,
            "justify_content": null,
            "justify_items": null,
            "left": null,
            "margin": null,
            "max_height": null,
            "max_width": null,
            "min_height": null,
            "min_width": null,
            "object_fit": null,
            "object_position": null,
            "order": null,
            "overflow": null,
            "overflow_x": null,
            "overflow_y": null,
            "padding": null,
            "right": null,
            "top": null,
            "visibility": null,
            "width": null
          }
        },
        "24ffa1f8e2254308b917583b14f3e759": {
          "model_module": "@jupyter-widgets/controls",
          "model_name": "DescriptionStyleModel",
          "model_module_version": "1.5.0",
          "state": {
            "_model_module": "@jupyter-widgets/controls",
            "_model_module_version": "1.5.0",
            "_model_name": "DescriptionStyleModel",
            "_view_count": null,
            "_view_module": "@jupyter-widgets/base",
            "_view_module_version": "1.2.0",
            "_view_name": "StyleView",
            "description_width": ""
          }
        },
        "6fb92d339b654bd1bbc161b457178d5e": {
          "model_module": "@jupyter-widgets/controls",
          "model_name": "HBoxModel",
          "model_module_version": "1.5.0",
          "state": {
            "_dom_classes": [],
            "_model_module": "@jupyter-widgets/controls",
            "_model_module_version": "1.5.0",
            "_model_name": "HBoxModel",
            "_view_count": null,
            "_view_module": "@jupyter-widgets/controls",
            "_view_module_version": "1.5.0",
            "_view_name": "HBoxView",
            "box_style": "",
            "children": [
              "IPY_MODEL_7aaefc2c19bc466da98fa077fe5020f8",
              "IPY_MODEL_6b91bf5beb6443de82541a910d6ba49f",
              "IPY_MODEL_0bad9b5942f74af7b17de0238d10de66"
            ],
            "layout": "IPY_MODEL_ffb93598b6ff45d988b788fedb69756a"
          }
        },
        "7aaefc2c19bc466da98fa077fe5020f8": {
          "model_module": "@jupyter-widgets/controls",
          "model_name": "HTMLModel",
          "model_module_version": "1.5.0",
          "state": {
            "_dom_classes": [],
            "_model_module": "@jupyter-widgets/controls",
            "_model_module_version": "1.5.0",
            "_model_name": "HTMLModel",
            "_view_count": null,
            "_view_module": "@jupyter-widgets/controls",
            "_view_module_version": "1.5.0",
            "_view_name": "HTMLView",
            "description": "",
            "description_tooltip": null,
            "layout": "IPY_MODEL_9d9a7e4c463f482880efb035ebcace47",
            "placeholder": "​",
            "style": "IPY_MODEL_dc8654f2d1d0418e8aea2c9e5cd7c1da",
            "value": "Downloading pytorch_model.bin: 100%"
          }
        },
        "6b91bf5beb6443de82541a910d6ba49f": {
          "model_module": "@jupyter-widgets/controls",
          "model_name": "FloatProgressModel",
          "model_module_version": "1.5.0",
          "state": {
            "_dom_classes": [],
            "_model_module": "@jupyter-widgets/controls",
            "_model_module_version": "1.5.0",
            "_model_name": "FloatProgressModel",
            "_view_count": null,
            "_view_module": "@jupyter-widgets/controls",
            "_view_module_version": "1.5.0",
            "_view_name": "ProgressView",
            "bar_style": "success",
            "description": "",
            "description_tooltip": null,
            "layout": "IPY_MODEL_070758b31ac2442e839af8494426ed7d",
            "max": 2130731319,
            "min": 0,
            "orientation": "horizontal",
            "style": "IPY_MODEL_8b460801f9704fd69b75072f7a89602d",
            "value": 2130731319
          }
        },
        "0bad9b5942f74af7b17de0238d10de66": {
          "model_module": "@jupyter-widgets/controls",
          "model_name": "HTMLModel",
          "model_module_version": "1.5.0",
          "state": {
            "_dom_classes": [],
            "_model_module": "@jupyter-widgets/controls",
            "_model_module_version": "1.5.0",
            "_model_name": "HTMLModel",
            "_view_count": null,
            "_view_module": "@jupyter-widgets/controls",
            "_view_module_version": "1.5.0",
            "_view_name": "HTMLView",
            "description": "",
            "description_tooltip": null,
            "layout": "IPY_MODEL_fc8da2acf4944483a84bb6470a3b6ba3",
            "placeholder": "​",
            "style": "IPY_MODEL_60d50d8d31f34d8f9cce310d8e99b8e0",
            "value": " 1.98G/1.98G [00:46&lt;00:00, 57.8MB/s]"
          }
        },
        "ffb93598b6ff45d988b788fedb69756a": {
          "model_module": "@jupyter-widgets/base",
          "model_name": "LayoutModel",
          "model_module_version": "1.2.0",
          "state": {
            "_model_module": "@jupyter-widgets/base",
            "_model_module_version": "1.2.0",
            "_model_name": "LayoutModel",
            "_view_count": null,
            "_view_module": "@jupyter-widgets/base",
            "_view_module_version": "1.2.0",
            "_view_name": "LayoutView",
            "align_content": null,
            "align_items": null,
            "align_self": null,
            "border": null,
            "bottom": null,
            "display": null,
            "flex": null,
            "flex_flow": null,
            "grid_area": null,
            "grid_auto_columns": null,
            "grid_auto_flow": null,
            "grid_auto_rows": null,
            "grid_column": null,
            "grid_gap": null,
            "grid_row": null,
            "grid_template_areas": null,
            "grid_template_columns": null,
            "grid_template_rows": null,
            "height": null,
            "justify_content": null,
            "justify_items": null,
            "left": null,
            "margin": null,
            "max_height": null,
            "max_width": null,
            "min_height": null,
            "min_width": null,
            "object_fit": null,
            "object_position": null,
            "order": null,
            "overflow": null,
            "overflow_x": null,
            "overflow_y": null,
            "padding": null,
            "right": null,
            "top": null,
            "visibility": null,
            "width": null
          }
        },
        "9d9a7e4c463f482880efb035ebcace47": {
          "model_module": "@jupyter-widgets/base",
          "model_name": "LayoutModel",
          "model_module_version": "1.2.0",
          "state": {
            "_model_module": "@jupyter-widgets/base",
            "_model_module_version": "1.2.0",
            "_model_name": "LayoutModel",
            "_view_count": null,
            "_view_module": "@jupyter-widgets/base",
            "_view_module_version": "1.2.0",
            "_view_name": "LayoutView",
            "align_content": null,
            "align_items": null,
            "align_self": null,
            "border": null,
            "bottom": null,
            "display": null,
            "flex": null,
            "flex_flow": null,
            "grid_area": null,
            "grid_auto_columns": null,
            "grid_auto_flow": null,
            "grid_auto_rows": null,
            "grid_column": null,
            "grid_gap": null,
            "grid_row": null,
            "grid_template_areas": null,
            "grid_template_columns": null,
            "grid_template_rows": null,
            "height": null,
            "justify_content": null,
            "justify_items": null,
            "left": null,
            "margin": null,
            "max_height": null,
            "max_width": null,
            "min_height": null,
            "min_width": null,
            "object_fit": null,
            "object_position": null,
            "order": null,
            "overflow": null,
            "overflow_x": null,
            "overflow_y": null,
            "padding": null,
            "right": null,
            "top": null,
            "visibility": null,
            "width": null
          }
        },
        "dc8654f2d1d0418e8aea2c9e5cd7c1da": {
          "model_module": "@jupyter-widgets/controls",
          "model_name": "DescriptionStyleModel",
          "model_module_version": "1.5.0",
          "state": {
            "_model_module": "@jupyter-widgets/controls",
            "_model_module_version": "1.5.0",
            "_model_name": "DescriptionStyleModel",
            "_view_count": null,
            "_view_module": "@jupyter-widgets/base",
            "_view_module_version": "1.2.0",
            "_view_name": "StyleView",
            "description_width": ""
          }
        },
        "070758b31ac2442e839af8494426ed7d": {
          "model_module": "@jupyter-widgets/base",
          "model_name": "LayoutModel",
          "model_module_version": "1.2.0",
          "state": {
            "_model_module": "@jupyter-widgets/base",
            "_model_module_version": "1.2.0",
            "_model_name": "LayoutModel",
            "_view_count": null,
            "_view_module": "@jupyter-widgets/base",
            "_view_module_version": "1.2.0",
            "_view_name": "LayoutView",
            "align_content": null,
            "align_items": null,
            "align_self": null,
            "border": null,
            "bottom": null,
            "display": null,
            "flex": null,
            "flex_flow": null,
            "grid_area": null,
            "grid_auto_columns": null,
            "grid_auto_flow": null,
            "grid_auto_rows": null,
            "grid_column": null,
            "grid_gap": null,
            "grid_row": null,
            "grid_template_areas": null,
            "grid_template_columns": null,
            "grid_template_rows": null,
            "height": null,
            "justify_content": null,
            "justify_items": null,
            "left": null,
            "margin": null,
            "max_height": null,
            "max_width": null,
            "min_height": null,
            "min_width": null,
            "object_fit": null,
            "object_position": null,
            "order": null,
            "overflow": null,
            "overflow_x": null,
            "overflow_y": null,
            "padding": null,
            "right": null,
            "top": null,
            "visibility": null,
            "width": null
          }
        },
        "8b460801f9704fd69b75072f7a89602d": {
          "model_module": "@jupyter-widgets/controls",
          "model_name": "ProgressStyleModel",
          "model_module_version": "1.5.0",
          "state": {
            "_model_module": "@jupyter-widgets/controls",
            "_model_module_version": "1.5.0",
            "_model_name": "ProgressStyleModel",
            "_view_count": null,
            "_view_module": "@jupyter-widgets/base",
            "_view_module_version": "1.2.0",
            "_view_name": "StyleView",
            "bar_color": null,
            "description_width": ""
          }
        },
        "fc8da2acf4944483a84bb6470a3b6ba3": {
          "model_module": "@jupyter-widgets/base",
          "model_name": "LayoutModel",
          "model_module_version": "1.2.0",
          "state": {
            "_model_module": "@jupyter-widgets/base",
            "_model_module_version": "1.2.0",
            "_model_name": "LayoutModel",
            "_view_count": null,
            "_view_module": "@jupyter-widgets/base",
            "_view_module_version": "1.2.0",
            "_view_name": "LayoutView",
            "align_content": null,
            "align_items": null,
            "align_self": null,
            "border": null,
            "bottom": null,
            "display": null,
            "flex": null,
            "flex_flow": null,
            "grid_area": null,
            "grid_auto_columns": null,
            "grid_auto_flow": null,
            "grid_auto_rows": null,
            "grid_column": null,
            "grid_gap": null,
            "grid_row": null,
            "grid_template_areas": null,
            "grid_template_columns": null,
            "grid_template_rows": null,
            "height": null,
            "justify_content": null,
            "justify_items": null,
            "left": null,
            "margin": null,
            "max_height": null,
            "max_width": null,
            "min_height": null,
            "min_width": null,
            "object_fit": null,
            "object_position": null,
            "order": null,
            "overflow": null,
            "overflow_x": null,
            "overflow_y": null,
            "padding": null,
            "right": null,
            "top": null,
            "visibility": null,
            "width": null
          }
        },
        "60d50d8d31f34d8f9cce310d8e99b8e0": {
          "model_module": "@jupyter-widgets/controls",
          "model_name": "DescriptionStyleModel",
          "model_module_version": "1.5.0",
          "state": {
            "_model_module": "@jupyter-widgets/controls",
            "_model_module_version": "1.5.0",
            "_model_name": "DescriptionStyleModel",
            "_view_count": null,
            "_view_module": "@jupyter-widgets/base",
            "_view_module_version": "1.2.0",
            "_view_name": "StyleView",
            "description_width": ""
          }
        }
      }
    }
  },
  "nbformat": 4,
  "nbformat_minor": 0
}