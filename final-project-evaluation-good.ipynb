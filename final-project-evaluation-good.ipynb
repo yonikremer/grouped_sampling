{
 "cells": [
  {
   "cell_type": "code",
   "execution_count": 1,
   "id": "e57e2f34",
   "metadata": {
    "execution": {
     "iopub.execute_input": "2022-11-22T11:42:08.082556Z",
     "iopub.status.busy": "2022-11-22T11:42:08.081620Z",
     "iopub.status.idle": "2022-11-22T11:42:53.356856Z",
     "shell.execute_reply": "2022-11-22T11:42:53.354351Z"
    },
    "papermill": {
     "duration": 45.281785,
     "end_time": "2022-11-22T11:42:53.359567",
     "exception": false,
     "start_time": "2022-11-22T11:42:08.077782",
     "status": "completed"
    },
    "tags": []
   },
   "outputs": [
    {
     "name": "stdout",
     "output_type": "stream",
     "text": [
      "Found existing installation: tensorflow 2.6.4\n",
      "Uninstalling tensorflow-2.6.4:\n",
      "  Successfully uninstalled tensorflow-2.6.4\n"
     ]
    },
    {
     "name": "stderr",
     "output_type": "stream",
     "text": [
      "WARNING: Running pip as the 'root' user can result in broken permissions and conflicting behaviour with the system package manager. It is recommended to use a virtual environment instead: https://pip.pypa.io/warnings/venv\n",
      "WARNING: Running pip as the 'root' user can result in broken permissions and conflicting behaviour with the system package manager. It is recommended to use a virtual environment instead: https://pip.pypa.io/warnings/venv\n",
      "WARNING: Running pip as the 'root' user can result in broken permissions and conflicting behaviour with the system package manager. It is recommended to use a virtual environment instead: https://pip.pypa.io/warnings/venv\n"
     ]
    }
   ],
   "source": [
    "%%bash\n",
    "rm -rf ./final_project\n",
    "git clone --quiet https://github.com/yonikremer/final_project.git\n",
    "pip uninstall --yes tensorflow\n",
    "pip install --quiet --requirement ./final_project/evaluation/evaluation_requirements.txt\n",
    "pip install --quiet --requirement ./final_project/project_requirements.txt"
   ]
  },
  {
   "cell_type": "code",
   "execution_count": 2,
   "id": "dadbea32",
   "metadata": {
    "execution": {
     "iopub.execute_input": "2022-11-22T11:42:53.364067Z",
     "iopub.status.busy": "2022-11-22T11:42:53.363732Z",
     "iopub.status.idle": "2022-11-22T11:42:54.462124Z",
     "shell.execute_reply": "2022-11-22T11:42:54.460771Z"
    },
    "papermill": {
     "duration": 1.103471,
     "end_time": "2022-11-22T11:42:54.464653",
     "exception": false,
     "start_time": "2022-11-22T11:42:53.361182",
     "status": "completed"
    },
    "tags": []
   },
   "outputs": [
    {
     "name": "stdout",
     "output_type": "stream",
     "text": [
      "Unknown option: -o\r\n",
      "usage: python [option] ... [-c cmd | -m mod | file | -] [arg] ...\r\n",
      "Try `python -h' for more information.\r\n"
     ]
    }
   ],
   "source": [
    "!export PYTHONPATH=\"${PYTHONPATH}:./final_project\" && python -o ./final_project/evaluation/evaluate_translation.py"
   ]
  }
 ],
 "metadata": {
  "kernelspec": {
   "display_name": "Python 3",
   "language": "python",
   "name": "python3"
  },
  "language_info": {
   "codemirror_mode": {
    "name": "ipython",
    "version": 3
   },
   "file_extension": ".py",
   "mimetype": "text/x-python",
   "name": "python",
   "nbconvert_exporter": "python",
   "pygments_lexer": "ipython3",
   "version": "3.7.12"
  },
  "papermill": {
   "default_parameters": {},
   "duration": 55.124107,
   "end_time": "2022-11-22T11:42:54.994220",
   "environment_variables": {},
   "exception": null,
   "input_path": "__notebook__.ipynb",
   "output_path": "__notebook__.ipynb",
   "parameters": {},
   "start_time": "2022-11-22T11:41:59.870113",
   "version": "2.3.4"
  }
 },
 "nbformat": 4,
 "nbformat_minor": 5
}
