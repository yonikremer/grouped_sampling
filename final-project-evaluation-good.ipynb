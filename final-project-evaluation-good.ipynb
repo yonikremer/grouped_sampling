{
 "cells": [
  {
   "cell_type": "code",
   "execution_count": 1,
   "id": "b8d3456e",
   "metadata": {
    "execution": {
     "iopub.execute_input": "2022-11-18T19:41:26.715920Z",
     "iopub.status.busy": "2022-11-18T19:41:26.715130Z",
     "iopub.status.idle": "2022-11-18T19:42:12.250764Z",
     "shell.execute_reply": "2022-11-18T19:42:12.249469Z"
    },
    "papermill": {
     "duration": 45.543234,
     "end_time": "2022-11-18T19:42:12.253982",
     "exception": false,
     "start_time": "2022-11-18T19:41:26.710748",
     "status": "completed"
    },
    "tags": []
   },
   "outputs": [
    {
     "name": "stdout",
     "output_type": "stream",
     "text": [
      "Found existing installation: tensorflow 2.6.4\n",
      "Uninstalling tensorflow-2.6.4:\n",
      "  Successfully uninstalled tensorflow-2.6.4\n"
     ]
    },
    {
     "name": "stderr",
     "output_type": "stream",
     "text": [
      "WARNING: Running pip as the 'root' user can result in broken permissions and conflicting behaviour with the system package manager. It is recommended to use a virtual environment instead: https://pip.pypa.io/warnings/venv\n",
      "WARNING: Running pip as the 'root' user can result in broken permissions and conflicting behaviour with the system package manager. It is recommended to use a virtual environment instead: https://pip.pypa.io/warnings/venv\n",
      "WARNING: Running pip as the 'root' user can result in broken permissions and conflicting behaviour with the system package manager. It is recommended to use a virtual environment instead: https://pip.pypa.io/warnings/venv\n"
     ]
    }
   ],
   "source": [
    "%%bash\n",
    "rm -rf ./final_project\n",
    "git clone --quiet https://github.com/yonikremer/final_project.git\n",
    "pip uninstall --yes tensorflow\n",
    "pip install --quiet --requirement ./final_project/evaluation/evaluation_requirements.txt\n",
    "pip install --quiet --requirement ./final_project/project_requirements.txt"
   ]
  },
  {
   "cell_type": "code",
   "execution_count": 2,
   "id": "f21c96f8",
   "metadata": {
    "execution": {
     "iopub.execute_input": "2022-11-18T19:42:12.258938Z",
     "iopub.status.busy": "2022-11-18T19:42:12.258600Z",
     "iopub.status.idle": "2022-11-19T03:10:53.998233Z",
     "shell.execute_reply": "2022-11-19T03:10:53.997031Z"
    },
    "papermill": {
     "duration": 26921.744616,
     "end_time": "2022-11-19T03:10:54.000534",
     "exception": false,
     "start_time": "2022-11-18T19:42:12.255918",
     "status": "completed"
    },
    "tags": []
   },
   "outputs": [
    {
     "name": "stdout",
     "output_type": "stream",
     "text": [
      "Downloading: 100%|██████████████████████████████| 685/685 [00:00<00:00, 602kB/s]\r\n",
      "Downloading: 100%|██████████████████████████████| 651/651 [00:00<00:00, 567kB/s]\r\n",
      "Downloading: 100%|████████████████████████████| 878k/878k [00:00<00:00, 976kB/s]\r\n",
      "Downloading: 100%|████████████████████████████| 446k/446k [00:00<00:00, 499kB/s]\r\n",
      "Downloading: 100%|██████████████████████████████| 441/441 [00:00<00:00, 380kB/s]\r\n",
      "Downloading: 100%|███████████████████████████| 239M/239M [00:21<00:00, 11.4MB/s]\r\n",
      "COMET WARNING: Comet has disabled auto-logging functionality as it has been imported after the following ML modules: sklearn, torch. Metrics and hyperparameters can still be logged using comet_ml.log_metrics() and comet_ml.log_parameters()\r\n",
      "COMET INFO: Experiment is live on comet.com https://www.comet.com/yonikremer/grouped-sampling-evaluation/a9de27aab713449f96a008207796a8f6\r\n",
      "\r\n",
      "Downloading builder script: 14.5kB [00:00, 7.07MB/s]                   \r\n",
      "Downloading metadata: 32.7kB [00:00, 12.6MB/s]                   \r\n",
      "Running sub-experiment 1 out of 15\r\n",
      "Downloading and preparing dataset ted_talks_iwslt/eu_ca_2014 (download: 1.55 GiB, generated: 14.84 KiB, post-processed: Unknown size, total: 1.55 GiB) to /root/.cache/huggingface/datasets/ted_talks_iwslt/eu_ca_2014/1.1.0/43935b3fe470c753a023642e1f54b068c590847f9928bd3f2ec99f15702ad6a6...\r\n",
      "Downloading data: 100%|██████████| 1.67G/1.67G [01:02<00:00, 26.8MB/s]\r\n",
      "Dataset ted_talks_iwslt downloaded and prepared to /root/.cache/huggingface/datasets/ted_talks_iwslt/eu_ca_2014/1.1.0/43935b3fe470c753a023642e1f54b068c590847f9928bd3f2ec99f15702ad6a6. Subsequent calls will reuse this data.\r\n",
      "100%|██████████| 44/44 [00:00<00:00, 10957.04ex/s]\r\n",
      "100%|██████████| 44/44 [00:00<00:00, 6947.87ex/s]\r\n",
      "Downloading builder script: 100%|██████████| 7.95k/7.95k [00:00<00:00, 3.33MB/s]\r\n",
      "Downloading: 100%|██████████| 29.0/29.0 [00:00<00:00, 13.2kB/s]\r\n",
      "Downloading: 100%|██████████| 625/625 [00:00<00:00, 256kB/s]\r\n",
      "Downloading: 100%|██████████| 972k/972k [00:01<00:00, 904kB/s]\r\n",
      "Downloading: 100%|██████████| 681M/681M [00:59<00:00, 11.9MB/s]\r\n",
      "Running sub-experiment 2 out of 15\r\n",
      "Downloading and preparing dataset ted_talks_iwslt/eu_ca_2015 (download: 1.55 GiB, generated: 18.34 KiB, post-processed: Unknown size, total: 1.55 GiB) to /root/.cache/huggingface/datasets/ted_talks_iwslt/eu_ca_2015/1.1.0/43935b3fe470c753a023642e1f54b068c590847f9928bd3f2ec99f15702ad6a6...\r\n",
      "Dataset ted_talks_iwslt downloaded and prepared to /root/.cache/huggingface/datasets/ted_talks_iwslt/eu_ca_2015/1.1.0/43935b3fe470c753a023642e1f54b068c590847f9928bd3f2ec99f15702ad6a6. Subsequent calls will reuse this data.\r\n",
      "100%|██████████| 52/52 [00:00<00:00, 12264.05ex/s]\r\n",
      "100%|██████████| 52/52 [00:00<00:00, 8779.64ex/s]\r\n",
      "Running sub-experiment 3 out of 15\r\n",
      "Downloading and preparing dataset ted_talks_iwslt/eu_ca_2016 (download: 1.55 GiB, generated: 19.06 KiB, post-processed: Unknown size, total: 1.55 GiB) to /root/.cache/huggingface/datasets/ted_talks_iwslt/eu_ca_2016/1.1.0/43935b3fe470c753a023642e1f54b068c590847f9928bd3f2ec99f15702ad6a6...\r\n",
      "Dataset ted_talks_iwslt downloaded and prepared to /root/.cache/huggingface/datasets/ted_talks_iwslt/eu_ca_2016/1.1.0/43935b3fe470c753a023642e1f54b068c590847f9928bd3f2ec99f15702ad6a6. Subsequent calls will reuse this data.\r\n",
      "100%|██████████| 54/54 [00:00<00:00, 12014.24ex/s]\r\n",
      "100%|██████████| 54/54 [00:00<00:00, 8314.09ex/s]\r\n",
      "Running sub-experiment 4 out of 15\r\n",
      "Downloading and preparing dataset ted_talks_iwslt/nl_en_2014 (download: 1.55 GiB, generated: 1011.28 KiB, post-processed: Unknown size, total: 1.55 GiB) to /root/.cache/huggingface/datasets/ted_talks_iwslt/nl_en_2014/1.1.0/43935b3fe470c753a023642e1f54b068c590847f9928bd3f2ec99f15702ad6a6...\r\n",
      "Dataset ted_talks_iwslt downloaded and prepared to /root/.cache/huggingface/datasets/ted_talks_iwslt/nl_en_2014/1.1.0/43935b3fe470c753a023642e1f54b068c590847f9928bd3f2ec99f15702ad6a6. Subsequent calls will reuse this data.\r\n",
      "100%|██████████| 2966/2966 [00:00<00:00, 15352.03ex/s]\r\n",
      "100%|██████████| 2966/2966 [00:00<00:00, 15268.09ex/s]\r\n",
      "Downloading: 100%|██████████| 482/482 [00:00<00:00, 342kB/s]\r\n",
      "Downloading: 100%|██████████| 878k/878k [00:00<00:00, 972kB/s]\r\n",
      "Downloading: 100%|██████████| 446k/446k [00:00<00:00, 496kB/s]\r\n",
      "Downloading: 100%|██████████| 1.33G/1.33G [01:59<00:00, 11.9MB/s]\r\n",
      "Running sub-experiment 5 out of 15\r\n",
      "Downloading and preparing dataset ted_talks_iwslt/nl_en_2015 (download: 1.55 GiB, generated: 1.23 MiB, post-processed: Unknown size, total: 1.55 GiB) to /root/.cache/huggingface/datasets/ted_talks_iwslt/nl_en_2015/1.1.0/43935b3fe470c753a023642e1f54b068c590847f9928bd3f2ec99f15702ad6a6...\r\n",
      "Dataset ted_talks_iwslt downloaded and prepared to /root/.cache/huggingface/datasets/ted_talks_iwslt/nl_en_2015/1.1.0/43935b3fe470c753a023642e1f54b068c590847f9928bd3f2ec99f15702ad6a6. Subsequent calls will reuse this data.\r\n",
      "100%|██████████| 3550/3550 [00:00<00:00, 12982.96ex/s]\r\n",
      "100%|██████████| 3550/3550 [00:00<00:00, 14127.07ex/s]\r\n",
      "Running sub-experiment 6 out of 15\r\n",
      "Downloading and preparing dataset ted_talks_iwslt/nl_en_2016 (download: 1.55 GiB, generated: 1.37 MiB, post-processed: Unknown size, total: 1.55 GiB) to /root/.cache/huggingface/datasets/ted_talks_iwslt/nl_en_2016/1.1.0/43935b3fe470c753a023642e1f54b068c590847f9928bd3f2ec99f15702ad6a6...\r\n",
      "Dataset ted_talks_iwslt downloaded and prepared to /root/.cache/huggingface/datasets/ted_talks_iwslt/nl_en_2016/1.1.0/43935b3fe470c753a023642e1f54b068c590847f9928bd3f2ec99f15702ad6a6. Subsequent calls will reuse this data.\r\n",
      "100%|██████████| 3852/3852 [00:00<00:00, 14205.62ex/s]\r\n",
      "100%|██████████| 3852/3852 [00:00<00:00, 13525.50ex/s]\r\n",
      "Running sub-experiment 7 out of 15\r\n",
      "Downloading and preparing dataset ted_talks_iwslt/nl_hi_2014 (download: 1.55 GiB, generated: 209.84 KiB, post-processed: Unknown size, total: 1.55 GiB) to /root/.cache/huggingface/datasets/ted_talks_iwslt/nl_hi_2014/1.1.0/43935b3fe470c753a023642e1f54b068c590847f9928bd3f2ec99f15702ad6a6...\r\n",
      "Dataset ted_talks_iwslt downloaded and prepared to /root/.cache/huggingface/datasets/ted_talks_iwslt/nl_hi_2014/1.1.0/43935b3fe470c753a023642e1f54b068c590847f9928bd3f2ec99f15702ad6a6. Subsequent calls will reuse this data.\r\n",
      "100%|██████████| 367/367 [00:00<00:00, 16279.86ex/s]\r\n",
      "100%|██████████| 367/367 [00:00<00:00, 10202.41ex/s]\r\n",
      "Running sub-experiment 8 out of 15\r\n",
      "Downloading and preparing dataset ted_talks_iwslt/nl_hi_2015 (download: 1.55 GiB, generated: 246.29 KiB, post-processed: Unknown size, total: 1.55 GiB) to /root/.cache/huggingface/datasets/ted_talks_iwslt/nl_hi_2015/1.1.0/43935b3fe470c753a023642e1f54b068c590847f9928bd3f2ec99f15702ad6a6...\r\n",
      "Dataset ted_talks_iwslt downloaded and prepared to /root/.cache/huggingface/datasets/ted_talks_iwslt/nl_hi_2015/1.1.0/43935b3fe470c753a023642e1f54b068c590847f9928bd3f2ec99f15702ad6a6. Subsequent calls will reuse this data.\r\n",
      "100%|██████████| 421/421 [00:00<00:00, 16472.80ex/s]\r\n",
      "100%|██████████| 421/421 [00:00<00:00, 15132.42ex/s]\r\n",
      "Running sub-experiment 9 out of 15\r\n",
      "Downloading and preparing dataset ted_talks_iwslt/nl_hi_2016 (download: 1.55 GiB, generated: 303.64 KiB, post-processed: Unknown size, total: 1.55 GiB) to /root/.cache/huggingface/datasets/ted_talks_iwslt/nl_hi_2016/1.1.0/43935b3fe470c753a023642e1f54b068c590847f9928bd3f2ec99f15702ad6a6...\r\n",
      "Dataset ted_talks_iwslt downloaded and prepared to /root/.cache/huggingface/datasets/ted_talks_iwslt/nl_hi_2016/1.1.0/43935b3fe470c753a023642e1f54b068c590847f9928bd3f2ec99f15702ad6a6. Subsequent calls will reuse this data.\r\n",
      "100%|██████████| 496/496 [00:00<00:00, 15311.28ex/s]\r\n",
      "100%|██████████| 496/496 [00:00<00:00, 15996.61ex/s]\r\n",
      "Running sub-experiment 10 out of 15\r\n",
      "Downloading and preparing dataset ted_talks_iwslt/de_ja_2014 (download: 1.55 GiB, generated: 1.02 MiB, post-processed: Unknown size, total: 1.55 GiB) to /root/.cache/huggingface/datasets/ted_talks_iwslt/de_ja_2014/1.1.0/43935b3fe470c753a023642e1f54b068c590847f9928bd3f2ec99f15702ad6a6...\r\n",
      "Dataset ted_talks_iwslt downloaded and prepared to /root/.cache/huggingface/datasets/ted_talks_iwslt/de_ja_2014/1.1.0/43935b3fe470c753a023642e1f54b068c590847f9928bd3f2ec99f15702ad6a6. Subsequent calls will reuse this data.\r\n",
      "100%|██████████| 2536/2536 [00:00<00:00, 10063.37ex/s]\r\n",
      "100%|██████████| 2536/2536 [00:00<00:00, 11120.11ex/s]\r\n",
      "Running sub-experiment 11 out of 15\r\n",
      "Downloading and preparing dataset ted_talks_iwslt/de_ja_2015 (download: 1.55 GiB, generated: 1.38 MiB, post-processed: Unknown size, total: 1.55 GiB) to /root/.cache/huggingface/datasets/ted_talks_iwslt/de_ja_2015/1.1.0/43935b3fe470c753a023642e1f54b068c590847f9928bd3f2ec99f15702ad6a6...\r\n",
      "Dataset ted_talks_iwslt downloaded and prepared to /root/.cache/huggingface/datasets/ted_talks_iwslt/de_ja_2015/1.1.0/43935b3fe470c753a023642e1f54b068c590847f9928bd3f2ec99f15702ad6a6. Subsequent calls will reuse this data.\r\n",
      "100%|██████████| 3247/3247 [00:00<00:00, 13142.34ex/s]\r\n",
      "100%|██████████| 3247/3247 [00:00<00:00, 10229.16ex/s]\r\n",
      "Running sub-experiment 12 out of 15\r\n",
      "Downloading and preparing dataset ted_talks_iwslt/de_ja_2016 (download: 1.55 GiB, generated: 1.56 MiB, post-processed: Unknown size, total: 1.55 GiB) to /root/.cache/huggingface/datasets/ted_talks_iwslt/de_ja_2016/1.1.0/43935b3fe470c753a023642e1f54b068c590847f9928bd3f2ec99f15702ad6a6...\r\n",
      "Dataset ted_talks_iwslt downloaded and prepared to /root/.cache/huggingface/datasets/ted_talks_iwslt/de_ja_2016/1.1.0/43935b3fe470c753a023642e1f54b068c590847f9928bd3f2ec99f15702ad6a6. Subsequent calls will reuse this data.\r\n",
      "100%|██████████| 3590/3590 [00:00<00:00, 10415.01ex/s]\r\n",
      "100%|██████████| 3590/3590 [00:00<00:00, 11459.63ex/s]\r\n",
      "Running sub-experiment 13 out of 15\r\n",
      "Downloading and preparing dataset ted_talks_iwslt/fr-ca_hi_2014 (download: 1.55 GiB, generated: 72.73 KiB, post-processed: Unknown size, total: 1.55 GiB) to /root/.cache/huggingface/datasets/ted_talks_iwslt/fr-ca_hi_2014/1.1.0/43935b3fe470c753a023642e1f54b068c590847f9928bd3f2ec99f15702ad6a6...\r\n",
      "Dataset ted_talks_iwslt downloaded and prepared to /root/.cache/huggingface/datasets/ted_talks_iwslt/fr-ca_hi_2014/1.1.0/43935b3fe470c753a023642e1f54b068c590847f9928bd3f2ec99f15702ad6a6. Subsequent calls will reuse this data.\r\n",
      "100%|██████████| 127/127 [00:00<00:00, 14651.28ex/s]\r\n",
      "100%|██████████| 127/127 [00:00<00:00, 12035.44ex/s]\r\n",
      "Running sub-experiment 14 out of 15\r\n",
      "Downloading and preparing dataset ted_talks_iwslt/fr-ca_hi_2015 (download: 1.55 GiB, generated: 80.52 KiB, post-processed: Unknown size, total: 1.55 GiB) to /root/.cache/huggingface/datasets/ted_talks_iwslt/fr-ca_hi_2015/1.1.0/43935b3fe470c753a023642e1f54b068c590847f9928bd3f2ec99f15702ad6a6...\r\n",
      "Dataset ted_talks_iwslt downloaded and prepared to /root/.cache/huggingface/datasets/ted_talks_iwslt/fr-ca_hi_2015/1.1.0/43935b3fe470c753a023642e1f54b068c590847f9928bd3f2ec99f15702ad6a6. Subsequent calls will reuse this data.\r\n",
      "100%|██████████| 141/141 [00:00<00:00, 14804.54ex/s]\r\n",
      "100%|██████████| 141/141 [00:00<00:00, 15310.45ex/s]\r\n",
      "Running sub-experiment 15 out of 15\r\n",
      "Downloading and preparing dataset ted_talks_iwslt/fr-ca_hi_2016 (download: 1.55 GiB, generated: 91.24 KiB, post-processed: Unknown size, total: 1.55 GiB) to /root/.cache/huggingface/datasets/ted_talks_iwslt/fr-ca_hi_2016/1.1.0/43935b3fe470c753a023642e1f54b068c590847f9928bd3f2ec99f15702ad6a6...\r\n",
      "Dataset ted_talks_iwslt downloaded and prepared to /root/.cache/huggingface/datasets/ted_talks_iwslt/fr-ca_hi_2016/1.1.0/43935b3fe470c753a023642e1f54b068c590847f9928bd3f2ec99f15702ad6a6. Subsequent calls will reuse this data.\r\n",
      "100%|██████████| 156/156 [00:00<00:00, 15359.42ex/s]\r\n",
      "100%|██████████| 156/156 [00:00<00:00, 13317.42ex/s]\r\n",
      "COMET INFO: ---------------------------\r\n",
      "COMET INFO: Comet.ml Experiment Summary\r\n",
      "COMET INFO: ---------------------------\r\n",
      "COMET INFO:   Data:\r\n",
      "COMET INFO:     display_summary_level : 1\r\n",
      "COMET INFO:     url                   : https://www.comet.com/yonikremer/grouped-sampling-evaluation/a9de27aab713449f96a008207796a8f6\r\n",
      "COMET INFO:   Metrics:\r\n",
      "COMET INFO:     average BERT f1        : 0.6324823555152854\r\n",
      "COMET INFO:     average BERT precision : 0.5735009850676211\r\n",
      "COMET INFO:     average BERT recall    : 0.7089375274353233\r\n",
      "COMET INFO:     time in hours          : 7.460616452222223\r\n",
      "COMET INFO:   Parameters:\r\n",
      "COMET INFO:     generation_type : GenerationType.RANDOM\r\n",
      "COMET INFO:     group_size      : 16\r\n",
      "COMET INFO:     model_name      : facebook/opt-125m\r\n",
      "COMET INFO:     temperature     : 1.0\r\n",
      "COMET INFO:     top_k           : 1\r\n",
      "COMET INFO:     top_p           : 1.0\r\n",
      "COMET INFO:   Uploads:\r\n",
      "COMET INFO:     conda-environment-definition : 1\r\n",
      "COMET INFO:     conda-info                   : 1\r\n",
      "COMET INFO:     conda-specification          : 1\r\n",
      "COMET INFO:     environment details          : 1\r\n",
      "COMET INFO:     installed packages           : 1\r\n",
      "COMET INFO:     os packages                  : 1\r\n",
      "COMET INFO: ---------------------------\r\n",
      "COMET WARNING: Comet has disabled auto-logging functionality as it has been imported after the following ML modules: sklearn, torch. Metrics and hyperparameters can still be logged using comet_ml.log_metrics() and comet_ml.log_parameters()\r\n",
      "COMET INFO: Uploading metrics, params, and assets to Comet before program termination (may take several seconds)\r\n",
      "COMET INFO: The Python SDK has 3600 seconds to finish before aborting...\r\n",
      "COMET INFO: Uploading 1 metrics, params and output messages\r\n"
     ]
    }
   ],
   "source": [
    "!export PYTHONPATH=\"${PYTHONPATH}:./final_project\" && python ./final_project/evaluation/evaluate_translation.py"
   ]
  }
 ],
 "metadata": {
  "kernelspec": {
   "display_name": "Python 3",
   "language": "python",
   "name": "python3"
  },
  "language_info": {
   "codemirror_mode": {
    "name": "ipython",
    "version": 3
   },
   "file_extension": ".py",
   "mimetype": "text/x-python",
   "name": "python",
   "nbconvert_exporter": "python",
   "pygments_lexer": "ipython3",
   "version": "3.7.12"
  },
  "papermill": {
   "default_parameters": {},
   "duration": 26975.69787,
   "end_time": "2022-11-19T03:10:54.689633",
   "environment_variables": {},
   "exception": null,
   "input_path": "__notebook__.ipynb",
   "output_path": "__notebook__.ipynb",
   "parameters": {},
   "start_time": "2022-11-18T19:41:18.991763",
   "version": "2.3.4"
  }
 },
 "nbformat": 4,
 "nbformat_minor": 5
}
