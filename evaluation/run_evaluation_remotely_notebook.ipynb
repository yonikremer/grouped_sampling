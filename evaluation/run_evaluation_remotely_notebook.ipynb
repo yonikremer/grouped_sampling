{
 "nbformat": 4,
 "nbformat_minor": 0,
 "metadata": {
  "colab": {
   "provenance": [],
   "include_colab_link": true
  },
  "kernelspec": {
   "name": "python3",
   "display_name": "Python 3"
  },
  "language_info": {
   "name": "python"
  },
  "gpuClass": "standard",
  "accelerator": "GPU"
 },
 "cells": [
  {
   "cell_type": "markdown",
   "metadata": {
    "id": "view-in-github",
    "colab_type": "text"
   },
   "source": [
    "<a href=\"https://colab.research.google.com/github/yonikremer/final_project/blob/master/evaluation/run_evaluation_remotely_notebook.ipynb\" target=\"_parent\"><img src=\"https://colab.research.google.com/assets/colab-badge.svg\" alt=\"Open In Colab\"/></a>"
   ]
  },
  {
   "cell_type": "markdown",
   "source": [
    "# Configure the project"
   ],
   "metadata": {
    "id": "8aa3ZKSzG2kB"
   }
  },
  {
   "cell_type": "code",
   "source": [
    "%%bash\n",
    "rm -rf ./final_project\n",
    "git clone --quiet https://github.com/yonikremer/final_project.git\n",
    "pip uninstall --yes tensorflow\n",
    "pip install --quiet --requirement ./final_project/evaluation/evaluation_requirements.txt\n",
    "pip install --quiet --requirement ./final_project/project_requirements.txt"
   ],
   "metadata": {
    "id": "L4YZc7WyH8pi"
   },
   "execution_count": 1,
   "outputs": []
  },
  {
   "cell_type": "code",
   "source": [
    "!export PYTHONPATH=\"${PYTHONPATH}:./final_project\" && python -O ./final_project/evaluation/evaluate_translation.py"
   ],
   "metadata": {
    "colab": {
     "base_uri": "https://localhost:8080/"
    },
    "id": "pU6X_oggHaHj",
    "outputId": "782f70e4-6c1b-47e4-8d7e-b6de4afa2dda"
   },
   "execution_count": null,
   "outputs": [
    {
     "metadata": {
      "tags": null
     },
     "name": "stdout",
     "output_type": "stream",
     "text": [
      "Downloading: 100% 685/685 [00:00<00:00, 674kB/s]\n",
      "Downloading: 100% 651/651 [00:00<00:00, 581kB/s]\n",
      "Downloading: 100% 899k/899k [00:01<00:00, 652kB/s]\n",
      "Downloading: 100% 456k/456k [00:01<00:00, 402kB/s]\n",
      "Downloading: 100% 441/441 [00:00<00:00, 384kB/s]\n",
      "Downloading: 100% 251M/251M [00:04<00:00, 56.8MB/s]\n",
      "Please enter your api_key for comet ml: yNLPmFeYvfF9HArNCZ2xm8RHn\n",
      "COMET WARNING: Comet has disabled auto-logging functionality as it has been imported after the following ML modules: keras, torch, tensorboard, sklearn, tensorflow. Metrics and hyperparameters can still be logged using comet_ml.log_metrics() and comet_ml.log_parameters()\n",
      "COMET ERROR: Failed to calculate active processors count. Fall back to default CPU count 1\n",
      "COMET INFO: Experiment is live on comet.com https://www.comet.com/yonikremer/grouped-sampling-evaluation/303a5443ece041c9a4dcc96b6f722a04\n",
      "\n",
      "Downloading builder script: 100%|██████████| 14.0k/14.0k [00:00<00:00, 6.27MB/s]\n",
      "Downloading metadata: 100%|██████████| 32.7k/32.7k [00:00<00:00, 144kB/s] \n",
      "Downloading readme: 100%|██████████| 16.4k/16.4k [00:00<00:00, 69.8kB/s]\n",
      "Running sub-experiment 1 out of 15\n",
      "Downloading and preparing dataset ted_talks_iwslt/eu_ca_2014 to /root/.cache/huggingface/datasets/ted_talks_iwslt/eu_ca_2014/1.1.0/a42f763b98f8e9cc19358a2ac1007b0b600554e260ee48e6316df39703ef37a4...\n",
      "Downloading data: 100%|██████████| 1.67G/1.67G [00:24<00:00, 67.6MB/s]\n",
      "Dataset ted_talks_iwslt downloaded and prepared to /root/.cache/huggingface/datasets/ted_talks_iwslt/eu_ca_2014/1.1.0/a42f763b98f8e9cc19358a2ac1007b0b600554e260ee48e6316df39703ef37a4. Subsequent calls will reuse this data.\n",
      "100%|██████████| 44/44 [00:00<00:00, 8654.54ex/s]\n",
      "100%|██████████| 44/44 [00:00<00:00, 10726.50ex/s]\n",
      "Downloading builder script: 100%|██████████| 7.95k/7.95k [00:00<00:00, 3.82MB/s]\n",
      "Downloading: 100%|██████████| 29.0/29.0 [00:00<00:00, 22.1kB/s]\n",
      "Downloading: 100%|██████████| 625/625 [00:00<00:00, 466kB/s]\n",
      "Downloading: 100%|██████████| 996k/996k [00:01<00:00, 737kB/s] \n",
      "Downloading: 100%|██████████| 714M/714M [00:12<00:00, 56.0MB/s]\n",
      "Running sub-experiment 2 out of 15\n",
      "Downloading and preparing dataset ted_talks_iwslt/eu_ca_2015 to /root/.cache/huggingface/datasets/ted_talks_iwslt/eu_ca_2015/1.1.0/a42f763b98f8e9cc19358a2ac1007b0b600554e260ee48e6316df39703ef37a4...\n",
      "Dataset ted_talks_iwslt downloaded and prepared to /root/.cache/huggingface/datasets/ted_talks_iwslt/eu_ca_2015/1.1.0/a42f763b98f8e9cc19358a2ac1007b0b600554e260ee48e6316df39703ef37a4. Subsequent calls will reuse this data.\n",
      "100%|██████████| 52/52 [00:00<00:00, 12813.05ex/s]\n",
      "100%|██████████| 52/52 [00:00<00:00, 9190.28ex/s]\n",
      "Running sub-experiment 3 out of 15\n",
      "Downloading and preparing dataset ted_talks_iwslt/eu_ca_2016 to /root/.cache/huggingface/datasets/ted_talks_iwslt/eu_ca_2016/1.1.0/a42f763b98f8e9cc19358a2ac1007b0b600554e260ee48e6316df39703ef37a4...\n",
      "Dataset ted_talks_iwslt downloaded and prepared to /root/.cache/huggingface/datasets/ted_talks_iwslt/eu_ca_2016/1.1.0/a42f763b98f8e9cc19358a2ac1007b0b600554e260ee48e6316df39703ef37a4. Subsequent calls will reuse this data.\n",
      "100%|██████████| 54/54 [00:00<00:00, 12922.49ex/s]\n",
      "100%|██████████| 54/54 [00:00<00:00, 13482.49ex/s]\n",
      "Running sub-experiment 4 out of 15\n",
      "Downloading and preparing dataset ted_talks_iwslt/nl_en_2014 to /root/.cache/huggingface/datasets/ted_talks_iwslt/nl_en_2014/1.1.0/a42f763b98f8e9cc19358a2ac1007b0b600554e260ee48e6316df39703ef37a4...\n",
      "Dataset ted_talks_iwslt downloaded and prepared to /root/.cache/huggingface/datasets/ted_talks_iwslt/nl_en_2014/1.1.0/a42f763b98f8e9cc19358a2ac1007b0b600554e260ee48e6316df39703ef37a4. Subsequent calls will reuse this data.\n",
      "100%|██████████| 2966/2966 [00:00<00:00, 16773.39ex/s]\n",
      "100%|██████████| 2966/2966 [00:00<00:00, 15984.42ex/s]\n",
      "Downloading: 100%|██████████| 482/482 [00:00<00:00, 403kB/s]\n",
      "Downloading: 100%|██████████| 899k/899k [00:01<00:00, 666kB/s] \n",
      "Downloading: 100%|██████████| 456k/456k [00:01<00:00, 412kB/s]\n",
      "Downloading: 100%|██████████| 1.43G/1.43G [00:48<00:00, 29.3MB/s]\n",
      "Running sub-experiment 5 out of 15\n",
      "Downloading and preparing dataset ted_talks_iwslt/nl_en_2015 to /root/.cache/huggingface/datasets/ted_talks_iwslt/nl_en_2015/1.1.0/a42f763b98f8e9cc19358a2ac1007b0b600554e260ee48e6316df39703ef37a4...\n",
      "Dataset ted_talks_iwslt downloaded and prepared to /root/.cache/huggingface/datasets/ted_talks_iwslt/nl_en_2015/1.1.0/a42f763b98f8e9cc19358a2ac1007b0b600554e260ee48e6316df39703ef37a4. Subsequent calls will reuse this data.\n",
      "100%|██████████| 3550/3550 [00:00<00:00, 14845.23ex/s]\n",
      "100%|██████████| 3550/3550 [00:00<00:00, 16677.75ex/s]\n"
     ]
    }
   ]
  }
 ]
}
