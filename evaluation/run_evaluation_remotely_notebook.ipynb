{
  "nbformat": 4,
  "nbformat_minor": 0,
  "metadata": {
    "colab": {
      "provenance": [],
      "include_colab_link": true
    },
    "kernelspec": {
      "name": "python3",
      "display_name": "Python 3"
    },
    "language_info": {
      "name": "python"
    },
    "gpuClass": "standard",
    "accelerator": "GPU"
  },
  "cells": [
    {
      "cell_type": "markdown",
      "metadata": {
        "id": "view-in-github",
        "colab_type": "text"
      },
      "source": [
        "<a href=\"https://colab.research.google.com/github/yonikremer/final_project/blob/master/evaluation/run_evaluation_remotely_notebook.ipynb\" target=\"_parent\"><img src=\"https://colab.research.google.com/assets/colab-badge.svg\" alt=\"Open In Colab\"/></a>"
      ]
    },
    {
      "cell_type": "markdown",
      "source": [
        "# Configure the project"
      ],
      "metadata": {
        "id": "8aa3ZKSzG2kB"
      }
    },
    {
      "cell_type": "code",
      "source": [
        "%%bash\n",
        "comet_ml_api_key_file = \"/content/final_project/evaluation/comet_ml_api_key.txt\"\n",
        "if [ -f \"$comet_ml_api_key_file\" ]\n",
        "then\n",
        "    comet_ml_api_key=$(cat \"$comet_ml_api_key_file\")\n",
        "else \n",
        "    read comet_ml_api_key\n",
        "rm -rf ./final_project\n",
        "git clone --quiet https://github.com/yonikremer/final_project.git\n",
        "echo \"$comet_ml_api_key\" > \"$comet_ml_api_key_file\""
      ],
      "metadata": {
        "id": "sTvXd2S-xIrC"
      },
      "execution_count": null,
      "outputs": []
    },
    {
      "cell_type": "code",
      "source": [
        "%%bash\n",
        "pip install --quiet folium==0.2.1 imgaug==0.2.5 --requirement ./final_project/evaluation/evaluation_requirements.txt --requirement ./final_project/project_requirements.txt"
      ],
      "metadata": {
        "id": "L4YZc7WyH8pi"
      },
      "execution_count": null,
      "outputs": []
    },
    {
      "cell_type": "code",
      "source": [
        "import sys\n",
        "import json\n",
        "from IPython.display import clear_output\n",
        "\n",
        "from datasets import get_dataset_config_names, load_dataset\n",
        "\n",
        "sys.path.append('/content/final_project')\n",
        "sys.path.append('/content/final_project/evaluation')\n",
        "from final_project.evaluation.evaluate_translation import main as evaluation_main\n",
        "from final_project.evaluation.evaluate_translation import DATASET_NAME\n",
        "\n",
        "\n",
        "hyper_params_file = \"./final_project/evaluation/evaluated_text_generator_dict.json\"\n",
        "sub_sut_names = get_dataset_config_names(DATASET_NAME)\n",
        "\n",
        "for sub_set_name in sub_sut_names:\n",
        "    load_dataset(DATASET_NAME, sub_set_name, split=\"train\")\n",
        "clear_output()\n",
        "\n",
        "\n",
        "def change_group_size(new_group_size: int):\n",
        "    \"\"\"Changes the group size value in the hyper_params_file at ./final_project/evaluation/evaluated_text_generator_dict.json\"\"\"\n",
        "    with open(hyper_params_file, 'r+') as f:\n",
        "        data = json.load(f)\n",
        "        data['group_size'] = new_group_size\n",
        "        f.seek(0)\n",
        "        json.dump(data, f, indent=4)\n",
        "        f.truncate()\n",
        "\n",
        "for curr_group_size_log_2 in reversed(range(2)):\n",
        "    curr_group_size = 2 ** curr_group_size_log_2\n",
        "    change_group_size(curr_group_size)\n",
        "    evaluation_main(False)\n",
        "    clear_output()"
      ],
      "metadata": {
        "colab": {
          "base_uri": "https://localhost:8080/"
        },
        "id": "mpNDxfCZAR07",
        "outputId": "02311766-5bdd-4d71-cd0a-a5327c0b2828"
      },
      "execution_count": null,
      "outputs": [
        {
          "output_type": "stream",
          "name": "stderr",
          "text": [
            "Found cached dataset ted_talks_iwslt (/root/.cache/huggingface/datasets/ted_talks_iwslt/eu_ca_2014/1.1.0/a42f763b98f8e9cc19358a2ac1007b0b600554e260ee48e6316df39703ef37a4)\n",
            "Found cached dataset ted_talks_iwslt (/root/.cache/huggingface/datasets/ted_talks_iwslt/eu_ca_2015/1.1.0/a42f763b98f8e9cc19358a2ac1007b0b600554e260ee48e6316df39703ef37a4)\n",
            "Found cached dataset ted_talks_iwslt (/root/.cache/huggingface/datasets/ted_talks_iwslt/eu_ca_2016/1.1.0/a42f763b98f8e9cc19358a2ac1007b0b600554e260ee48e6316df39703ef37a4)\n",
            "Found cached dataset ted_talks_iwslt (/root/.cache/huggingface/datasets/ted_talks_iwslt/nl_en_2014/1.1.0/a42f763b98f8e9cc19358a2ac1007b0b600554e260ee48e6316df39703ef37a4)\n",
            "Found cached dataset ted_talks_iwslt (/root/.cache/huggingface/datasets/ted_talks_iwslt/nl_en_2015/1.1.0/a42f763b98f8e9cc19358a2ac1007b0b600554e260ee48e6316df39703ef37a4)\n",
            "Found cached dataset ted_talks_iwslt (/root/.cache/huggingface/datasets/ted_talks_iwslt/nl_en_2016/1.1.0/a42f763b98f8e9cc19358a2ac1007b0b600554e260ee48e6316df39703ef37a4)\n",
            "Found cached dataset ted_talks_iwslt (/root/.cache/huggingface/datasets/ted_talks_iwslt/nl_hi_2014/1.1.0/a42f763b98f8e9cc19358a2ac1007b0b600554e260ee48e6316df39703ef37a4)\n",
            "Found cached dataset ted_talks_iwslt (/root/.cache/huggingface/datasets/ted_talks_iwslt/nl_hi_2015/1.1.0/a42f763b98f8e9cc19358a2ac1007b0b600554e260ee48e6316df39703ef37a4)\n",
            "Found cached dataset ted_talks_iwslt (/root/.cache/huggingface/datasets/ted_talks_iwslt/nl_hi_2016/1.1.0/a42f763b98f8e9cc19358a2ac1007b0b600554e260ee48e6316df39703ef37a4)\n",
            "Found cached dataset ted_talks_iwslt (/root/.cache/huggingface/datasets/ted_talks_iwslt/de_ja_2014/1.1.0/a42f763b98f8e9cc19358a2ac1007b0b600554e260ee48e6316df39703ef37a4)\n",
            "Found cached dataset ted_talks_iwslt (/root/.cache/huggingface/datasets/ted_talks_iwslt/de_ja_2015/1.1.0/a42f763b98f8e9cc19358a2ac1007b0b600554e260ee48e6316df39703ef37a4)\n",
            "Found cached dataset ted_talks_iwslt (/root/.cache/huggingface/datasets/ted_talks_iwslt/de_ja_2016/1.1.0/a42f763b98f8e9cc19358a2ac1007b0b600554e260ee48e6316df39703ef37a4)\n",
            "Found cached dataset ted_talks_iwslt (/root/.cache/huggingface/datasets/ted_talks_iwslt/fr-ca_hi_2014/1.1.0/a42f763b98f8e9cc19358a2ac1007b0b600554e260ee48e6316df39703ef37a4)\n",
            "Found cached dataset ted_talks_iwslt (/root/.cache/huggingface/datasets/ted_talks_iwslt/fr-ca_hi_2015/1.1.0/a42f763b98f8e9cc19358a2ac1007b0b600554e260ee48e6316df39703ef37a4)\n",
            "Found cached dataset ted_talks_iwslt (/root/.cache/huggingface/datasets/ted_talks_iwslt/fr-ca_hi_2016/1.1.0/a42f763b98f8e9cc19358a2ac1007b0b600554e260ee48e6316df39703ef37a4)\n",
            "COMET WARNING: Comet has disabled auto-logging functionality as it has been imported after the following ML modules: tensorboard, sklearn, tensorflow, torch, keras. Metrics and hyperparameters can still be logged using comet_ml.log_metrics() and comet_ml.log_parameters()\n",
            "COMET WARNING: As you are running in a Jupyter environment, you will need to call `experiment.end()` when finished to ensure all metrics and code are logged before exiting.\n",
            "COMET ERROR: Failed to calculate active processors count. Fall back to default CPU count 1\n",
            "COMET INFO: CUDA_VISIBLE_DEVICES is unset, defaulting to all devices\n",
            "COMET INFO: devices to report: ['GPU-8c8ed3d2-b922-fc3e-0f91-c7b389db3b4a']\n",
            "COMET INFO: Experiment is live on comet.com https://www.comet.com/yonikremer/grouped-sampling-evaluation/959d99d917a546e78784ed5a2edc27aa\n",
            "\n"
          ]
        },
        {
          "output_type": "stream",
          "name": "stdout",
          "text": [
            "Running sub-experiment 1 out of 15\n"
          ]
        },
        {
          "output_type": "stream",
          "name": "stderr",
          "text": [
            "Found cached dataset ted_talks_iwslt (/root/.cache/huggingface/datasets/ted_talks_iwslt/eu_ca_2014/1.1.0/a42f763b98f8e9cc19358a2ac1007b0b600554e260ee48e6316df39703ef37a4)\n",
            "Loading cached processed dataset at /root/.cache/huggingface/datasets/ted_talks_iwslt/eu_ca_2014/1.1.0/a42f763b98f8e9cc19358a2ac1007b0b600554e260ee48e6316df39703ef37a4/cache-1125af773d92038f.arrow\n",
            "Loading cached processed dataset at /root/.cache/huggingface/datasets/ted_talks_iwslt/eu_ca_2014/1.1.0/a42f763b98f8e9cc19358a2ac1007b0b600554e260ee48e6316df39703ef37a4/cache-6a6457c8025b38ab.arrow\n",
            "/content/final_project/evaluation/evaluate_translation.py:69: UserWarning: GPU utilization is zero\n",
            "  warn(\"GPU utilization is zero\")\n"
          ]
        },
        {
          "output_type": "stream",
          "name": "stdout",
          "text": [
            "Translated 44 examples in 0:00:38.895070\n"
          ]
        },
        {
          "output_type": "stream",
          "name": "stderr",
          "text": [
            "COMET INFO: CUDA_VISIBLE_DEVICES is unset, defaulting to all devices\n",
            "COMET INFO: devices to report: ['GPU-8c8ed3d2-b922-fc3e-0f91-c7b389db3b4a']\n"
          ]
        },
        {
          "output_type": "stream",
          "name": "stdout",
          "text": [
            "Translated 88 examples in 0:01:11.649713\n",
            "Running sub-experiment 2 out of 15\n"
          ]
        },
        {
          "output_type": "stream",
          "name": "stderr",
          "text": [
            "Found cached dataset ted_talks_iwslt (/root/.cache/huggingface/datasets/ted_talks_iwslt/eu_ca_2015/1.1.0/a42f763b98f8e9cc19358a2ac1007b0b600554e260ee48e6316df39703ef37a4)\n",
            "Loading cached processed dataset at /root/.cache/huggingface/datasets/ted_talks_iwslt/eu_ca_2015/1.1.0/a42f763b98f8e9cc19358a2ac1007b0b600554e260ee48e6316df39703ef37a4/cache-5e5851f2ae5cd15a.arrow\n",
            "Loading cached processed dataset at /root/.cache/huggingface/datasets/ted_talks_iwslt/eu_ca_2015/1.1.0/a42f763b98f8e9cc19358a2ac1007b0b600554e260ee48e6316df39703ef37a4/cache-613700f371c3aca6.arrow\n",
            "COMET INFO: CUDA_VISIBLE_DEVICES is unset, defaulting to all devices\n",
            "COMET INFO: devices to report: ['GPU-8c8ed3d2-b922-fc3e-0f91-c7b389db3b4a']\n"
          ]
        },
        {
          "output_type": "stream",
          "name": "stdout",
          "text": [
            "Translated 140 examples in 0:02:02.002951\n",
            "Translated 192 examples in 0:02:43.987664\n",
            "Running sub-experiment 3 out of 15\n"
          ]
        },
        {
          "output_type": "stream",
          "name": "stderr",
          "text": [
            "Found cached dataset ted_talks_iwslt (/root/.cache/huggingface/datasets/ted_talks_iwslt/eu_ca_2016/1.1.0/a42f763b98f8e9cc19358a2ac1007b0b600554e260ee48e6316df39703ef37a4)\n",
            "Loading cached processed dataset at /root/.cache/huggingface/datasets/ted_talks_iwslt/eu_ca_2016/1.1.0/a42f763b98f8e9cc19358a2ac1007b0b600554e260ee48e6316df39703ef37a4/cache-c8bee92b64eaa978.arrow\n",
            "Loading cached processed dataset at /root/.cache/huggingface/datasets/ted_talks_iwslt/eu_ca_2016/1.1.0/a42f763b98f8e9cc19358a2ac1007b0b600554e260ee48e6316df39703ef37a4/cache-3a191deb24cac441.arrow\n",
            "COMET INFO: CUDA_VISIBLE_DEVICES is unset, defaulting to all devices\n",
            "COMET INFO: devices to report: ['GPU-8c8ed3d2-b922-fc3e-0f91-c7b389db3b4a']\n"
          ]
        }
      ]
    },
    {
      "cell_type": "code",
      "source": [
        "for curr_group_size in (256, 512, 1024, 2048):\n",
        "    curr_group_size = 2 ** curr_group_size_log_2\n",
        "    change_group_size(curr_group_size)\n",
        "    try:\n",
        "        evaluation_main(False)\n",
        "    except RuntimeError as e:\n",
        "        break\n",
        "    clear_output()"
      ],
      "metadata": {
        "id": "35OhLjCullG7"
      },
      "execution_count": null,
      "outputs": []
    }
  ]
}