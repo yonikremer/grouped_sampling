{
  "nbformat": 4,
  "nbformat_minor": 0,
  "metadata": {
    "colab": {
      "provenance": [],
      "include_colab_link": true
    },
    "kernelspec": {
      "name": "python3",
      "display_name": "Python 3"
    },
    "language_info": {
      "name": "python"
    },
    "gpuClass": "standard",
    "accelerator": "GPU"
  },
  "cells": [
    {
      "cell_type": "markdown",
      "metadata": {
        "id": "view-in-github",
        "colab_type": "text"
      },
      "source": [
        "<a href=\"https://colab.research.google.com/github/yonikremer/final_project/blob/master/evaluation/run_evaluation_remotely_notebook.ipynb\" target=\"_parent\"><img src=\"https://colab.research.google.com/assets/colab-badge.svg\" alt=\"Open In Colab\"/></a>"
      ]
    },
    {
      "cell_type": "markdown",
      "source": [
        "# Configure the project"
      ],
      "metadata": {
        "id": "8aa3ZKSzG2kB"
      }
    },
    {
      "cell_type": "code",
      "source": [
        "%%bash\n",
        "comet_ml_api_key_file = \"/content/final_project/evaluation/comet_ml_api_key.txt\"\n",
        "if [ -f \"$comet_ml_api_key_file\" ]\n",
        "then\n",
        "    comet_ml_api_key=$(cat \"$comet_ml_api_key_file\")\n",
        "else \n",
        "    read comet_ml_api_key\n",
        "rm -rf ./final_project\n",
        "git clone --quiet https://github.com/yonikremer/final_project.git\n",
        "echo \"$comet_ml_api_key\" > \"$comet_ml_api_key_file\""
      ],
      "metadata": {
        "id": "sTvXd2S-xIrC"
      },
      "execution_count": 1,
      "outputs": []
    },
    {
      "cell_type": "code",
      "source": [
        "%%bash\n",
        "pip install --quiet folium==0.2.1 imgaug==0.2.5 --requirement ./final_project/evaluation/evaluation_requirements.txt --requirement ./final_project/project_requirements.txt"
      ],
      "metadata": {
        "id": "L4YZc7WyH8pi"
      },
      "execution_count": 3,
      "outputs": []
    },
    {
      "cell_type": "code",
      "source": [
        "import sys\n",
        "import json\n",
        "from IPython.display import clear_output\n",
        "\n",
        "from datasets import get_dataset_config_names, load_dataset\n",
        "\n",
        "sys.path.append('/content/final_project')\n",
        "sys.path.append('/content/final_project/evaluation')\n",
        "from final_project.evaluation.evaluate_translation import main as evaluation_main\n",
        "from final_project.evaluation.evaluate_translation import DATASET_NAME\n",
        "\n",
        "\n",
        "hyper_params_file = \"./final_project/evaluation/evaluated_text_generator_dict.json\"\n",
        "sub_sut_names = get_dataset_config_names(DATASET_NAME)\n",
        "\n",
        "for sub_set_name in sub_sut_names:\n",
        "    load_dataset(DATASET_NAME, sub_set_name, split=\"train\")\n",
        "\n",
        "\n",
        "def change_group_size(new_group_size: int):\n",
        "    \"\"\"Changes the group size value in the hyper_params_file at ./final_project/evaluation/evaluated_text_generator_dict.json\"\"\"\n",
        "    with open(hyper_params_file, 'r+') as f:\n",
        "        data = json.load(f)\n",
        "        data['group_size'] = new_group_size\n",
        "        f.seek(0)\n",
        "        json.dump(data, f, indent=4)\n",
        "        f.truncate()\n",
        "\n",
        "for curr_group_size_log_2 in reversed(range(8)):\n",
        "    curr_group_size = 2 ** curr_group_size_log_2\n",
        "    change_group_size(curr_group_size)\n",
        "    evaluation_main(False)\n",
        "    clear_output()"
      ],
      "metadata": {
        "colab": {
          "base_uri": "https://localhost:8080/"
        },
        "id": "mpNDxfCZAR07",
        "outputId": "29b6de88-7cc7-4ea2-913c-8cc1775c49f3"
      },
      "execution_count": null,
      "outputs": [
        {
          "metadata": {
            "tags": null
          },
          "name": "stderr",
          "output_type": "stream",
          "text": [
            "COMET WARNING: Comet has disabled auto-logging functionality as it has been imported after the following ML modules: keras, torch, sklearn, tensorflow, tensorboard. Metrics and hyperparameters can still be logged using comet_ml.log_metrics() and comet_ml.log_parameters()\n",
            "COMET WARNING: As you are running in a Jupyter environment, you will need to call `experiment.end()` when finished to ensure all metrics and code are logged before exiting.\n",
            "COMET ERROR: Failed to calculate active processors count. Fall back to default CPU count 1\n",
            "COMET INFO: CUDA_VISIBLE_DEVICES is unset, defaulting to all devices\n",
            "COMET INFO: devices to report: ['GPU-8c8ed3d2-b922-fc3e-0f91-c7b389db3b4a']\n",
            "COMET INFO: Experiment is live on comet.com https://www.comet.com/yonikremer/grouped-sampling-evaluation/6a918d5c82324b1480ee36cf0b43cd11\n",
            "\n"
          ]
        },
        {
          "metadata": {
            "tags": null
          },
          "name": "stdout",
          "output_type": "stream",
          "text": [
            "Running sub-experiment 1 out of 15\n"
          ]
        },
        {
          "metadata": {
            "tags": null
          },
          "name": "stderr",
          "output_type": "stream",
          "text": [
            "Found cached dataset ted_talks_iwslt (/root/.cache/huggingface/datasets/ted_talks_iwslt/eu_ca_2014/1.1.0/a42f763b98f8e9cc19358a2ac1007b0b600554e260ee48e6316df39703ef37a4)\n",
            "Loading cached processed dataset at /root/.cache/huggingface/datasets/ted_talks_iwslt/eu_ca_2014/1.1.0/a42f763b98f8e9cc19358a2ac1007b0b600554e260ee48e6316df39703ef37a4/cache-1125af773d92038f.arrow\n",
            "Loading cached processed dataset at /root/.cache/huggingface/datasets/ted_talks_iwslt/eu_ca_2014/1.1.0/a42f763b98f8e9cc19358a2ac1007b0b600554e260ee48e6316df39703ef37a4/cache-6a6457c8025b38ab.arrow\n",
            "/content/final_project/evaluation/evaluate_translation.py:69: UserWarning: GPU utilization is zero\n",
            "  warn(\"GPU utilization is zero\")\n"
          ]
        },
        {
          "metadata": {
            "tags": null
          },
          "name": "stdout",
          "output_type": "stream",
          "text": [
            "Translated 44 examples in 0:00:07.934446\n",
            "Translated 88 examples in 0:00:14.065418\n",
            "Running sub-experiment 2 out of 15\n"
          ]
        },
        {
          "metadata": {
            "tags": null
          },
          "name": "stderr",
          "output_type": "stream",
          "text": [
            "Found cached dataset ted_talks_iwslt (/root/.cache/huggingface/datasets/ted_talks_iwslt/eu_ca_2015/1.1.0/a42f763b98f8e9cc19358a2ac1007b0b600554e260ee48e6316df39703ef37a4)\n",
            "Loading cached processed dataset at /root/.cache/huggingface/datasets/ted_talks_iwslt/eu_ca_2015/1.1.0/a42f763b98f8e9cc19358a2ac1007b0b600554e260ee48e6316df39703ef37a4/cache-5e5851f2ae5cd15a.arrow\n",
            "Loading cached processed dataset at /root/.cache/huggingface/datasets/ted_talks_iwslt/eu_ca_2015/1.1.0/a42f763b98f8e9cc19358a2ac1007b0b600554e260ee48e6316df39703ef37a4/cache-613700f371c3aca6.arrow\n"
          ]
        },
        {
          "metadata": {
            "tags": null
          },
          "name": "stdout",
          "output_type": "stream",
          "text": [
            "Translated 140 examples in 0:00:22.440871\n",
            "Translated 192 examples in 0:00:28.888519\n",
            "Running sub-experiment 3 out of 15\n"
          ]
        },
        {
          "metadata": {
            "tags": null
          },
          "name": "stderr",
          "output_type": "stream",
          "text": [
            "Found cached dataset ted_talks_iwslt (/root/.cache/huggingface/datasets/ted_talks_iwslt/eu_ca_2016/1.1.0/a42f763b98f8e9cc19358a2ac1007b0b600554e260ee48e6316df39703ef37a4)\n",
            "Loading cached processed dataset at /root/.cache/huggingface/datasets/ted_talks_iwslt/eu_ca_2016/1.1.0/a42f763b98f8e9cc19358a2ac1007b0b600554e260ee48e6316df39703ef37a4/cache-c8bee92b64eaa978.arrow\n",
            "Loading cached processed dataset at /root/.cache/huggingface/datasets/ted_talks_iwslt/eu_ca_2016/1.1.0/a42f763b98f8e9cc19358a2ac1007b0b600554e260ee48e6316df39703ef37a4/cache-3a191deb24cac441.arrow\n"
          ]
        },
        {
          "metadata": {
            "tags": null
          },
          "name": "stdout",
          "output_type": "stream",
          "text": [
            "Translated 246 examples in 0:00:37.352908\n",
            "Translated 300 examples in 0:00:43.898579\n",
            "Running sub-experiment 4 out of 15\n"
          ]
        },
        {
          "metadata": {
            "tags": null
          },
          "name": "stderr",
          "output_type": "stream",
          "text": [
            "Found cached dataset ted_talks_iwslt (/root/.cache/huggingface/datasets/ted_talks_iwslt/nl_en_2014/1.1.0/a42f763b98f8e9cc19358a2ac1007b0b600554e260ee48e6316df39703ef37a4)\n",
            "Loading cached processed dataset at /root/.cache/huggingface/datasets/ted_talks_iwslt/nl_en_2014/1.1.0/a42f763b98f8e9cc19358a2ac1007b0b600554e260ee48e6316df39703ef37a4/cache-8036ab8407b9eb26.arrow\n",
            "Loading cached processed dataset at /root/.cache/huggingface/datasets/ted_talks_iwslt/nl_en_2014/1.1.0/a42f763b98f8e9cc19358a2ac1007b0b600554e260ee48e6316df39703ef37a4/cache-267f2fd72e29b9d7.arrow\n",
            "COMET INFO: CUDA_VISIBLE_DEVICES is unset, defaulting to all devices\n",
            "COMET INFO: devices to report: ['GPU-8c8ed3d2-b922-fc3e-0f91-c7b389db3b4a']\n",
            "COMET INFO: CUDA_VISIBLE_DEVICES is unset, defaulting to all devices\n",
            "COMET INFO: devices to report: ['GPU-8c8ed3d2-b922-fc3e-0f91-c7b389db3b4a']\n",
            "COMET INFO: CUDA_VISIBLE_DEVICES is unset, defaulting to all devices\n",
            "COMET INFO: devices to report: ['GPU-8c8ed3d2-b922-fc3e-0f91-c7b389db3b4a']\n"
          ]
        },
        {
          "metadata": {
            "tags": null
          },
          "name": "stdout",
          "output_type": "stream",
          "text": [
            "Translated 3266 examples in 0:03:46.101515\n"
          ]
        },
        {
          "metadata": {
            "tags": null
          },
          "name": "stderr",
          "output_type": "stream",
          "text": [
            "COMET INFO: CUDA_VISIBLE_DEVICES is unset, defaulting to all devices\n",
            "COMET INFO: devices to report: ['GPU-8c8ed3d2-b922-fc3e-0f91-c7b389db3b4a']\n"
          ]
        },
        {
          "metadata": {
            "tags": null
          },
          "name": "stdout",
          "output_type": "stream",
          "text": [
            "Translated 6232 examples in 0:04:52.153156\n",
            "Running sub-experiment 5 out of 15\n"
          ]
        },
        {
          "output_type": "stream",
          "name": "stderr",
          "text": [
            "Found cached dataset ted_talks_iwslt (/root/.cache/huggingface/datasets/ted_talks_iwslt/nl_en_2015/1.1.0/a42f763b98f8e9cc19358a2ac1007b0b600554e260ee48e6316df39703ef37a4)\n",
            "Loading cached processed dataset at /root/.cache/huggingface/datasets/ted_talks_iwslt/nl_en_2015/1.1.0/a42f763b98f8e9cc19358a2ac1007b0b600554e260ee48e6316df39703ef37a4/cache-fcf280ee61ce9a20.arrow\n",
            "Loading cached processed dataset at /root/.cache/huggingface/datasets/ted_talks_iwslt/nl_en_2015/1.1.0/a42f763b98f8e9cc19358a2ac1007b0b600554e260ee48e6316df39703ef37a4/cache-cce83a54e85c02b9.arrow\n",
            "COMET INFO: CUDA_VISIBLE_DEVICES is unset, defaulting to all devices\n",
            "COMET INFO: devices to report: ['GPU-8c8ed3d2-b922-fc3e-0f91-c7b389db3b4a']\n",
            "COMET INFO: CUDA_VISIBLE_DEVICES is unset, defaulting to all devices\n",
            "COMET INFO: devices to report: ['GPU-8c8ed3d2-b922-fc3e-0f91-c7b389db3b4a']\n",
            "COMET INFO: CUDA_VISIBLE_DEVICES is unset, defaulting to all devices\n",
            "COMET INFO: devices to report: ['GPU-8c8ed3d2-b922-fc3e-0f91-c7b389db3b4a']\n",
            "COMET INFO: CUDA_VISIBLE_DEVICES is unset, defaulting to all devices\n",
            "COMET INFO: devices to report: ['GPU-8c8ed3d2-b922-fc3e-0f91-c7b389db3b4a']\n"
          ]
        },
        {
          "output_type": "stream",
          "name": "stdout",
          "text": [
            "Translated 9782 examples in 0:08:42.247716\n"
          ]
        },
        {
          "output_type": "stream",
          "name": "stderr",
          "text": [
            "COMET INFO: CUDA_VISIBLE_DEVICES is unset, defaulting to all devices\n",
            "COMET INFO: devices to report: ['GPU-8c8ed3d2-b922-fc3e-0f91-c7b389db3b4a']\n",
            "COMET INFO: CUDA_VISIBLE_DEVICES is unset, defaulting to all devices\n",
            "COMET INFO: devices to report: ['GPU-8c8ed3d2-b922-fc3e-0f91-c7b389db3b4a']\n"
          ]
        },
        {
          "output_type": "stream",
          "name": "stdout",
          "text": [
            "Translated 13332 examples in 0:10:03.076399\n",
            "Running sub-experiment 6 out of 15\n"
          ]
        },
        {
          "output_type": "stream",
          "name": "stderr",
          "text": [
            "Found cached dataset ted_talks_iwslt (/root/.cache/huggingface/datasets/ted_talks_iwslt/nl_en_2016/1.1.0/a42f763b98f8e9cc19358a2ac1007b0b600554e260ee48e6316df39703ef37a4)\n",
            "Loading cached processed dataset at /root/.cache/huggingface/datasets/ted_talks_iwslt/nl_en_2016/1.1.0/a42f763b98f8e9cc19358a2ac1007b0b600554e260ee48e6316df39703ef37a4/cache-aa90c5525b1d36ca.arrow\n",
            "Loading cached processed dataset at /root/.cache/huggingface/datasets/ted_talks_iwslt/nl_en_2016/1.1.0/a42f763b98f8e9cc19358a2ac1007b0b600554e260ee48e6316df39703ef37a4/cache-21ac236f1c768080.arrow\n"
          ]
        }
      ]
    },
    {
      "cell_type": "code",
      "source": [],
      "metadata": {
        "id": "35OhLjCullG7"
      },
      "execution_count": null,
      "outputs": []
    }
  ]
}