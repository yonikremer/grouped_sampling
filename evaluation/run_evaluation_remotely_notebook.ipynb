{
  "nbformat": 4,
  "nbformat_minor": 0,
  "metadata": {
    "colab": {
      "provenance": [],
      "include_colab_link": true
    },
    "kernelspec": {
      "name": "python3",
      "display_name": "Python 3"
    },
    "language_info": {
      "name": "python"
    },
    "gpuClass": "standard",
    "accelerator": "GPU"
  },
  "cells": [
    {
      "cell_type": "markdown",
      "metadata": {
        "id": "view-in-github",
        "colab_type": "text"
      },
      "source": [
        "<a href=\"https://colab.research.google.com/github/yonikremer/final_project/blob/master/evaluation/run_evaluation_remotely_notebook.ipynb\" target=\"_parent\"><img src=\"https://colab.research.google.com/assets/colab-badge.svg\" alt=\"Open In Colab\"/></a>"
      ]
    },
    {
      "cell_type": "markdown",
      "source": [
        "# Configure the project"
      ],
      "metadata": {
        "id": "8aa3ZKSzG2kB"
      }
    },
    {
      "cell_type": "code",
      "source": [
        "%%bash\n",
        "rm -rf ./final_project\n",
        "git clone --quiet https://github.com/yonikremer/final_project.git\n",
        "pip install -q folium==0.2.1 imgaug==0.2.5\n",
        "pip install --quiet --requirement ./final_project/evaluation/evaluation_requirements.txt\n",
        "pip install --quiet --requirement ./final_project/project_requirements.txt"
      ],
      "metadata": {
        "id": "L4YZc7WyH8pi",
        "outputId": "d05234d7-6e06-445d-caab-ded020a20a65",
        "colab": {
          "base_uri": "https://localhost:8080/"
        }
      },
      "execution_count": 1,
      "outputs": [
        {
          "output_type": "stream",
          "name": "stderr",
          "text": [
            "ERROR: pip's dependency resolver does not currently take into account all the packages that are installed. This behaviour is the source of the following dependency conflicts.\n",
            "datascience 0.10.6 requires folium==0.2.1, but you have folium 0.8.3 which is incompatible.\n",
            "albumentations 0.1.12 requires imgaug<0.2.7,>=0.2.5, but you have imgaug 0.2.9 which is incompatible.\n"
          ]
        }
      ]
    },
    {
      "cell_type": "code",
      "source": [
        "import json\n",
        "hyper_params_file = \"./final_project/evaluation/evaluated_text_generator_dict.json\"\n",
        "\n",
        "def change_group_size(new_group_size: int):\n",
        "    \"\"\"Changes the group size value in the hyper_params_file at ./final_project/evaluation/evaluated_text_generator_dict.json\"\"\"\n",
        "    with open(hyper_params_file, 'r+') as f:\n",
        "        data = json.load(f)\n",
        "        data['group_size'] = new_group_size\n",
        "        f.seek(0)\n",
        "        json.dump(data, f, indent=4)\n",
        "        f.truncate()"
      ],
      "metadata": {
        "id": "ZozltIOshXk4"
      },
      "execution_count": 5,
      "outputs": []
    },
    {
      "cell_type": "code",
      "source": [
        "for curr_group_size_log_2 in range(10):\n",
        "    change_group_size(2 ** curr_group_size_log_2)\n",
        "    !export PYTHONPATH=\"${PYTHONPATH}:./final_project\" && python -O ./final_project/evaluation/evaluate_translation.py"
      ],
      "metadata": {
        "colab": {
          "base_uri": "https://localhost:8080/"
        },
        "id": "pU6X_oggHaHj",
        "outputId": "7dbbda92-a442-44ea-d15b-72f6442c360f"
      },
      "execution_count": null,
      "outputs": [
        {
          "metadata": {
            "tags": null
          },
          "name": "stdout",
          "output_type": "stream",
          "text": [
            "Please enter your api_key for comet ml: yNLPmFeYvfF9HArNCZ2xm8RHn\n",
            "COMET WARNING: Comet has disabled auto-logging functionality as it has been imported after the following ML modules: tensorflow, keras, tensorboard, sklearn, torch. Metrics and hyperparameters can still be logged using comet_ml.log_metrics() and comet_ml.log_parameters()\n",
            "COMET ERROR: Failed to calculate active processors count. Fall back to default CPU count 1\n",
            "COMET INFO: CUDA_VISIBLE_DEVICES is unset, defaulting to all devices\n",
            "COMET INFO: devices to report: ['GPU-69feb561-b04b-597d-b35b-928698edf77d']\n",
            "COMET INFO: Experiment is live on comet.com https://www.comet.com/yonikremer/grouped-sampling-evaluation/8cca623f6f604349b853b4ab5b6bfcb6\n",
            "\n",
            "Running sub-experiment 1 out of 15\n",
            "Downloading and preparing dataset ted_talks_iwslt/eu_ca_2014 to /root/.cache/huggingface/datasets/ted_talks_iwslt/eu_ca_2014/1.1.0/a42f763b98f8e9cc19358a2ac1007b0b600554e260ee48e6316df39703ef37a4...\n",
            "COMET INFO: CUDA_VISIBLE_DEVICES is unset, defaulting to all devices\n",
            "COMET INFO: devices to report: ['GPU-69feb561-b04b-597d-b35b-928698edf77d']\n",
            "Dataset ted_talks_iwslt downloaded and prepared to /root/.cache/huggingface/datasets/ted_talks_iwslt/eu_ca_2014/1.1.0/a42f763b98f8e9cc19358a2ac1007b0b600554e260ee48e6316df39703ef37a4. Subsequent calls will reuse this data.\n",
            "Downloading builder script: 100%|██████████| 7.95k/7.95k [00:00<00:00, 4.03MB/s]\n"
          ]
        }
      ]
    }
  ]
}