{
  "nbformat": 4,
  "nbformat_minor": 0,
  "metadata": {
    "colab": {
      "provenance": [],
      "include_colab_link": true
    },
    "kernelspec": {
      "name": "python3",
      "display_name": "Python 3"
    },
    "language_info": {
      "name": "python"
    },
    "gpuClass": "standard",
    "accelerator": "GPU"
  },
  "cells": [
    {
      "cell_type": "markdown",
      "metadata": {
        "id": "view-in-github",
        "colab_type": "text"
      },
      "source": [
        "<a href=\"https://colab.research.google.com/github/yonikremer/final_project/blob/master/evaluation/run_evaluation_remotely_notebook.ipynb\" target=\"_parent\"><img src=\"https://colab.research.google.com/assets/colab-badge.svg\" alt=\"Open In Colab\"/></a>"
      ]
    },
    {
      "cell_type": "markdown",
      "source": [
        "# Configure the project"
      ],
      "metadata": {
        "id": "8aa3ZKSzG2kB"
      }
    },
    {
      "cell_type": "code",
      "source": [
        "%%bash\n",
        "comet_ml_api_key=$(cat /content/final_project/evaluation/comet_ml_api_key.txt)\n",
        "rm -rf ./final_project\n",
        "git clone --quiet https://github.com/yonikremer/final_project.git\n",
        "echo \"$comet_ml_api_key\" > /content/final_project/evaluation/comet_ml_api_key.txt"
      ],
      "metadata": {
        "id": "aRxEEmvI8Mva"
      },
      "execution_count": 11,
      "outputs": []
    },
    {
      "cell_type": "code",
      "source": [
        "%%bash\n",
        "pip install -q folium==0.2.1 imgaug==0.2.5\n",
        "pip install --quiet --requirement ./final_project/evaluation/evaluation_requirements.txt\n",
        "pip install --quiet --requirement ./final_project/project_requirements.txt"
      ],
      "metadata": {
        "id": "L4YZc7WyH8pi"
      },
      "execution_count": 1,
      "outputs": []
    },
    {
      "cell_type": "code",
      "source": [
        "import sys\n",
        "# sys.path is a list of absolute path strings\n",
        "sys.path.append('/content/final_project')\n",
        "\n",
        "from datasets import get_dataset_config_names\n",
        "\n",
        "from final_project.evaluation.evaluate_translation import DATASET_NAME\n",
        "sub_sut_names = get_dataset_config_names(DATASET_NAME)\n",
        "\n",
        "for sub_set_name in sub_sut_names:\n",
        "    load_dataset(DATASET_NAME, sub_set_name, split=\"train\")"
      ],
      "metadata": {
        "id": "mpNDxfCZAR07"
      },
      "execution_count": null,
      "outputs": []
    },
    {
      "cell_type": "code",
      "source": [
        "import json\n",
        "hyper_params_file = \"./final_project/evaluation/evaluated_text_generator_dict.json\"\n",
        "\n",
        "def change_group_size(new_group_size: int):\n",
        "    \"\"\"Changes the group size value in the hyper_params_file at ./final_project/evaluation/evaluated_text_generator_dict.json\"\"\"\n",
        "    with open(hyper_params_file, 'r+') as f:\n",
        "        data = json.load(f)\n",
        "        data['group_size'] = new_group_size\n",
        "        f.seek(0)\n",
        "        json.dump(data, f, indent=4)\n",
        "        f.truncate()"
      ],
      "metadata": {
        "id": "ZozltIOshXk4"
      },
      "execution_count": 12,
      "outputs": []
    },
    {
      "cell_type": "code",
      "source": [
        "for curr_group_size_log_2 in reversed(range(10)):\n",
        "    curr_group_size = 2 ** curr_group_size_log_2\n",
        "    change_group_size(curr_group_size)\n",
        "    !export PYTHONPATH=\"${PYTHONPATH}:./final_project\" && python -O ./final_project/evaluation/evaluate_translation.py"
      ],
      "metadata": {
        "colab": {
          "base_uri": "https://localhost:8080/"
        },
        "id": "pU6X_oggHaHj",
        "outputId": "e09280c8-1d37-4680-8d59-a446d9c0d833"
      },
      "execution_count": null,
      "outputs": [
        {
          "metadata": {
            "tags": null
          },
          "name": "stdout",
          "output_type": "stream",
          "text": [
            "COMET WARNING: Comet has disabled auto-logging functionality as it has been imported after the following ML modules: sklearn, keras, tensorboard, tensorflow, torch. Metrics and hyperparameters can still be logged using comet_ml.log_metrics() and comet_ml.log_parameters()\n",
            "COMET ERROR: Failed to calculate active processors count. Fall back to default CPU count 1\n",
            "COMET INFO: CUDA_VISIBLE_DEVICES is unset, defaulting to all devices\n",
            "COMET INFO: devices to report: ['GPU-69feb561-b04b-597d-b35b-928698edf77d']\n",
            "COMET INFO: Experiment is live on comet.com https://www.comet.com/yonikremer/grouped-sampling-evaluation/38e943b64a964c5a9d5121894653ece2\n",
            "\n",
            "Running sub-experiment 1 out of 15\n",
            "Found cached dataset ted_talks_iwslt (/root/.cache/huggingface/datasets/ted_talks_iwslt/eu_ca_2014/1.1.0/a42f763b98f8e9cc19358a2ac1007b0b600554e260ee48e6316df39703ef37a4)\n",
            "Loading cached processed dataset at /root/.cache/huggingface/datasets/ted_talks_iwslt/eu_ca_2014/1.1.0/a42f763b98f8e9cc19358a2ac1007b0b600554e260ee48e6316df39703ef37a4/cache-85d95216119fdec2.arrow\n",
            "Loading cached processed dataset at /root/.cache/huggingface/datasets/ted_talks_iwslt/eu_ca_2014/1.1.0/a42f763b98f8e9cc19358a2ac1007b0b600554e260ee48e6316df39703ef37a4/cache-41eb9dff67b0d12e.arrow\n",
            "Translated 44 examples in 0:00:33.483317\n",
            "COMET INFO: CUDA_VISIBLE_DEVICES is unset, defaulting to all devices\n",
            "COMET INFO: devices to report: ['GPU-69feb561-b04b-597d-b35b-928698edf77d']\n",
            "Translated 88 examples in 0:01:04.188190\n",
            "Running sub-experiment 2 out of 15\n",
            "Found cached dataset ted_talks_iwslt (/root/.cache/huggingface/datasets/ted_talks_iwslt/eu_ca_2015/1.1.0/a42f763b98f8e9cc19358a2ac1007b0b600554e260ee48e6316df39703ef37a4)\n",
            "Loading cached processed dataset at /root/.cache/huggingface/datasets/ted_talks_iwslt/eu_ca_2015/1.1.0/a42f763b98f8e9cc19358a2ac1007b0b600554e260ee48e6316df39703ef37a4/cache-b4e2e0eb8d05a4d3.arrow\n",
            "Loading cached processed dataset at /root/.cache/huggingface/datasets/ted_talks_iwslt/eu_ca_2015/1.1.0/a42f763b98f8e9cc19358a2ac1007b0b600554e260ee48e6316df39703ef37a4/cache-8db9c60963795db0.arrow\n",
            "Translated 140 examples in 0:01:36.528352\n",
            "COMET INFO: CUDA_VISIBLE_DEVICES is unset, defaulting to all devices\n",
            "COMET INFO: devices to report: ['GPU-69feb561-b04b-597d-b35b-928698edf77d']\n",
            "Translated 192 examples in 0:02:06.911432\n",
            "Running sub-experiment 3 out of 15\n",
            "Found cached dataset ted_talks_iwslt (/root/.cache/huggingface/datasets/ted_talks_iwslt/eu_ca_2016/1.1.0/a42f763b98f8e9cc19358a2ac1007b0b600554e260ee48e6316df39703ef37a4)\n",
            "Loading cached processed dataset at /root/.cache/huggingface/datasets/ted_talks_iwslt/eu_ca_2016/1.1.0/a42f763b98f8e9cc19358a2ac1007b0b600554e260ee48e6316df39703ef37a4/cache-9759c38763259019.arrow\n",
            "Loading cached processed dataset at /root/.cache/huggingface/datasets/ted_talks_iwslt/eu_ca_2016/1.1.0/a42f763b98f8e9cc19358a2ac1007b0b600554e260ee48e6316df39703ef37a4/cache-15c1247109a4b6d1.arrow\n",
            "Translated 246 examples in 0:02:39.236152\n",
            "COMET INFO: CUDA_VISIBLE_DEVICES is unset, defaulting to all devices\n",
            "COMET INFO: devices to report: ['GPU-69feb561-b04b-597d-b35b-928698edf77d']\n",
            "Translated 300 examples in 0:03:09.678148\n",
            "Running sub-experiment 4 out of 15\n",
            "Found cached dataset ted_talks_iwslt (/root/.cache/huggingface/datasets/ted_talks_iwslt/nl_en_2014/1.1.0/a42f763b98f8e9cc19358a2ac1007b0b600554e260ee48e6316df39703ef37a4)\n",
            "Loading cached processed dataset at /root/.cache/huggingface/datasets/ted_talks_iwslt/nl_en_2014/1.1.0/a42f763b98f8e9cc19358a2ac1007b0b600554e260ee48e6316df39703ef37a4/cache-43c3147864aab3a6.arrow\n",
            "Loading cached processed dataset at /root/.cache/huggingface/datasets/ted_talks_iwslt/nl_en_2014/1.1.0/a42f763b98f8e9cc19358a2ac1007b0b600554e260ee48e6316df39703ef37a4/cache-a4479d18007e6f9f.arrow\n"
          ]
        }
      ]
    },
    {
      "cell_type": "code",
      "source": [],
      "metadata": {
        "id": "35OhLjCullG7"
      },
      "execution_count": null,
      "outputs": []
    }
  ]
}