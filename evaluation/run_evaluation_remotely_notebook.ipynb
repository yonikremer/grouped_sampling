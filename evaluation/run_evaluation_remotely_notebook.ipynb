{
  "nbformat": 4,
  "nbformat_minor": 0,
  "metadata": {
    "colab": {
      "provenance": [],
      "include_colab_link": true
    },
    "kernelspec": {
      "name": "python3",
      "display_name": "Python 3"
    },
    "language_info": {
      "name": "python"
    },
    "gpuClass": "standard",
    "accelerator": "GPU"
  },
  "cells": [
    {
      "cell_type": "markdown",
      "metadata": {
        "id": "view-in-github",
        "colab_type": "text"
      },
      "source": [
        "<a href=\"https://colab.research.google.com/github/yonikremer/final_project/blob/master/evaluation/run_evaluation_remotely_notebook.ipynb\" target=\"_parent\"><img src=\"https://colab.research.google.com/assets/colab-badge.svg\" alt=\"Open In Colab\"/></a>"
      ]
    },
    {
      "cell_type": "markdown",
      "source": [
        "# Configure the project"
      ],
      "metadata": {
        "id": "8aa3ZKSzG2kB"
      }
    },
    {
      "cell_type": "code",
      "source": [
        "%%bash\n",
        "rm -rf ./final_project\n",
        "git clone --quiet https://github.com/yonikremer/final_project.git\n",
        "pip uninstall --yes tensorflow\n",
        "pip install --quiet --requirement ./final_project/evaluation/evaluation_requirements.txt\n",
        "pip install --quiet --requirement ./final_project/project_requirements.txt"
      ],
      "metadata": {
        "id": "L4YZc7WyH8pi"
      },
      "execution_count": null,
      "outputs": []
    },
    {
      "cell_type": "code",
      "source": [
        "import json\n",
        "hyper_params_file = \"./final_project/evaluation/evaluated_text_generator_dict.json\"\n",
        "\n",
        "def change_group_size(new_group_size: int):\n",
        "    \"\"\"Changes the group size value in the hyper_params_file at ./final_project/evaluation/evaluated_text_generator_dict.json\"\"\"\n",
        "    with open(hyper_params_file, 'r+') as f:\n",
        "        data = json.load(f)\n",
        "        data['group_size'] = new_group_size\n",
        "        f.seek(0)\n",
        "        json.dump(data, f, indent=4)\n",
        "        f.truncate()"
      ],
      "metadata": {
        "id": "ZozltIOshXk4"
      },
      "execution_count": 1,
      "outputs": []
    },
    {
      "cell_type": "code",
      "source": [
        "for curr_group_size in range(1, 9):\n",
        "    change_group_size(curr_group_size)\n",
        "    !export PYTHONPATH=\"${PYTHONPATH}:./final_project\" && python -O ./final_project/evaluation/evaluate_translation.py"
      ],
      "metadata": {
        "colab": {
          "base_uri": "https://localhost:8080/"
        },
        "id": "pU6X_oggHaHj",
        "outputId": "645151af-2fea-4755-883a-517bfe9e00dc"
      },
      "execution_count": null,
      "outputs": [
        {
          "output_type": "stream",
          "name": "stdout",
          "text": [
            "COMET WARNING: Comet has disabled auto-logging functionality as it has been imported after the following ML modules: tensorflow, tensorboard, sklearn, torch, keras. Metrics and hyperparameters can still be logged using comet_ml.log_metrics() and comet_ml.log_parameters()\n",
            "COMET ERROR: Failed to calculate active processors count. Fall back to default CPU count 1\n",
            "COMET INFO: Experiment is live on comet.com https://www.comet.com/yonikremer/grouped-sampling-evaluation/bd7b308fac1d4098afc40c1921174c1e\n",
            "\n",
            "Running sub-experiment 1 out of 15\n",
            "Found cached dataset ted_talks_iwslt (/root/.cache/huggingface/datasets/ted_talks_iwslt/eu_ca_2014/1.1.0/a42f763b98f8e9cc19358a2ac1007b0b600554e260ee48e6316df39703ef37a4)\n",
            "Loading cached processed dataset at /root/.cache/huggingface/datasets/ted_talks_iwslt/eu_ca_2014/1.1.0/a42f763b98f8e9cc19358a2ac1007b0b600554e260ee48e6316df39703ef37a4/cache-85d95216119fdec2.arrow\n",
            "Loading cached processed dataset at /root/.cache/huggingface/datasets/ted_talks_iwslt/eu_ca_2014/1.1.0/a42f763b98f8e9cc19358a2ac1007b0b600554e260ee48e6316df39703ef37a4/cache-41eb9dff67b0d12e.arrow\n",
            "Translated 44 examples in 0.022585701111111113 hours\n",
            "Translated 88 examples in 0.0418253975 hours\n",
            "Running sub-experiment 2 out of 15\n",
            "Found cached dataset ted_talks_iwslt (/root/.cache/huggingface/datasets/ted_talks_iwslt/eu_ca_2015/1.1.0/a42f763b98f8e9cc19358a2ac1007b0b600554e260ee48e6316df39703ef37a4)\n",
            "Translated 140 examples in 0.07194846416666667 hours\n",
            "Translated 192 examples in 0.09715808249999999 hours\n",
            "Running sub-experiment 3 out of 15\n",
            "Found cached dataset ted_talks_iwslt (/root/.cache/huggingface/datasets/ted_talks_iwslt/eu_ca_2016/1.1.0/a42f763b98f8e9cc19358a2ac1007b0b600554e260ee48e6316df39703ef37a4)\n",
            "Translated 246 examples in 0.12871870833333335 hours\n",
            "Translated 300 examples in 0.1544139125 hours\n",
            "Running sub-experiment 4 out of 15\n",
            "Found cached dataset ted_talks_iwslt (/root/.cache/huggingface/datasets/ted_talks_iwslt/nl_en_2014/1.1.0/a42f763b98f8e9cc19358a2ac1007b0b600554e260ee48e6316df39703ef37a4)\n",
            "Translated 3266 examples in 1.6025125672222222 hours\n"
          ]
        }
      ]
    }
  ]
}