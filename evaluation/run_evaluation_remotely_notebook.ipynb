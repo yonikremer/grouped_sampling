{
  "nbformat": 4,
  "nbformat_minor": 0,
  "metadata": {
    "colab": {
      "provenance": [],
      "include_colab_link": true
    },
    "kernelspec": {
      "name": "python3",
      "display_name": "Python 3"
    },
    "language_info": {
      "name": "python"
    },
    "gpuClass": "standard",
    "accelerator": "GPU"
  },
  "cells": [
    {
      "cell_type": "markdown",
      "metadata": {
        "id": "view-in-github",
        "colab_type": "text"
      },
      "source": [
        "<a href=\"https://colab.research.google.com/github/yonikremer/final_project/blob/master/evaluation/run_evaluation_remotely_notebook.ipynb\" target=\"_parent\"><img src=\"https://colab.research.google.com/assets/colab-badge.svg\" alt=\"Open In Colab\"/></a>"
      ]
    },
    {
      "cell_type": "markdown",
      "source": [
        "# Configure the project"
      ],
      "metadata": {
        "id": "8aa3ZKSzG2kB"
      }
    },
    {
      "cell_type": "code",
      "source": [
        "%%bash\n",
        "rm -rf ./final_project\n",
        "git clone --quiet https://github.com/yonikremer/final_project.git\n",
        "pip install -q folium==0.2.1 imgaug==0.2.5\n",
        "pip install --quiet --requirement ./final_project/evaluation/evaluation_requirements.txt\n",
        "pip install --quiet --requirement ./final_project/project_requirements.txt"
      ],
      "metadata": {
        "id": "L4YZc7WyH8pi"
      },
      "execution_count": 1,
      "outputs": []
    },
    {
      "cell_type": "code",
      "source": [
        "import json\n",
        "hyper_params_file = \"./final_project/evaluation/evaluated_text_generator_dict.json\"\n",
        "\n",
        "def change_group_size(new_group_size: int):\n",
        "    \"\"\"Changes the group size value in the hyper_params_file at ./final_project/evaluation/evaluated_text_generator_dict.json\"\"\"\n",
        "    with open(hyper_params_file, 'r+') as f:\n",
        "        data = json.load(f)\n",
        "        data['group_size'] = new_group_size\n",
        "        f.seek(0)\n",
        "        json.dump(data, f, indent=4)\n",
        "        f.truncate()"
      ],
      "metadata": {
        "id": "ZozltIOshXk4"
      },
      "execution_count": 2,
      "outputs": []
    },
    {
      "cell_type": "code",
      "source": [
        "for curr_group_size_log_2 in reversed(range(10)):\n",
        "    change_group_size(2 ** curr_group_size_log_2)\n",
        "    !export PYTHONPATH=\"${PYTHONPATH}:./final_project\" && python -O ./final_project/evaluation/evaluate_translation.py"
      ],
      "metadata": {
        "id": "pU6X_oggHaHj"
      },
      "execution_count": null,
      "outputs": []
    }
  ]
}