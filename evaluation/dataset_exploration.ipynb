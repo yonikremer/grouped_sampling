{
  "nbformat": 4,
  "nbformat_minor": 0,
  "metadata": {
    "colab": {
      "provenance": [],
      "authorship_tag": "ABX9TyPeJsjJDM87/+vexURK6uRx",
      "include_colab_link": true
    },
    "kernelspec": {
      "name": "python3",
      "display_name": "Python 3"
    },
    "language_info": {
      "name": "python"
    }
  },
  "cells": [
    {
      "cell_type": "markdown",
      "metadata": {
        "id": "view-in-github",
        "colab_type": "text"
      },
      "source": [
        "<a href=\"https://colab.research.google.com/github/yonikremer/final_project/blob/master/evaluation/dataset_exploration.ipynb\" target=\"_parent\"><img src=\"https://colab.research.google.com/assets/colab-badge.svg\" alt=\"Open In Colab\"/></a>"
      ]
    },
    {
      "cell_type": "code",
      "source": [
        "!pip install datasets transformers"
      ],
      "metadata": {
        "id": "6SfvvZVlQBIw"
      },
      "execution_count": null,
      "outputs": []
    },
    {
      "cell_type": "code",
      "execution_count": null,
      "metadata": {
        "id": "0L1hc9EdP-Ox"
      },
      "outputs": [],
      "source": [
        "from datasets import get_dataset_config_names, load_dataset\n",
        "from transformers import AutoTokenizer\n",
        "DATASET_NAME = \"ted_talks_iwslt\"\n",
        "\n",
        "sub_sut_names = get_dataset_config_names(DATASET_NAME)\n",
        "tokenizer = AutoTokenizer.from_pretrained(\"facebook/opt-125m\")"
      ]
    },
    {
      "cell_type": "code",
      "source": [
        "text_lengths = []\n",
        "for sub_set_name in sub_sut_names:\n",
        "    sub_set = load_dataset(DATASET_NAME, sub_set_name, split=\"train\")[\"translation\"]\n",
        "    splited_sub_set_name = sub_set_name.split(\"_\")\n",
        "    language_code1, language_code2 = splited_sub_set_name[:2]\n",
        "    for example in sub_set:\n",
        "        text1 = example[language_code1]\n",
        "        text2 = example[language_code2]\n",
        "        tokenized_text1 = tokenizer(text1)[\"input_ids\"]\n",
        "        tokenized_text2 = tokenizer(text2)[\"input_ids\"]\n",
        "        text_lengths.append(len(tokenized_text1))\n",
        "        text_lengths.append((tokenized_text2))"
      ],
      "metadata": {
        "id": "bMuVM7xmXTm-"
      },
      "execution_count": null,
      "outputs": []
    },
    {
      "cell_type": "code",
      "source": [
        "import seaborn as sns"
      ],
      "metadata": {
        "id": "Fm9otetIYu1e"
      },
      "execution_count": 24,
      "outputs": []
    },
    {
      "cell_type": "code",
      "source": [
        "sns.displot(data=text_lengths)"
      ],
      "metadata": {
        "colab": {
          "base_uri": "https://localhost:8080/",
          "height": 387
        },
        "id": "Yy631F7UX4oa",
        "outputId": "6b0e2dfb-dcdc-4854-90a6-09c08b8af5d0"
      },
      "execution_count": 25,
      "outputs": [
        {
          "output_type": "execute_result",
          "data": {
            "text/plain": [
              "<seaborn.axisgrid.FacetGrid at 0x7f5385476610>"
            ]
          },
          "metadata": {},
          "execution_count": 25
        },
        {
          "output_type": "display_data",
          "data": {
            "text/plain": [
              "<Figure size 360x360 with 1 Axes>"
            ],
            "image/png": "[encoded data removed]"
          },
          "metadata": {
            "needs_background": "light"
          }
        }
      ]
    },
    {
      "cell_type": "code",
      "source": [
        "import pandas as pd\n",
        "text_lengths_series = pd.Series(text_lengths, dtype=int)"
      ],
      "metadata": {
        "id": "1eV9H2xJYcj0"
      },
      "execution_count": 28,
      "outputs": []
    },
    {
      "cell_type": "code",
      "source": [
        "text_lengths_series.describe()"
      ],
      "metadata": {
        "colab": {
          "base_uri": "https://localhost:8080/"
        },
        "id": "zr6g_BDBZEn8",
        "outputId": "0662165e-9e5a-4c10-ab07-1e02a86d56ea"
      },
      "execution_count": 29,
      "outputs": [
        {
          "output_type": "execute_result",
          "data": {
            "text/plain": [
              "count    43198.000000\n",
              "mean        77.682022\n",
              "std         83.054081\n",
              "min          6.000000\n",
              "25%         19.000000\n",
              "50%         46.000000\n",
              "75%        114.000000\n",
              "max        891.000000\n",
              "dtype: float64"
            ]
          },
          "metadata": {},
          "execution_count": 29
        }
      ]
    },
    {
      "cell_type": "code",
      "source": [],
      "metadata": {
        "id": "vu8O1FpGZH9U"
      },
      "execution_count": null,
      "outputs": []
    }
  ]
}