{
 "nbformat": 4,
 "nbformat_minor": 0,
 "metadata": {
  "colab": {
   "provenance": [],
   "include_colab_link": true
  },
  "kernelspec": {
   "name": "python3",
   "display_name": "Python 3"
  },
  "language_info": {
   "name": "python"
  }
 },
 "cells": [
  {
   "cell_type": "markdown",
   "metadata": {
    "id": "view-in-github",
    "colab_type": "text"
   },
   "source": [
    "<a href=\"https://colab.research.google.com/github/yonikremer/grouped_sampling/blob/master/evaluation/run_runtime_experiment_remotely.ipynb\" target=\"_parent\"><img src=\"https://colab.research.google.com/assets/colab-badge.svg\" alt=\"Open In Colab\"/></a>"
   ]
  },
  {
   "cell_type": "code",
   "source": [
    "%%bash\n",
    "rm -rf ./grouped_sampling\n",
    "git clone --quiet https://github.com/yonikremer/grouped_sampling.git"
   ],
   "metadata": {
    "id": "6ibUSmYiK1-c"
   },
   "execution_count": 1,
   "outputs": []
  },
  {
   "cell_type": "code",
   "source": [
    "!pip install --quiet folium==0.9.1 imgaug==0.2.5 --requirement /content/grouped_sampling/requirements.txt --requirement /content/grouped_sampling/evaluation/evaluation_requirements.txt"
   ],
   "metadata": {
    "id": "YgadPpuUP8B7"
   },
   "execution_count": null,
   "outputs": []
  },
  {
   "cell_type": "code",
   "source": [
    "import sys\n",
    "\n",
    "sys.path.append('/content/grouped_sampling')\n",
    "sys.path.append('/content/grouped_sampling/evaluation')"
   ],
   "metadata": {
    "id": "UYc2eJnTZmIP"
   },
   "execution_count": null,
   "outputs": []
  },
  {
   "cell_type": "code",
   "execution_count": null,
   "metadata": {
    "id": "a_cUF6CUKlHA",
    "outputId": "766ddf84-6f96-4b0c-bf98-75098fd682f8",
    "colab": {
     "base_uri": "https://localhost:8080/"
    }
   },
   "outputs": [
    {
     "output_type": "stream",
     "name": "stderr",
     "text": [
      "WARNING:datasets.builder:Found cached dataset ted_talks_iwslt (/root/.cache/huggingface/datasets/ted_talks_iwslt/eu_ca_2014/1.1.0/a42f763b98f8e9cc19358a2ac1007b0b600554e260ee48e6316df39703ef37a4)\n",
      "WARNING:datasets.arrow_dataset:Loading cached processed dataset at /root/.cache/huggingface/datasets/ted_talks_iwslt/eu_ca_2014/1.1.0/a42f763b98f8e9cc19358a2ac1007b0b600554e260ee48e6316df39703ef37a4/cache-d3ba1f72a8cd976a.arrow\n",
      "WARNING:datasets.arrow_dataset:Loading cached processed dataset at /root/.cache/huggingface/datasets/ted_talks_iwslt/eu_ca_2014/1.1.0/a42f763b98f8e9cc19358a2ac1007b0b600554e260ee48e6316df39703ef37a4/cache-726afbcef3edac9c.arrow\n",
      "WARNING:datasets.builder:Found cached dataset ted_talks_iwslt (/root/.cache/huggingface/datasets/ted_talks_iwslt/eu_ca_2015/1.1.0/a42f763b98f8e9cc19358a2ac1007b0b600554e260ee48e6316df39703ef37a4)\n",
      "WARNING:datasets.arrow_dataset:Loading cached processed dataset at /root/.cache/huggingface/datasets/ted_talks_iwslt/eu_ca_2015/1.1.0/a42f763b98f8e9cc19358a2ac1007b0b600554e260ee48e6316df39703ef37a4/cache-d4bdfae43140df92.arrow\n",
      "WARNING:datasets.arrow_dataset:Loading cached processed dataset at /root/.cache/huggingface/datasets/ted_talks_iwslt/eu_ca_2015/1.1.0/a42f763b98f8e9cc19358a2ac1007b0b600554e260ee48e6316df39703ef37a4/cache-5fc0247556ef5941.arrow\n",
      "WARNING:datasets.builder:Found cached dataset ted_talks_iwslt (/root/.cache/huggingface/datasets/ted_talks_iwslt/eu_ca_2016/1.1.0/a42f763b98f8e9cc19358a2ac1007b0b600554e260ee48e6316df39703ef37a4)\n",
      "WARNING:datasets.arrow_dataset:Loading cached processed dataset at /root/.cache/huggingface/datasets/ted_talks_iwslt/eu_ca_2016/1.1.0/a42f763b98f8e9cc19358a2ac1007b0b600554e260ee48e6316df39703ef37a4/cache-5b818476c28b13e6.arrow\n",
      "WARNING:datasets.arrow_dataset:Loading cached processed dataset at /root/.cache/huggingface/datasets/ted_talks_iwslt/eu_ca_2016/1.1.0/a42f763b98f8e9cc19358a2ac1007b0b600554e260ee48e6316df39703ef37a4/cache-901d980cd7452f7d.arrow\n",
      "WARNING:datasets.builder:Found cached dataset ted_talks_iwslt (/root/.cache/huggingface/datasets/ted_talks_iwslt/nl_en_2014/1.1.0/a42f763b98f8e9cc19358a2ac1007b0b600554e260ee48e6316df39703ef37a4)\n",
      "WARNING:datasets.arrow_dataset:Loading cached processed dataset at /root/.cache/huggingface/datasets/ted_talks_iwslt/nl_en_2014/1.1.0/a42f763b98f8e9cc19358a2ac1007b0b600554e260ee48e6316df39703ef37a4/cache-258103ffd332b66b.arrow\n",
      "WARNING:datasets.arrow_dataset:Loading cached processed dataset at /root/.cache/huggingface/datasets/ted_talks_iwslt/nl_en_2014/1.1.0/a42f763b98f8e9cc19358a2ac1007b0b600554e260ee48e6316df39703ef37a4/cache-485c442affc9746b.arrow\n",
      "WARNING:datasets.builder:Found cached dataset ted_talks_iwslt (/root/.cache/huggingface/datasets/ted_talks_iwslt/nl_en_2015/1.1.0/a42f763b98f8e9cc19358a2ac1007b0b600554e260ee48e6316df39703ef37a4)\n",
      "WARNING:datasets.arrow_dataset:Loading cached processed dataset at /root/.cache/huggingface/datasets/ted_talks_iwslt/nl_en_2015/1.1.0/a42f763b98f8e9cc19358a2ac1007b0b600554e260ee48e6316df39703ef37a4/cache-a0a4ae571b26389a.arrow\n",
      "WARNING:datasets.arrow_dataset:Loading cached processed dataset at /root/.cache/huggingface/datasets/ted_talks_iwslt/nl_en_2015/1.1.0/a42f763b98f8e9cc19358a2ac1007b0b600554e260ee48e6316df39703ef37a4/cache-3c5d792bb63064d7.arrow\n",
      "WARNING:datasets.builder:Found cached dataset ted_talks_iwslt (/root/.cache/huggingface/datasets/ted_talks_iwslt/nl_en_2016/1.1.0/a42f763b98f8e9cc19358a2ac1007b0b600554e260ee48e6316df39703ef37a4)\n",
      "WARNING:datasets.arrow_dataset:Loading cached processed dataset at /root/.cache/huggingface/datasets/ted_talks_iwslt/nl_en_2016/1.1.0/a42f763b98f8e9cc19358a2ac1007b0b600554e260ee48e6316df39703ef37a4/cache-54d275b9afbfadff.arrow\n",
      "WARNING:datasets.arrow_dataset:Loading cached processed dataset at /root/.cache/huggingface/datasets/ted_talks_iwslt/nl_en_2016/1.1.0/a42f763b98f8e9cc19358a2ac1007b0b600554e260ee48e6316df39703ef37a4/cache-1e2b46e488773c85.arrow\n",
      "WARNING:datasets.builder:Found cached dataset ted_talks_iwslt (/root/.cache/huggingface/datasets/ted_talks_iwslt/nl_hi_2014/1.1.0/a42f763b98f8e9cc19358a2ac1007b0b600554e260ee48e6316df39703ef37a4)\n",
      "WARNING:datasets.arrow_dataset:Loading cached processed dataset at /root/.cache/huggingface/datasets/ted_talks_iwslt/nl_hi_2014/1.1.0/a42f763b98f8e9cc19358a2ac1007b0b600554e260ee48e6316df39703ef37a4/cache-00f8d1b8a5e27ad8.arrow\n",
      "WARNING:datasets.arrow_dataset:Loading cached processed dataset at /root/.cache/huggingface/datasets/ted_talks_iwslt/nl_hi_2014/1.1.0/a42f763b98f8e9cc19358a2ac1007b0b600554e260ee48e6316df39703ef37a4/cache-b793c2b7a8057439.arrow\n",
      "WARNING:datasets.builder:Found cached dataset ted_talks_iwslt (/root/.cache/huggingface/datasets/ted_talks_iwslt/nl_hi_2015/1.1.0/a42f763b98f8e9cc19358a2ac1007b0b600554e260ee48e6316df39703ef37a4)\n",
      "WARNING:datasets.arrow_dataset:Loading cached processed dataset at /root/.cache/huggingface/datasets/ted_talks_iwslt/nl_hi_2015/1.1.0/a42f763b98f8e9cc19358a2ac1007b0b600554e260ee48e6316df39703ef37a4/cache-62d551708df1530c.arrow\n",
      "WARNING:datasets.arrow_dataset:Loading cached processed dataset at /root/.cache/huggingface/datasets/ted_talks_iwslt/nl_hi_2015/1.1.0/a42f763b98f8e9cc19358a2ac1007b0b600554e260ee48e6316df39703ef37a4/cache-8349c7dcc829a7dc.arrow\n",
      "WARNING:datasets.builder:Found cached dataset ted_talks_iwslt (/root/.cache/huggingface/datasets/ted_talks_iwslt/nl_hi_2016/1.1.0/a42f763b98f8e9cc19358a2ac1007b0b600554e260ee48e6316df39703ef37a4)\n",
      "WARNING:datasets.arrow_dataset:Loading cached processed dataset at /root/.cache/huggingface/datasets/ted_talks_iwslt/nl_hi_2016/1.1.0/a42f763b98f8e9cc19358a2ac1007b0b600554e260ee48e6316df39703ef37a4/cache-22a382d0ff22e623.arrow\n",
      "WARNING:datasets.arrow_dataset:Loading cached processed dataset at /root/.cache/huggingface/datasets/ted_talks_iwslt/nl_hi_2016/1.1.0/a42f763b98f8e9cc19358a2ac1007b0b600554e260ee48e6316df39703ef37a4/cache-deb6bc75e52004f4.arrow\n",
      "WARNING:datasets.builder:Found cached dataset ted_talks_iwslt (/root/.cache/huggingface/datasets/ted_talks_iwslt/de_ja_2014/1.1.0/a42f763b98f8e9cc19358a2ac1007b0b600554e260ee48e6316df39703ef37a4)\n",
      "WARNING:datasets.arrow_dataset:Loading cached processed dataset at /root/.cache/huggingface/datasets/ted_talks_iwslt/de_ja_2014/1.1.0/a42f763b98f8e9cc19358a2ac1007b0b600554e260ee48e6316df39703ef37a4/cache-1392b971140445ab.arrow\n",
      "WARNING:datasets.arrow_dataset:Loading cached processed dataset at /root/.cache/huggingface/datasets/ted_talks_iwslt/de_ja_2014/1.1.0/a42f763b98f8e9cc19358a2ac1007b0b600554e260ee48e6316df39703ef37a4/cache-97538047791f2722.arrow\n",
      "WARNING:datasets.builder:Found cached dataset ted_talks_iwslt (/root/.cache/huggingface/datasets/ted_talks_iwslt/de_ja_2015/1.1.0/a42f763b98f8e9cc19358a2ac1007b0b600554e260ee48e6316df39703ef37a4)\n",
      "WARNING:datasets.arrow_dataset:Loading cached processed dataset at /root/.cache/huggingface/datasets/ted_talks_iwslt/de_ja_2015/1.1.0/a42f763b98f8e9cc19358a2ac1007b0b600554e260ee48e6316df39703ef37a4/cache-f055d700ea1a37cc.arrow\n",
      "WARNING:datasets.arrow_dataset:Loading cached processed dataset at /root/.cache/huggingface/datasets/ted_talks_iwslt/de_ja_2015/1.1.0/a42f763b98f8e9cc19358a2ac1007b0b600554e260ee48e6316df39703ef37a4/cache-1b487b7e9acf9b80.arrow\n",
      "WARNING:datasets.builder:Found cached dataset ted_talks_iwslt (/root/.cache/huggingface/datasets/ted_talks_iwslt/de_ja_2016/1.1.0/a42f763b98f8e9cc19358a2ac1007b0b600554e260ee48e6316df39703ef37a4)\n",
      "WARNING:datasets.arrow_dataset:Loading cached processed dataset at /root/.cache/huggingface/datasets/ted_talks_iwslt/de_ja_2016/1.1.0/a42f763b98f8e9cc19358a2ac1007b0b600554e260ee48e6316df39703ef37a4/cache-e9fddc5f4915769b.arrow\n",
      "WARNING:datasets.arrow_dataset:Loading cached processed dataset at /root/.cache/huggingface/datasets/ted_talks_iwslt/de_ja_2016/1.1.0/a42f763b98f8e9cc19358a2ac1007b0b600554e260ee48e6316df39703ef37a4/cache-06f4214b4e9197d6.arrow\n",
      "WARNING:datasets.builder:Found cached dataset ted_talks_iwslt (/root/.cache/huggingface/datasets/ted_talks_iwslt/fr-ca_hi_2014/1.1.0/a42f763b98f8e9cc19358a2ac1007b0b600554e260ee48e6316df39703ef37a4)\n",
      "WARNING:datasets.arrow_dataset:Loading cached processed dataset at /root/.cache/huggingface/datasets/ted_talks_iwslt/fr-ca_hi_2014/1.1.0/a42f763b98f8e9cc19358a2ac1007b0b600554e260ee48e6316df39703ef37a4/cache-79d047d8eec6e2b7.arrow\n",
      "WARNING:datasets.arrow_dataset:Loading cached processed dataset at /root/.cache/huggingface/datasets/ted_talks_iwslt/fr-ca_hi_2014/1.1.0/a42f763b98f8e9cc19358a2ac1007b0b600554e260ee48e6316df39703ef37a4/cache-80ee3153c64789b0.arrow\n",
      "WARNING:datasets.builder:Found cached dataset ted_talks_iwslt (/root/.cache/huggingface/datasets/ted_talks_iwslt/fr-ca_hi_2015/1.1.0/a42f763b98f8e9cc19358a2ac1007b0b600554e260ee48e6316df39703ef37a4)\n",
      "WARNING:datasets.arrow_dataset:Loading cached processed dataset at /root/.cache/huggingface/datasets/ted_talks_iwslt/fr-ca_hi_2015/1.1.0/a42f763b98f8e9cc19358a2ac1007b0b600554e260ee48e6316df39703ef37a4/cache-f376d3f5094607d8.arrow\n",
      "WARNING:datasets.arrow_dataset:Loading cached processed dataset at /root/.cache/huggingface/datasets/ted_talks_iwslt/fr-ca_hi_2015/1.1.0/a42f763b98f8e9cc19358a2ac1007b0b600554e260ee48e6316df39703ef37a4/cache-662d578d8d052ef4.arrow\n",
      "WARNING:datasets.builder:Found cached dataset ted_talks_iwslt (/root/.cache/huggingface/datasets/ted_talks_iwslt/fr-ca_hi_2016/1.1.0/a42f763b98f8e9cc19358a2ac1007b0b600554e260ee48e6316df39703ef37a4)\n",
      "WARNING:datasets.arrow_dataset:Loading cached processed dataset at /root/.cache/huggingface/datasets/ted_talks_iwslt/fr-ca_hi_2016/1.1.0/a42f763b98f8e9cc19358a2ac1007b0b600554e260ee48e6316df39703ef37a4/cache-83dfaa1bbb8b255a.arrow\n",
      "WARNING:datasets.arrow_dataset:Loading cached processed dataset at /root/.cache/huggingface/datasets/ted_talks_iwslt/fr-ca_hi_2016/1.1.0/a42f763b98f8e9cc19358a2ac1007b0b600554e260ee48e6316df39703ef37a4/cache-50a634c045ec3d26.arrow\n"
     ]
    }
   ],
   "source": [
    "from runtime_experiment import main\n",
    "\n",
    "main(debug=False)"
   ]
  },
  {
   "cell_type": "code",
   "source": [
    "%%bash\n",
    "cd /content/grouped_sampling/\n",
    "git add /content/grouped_sampling/evaluation/plots/group_size_to_duration.png /content/grouped_sampling/evaluation/tables/group_size_to_duration.csv\n",
    "git commit -m \"Added new plots and tables for group size to duration analysis\"\n",
    "git remote add origin https://github.com/yonikremer/grouped_sampling.git\n",
    "git push -u origin master"
   ],
   "metadata": {
    "id": "rScpLbapSJ-u"
   },
   "execution_count": null,
   "outputs": []
  }
 ]
}
