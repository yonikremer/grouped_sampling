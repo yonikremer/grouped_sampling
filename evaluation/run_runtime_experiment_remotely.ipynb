{
 "nbformat": 4,
 "nbformat_minor": 0,
 "metadata": {
  "colab": {
   "provenance": []
  },
  "kernelspec": {
   "name": "python3",
   "display_name": "Python 3"
  },
  "language_info": {
   "name": "python"
  }
 },
 "cells": [
  {
   "cell_type": "code",
   "source": [
    "%%bash\n",
    "rm -rf ./grouped_sampling\n",
    "git clone --quiet https://github.com/yonikremer/grouped_sampling.git\n",
    "pip install --quiet datasets folium==0.9.1 imgaug==0.2.5 --requirement /content/grouped_sampling/requirements.txt"
   ],
   "metadata": {
    "colab": {
     "base_uri": "https://localhost:8080/"
    },
    "id": "6ibUSmYiK1-c",
    "outputId": "297ceb53-16cb-4436-b2ae-bea8fd4a26ae"
   },
   "execution_count": 4,
   "outputs": [
    {
     "output_type": "stream",
     "name": "stdout",
     "text": [
      "     ━━━━━━━━━━━━━━━━━━━━━━━━━━━━━━━━━━━━━━━━ 70.0/70.0 KB 3.1 MB/s eta 0:00:00\n",
      "     ━━━━━━━━━━━━━━━━━━━━━━━━━━━━━━━━━━━━━━━ 562.7/562.7 KB 2.2 MB/s eta 0:00:00\n",
      "     ━━━━━━━━━━━━━━━━━━━━━━━━━━━━━━━━━━━━━━━━ 5.8/5.8 MB 63.4 MB/s eta 0:00:00\n",
      "     ━━━━━━━━━━━━━━━━━━━━━━━━━━━━━━━━━━━━━━━━ 7.6/7.6 MB 80.1 MB/s eta 0:00:00\n",
      "     ━━━━━━━━━━━━━━━━━━━━━━━━━━━━━━━━━━━━━━ 182.4/182.4 KB 15.7 MB/s eta 0:00:00\n"
     ]
    },
    {
     "output_type": "stream",
     "name": "stderr",
     "text": [
      "ERROR: pip's dependency resolver does not currently take into account all the packages that are installed. This behaviour is the source of the following dependency conflicts.\n",
      "datascience 0.17.5 requires folium>=0.9.1, but you have folium 0.2.1 which is incompatible.\n"
     ]
    }
   ]
  },
  {
   "cell_type": "code",
   "execution_count": null,
   "metadata": {
    "id": "a_cUF6CUKlHA"
   },
   "outputs": [],
   "source": [
    "import sys\n",
    "\n",
    "sys.path.append('/content/grouped_sampling')\n",
    "sys.path.append('/content/grouped_sampling/evaluation')\n",
    "\n",
    "from runtime_experiment import main\n",
    "\n",
    "main(debug=False)"
   ]
  },
  {
   "cell_type": "code",
   "source": [
    "plot_path = \"/content/grouped_sampling/evaluation/plots/group_size_to_duration.png\"\n",
    "table_path = \"/content/grouped_sampling/evaluation/tables/group_size_to_duration.csv\""
   ],
   "metadata": {
    "id": "lY6fSOaCMeRq"
   },
   "execution_count": null,
   "outputs": []
  }
 ]
}
