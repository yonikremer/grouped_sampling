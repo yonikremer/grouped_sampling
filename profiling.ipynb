{
  "nbformat": 4,
  "nbformat_minor": 0,
  "metadata": {
    "colab": {
      "provenance": [],
      "authorship_tag": "ABX9TyNc2rz2mdLZF2qXYSzSTh5f",
      "include_colab_link": true
    },
    "kernelspec": {
      "name": "python3",
      "display_name": "Python 3"
    },
    "language_info": {
      "name": "python"
    },
    "accelerator": "GPU",
    "gpuClass": "standard"
  },
  "cells": [
    {
      "cell_type": "markdown",
      "metadata": {
        "id": "view-in-github",
        "colab_type": "text"
      },
      "source": [
        "<a href=\"https://colab.research.google.com/github/yonikremer/final_project/blob/master/profiling.ipynb\" target=\"_parent\"><img src=\"https://colab.research.google.com/assets/colab-badge.svg\" alt=\"Open In Colab\"/></a>"
      ]
    },
    {
      "cell_type": "markdown",
      "source": [
        "# Set-Up please ignore"
      ],
      "metadata": {
        "id": "ahMJrTd2ySFx"
      }
    },
    {
      "cell_type": "code",
      "execution_count": 13,
      "metadata": {
        "id": "oXKavz1hkwwA",
        "colab": {
          "base_uri": "https://localhost:8080/"
        },
        "outputId": "9cb1b6c7-a7f1-43c8-c84c-67d9ce0f61ac"
      },
      "outputs": [
        {
          "output_type": "stream",
          "name": "stderr",
          "text": [
            "Cloning into 'final_project'...\n"
          ]
        }
      ],
      "source": [
        "%%bash\n",
        "rm -rf ./final_project\n",
        "git clone https://github.com/yonikremer/final_project.git\n",
        "pip install --quiet --requirement /content/final_project/evaluation/evaluation_requirements.txt\n",
        "pip install --quiet --requirement /content/final_project/project_requirements.txt"
      ]
    },
    {
      "cell_type": "code",
      "source": [
        "import sys\n",
        "sys.path.append('/content/final_project');"
      ],
      "metadata": {
        "id": "jbCPObYbq7f2"
      },
      "execution_count": 14,
      "outputs": []
    },
    {
      "cell_type": "code",
      "source": [
        "from final_project.sampling_generator import SamplingGenerator\n",
        "g = SamplingGenerator(\n",
        "        model_name=\"facebook/opt-125m\",\n",
        "        group_size=8,\n",
        "        temp=1.0,\n",
        "        top_k=None,\n",
        "        top_p=1.0,\n",
        "        end_of_sentence_stop=True,\n",
        "        answer_length_multiplier=4,\n",
        "    )\n",
        "example_prompt = \"What do you do when your firmly held beliefs turn out not to be true? When Casey Gerald's religion failed him, he searched for something new to believe in -- in business, in government, in philanthropy -- but found only false saviors. In this moving talk, Gerald urges us all to question our beliefs and embrace uncertainty.\"  # @param {type:\"string\"}"
      ],
      "metadata": {
        "id": "pZ__dOEik2qV",
        "cellView": "form"
      },
      "execution_count": 15,
      "outputs": []
    },
    {
      "cell_type": "markdown",
      "source": [
        "# Create a graph of run time in seconds as a function of the group size"
      ],
      "metadata": {
        "id": "JLEgW9ecTgTK"
      }
    },
    {
      "cell_type": "code",
      "source": [
        "import matplotlib.pyplot as plt\n",
        "from datetime import datetime\n",
        "max_group_size = 32  # @param {type:\"slider\", min:1, max:128, step:1}\n",
        "run_times = []\n",
        "for curr_group_size in range(1, max_group_size):\n",
        "    g.group_size = curr_group_size\n",
        "    start_time = datetime.now()\n",
        "    g(example_prompt)\n",
        "    curr_time_diff = (datetime.now() - start_time).total_seconds()\n",
        "    run_times.append(curr_time_diff)\n",
        "\n",
        "plt.scatter(range(1, max_group_size), run_times)\n",
        "plt.ylabel('run time is seconds')\n",
        "plt.xlabel('group size')\n",
        "plt.title('run time in seconds as a function of the group size')\n",
        "plt.show()"
      ],
      "metadata": {
        "id": "rQzAQyyj8OCF",
        "colab": {
          "base_uri": "https://localhost:8080/",
          "height": 295
        },
        "outputId": "513b12b6-93ca-461d-98b0-7f787149b731"
      },
      "execution_count": 16,
      "outputs": [
        {
          "output_type": "display_data",
          "data": {
            "text/plain": [
              "<Figure size 432x288 with 1 Axes>"
            ],
            "image/png": "[encoded data removed]"
          },
          "metadata": {
            "needs_background": "light"
          }
        }
      ]
    },
    {
      "cell_type": "markdown",
      "source": [
        "# See where the computer spends that time"
      ],
      "metadata": {
        "id": "WKPcIADkUrxi"
      }
    },
    {
      "cell_type": "code",
      "source": [
        "%prun g(example_prompt)"
      ],
      "metadata": {
        "colab": {
          "base_uri": "https://localhost:8080/"
        },
        "id": "oV2BBK4rS2ch",
        "outputId": "9281185a-1524-4b5a-98ce-5e38eae1faf9"
      },
      "execution_count": 18,
      "outputs": [
        {
          "output_type": "stream",
          "name": "stdout",
          "text": [
            " "
          ]
        }
      ]
    }
  ]
}