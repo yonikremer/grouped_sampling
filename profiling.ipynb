{
  "nbformat": 4,
  "nbformat_minor": 0,
  "metadata": {
    "colab": {
      "provenance": [],
      "authorship_tag": "ABX9TyNxSkQqQyulQNU31WDarFXz",
      "include_colab_link": true
    },
    "kernelspec": {
      "name": "python3",
      "display_name": "Python 3"
    },
    "language_info": {
      "name": "python"
    },
    "accelerator": "GPU",
    "gpuClass": "standard"
  },
  "cells": [
    {
      "cell_type": "markdown",
      "metadata": {
        "id": "view-in-github",
        "colab_type": "text"
      },
      "source": [
        "<a href=\"https://colab.research.google.com/github/yonikremer/final_project/blob/master/profiling.ipynb\" target=\"_parent\"><img src=\"https://colab.research.google.com/assets/colab-badge.svg\" alt=\"Open In Colab\"/></a>"
      ]
    },
    {
      "cell_type": "markdown",
      "source": [
        "This notebook should be run in colab"
      ],
      "metadata": {
        "id": "ahMJrTd2ySFx"
      }
    },
    {
      "cell_type": "code",
      "source": [
        "import os, shutil, sys"
      ],
      "metadata": {
        "id": "dn3Qb3tXq9qY"
      },
      "execution_count": 3,
      "outputs": []
    },
    {
      "cell_type": "code",
      "execution_count": 8,
      "metadata": {
        "id": "oXKavz1hkwwA"
      },
      "outputs": [],
      "source": [
        "if os.path.exists(\"/content/final_project\") and os.path.isdir(\"/content/final_project\"):\n",
        "    shutil.rmtree(\"/content/final_project\")\n",
        "os.system(\"git clone https://github.com/yonikremer/final_project.git\");\n",
        "\n",
        "if not os.path.exists(\"/content/final_project/evaluation/comet_ml_api_key.txt\"):\n",
        "    with open(\"/content/final_project/evaluation/comet_ml_api_key.txt\", 'w') as f:\n",
        "        f.write(\"yNLPmFeYvfF9HArNCZ2xm8RHn\")\n",
        "\n",
        "sys.path.append('/content/final_project');"
      ]
    },
    {
      "cell_type": "code",
      "source": [
        "sys.path.append('/content/final_project');"
      ],
      "metadata": {
        "id": "jbCPObYbq7f2"
      },
      "execution_count": 4,
      "outputs": []
    },
    {
      "cell_type": "code",
      "source": [
        "%%capture\n",
        "%pip install -q -r /content/final_project/evaluation/evaluation_requirements.txt\n",
        "%pip install -q -r /content/final_project/project_requirements.txt"
      ],
      "metadata": {
        "id": "Ge-pHyMok1A2"
      },
      "execution_count": 2,
      "outputs": []
    },
    {
      "cell_type": "code",
      "source": [
        "from final_project.sampling_generator import SamplingGenerator\n",
        "g = SamplingGenerator(\n",
        "        model_name=\"facebook/opt-125m\",\n",
        "        group_size=8,\n",
        "        temp=1.0,\n",
        "        top_k=None,\n",
        "        top_p=1.0,\n",
        "        end_of_sentence_stop=True,\n",
        "        answer_length_multiplier=4,\n",
        "    )\n",
        "example_prompt = \"What do you do when your firmly held beliefs turn out not to be true? When Casey Gerald's religion failed him, he searched for something new to believe in -- in business, in government, in philanthropy -- but found only false saviors. In this moving talk, Gerald urges us all to question our beliefs and embrace uncertainty.\"\n",
        "%prun g(example_prompt)"
      ],
      "metadata": {
        "colab": {
          "base_uri": "https://localhost:8080/"
        },
        "id": "pZ__dOEik2qV",
        "outputId": "a5d10239-b27c-4c6d-89f3-2907d1020016"
      },
      "execution_count": 7,
      "outputs": [
        {
          "output_type": "stream",
          "name": "stdout",
          "text": [
            " "
          ]
        }
      ]
    }
  ]
}