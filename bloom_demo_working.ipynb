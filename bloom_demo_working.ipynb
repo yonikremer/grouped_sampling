{
  "nbformat": 4,
  "nbformat_minor": 0,
  "metadata": {
    "colab": {
      "name": "final_project_demo.ipynb",
      "provenance": []
    },
    "kernelspec": {
      "name": "python3",
      "display_name": "Python 3"
    },
    "language_info": {
      "name": "python"
    },
    "widgets": {
      "application/vnd.jupyter.widget-state+json": {
        "a637da606c894b08acec5f8293842835": {
          "model_module": "@jupyter-widgets/controls",
          "model_name": "HBoxModel",
          "model_module_version": "2.0.0",
          "state": {
            "_dom_classes": [],
            "_model_module": "@jupyter-widgets/controls",
            "_model_module_version": "2.0.0",
            "_model_name": "HBoxModel",
            "_view_count": null,
            "_view_module": "@jupyter-widgets/controls",
            "_view_module_version": "2.0.0",
            "_view_name": "HBoxView",
            "box_style": "",
            "children": [
              "IPY_MODEL_bd89e5d23e874f22a3715db80686ab55",
              "IPY_MODEL_e6cf589f67b04fc9980d9749e6651068",
              "IPY_MODEL_b591b70d9e784974b4713c580f9adfa3"
            ],
            "layout": "IPY_MODEL_cc583fa0d560429ab9519777b133bce8",
            "tabbable": null,
            "tooltip": null
          }
        },
        "bd89e5d23e874f22a3715db80686ab55": {
          "model_module": "@jupyter-widgets/controls",
          "model_name": "HTMLModel",
          "model_module_version": "2.0.0",
          "state": {
            "_dom_classes": [],
            "_model_module": "@jupyter-widgets/controls",
            "_model_module_version": "2.0.0",
            "_model_name": "HTMLModel",
            "_view_count": null,
            "_view_module": "@jupyter-widgets/controls",
            "_view_module_version": "2.0.0",
            "_view_name": "HTMLView",
            "description": "",
            "description_allow_html": false,
            "layout": "IPY_MODEL_c32729c87a52472cb2af25274922e64e",
            "placeholder": "​",
            "style": "IPY_MODEL_c81cfd9738ea44349f4bde3accfdc14b",
            "tabbable": null,
            "tooltip": null,
            "value": "Downloading tokenizer_config.json: 100%"
          }
        },
        "e6cf589f67b04fc9980d9749e6651068": {
          "model_module": "@jupyter-widgets/controls",
          "model_name": "FloatProgressModel",
          "model_module_version": "2.0.0",
          "state": {
            "_dom_classes": [],
            "_model_module": "@jupyter-widgets/controls",
            "_model_module_version": "2.0.0",
            "_model_name": "FloatProgressModel",
            "_view_count": null,
            "_view_module": "@jupyter-widgets/controls",
            "_view_module_version": "2.0.0",
            "_view_name": "ProgressView",
            "bar_style": "success",
            "description": "",
            "description_allow_html": false,
            "layout": "IPY_MODEL_a7f91d2e465c4d199e00e419b0b04f61",
            "max": 222,
            "min": 0,
            "orientation": "horizontal",
            "style": "IPY_MODEL_feb55c3e2f6a4789a5452303a21929f5",
            "tabbable": null,
            "tooltip": null,
            "value": 222
          }
        },
        "b591b70d9e784974b4713c580f9adfa3": {
          "model_module": "@jupyter-widgets/controls",
          "model_name": "HTMLModel",
          "model_module_version": "2.0.0",
          "state": {
            "_dom_classes": [],
            "_model_module": "@jupyter-widgets/controls",
            "_model_module_version": "2.0.0",
            "_model_name": "HTMLModel",
            "_view_count": null,
            "_view_module": "@jupyter-widgets/controls",
            "_view_module_version": "2.0.0",
            "_view_name": "HTMLView",
            "description": "",
            "description_allow_html": false,
            "layout": "IPY_MODEL_2d7cbbb7b2e5419fb809ce07ba8dcbf8",
            "placeholder": "​",
            "style": "IPY_MODEL_6306e7f7867a4dc689cf0d59410c3116",
            "tabbable": null,
            "tooltip": null,
            "value": " 222/222 [00:00&lt;00:00, 7.69kB/s]"
          }
        },
        "cc583fa0d560429ab9519777b133bce8": {
          "model_module": "@jupyter-widgets/base",
          "model_name": "LayoutModel",
          "model_module_version": "2.0.0",
          "state": {
            "_model_module": "@jupyter-widgets/base",
            "_model_module_version": "2.0.0",
            "_model_name": "LayoutModel",
            "_view_count": null,
            "_view_module": "@jupyter-widgets/base",
            "_view_module_version": "2.0.0",
            "_view_name": "LayoutView",
            "align_content": null,
            "align_items": null,
            "align_self": null,
            "border_bottom": null,
            "border_left": null,
            "border_right": null,
            "border_top": null,
            "bottom": null,
            "display": null,
            "flex": null,
            "flex_flow": null,
            "grid_area": null,
            "grid_auto_columns": null,
            "grid_auto_flow": null,
            "grid_auto_rows": null,
            "grid_column": null,
            "grid_gap": null,
            "grid_row": null,
            "grid_template_areas": null,
            "grid_template_columns": null,
            "grid_template_rows": null,
            "height": null,
            "justify_content": null,
            "justify_items": null,
            "left": null,
            "margin": null,
            "max_height": null,
            "max_width": null,
            "min_height": null,
            "min_width": null,
            "object_fit": null,
            "object_position": null,
            "order": null,
            "overflow": null,
            "padding": null,
            "right": null,
            "top": null,
            "visibility": null,
            "width": null
          }
        },
        "c32729c87a52472cb2af25274922e64e": {
          "model_module": "@jupyter-widgets/base",
          "model_name": "LayoutModel",
          "model_module_version": "2.0.0",
          "state": {
            "_model_module": "@jupyter-widgets/base",
            "_model_module_version": "2.0.0",
            "_model_name": "LayoutModel",
            "_view_count": null,
            "_view_module": "@jupyter-widgets/base",
            "_view_module_version": "2.0.0",
            "_view_name": "LayoutView",
            "align_content": null,
            "align_items": null,
            "align_self": null,
            "border_bottom": null,
            "border_left": null,
            "border_right": null,
            "border_top": null,
            "bottom": null,
            "display": null,
            "flex": null,
            "flex_flow": null,
            "grid_area": null,
            "grid_auto_columns": null,
            "grid_auto_flow": null,
            "grid_auto_rows": null,
            "grid_column": null,
            "grid_gap": null,
            "grid_row": null,
            "grid_template_areas": null,
            "grid_template_columns": null,
            "grid_template_rows": null,
            "height": null,
            "justify_content": null,
            "justify_items": null,
            "left": null,
            "margin": null,
            "max_height": null,
            "max_width": null,
            "min_height": null,
            "min_width": null,
            "object_fit": null,
            "object_position": null,
            "order": null,
            "overflow": null,
            "padding": null,
            "right": null,
            "top": null,
            "visibility": null,
            "width": null
          }
        },
        "c81cfd9738ea44349f4bde3accfdc14b": {
          "model_module": "@jupyter-widgets/controls",
          "model_name": "HTMLStyleModel",
          "model_module_version": "2.0.0",
          "state": {
            "_model_module": "@jupyter-widgets/controls",
            "_model_module_version": "2.0.0",
            "_model_name": "HTMLStyleModel",
            "_view_count": null,
            "_view_module": "@jupyter-widgets/base",
            "_view_module_version": "2.0.0",
            "_view_name": "StyleView",
            "background": null,
            "description_width": "",
            "font_size": null,
            "text_color": null
          }
        },
        "a7f91d2e465c4d199e00e419b0b04f61": {
          "model_module": "@jupyter-widgets/base",
          "model_name": "LayoutModel",
          "model_module_version": "2.0.0",
          "state": {
            "_model_module": "@jupyter-widgets/base",
            "_model_module_version": "2.0.0",
            "_model_name": "LayoutModel",
            "_view_count": null,
            "_view_module": "@jupyter-widgets/base",
            "_view_module_version": "2.0.0",
            "_view_name": "LayoutView",
            "align_content": null,
            "align_items": null,
            "align_self": null,
            "border_bottom": null,
            "border_left": null,
            "border_right": null,
            "border_top": null,
            "bottom": null,
            "display": null,
            "flex": null,
            "flex_flow": null,
            "grid_area": null,
            "grid_auto_columns": null,
            "grid_auto_flow": null,
            "grid_auto_rows": null,
            "grid_column": null,
            "grid_gap": null,
            "grid_row": null,
            "grid_template_areas": null,
            "grid_template_columns": null,
            "grid_template_rows": null,
            "height": null,
            "justify_content": null,
            "justify_items": null,
            "left": null,
            "margin": null,
            "max_height": null,
            "max_width": null,
            "min_height": null,
            "min_width": null,
            "object_fit": null,
            "object_position": null,
            "order": null,
            "overflow": null,
            "padding": null,
            "right": null,
            "top": null,
            "visibility": null,
            "width": null
          }
        },
        "feb55c3e2f6a4789a5452303a21929f5": {
          "model_module": "@jupyter-widgets/controls",
          "model_name": "ProgressStyleModel",
          "model_module_version": "2.0.0",
          "state": {
            "_model_module": "@jupyter-widgets/controls",
            "_model_module_version": "2.0.0",
            "_model_name": "ProgressStyleModel",
            "_view_count": null,
            "_view_module": "@jupyter-widgets/base",
            "_view_module_version": "2.0.0",
            "_view_name": "StyleView",
            "bar_color": null,
            "description_width": ""
          }
        },
        "2d7cbbb7b2e5419fb809ce07ba8dcbf8": {
          "model_module": "@jupyter-widgets/base",
          "model_name": "LayoutModel",
          "model_module_version": "2.0.0",
          "state": {
            "_model_module": "@jupyter-widgets/base",
            "_model_module_version": "2.0.0",
            "_model_name": "LayoutModel",
            "_view_count": null,
            "_view_module": "@jupyter-widgets/base",
            "_view_module_version": "2.0.0",
            "_view_name": "LayoutView",
            "align_content": null,
            "align_items": null,
            "align_self": null,
            "border_bottom": null,
            "border_left": null,
            "border_right": null,
            "border_top": null,
            "bottom": null,
            "display": null,
            "flex": null,
            "flex_flow": null,
            "grid_area": null,
            "grid_auto_columns": null,
            "grid_auto_flow": null,
            "grid_auto_rows": null,
            "grid_column": null,
            "grid_gap": null,
            "grid_row": null,
            "grid_template_areas": null,
            "grid_template_columns": null,
            "grid_template_rows": null,
            "height": null,
            "justify_content": null,
            "justify_items": null,
            "left": null,
            "margin": null,
            "max_height": null,
            "max_width": null,
            "min_height": null,
            "min_width": null,
            "object_fit": null,
            "object_position": null,
            "order": null,
            "overflow": null,
            "padding": null,
            "right": null,
            "top": null,
            "visibility": null,
            "width": null
          }
        },
        "6306e7f7867a4dc689cf0d59410c3116": {
          "model_module": "@jupyter-widgets/controls",
          "model_name": "HTMLStyleModel",
          "model_module_version": "2.0.0",
          "state": {
            "_model_module": "@jupyter-widgets/controls",
            "_model_module_version": "2.0.0",
            "_model_name": "HTMLStyleModel",
            "_view_count": null,
            "_view_module": "@jupyter-widgets/base",
            "_view_module_version": "2.0.0",
            "_view_name": "StyleView",
            "background": null,
            "description_width": "",
            "font_size": null,
            "text_color": null
          }
        },
        "5252a07599d2476bbf658f160f717c1f": {
          "model_module": "@jupyter-widgets/controls",
          "model_name": "HBoxModel",
          "model_module_version": "2.0.0",
          "state": {
            "_dom_classes": [],
            "_model_module": "@jupyter-widgets/controls",
            "_model_module_version": "2.0.0",
            "_model_name": "HBoxModel",
            "_view_count": null,
            "_view_module": "@jupyter-widgets/controls",
            "_view_module_version": "2.0.0",
            "_view_name": "HBoxView",
            "box_style": "",
            "children": [
              "IPY_MODEL_6de48ac3742745398ed7aa7f7522cfa9",
              "IPY_MODEL_f71939c1681d4bfa80410a69c4f10373",
              "IPY_MODEL_304d3da0be05446882f593dc79f116ea"
            ],
            "layout": "IPY_MODEL_86f84c21344c4a5a807b7806515e760b",
            "tabbable": null,
            "tooltip": null
          }
        },
        "6de48ac3742745398ed7aa7f7522cfa9": {
          "model_module": "@jupyter-widgets/controls",
          "model_name": "HTMLModel",
          "model_module_version": "2.0.0",
          "state": {
            "_dom_classes": [],
            "_model_module": "@jupyter-widgets/controls",
            "_model_module_version": "2.0.0",
            "_model_name": "HTMLModel",
            "_view_count": null,
            "_view_module": "@jupyter-widgets/controls",
            "_view_module_version": "2.0.0",
            "_view_name": "HTMLView",
            "description": "",
            "description_allow_html": false,
            "layout": "IPY_MODEL_01a420f88bfc47478fec03d7498eed7f",
            "placeholder": "​",
            "style": "IPY_MODEL_a987329081f94567a3316a7b486e56f8",
            "tabbable": null,
            "tooltip": null,
            "value": "Downloading tokenizer.json: 100%"
          }
        },
        "f71939c1681d4bfa80410a69c4f10373": {
          "model_module": "@jupyter-widgets/controls",
          "model_name": "FloatProgressModel",
          "model_module_version": "2.0.0",
          "state": {
            "_dom_classes": [],
            "_model_module": "@jupyter-widgets/controls",
            "_model_module_version": "2.0.0",
            "_model_name": "FloatProgressModel",
            "_view_count": null,
            "_view_module": "@jupyter-widgets/controls",
            "_view_module_version": "2.0.0",
            "_view_name": "ProgressView",
            "bar_style": "success",
            "description": "",
            "description_allow_html": false,
            "layout": "IPY_MODEL_35e6860de9594de09a734db09cc1bc46",
            "max": 14500438,
            "min": 0,
            "orientation": "horizontal",
            "style": "IPY_MODEL_664fde3a95284e1ebd3a5bb573458720",
            "tabbable": null,
            "tooltip": null,
            "value": 14500438
          }
        },
        "304d3da0be05446882f593dc79f116ea": {
          "model_module": "@jupyter-widgets/controls",
          "model_name": "HTMLModel",
          "model_module_version": "2.0.0",
          "state": {
            "_dom_classes": [],
            "_model_module": "@jupyter-widgets/controls",
            "_model_module_version": "2.0.0",
            "_model_name": "HTMLModel",
            "_view_count": null,
            "_view_module": "@jupyter-widgets/controls",
            "_view_module_version": "2.0.0",
            "_view_name": "HTMLView",
            "description": "",
            "description_allow_html": false,
            "layout": "IPY_MODEL_661da7688fa84f5f99c89af4b92f10d1",
            "placeholder": "​",
            "style": "IPY_MODEL_6e684da315db4b0991edd47e98ee1eeb",
            "tabbable": null,
            "tooltip": null,
            "value": " 13.8M/13.8M [00:00&lt;00:00, 49.2MB/s]"
          }
        },
        "86f84c21344c4a5a807b7806515e760b": {
          "model_module": "@jupyter-widgets/base",
          "model_name": "LayoutModel",
          "model_module_version": "2.0.0",
          "state": {
            "_model_module": "@jupyter-widgets/base",
            "_model_module_version": "2.0.0",
            "_model_name": "LayoutModel",
            "_view_count": null,
            "_view_module": "@jupyter-widgets/base",
            "_view_module_version": "2.0.0",
            "_view_name": "LayoutView",
            "align_content": null,
            "align_items": null,
            "align_self": null,
            "border_bottom": null,
            "border_left": null,
            "border_right": null,
            "border_top": null,
            "bottom": null,
            "display": null,
            "flex": null,
            "flex_flow": null,
            "grid_area": null,
            "grid_auto_columns": null,
            "grid_auto_flow": null,
            "grid_auto_rows": null,
            "grid_column": null,
            "grid_gap": null,
            "grid_row": null,
            "grid_template_areas": null,
            "grid_template_columns": null,
            "grid_template_rows": null,
            "height": null,
            "justify_content": null,
            "justify_items": null,
            "left": null,
            "margin": null,
            "max_height": null,
            "max_width": null,
            "min_height": null,
            "min_width": null,
            "object_fit": null,
            "object_position": null,
            "order": null,
            "overflow": null,
            "padding": null,
            "right": null,
            "top": null,
            "visibility": null,
            "width": null
          }
        },
        "01a420f88bfc47478fec03d7498eed7f": {
          "model_module": "@jupyter-widgets/base",
          "model_name": "LayoutModel",
          "model_module_version": "2.0.0",
          "state": {
            "_model_module": "@jupyter-widgets/base",
            "_model_module_version": "2.0.0",
            "_model_name": "LayoutModel",
            "_view_count": null,
            "_view_module": "@jupyter-widgets/base",
            "_view_module_version": "2.0.0",
            "_view_name": "LayoutView",
            "align_content": null,
            "align_items": null,
            "align_self": null,
            "border_bottom": null,
            "border_left": null,
            "border_right": null,
            "border_top": null,
            "bottom": null,
            "display": null,
            "flex": null,
            "flex_flow": null,
            "grid_area": null,
            "grid_auto_columns": null,
            "grid_auto_flow": null,
            "grid_auto_rows": null,
            "grid_column": null,
            "grid_gap": null,
            "grid_row": null,
            "grid_template_areas": null,
            "grid_template_columns": null,
            "grid_template_rows": null,
            "height": null,
            "justify_content": null,
            "justify_items": null,
            "left": null,
            "margin": null,
            "max_height": null,
            "max_width": null,
            "min_height": null,
            "min_width": null,
            "object_fit": null,
            "object_position": null,
            "order": null,
            "overflow": null,
            "padding": null,
            "right": null,
            "top": null,
            "visibility": null,
            "width": null
          }
        },
        "a987329081f94567a3316a7b486e56f8": {
          "model_module": "@jupyter-widgets/controls",
          "model_name": "HTMLStyleModel",
          "model_module_version": "2.0.0",
          "state": {
            "_model_module": "@jupyter-widgets/controls",
            "_model_module_version": "2.0.0",
            "_model_name": "HTMLStyleModel",
            "_view_count": null,
            "_view_module": "@jupyter-widgets/base",
            "_view_module_version": "2.0.0",
            "_view_name": "StyleView",
            "background": null,
            "description_width": "",
            "font_size": null,
            "text_color": null
          }
        },
        "35e6860de9594de09a734db09cc1bc46": {
          "model_module": "@jupyter-widgets/base",
          "model_name": "LayoutModel",
          "model_module_version": "2.0.0",
          "state": {
            "_model_module": "@jupyter-widgets/base",
            "_model_module_version": "2.0.0",
            "_model_name": "LayoutModel",
            "_view_count": null,
            "_view_module": "@jupyter-widgets/base",
            "_view_module_version": "2.0.0",
            "_view_name": "LayoutView",
            "align_content": null,
            "align_items": null,
            "align_self": null,
            "border_bottom": null,
            "border_left": null,
            "border_right": null,
            "border_top": null,
            "bottom": null,
            "display": null,
            "flex": null,
            "flex_flow": null,
            "grid_area": null,
            "grid_auto_columns": null,
            "grid_auto_flow": null,
            "grid_auto_rows": null,
            "grid_column": null,
            "grid_gap": null,
            "grid_row": null,
            "grid_template_areas": null,
            "grid_template_columns": null,
            "grid_template_rows": null,
            "height": null,
            "justify_content": null,
            "justify_items": null,
            "left": null,
            "margin": null,
            "max_height": null,
            "max_width": null,
            "min_height": null,
            "min_width": null,
            "object_fit": null,
            "object_position": null,
            "order": null,
            "overflow": null,
            "padding": null,
            "right": null,
            "top": null,
            "visibility": null,
            "width": null
          }
        },
        "664fde3a95284e1ebd3a5bb573458720": {
          "model_module": "@jupyter-widgets/controls",
          "model_name": "ProgressStyleModel",
          "model_module_version": "2.0.0",
          "state": {
            "_model_module": "@jupyter-widgets/controls",
            "_model_module_version": "2.0.0",
            "_model_name": "ProgressStyleModel",
            "_view_count": null,
            "_view_module": "@jupyter-widgets/base",
            "_view_module_version": "2.0.0",
            "_view_name": "StyleView",
            "bar_color": null,
            "description_width": ""
          }
        },
        "661da7688fa84f5f99c89af4b92f10d1": {
          "model_module": "@jupyter-widgets/base",
          "model_name": "LayoutModel",
          "model_module_version": "2.0.0",
          "state": {
            "_model_module": "@jupyter-widgets/base",
            "_model_module_version": "2.0.0",
            "_model_name": "LayoutModel",
            "_view_count": null,
            "_view_module": "@jupyter-widgets/base",
            "_view_module_version": "2.0.0",
            "_view_name": "LayoutView",
            "align_content": null,
            "align_items": null,
            "align_self": null,
            "border_bottom": null,
            "border_left": null,
            "border_right": null,
            "border_top": null,
            "bottom": null,
            "display": null,
            "flex": null,
            "flex_flow": null,
            "grid_area": null,
            "grid_auto_columns": null,
            "grid_auto_flow": null,
            "grid_auto_rows": null,
            "grid_column": null,
            "grid_gap": null,
            "grid_row": null,
            "grid_template_areas": null,
            "grid_template_columns": null,
            "grid_template_rows": null,
            "height": null,
            "justify_content": null,
            "justify_items": null,
            "left": null,
            "margin": null,
            "max_height": null,
            "max_width": null,
            "min_height": null,
            "min_width": null,
            "object_fit": null,
            "object_position": null,
            "order": null,
            "overflow": null,
            "padding": null,
            "right": null,
            "top": null,
            "visibility": null,
            "width": null
          }
        },
        "6e684da315db4b0991edd47e98ee1eeb": {
          "model_module": "@jupyter-widgets/controls",
          "model_name": "HTMLStyleModel",
          "model_module_version": "2.0.0",
          "state": {
            "_model_module": "@jupyter-widgets/controls",
            "_model_module_version": "2.0.0",
            "_model_name": "HTMLStyleModel",
            "_view_count": null,
            "_view_module": "@jupyter-widgets/base",
            "_view_module_version": "2.0.0",
            "_view_name": "StyleView",
            "background": null,
            "description_width": "",
            "font_size": null,
            "text_color": null
          }
        },
        "19b7726bda1544af96afeb3f36013f24": {
          "model_module": "@jupyter-widgets/controls",
          "model_name": "HBoxModel",
          "model_module_version": "2.0.0",
          "state": {
            "_dom_classes": [],
            "_model_module": "@jupyter-widgets/controls",
            "_model_module_version": "2.0.0",
            "_model_name": "HBoxModel",
            "_view_count": null,
            "_view_module": "@jupyter-widgets/controls",
            "_view_module_version": "2.0.0",
            "_view_name": "HBoxView",
            "box_style": "",
            "children": [
              "IPY_MODEL_26b03bd004f1454585f06faa2274b953",
              "IPY_MODEL_ff3c11b21ff64d19b1ee6a413bb8ab05",
              "IPY_MODEL_c9d32becce7d4e59b1b22398d3df929a"
            ],
            "layout": "IPY_MODEL_fcf305c91c6e4c198419618f9c9b9851",
            "tabbable": null,
            "tooltip": null
          }
        },
        "26b03bd004f1454585f06faa2274b953": {
          "model_module": "@jupyter-widgets/controls",
          "model_name": "HTMLModel",
          "model_module_version": "2.0.0",
          "state": {
            "_dom_classes": [],
            "_model_module": "@jupyter-widgets/controls",
            "_model_module_version": "2.0.0",
            "_model_name": "HTMLModel",
            "_view_count": null,
            "_view_module": "@jupyter-widgets/controls",
            "_view_module_version": "2.0.0",
            "_view_name": "HTMLView",
            "description": "",
            "description_allow_html": false,
            "layout": "IPY_MODEL_a0b61a032590481c822995abc05a06b5",
            "placeholder": "​",
            "style": "IPY_MODEL_9539268c03b74c8395fe709a5dce0405",
            "tabbable": null,
            "tooltip": null,
            "value": "Downloading special_tokens_map.json: 100%"
          }
        },
        "ff3c11b21ff64d19b1ee6a413bb8ab05": {
          "model_module": "@jupyter-widgets/controls",
          "model_name": "FloatProgressModel",
          "model_module_version": "2.0.0",
          "state": {
            "_dom_classes": [],
            "_model_module": "@jupyter-widgets/controls",
            "_model_module_version": "2.0.0",
            "_model_name": "FloatProgressModel",
            "_view_count": null,
            "_view_module": "@jupyter-widgets/controls",
            "_view_module_version": "2.0.0",
            "_view_name": "ProgressView",
            "bar_style": "success",
            "description": "",
            "description_allow_html": false,
            "layout": "IPY_MODEL_6fec6d885f7145ec83cab25ad439053d",
            "max": 85,
            "min": 0,
            "orientation": "horizontal",
            "style": "IPY_MODEL_96f0856e8eb94f3594ab7389c0325905",
            "tabbable": null,
            "tooltip": null,
            "value": 85
          }
        },
        "c9d32becce7d4e59b1b22398d3df929a": {
          "model_module": "@jupyter-widgets/controls",
          "model_name": "HTMLModel",
          "model_module_version": "2.0.0",
          "state": {
            "_dom_classes": [],
            "_model_module": "@jupyter-widgets/controls",
            "_model_module_version": "2.0.0",
            "_model_name": "HTMLModel",
            "_view_count": null,
            "_view_module": "@jupyter-widgets/controls",
            "_view_module_version": "2.0.0",
            "_view_name": "HTMLView",
            "description": "",
            "description_allow_html": false,
            "layout": "IPY_MODEL_3b404c3f1c41417585f63e892592bac6",
            "placeholder": "​",
            "style": "IPY_MODEL_a66e8955c74f4978a40f8703aec98a50",
            "tabbable": null,
            "tooltip": null,
            "value": " 85.0/85.0 [00:00&lt;00:00, 2.95kB/s]"
          }
        },
        "fcf305c91c6e4c198419618f9c9b9851": {
          "model_module": "@jupyter-widgets/base",
          "model_name": "LayoutModel",
          "model_module_version": "2.0.0",
          "state": {
            "_model_module": "@jupyter-widgets/base",
            "_model_module_version": "2.0.0",
            "_model_name": "LayoutModel",
            "_view_count": null,
            "_view_module": "@jupyter-widgets/base",
            "_view_module_version": "2.0.0",
            "_view_name": "LayoutView",
            "align_content": null,
            "align_items": null,
            "align_self": null,
            "border_bottom": null,
            "border_left": null,
            "border_right": null,
            "border_top": null,
            "bottom": null,
            "display": null,
            "flex": null,
            "flex_flow": null,
            "grid_area": null,
            "grid_auto_columns": null,
            "grid_auto_flow": null,
            "grid_auto_rows": null,
            "grid_column": null,
            "grid_gap": null,
            "grid_row": null,
            "grid_template_areas": null,
            "grid_template_columns": null,
            "grid_template_rows": null,
            "height": null,
            "justify_content": null,
            "justify_items": null,
            "left": null,
            "margin": null,
            "max_height": null,
            "max_width": null,
            "min_height": null,
            "min_width": null,
            "object_fit": null,
            "object_position": null,
            "order": null,
            "overflow": null,
            "padding": null,
            "right": null,
            "top": null,
            "visibility": null,
            "width": null
          }
        },
        "a0b61a032590481c822995abc05a06b5": {
          "model_module": "@jupyter-widgets/base",
          "model_name": "LayoutModel",
          "model_module_version": "2.0.0",
          "state": {
            "_model_module": "@jupyter-widgets/base",
            "_model_module_version": "2.0.0",
            "_model_name": "LayoutModel",
            "_view_count": null,
            "_view_module": "@jupyter-widgets/base",
            "_view_module_version": "2.0.0",
            "_view_name": "LayoutView",
            "align_content": null,
            "align_items": null,
            "align_self": null,
            "border_bottom": null,
            "border_left": null,
            "border_right": null,
            "border_top": null,
            "bottom": null,
            "display": null,
            "flex": null,
            "flex_flow": null,
            "grid_area": null,
            "grid_auto_columns": null,
            "grid_auto_flow": null,
            "grid_auto_rows": null,
            "grid_column": null,
            "grid_gap": null,
            "grid_row": null,
            "grid_template_areas": null,
            "grid_template_columns": null,
            "grid_template_rows": null,
            "height": null,
            "justify_content": null,
            "justify_items": null,
            "left": null,
            "margin": null,
            "max_height": null,
            "max_width": null,
            "min_height": null,
            "min_width": null,
            "object_fit": null,
            "object_position": null,
            "order": null,
            "overflow": null,
            "padding": null,
            "right": null,
            "top": null,
            "visibility": null,
            "width": null
          }
        },
        "9539268c03b74c8395fe709a5dce0405": {
          "model_module": "@jupyter-widgets/controls",
          "model_name": "HTMLStyleModel",
          "model_module_version": "2.0.0",
          "state": {
            "_model_module": "@jupyter-widgets/controls",
            "_model_module_version": "2.0.0",
            "_model_name": "HTMLStyleModel",
            "_view_count": null,
            "_view_module": "@jupyter-widgets/base",
            "_view_module_version": "2.0.0",
            "_view_name": "StyleView",
            "background": null,
            "description_width": "",
            "font_size": null,
            "text_color": null
          }
        },
        "6fec6d885f7145ec83cab25ad439053d": {
          "model_module": "@jupyter-widgets/base",
          "model_name": "LayoutModel",
          "model_module_version": "2.0.0",
          "state": {
            "_model_module": "@jupyter-widgets/base",
            "_model_module_version": "2.0.0",
            "_model_name": "LayoutModel",
            "_view_count": null,
            "_view_module": "@jupyter-widgets/base",
            "_view_module_version": "2.0.0",
            "_view_name": "LayoutView",
            "align_content": null,
            "align_items": null,
            "align_self": null,
            "border_bottom": null,
            "border_left": null,
            "border_right": null,
            "border_top": null,
            "bottom": null,
            "display": null,
            "flex": null,
            "flex_flow": null,
            "grid_area": null,
            "grid_auto_columns": null,
            "grid_auto_flow": null,
            "grid_auto_rows": null,
            "grid_column": null,
            "grid_gap": null,
            "grid_row": null,
            "grid_template_areas": null,
            "grid_template_columns": null,
            "grid_template_rows": null,
            "height": null,
            "justify_content": null,
            "justify_items": null,
            "left": null,
            "margin": null,
            "max_height": null,
            "max_width": null,
            "min_height": null,
            "min_width": null,
            "object_fit": null,
            "object_position": null,
            "order": null,
            "overflow": null,
            "padding": null,
            "right": null,
            "top": null,
            "visibility": null,
            "width": null
          }
        },
        "96f0856e8eb94f3594ab7389c0325905": {
          "model_module": "@jupyter-widgets/controls",
          "model_name": "ProgressStyleModel",
          "model_module_version": "2.0.0",
          "state": {
            "_model_module": "@jupyter-widgets/controls",
            "_model_module_version": "2.0.0",
            "_model_name": "ProgressStyleModel",
            "_view_count": null,
            "_view_module": "@jupyter-widgets/base",
            "_view_module_version": "2.0.0",
            "_view_name": "StyleView",
            "bar_color": null,
            "description_width": ""
          }
        },
        "3b404c3f1c41417585f63e892592bac6": {
          "model_module": "@jupyter-widgets/base",
          "model_name": "LayoutModel",
          "model_module_version": "2.0.0",
          "state": {
            "_model_module": "@jupyter-widgets/base",
            "_model_module_version": "2.0.0",
            "_model_name": "LayoutModel",
            "_view_count": null,
            "_view_module": "@jupyter-widgets/base",
            "_view_module_version": "2.0.0",
            "_view_name": "LayoutView",
            "align_content": null,
            "align_items": null,
            "align_self": null,
            "border_bottom": null,
            "border_left": null,
            "border_right": null,
            "border_top": null,
            "bottom": null,
            "display": null,
            "flex": null,
            "flex_flow": null,
            "grid_area": null,
            "grid_auto_columns": null,
            "grid_auto_flow": null,
            "grid_auto_rows": null,
            "grid_column": null,
            "grid_gap": null,
            "grid_row": null,
            "grid_template_areas": null,
            "grid_template_columns": null,
            "grid_template_rows": null,
            "height": null,
            "justify_content": null,
            "justify_items": null,
            "left": null,
            "margin": null,
            "max_height": null,
            "max_width": null,
            "min_height": null,
            "min_width": null,
            "object_fit": null,
            "object_position": null,
            "order": null,
            "overflow": null,
            "padding": null,
            "right": null,
            "top": null,
            "visibility": null,
            "width": null
          }
        },
        "a66e8955c74f4978a40f8703aec98a50": {
          "model_module": "@jupyter-widgets/controls",
          "model_name": "HTMLStyleModel",
          "model_module_version": "2.0.0",
          "state": {
            "_model_module": "@jupyter-widgets/controls",
            "_model_module_version": "2.0.0",
            "_model_name": "HTMLStyleModel",
            "_view_count": null,
            "_view_module": "@jupyter-widgets/base",
            "_view_module_version": "2.0.0",
            "_view_name": "StyleView",
            "background": null,
            "description_width": "",
            "font_size": null,
            "text_color": null
          }
        },
        "f9f6ddf69a8c41df981535727f593b3c": {
          "model_module": "@jupyter-widgets/controls",
          "model_name": "HBoxModel",
          "model_module_version": "2.0.0",
          "state": {
            "_dom_classes": [],
            "_model_module": "@jupyter-widgets/controls",
            "_model_module_version": "2.0.0",
            "_model_name": "HBoxModel",
            "_view_count": null,
            "_view_module": "@jupyter-widgets/controls",
            "_view_module_version": "2.0.0",
            "_view_name": "HBoxView",
            "box_style": "",
            "children": [
              "IPY_MODEL_8fc0b6d27be34de780f87eb270f22835",
              "IPY_MODEL_e024be1d23c044f59d4869807b5fb2fb",
              "IPY_MODEL_5f69abf8b5844000aec700897fc67473"
            ],
            "layout": "IPY_MODEL_fcec4246061e4098b1c3c9d9f3c4b243",
            "tabbable": null,
            "tooltip": null
          }
        },
        "8fc0b6d27be34de780f87eb270f22835": {
          "model_module": "@jupyter-widgets/controls",
          "model_name": "HTMLModel",
          "model_module_version": "2.0.0",
          "state": {
            "_dom_classes": [],
            "_model_module": "@jupyter-widgets/controls",
            "_model_module_version": "2.0.0",
            "_model_name": "HTMLModel",
            "_view_count": null,
            "_view_module": "@jupyter-widgets/controls",
            "_view_module_version": "2.0.0",
            "_view_name": "HTMLView",
            "description": "",
            "description_allow_html": false,
            "layout": "IPY_MODEL_2e2c5ee8e79b4b4ea5645af440de1e67",
            "placeholder": "​",
            "style": "IPY_MODEL_9ef9b477123645c3b1b2062dc4ca236e",
            "tabbable": null,
            "tooltip": null,
            "value": "Downloading config.json: 100%"
          }
        },
        "e024be1d23c044f59d4869807b5fb2fb": {
          "model_module": "@jupyter-widgets/controls",
          "model_name": "FloatProgressModel",
          "model_module_version": "2.0.0",
          "state": {
            "_dom_classes": [],
            "_model_module": "@jupyter-widgets/controls",
            "_model_module_version": "2.0.0",
            "_model_name": "FloatProgressModel",
            "_view_count": null,
            "_view_module": "@jupyter-widgets/controls",
            "_view_module_version": "2.0.0",
            "_view_name": "ProgressView",
            "bar_style": "success",
            "description": "",
            "description_allow_html": false,
            "layout": "IPY_MODEL_e78e05a5f6ab4874a1b5ea8d10121ca8",
            "max": 710,
            "min": 0,
            "orientation": "horizontal",
            "style": "IPY_MODEL_89b984e5ecbd4968affc7832a683172d",
            "tabbable": null,
            "tooltip": null,
            "value": 710
          }
        },
        "5f69abf8b5844000aec700897fc67473": {
          "model_module": "@jupyter-widgets/controls",
          "model_name": "HTMLModel",
          "model_module_version": "2.0.0",
          "state": {
            "_dom_classes": [],
            "_model_module": "@jupyter-widgets/controls",
            "_model_module_version": "2.0.0",
            "_model_name": "HTMLModel",
            "_view_count": null,
            "_view_module": "@jupyter-widgets/controls",
            "_view_module_version": "2.0.0",
            "_view_name": "HTMLView",
            "description": "",
            "description_allow_html": false,
            "layout": "IPY_MODEL_e0e5e3a308b04ba980d33a7c928a2c40",
            "placeholder": "​",
            "style": "IPY_MODEL_413a340e069049ee8dcdf5d0c11ab802",
            "tabbable": null,
            "tooltip": null,
            "value": " 710/710 [00:00&lt;00:00, 24.9kB/s]"
          }
        },
        "fcec4246061e4098b1c3c9d9f3c4b243": {
          "model_module": "@jupyter-widgets/base",
          "model_name": "LayoutModel",
          "model_module_version": "2.0.0",
          "state": {
            "_model_module": "@jupyter-widgets/base",
            "_model_module_version": "2.0.0",
            "_model_name": "LayoutModel",
            "_view_count": null,
            "_view_module": "@jupyter-widgets/base",
            "_view_module_version": "2.0.0",
            "_view_name": "LayoutView",
            "align_content": null,
            "align_items": null,
            "align_self": null,
            "border_bottom": null,
            "border_left": null,
            "border_right": null,
            "border_top": null,
            "bottom": null,
            "display": null,
            "flex": null,
            "flex_flow": null,
            "grid_area": null,
            "grid_auto_columns": null,
            "grid_auto_flow": null,
            "grid_auto_rows": null,
            "grid_column": null,
            "grid_gap": null,
            "grid_row": null,
            "grid_template_areas": null,
            "grid_template_columns": null,
            "grid_template_rows": null,
            "height": null,
            "justify_content": null,
            "justify_items": null,
            "left": null,
            "margin": null,
            "max_height": null,
            "max_width": null,
            "min_height": null,
            "min_width": null,
            "object_fit": null,
            "object_position": null,
            "order": null,
            "overflow": null,
            "padding": null,
            "right": null,
            "top": null,
            "visibility": null,
            "width": null
          }
        },
        "2e2c5ee8e79b4b4ea5645af440de1e67": {
          "model_module": "@jupyter-widgets/base",
          "model_name": "LayoutModel",
          "model_module_version": "2.0.0",
          "state": {
            "_model_module": "@jupyter-widgets/base",
            "_model_module_version": "2.0.0",
            "_model_name": "LayoutModel",
            "_view_count": null,
            "_view_module": "@jupyter-widgets/base",
            "_view_module_version": "2.0.0",
            "_view_name": "LayoutView",
            "align_content": null,
            "align_items": null,
            "align_self": null,
            "border_bottom": null,
            "border_left": null,
            "border_right": null,
            "border_top": null,
            "bottom": null,
            "display": null,
            "flex": null,
            "flex_flow": null,
            "grid_area": null,
            "grid_auto_columns": null,
            "grid_auto_flow": null,
            "grid_auto_rows": null,
            "grid_column": null,
            "grid_gap": null,
            "grid_row": null,
            "grid_template_areas": null,
            "grid_template_columns": null,
            "grid_template_rows": null,
            "height": null,
            "justify_content": null,
            "justify_items": null,
            "left": null,
            "margin": null,
            "max_height": null,
            "max_width": null,
            "min_height": null,
            "min_width": null,
            "object_fit": null,
            "object_position": null,
            "order": null,
            "overflow": null,
            "padding": null,
            "right": null,
            "top": null,
            "visibility": null,
            "width": null
          }
        },
        "9ef9b477123645c3b1b2062dc4ca236e": {
          "model_module": "@jupyter-widgets/controls",
          "model_name": "HTMLStyleModel",
          "model_module_version": "2.0.0",
          "state": {
            "_model_module": "@jupyter-widgets/controls",
            "_model_module_version": "2.0.0",
            "_model_name": "HTMLStyleModel",
            "_view_count": null,
            "_view_module": "@jupyter-widgets/base",
            "_view_module_version": "2.0.0",
            "_view_name": "StyleView",
            "background": null,
            "description_width": "",
            "font_size": null,
            "text_color": null
          }
        },
        "e78e05a5f6ab4874a1b5ea8d10121ca8": {
          "model_module": "@jupyter-widgets/base",
          "model_name": "LayoutModel",
          "model_module_version": "2.0.0",
          "state": {
            "_model_module": "@jupyter-widgets/base",
            "_model_module_version": "2.0.0",
            "_model_name": "LayoutModel",
            "_view_count": null,
            "_view_module": "@jupyter-widgets/base",
            "_view_module_version": "2.0.0",
            "_view_name": "LayoutView",
            "align_content": null,
            "align_items": null,
            "align_self": null,
            "border_bottom": null,
            "border_left": null,
            "border_right": null,
            "border_top": null,
            "bottom": null,
            "display": null,
            "flex": null,
            "flex_flow": null,
            "grid_area": null,
            "grid_auto_columns": null,
            "grid_auto_flow": null,
            "grid_auto_rows": null,
            "grid_column": null,
            "grid_gap": null,
            "grid_row": null,
            "grid_template_areas": null,
            "grid_template_columns": null,
            "grid_template_rows": null,
            "height": null,
            "justify_content": null,
            "justify_items": null,
            "left": null,
            "margin": null,
            "max_height": null,
            "max_width": null,
            "min_height": null,
            "min_width": null,
            "object_fit": null,
            "object_position": null,
            "order": null,
            "overflow": null,
            "padding": null,
            "right": null,
            "top": null,
            "visibility": null,
            "width": null
          }
        },
        "89b984e5ecbd4968affc7832a683172d": {
          "model_module": "@jupyter-widgets/controls",
          "model_name": "ProgressStyleModel",
          "model_module_version": "2.0.0",
          "state": {
            "_model_module": "@jupyter-widgets/controls",
            "_model_module_version": "2.0.0",
            "_model_name": "ProgressStyleModel",
            "_view_count": null,
            "_view_module": "@jupyter-widgets/base",
            "_view_module_version": "2.0.0",
            "_view_name": "StyleView",
            "bar_color": null,
            "description_width": ""
          }
        },
        "e0e5e3a308b04ba980d33a7c928a2c40": {
          "model_module": "@jupyter-widgets/base",
          "model_name": "LayoutModel",
          "model_module_version": "2.0.0",
          "state": {
            "_model_module": "@jupyter-widgets/base",
            "_model_module_version": "2.0.0",
            "_model_name": "LayoutModel",
            "_view_count": null,
            "_view_module": "@jupyter-widgets/base",
            "_view_module_version": "2.0.0",
            "_view_name": "LayoutView",
            "align_content": null,
            "align_items": null,
            "align_self": null,
            "border_bottom": null,
            "border_left": null,
            "border_right": null,
            "border_top": null,
            "bottom": null,
            "display": null,
            "flex": null,
            "flex_flow": null,
            "grid_area": null,
            "grid_auto_columns": null,
            "grid_auto_flow": null,
            "grid_auto_rows": null,
            "grid_column": null,
            "grid_gap": null,
            "grid_row": null,
            "grid_template_areas": null,
            "grid_template_columns": null,
            "grid_template_rows": null,
            "height": null,
            "justify_content": null,
            "justify_items": null,
            "left": null,
            "margin": null,
            "max_height": null,
            "max_width": null,
            "min_height": null,
            "min_width": null,
            "object_fit": null,
            "object_position": null,
            "order": null,
            "overflow": null,
            "padding": null,
            "right": null,
            "top": null,
            "visibility": null,
            "width": null
          }
        },
        "413a340e069049ee8dcdf5d0c11ab802": {
          "model_module": "@jupyter-widgets/controls",
          "model_name": "HTMLStyleModel",
          "model_module_version": "2.0.0",
          "state": {
            "_model_module": "@jupyter-widgets/controls",
            "_model_module_version": "2.0.0",
            "_model_name": "HTMLStyleModel",
            "_view_count": null,
            "_view_module": "@jupyter-widgets/base",
            "_view_module_version": "2.0.0",
            "_view_name": "StyleView",
            "background": null,
            "description_width": "",
            "font_size": null,
            "text_color": null
          }
        },
        "40c0c0346d674703b852a59eef04476b": {
          "model_module": "@jupyter-widgets/controls",
          "model_name": "HBoxModel",
          "model_module_version": "2.0.0",
          "state": {
            "_dom_classes": [],
            "_model_module": "@jupyter-widgets/controls",
            "_model_module_version": "2.0.0",
            "_model_name": "HBoxModel",
            "_view_count": null,
            "_view_module": "@jupyter-widgets/controls",
            "_view_module_version": "2.0.0",
            "_view_name": "HBoxView",
            "box_style": "",
            "children": [
              "IPY_MODEL_df69847a7b8f4c8988eeeeef1b2941ff",
              "IPY_MODEL_d59c373c929b4efd801fa08ac5534803",
              "IPY_MODEL_9ede36c10a38497e9eb28a8e8f7b8c07"
            ],
            "layout": "IPY_MODEL_d69ad36b2de74edcb70dd1cc9a9e2168",
            "tabbable": null,
            "tooltip": null
          }
        },
        "df69847a7b8f4c8988eeeeef1b2941ff": {
          "model_module": "@jupyter-widgets/controls",
          "model_name": "HTMLModel",
          "model_module_version": "2.0.0",
          "state": {
            "_dom_classes": [],
            "_model_module": "@jupyter-widgets/controls",
            "_model_module_version": "2.0.0",
            "_model_name": "HTMLModel",
            "_view_count": null,
            "_view_module": "@jupyter-widgets/controls",
            "_view_module_version": "2.0.0",
            "_view_name": "HTMLView",
            "description": "",
            "description_allow_html": false,
            "layout": "IPY_MODEL_d99fc813e9b345a4a7b9b71a508d76a2",
            "placeholder": "​",
            "style": "IPY_MODEL_f3dbc97b7ae7483c8227af141bf588ae",
            "tabbable": null,
            "tooltip": null,
            "value": "Downloading pytorch_model.bin: 100%"
          }
        },
        "d59c373c929b4efd801fa08ac5534803": {
          "model_module": "@jupyter-widgets/controls",
          "model_name": "FloatProgressModel",
          "model_module_version": "2.0.0",
          "state": {
            "_dom_classes": [],
            "_model_module": "@jupyter-widgets/controls",
            "_model_module_version": "2.0.0",
            "_model_name": "FloatProgressModel",
            "_view_count": null,
            "_view_module": "@jupyter-widgets/controls",
            "_view_module_version": "2.0.0",
            "_view_name": "ProgressView",
            "bar_style": "success",
            "description": "",
            "description_allow_html": false,
            "layout": "IPY_MODEL_5576ec1eff574bc6848c10f66554a01a",
            "max": 2130731319,
            "min": 0,
            "orientation": "horizontal",
            "style": "IPY_MODEL_2f3cf80a8b4e4a3baa4d33b2fce45c1f",
            "tabbable": null,
            "tooltip": null,
            "value": 2130731319
          }
        },
        "9ede36c10a38497e9eb28a8e8f7b8c07": {
          "model_module": "@jupyter-widgets/controls",
          "model_name": "HTMLModel",
          "model_module_version": "2.0.0",
          "state": {
            "_dom_classes": [],
            "_model_module": "@jupyter-widgets/controls",
            "_model_module_version": "2.0.0",
            "_model_name": "HTMLModel",
            "_view_count": null,
            "_view_module": "@jupyter-widgets/controls",
            "_view_module_version": "2.0.0",
            "_view_name": "HTMLView",
            "description": "",
            "description_allow_html": false,
            "layout": "IPY_MODEL_553dbb27d27e468fb677b872363b28e5",
            "placeholder": "​",
            "style": "IPY_MODEL_093841ce8de34f2b85a42e0581dd14cd",
            "tabbable": null,
            "tooltip": null,
            "value": " 1.98G/1.98G [00:35&lt;00:00, 61.7MB/s]"
          }
        },
        "d69ad36b2de74edcb70dd1cc9a9e2168": {
          "model_module": "@jupyter-widgets/base",
          "model_name": "LayoutModel",
          "model_module_version": "2.0.0",
          "state": {
            "_model_module": "@jupyter-widgets/base",
            "_model_module_version": "2.0.0",
            "_model_name": "LayoutModel",
            "_view_count": null,
            "_view_module": "@jupyter-widgets/base",
            "_view_module_version": "2.0.0",
            "_view_name": "LayoutView",
            "align_content": null,
            "align_items": null,
            "align_self": null,
            "border_bottom": null,
            "border_left": null,
            "border_right": null,
            "border_top": null,
            "bottom": null,
            "display": null,
            "flex": null,
            "flex_flow": null,
            "grid_area": null,
            "grid_auto_columns": null,
            "grid_auto_flow": null,
            "grid_auto_rows": null,
            "grid_column": null,
            "grid_gap": null,
            "grid_row": null,
            "grid_template_areas": null,
            "grid_template_columns": null,
            "grid_template_rows": null,
            "height": null,
            "justify_content": null,
            "justify_items": null,
            "left": null,
            "margin": null,
            "max_height": null,
            "max_width": null,
            "min_height": null,
            "min_width": null,
            "object_fit": null,
            "object_position": null,
            "order": null,
            "overflow": null,
            "padding": null,
            "right": null,
            "top": null,
            "visibility": null,
            "width": null
          }
        },
        "d99fc813e9b345a4a7b9b71a508d76a2": {
          "model_module": "@jupyter-widgets/base",
          "model_name": "LayoutModel",
          "model_module_version": "2.0.0",
          "state": {
            "_model_module": "@jupyter-widgets/base",
            "_model_module_version": "2.0.0",
            "_model_name": "LayoutModel",
            "_view_count": null,
            "_view_module": "@jupyter-widgets/base",
            "_view_module_version": "2.0.0",
            "_view_name": "LayoutView",
            "align_content": null,
            "align_items": null,
            "align_self": null,
            "border_bottom": null,
            "border_left": null,
            "border_right": null,
            "border_top": null,
            "bottom": null,
            "display": null,
            "flex": null,
            "flex_flow": null,
            "grid_area": null,
            "grid_auto_columns": null,
            "grid_auto_flow": null,
            "grid_auto_rows": null,
            "grid_column": null,
            "grid_gap": null,
            "grid_row": null,
            "grid_template_areas": null,
            "grid_template_columns": null,
            "grid_template_rows": null,
            "height": null,
            "justify_content": null,
            "justify_items": null,
            "left": null,
            "margin": null,
            "max_height": null,
            "max_width": null,
            "min_height": null,
            "min_width": null,
            "object_fit": null,
            "object_position": null,
            "order": null,
            "overflow": null,
            "padding": null,
            "right": null,
            "top": null,
            "visibility": null,
            "width": null
          }
        },
        "f3dbc97b7ae7483c8227af141bf588ae": {
          "model_module": "@jupyter-widgets/controls",
          "model_name": "HTMLStyleModel",
          "model_module_version": "2.0.0",
          "state": {
            "_model_module": "@jupyter-widgets/controls",
            "_model_module_version": "2.0.0",
            "_model_name": "HTMLStyleModel",
            "_view_count": null,
            "_view_module": "@jupyter-widgets/base",
            "_view_module_version": "2.0.0",
            "_view_name": "StyleView",
            "background": null,
            "description_width": "",
            "font_size": null,
            "text_color": null
          }
        },
        "5576ec1eff574bc6848c10f66554a01a": {
          "model_module": "@jupyter-widgets/base",
          "model_name": "LayoutModel",
          "model_module_version": "2.0.0",
          "state": {
            "_model_module": "@jupyter-widgets/base",
            "_model_module_version": "2.0.0",
            "_model_name": "LayoutModel",
            "_view_count": null,
            "_view_module": "@jupyter-widgets/base",
            "_view_module_version": "2.0.0",
            "_view_name": "LayoutView",
            "align_content": null,
            "align_items": null,
            "align_self": null,
            "border_bottom": null,
            "border_left": null,
            "border_right": null,
            "border_top": null,
            "bottom": null,
            "display": null,
            "flex": null,
            "flex_flow": null,
            "grid_area": null,
            "grid_auto_columns": null,
            "grid_auto_flow": null,
            "grid_auto_rows": null,
            "grid_column": null,
            "grid_gap": null,
            "grid_row": null,
            "grid_template_areas": null,
            "grid_template_columns": null,
            "grid_template_rows": null,
            "height": null,
            "justify_content": null,
            "justify_items": null,
            "left": null,
            "margin": null,
            "max_height": null,
            "max_width": null,
            "min_height": null,
            "min_width": null,
            "object_fit": null,
            "object_position": null,
            "order": null,
            "overflow": null,
            "padding": null,
            "right": null,
            "top": null,
            "visibility": null,
            "width": null
          }
        },
        "2f3cf80a8b4e4a3baa4d33b2fce45c1f": {
          "model_module": "@jupyter-widgets/controls",
          "model_name": "ProgressStyleModel",
          "model_module_version": "2.0.0",
          "state": {
            "_model_module": "@jupyter-widgets/controls",
            "_model_module_version": "2.0.0",
            "_model_name": "ProgressStyleModel",
            "_view_count": null,
            "_view_module": "@jupyter-widgets/base",
            "_view_module_version": "2.0.0",
            "_view_name": "StyleView",
            "bar_color": null,
            "description_width": ""
          }
        },
        "553dbb27d27e468fb677b872363b28e5": {
          "model_module": "@jupyter-widgets/base",
          "model_name": "LayoutModel",
          "model_module_version": "2.0.0",
          "state": {
            "_model_module": "@jupyter-widgets/base",
            "_model_module_version": "2.0.0",
            "_model_name": "LayoutModel",
            "_view_count": null,
            "_view_module": "@jupyter-widgets/base",
            "_view_module_version": "2.0.0",
            "_view_name": "LayoutView",
            "align_content": null,
            "align_items": null,
            "align_self": null,
            "border_bottom": null,
            "border_left": null,
            "border_right": null,
            "border_top": null,
            "bottom": null,
            "display": null,
            "flex": null,
            "flex_flow": null,
            "grid_area": null,
            "grid_auto_columns": null,
            "grid_auto_flow": null,
            "grid_auto_rows": null,
            "grid_column": null,
            "grid_gap": null,
            "grid_row": null,
            "grid_template_areas": null,
            "grid_template_columns": null,
            "grid_template_rows": null,
            "height": null,
            "justify_content": null,
            "justify_items": null,
            "left": null,
            "margin": null,
            "max_height": null,
            "max_width": null,
            "min_height": null,
            "min_width": null,
            "object_fit": null,
            "object_position": null,
            "order": null,
            "overflow": null,
            "padding": null,
            "right": null,
            "top": null,
            "visibility": null,
            "width": null
          }
        },
        "093841ce8de34f2b85a42e0581dd14cd": {
          "model_module": "@jupyter-widgets/controls",
          "model_name": "HTMLStyleModel",
          "model_module_version": "2.0.0",
          "state": {
            "_model_module": "@jupyter-widgets/controls",
            "_model_module_version": "2.0.0",
            "_model_name": "HTMLStyleModel",
            "_view_count": null,
            "_view_module": "@jupyter-widgets/base",
            "_view_module_version": "2.0.0",
            "_view_name": "StyleView",
            "background": null,
            "description_width": "",
            "font_size": null,
            "text_color": null
          }
        }
      }
    },
    "accelerator": "GPU",
    "gpuClass": "standard"
  },
  "cells": [
    {
      "cell_type": "code",
      "source": [
        "%pip install -q transformers;\n",
        "%pip install -q torch;"
      ],
      "metadata": {
        "colab": {
          "base_uri": "https://localhost:8080/"
        },
        "id": "th_b4EHG4b4l",
        "outputId": "8927f2f7-d9bd-44c3-e8d8-5e4e07432a05"
      },
      "execution_count": 2,
      "outputs": [
        {
          "output_type": "stream",
          "name": "stdout",
          "text": [
            "\u001b[K     |████████████████████████████████| 4.7 MB 4.9 MB/s \n",
            "\u001b[K     |████████████████████████████████| 101 kB 13.8 MB/s \n",
            "\u001b[K     |████████████████████████████████| 6.6 MB 45.1 MB/s \n",
            "\u001b[?25h"
          ]
        }
      ]
    },
    {
      "cell_type": "code",
      "source": [
        "from transformers import BloomTokenizerFast, BloomForCausalLM\n",
        "from torch.nn import Softmax\n",
        "\n",
        "from typing import List, Tuple, Iterable, Set, Dict"
      ],
      "metadata": {
        "id": "Rou3pmrewyXG"
      },
      "execution_count": 3,
      "outputs": []
    },
    {
      "cell_type": "markdown",
      "source": [
        "bloom-(x)b(y) is the version of bloom that have x.y billion parameters\n",
        "bloom is the full model with 176 billion parameters, and you should only run it on a strong computer with ~500GB of RAM"
      ],
      "metadata": {
        "id": "kSD27zlfxq2V"
      }
    },
    {
      "cell_type": "code",
      "source": [
        "#@title Select BLOOM's version from the list\n",
        "\n",
        "\n",
        "version = \"bloom-560m\" #@param [\"bloom\", \"bloom-7b1\", \"bloom-6b3\", \"bloom-3b\", \"bloom-1b7\", \"bloom-1b1\", \"bloom-560m\"]\n",
        "model_name = f\"bigscience/{version}\""
      ],
      "metadata": {
        "id": "lDyw05iOoo98",
        "cellView": "form"
      },
      "execution_count": 7,
      "outputs": []
    },
    {
      "cell_type": "code",
      "source": [
        "tokenizer = BloomTokenizerFast.from_pretrained(model_name)\n",
        "model = BloomForCausalLM.from_pretrained(model_name)"
      ],
      "metadata": {
        "colab": {
          "base_uri": "https://localhost:8080/",
          "height": 17,
          "referenced_widgets": [
            "a637da606c894b08acec5f8293842835",
            "bd89e5d23e874f22a3715db80686ab55",
            "e6cf589f67b04fc9980d9749e6651068",
            "b591b70d9e784974b4713c580f9adfa3",
            "cc583fa0d560429ab9519777b133bce8",
            "c32729c87a52472cb2af25274922e64e",
            "c81cfd9738ea44349f4bde3accfdc14b",
            "a7f91d2e465c4d199e00e419b0b04f61",
            "feb55c3e2f6a4789a5452303a21929f5",
            "2d7cbbb7b2e5419fb809ce07ba8dcbf8",
            "6306e7f7867a4dc689cf0d59410c3116",
            "5252a07599d2476bbf658f160f717c1f",
            "6de48ac3742745398ed7aa7f7522cfa9",
            "f71939c1681d4bfa80410a69c4f10373",
            "304d3da0be05446882f593dc79f116ea",
            "86f84c21344c4a5a807b7806515e760b",
            "01a420f88bfc47478fec03d7498eed7f",
            "a987329081f94567a3316a7b486e56f8",
            "35e6860de9594de09a734db09cc1bc46",
            "664fde3a95284e1ebd3a5bb573458720",
            "661da7688fa84f5f99c89af4b92f10d1",
            "6e684da315db4b0991edd47e98ee1eeb",
            "19b7726bda1544af96afeb3f36013f24",
            "26b03bd004f1454585f06faa2274b953",
            "ff3c11b21ff64d19b1ee6a413bb8ab05",
            "c9d32becce7d4e59b1b22398d3df929a",
            "fcf305c91c6e4c198419618f9c9b9851",
            "a0b61a032590481c822995abc05a06b5",
            "9539268c03b74c8395fe709a5dce0405",
            "6fec6d885f7145ec83cab25ad439053d",
            "96f0856e8eb94f3594ab7389c0325905",
            "3b404c3f1c41417585f63e892592bac6",
            "a66e8955c74f4978a40f8703aec98a50",
            "f9f6ddf69a8c41df981535727f593b3c",
            "8fc0b6d27be34de780f87eb270f22835",
            "e024be1d23c044f59d4869807b5fb2fb",
            "5f69abf8b5844000aec700897fc67473",
            "fcec4246061e4098b1c3c9d9f3c4b243",
            "2e2c5ee8e79b4b4ea5645af440de1e67",
            "9ef9b477123645c3b1b2062dc4ca236e",
            "e78e05a5f6ab4874a1b5ea8d10121ca8",
            "89b984e5ecbd4968affc7832a683172d",
            "e0e5e3a308b04ba980d33a7c928a2c40",
            "413a340e069049ee8dcdf5d0c11ab802",
            "40c0c0346d674703b852a59eef04476b",
            "df69847a7b8f4c8988eeeeef1b2941ff",
            "d59c373c929b4efd801fa08ac5534803",
            "9ede36c10a38497e9eb28a8e8f7b8c07",
            "d69ad36b2de74edcb70dd1cc9a9e2168",
            "d99fc813e9b345a4a7b9b71a508d76a2",
            "f3dbc97b7ae7483c8227af141bf588ae",
            "5576ec1eff574bc6848c10f66554a01a",
            "2f3cf80a8b4e4a3baa4d33b2fce45c1f",
            "553dbb27d27e468fb677b872363b28e5",
            "093841ce8de34f2b85a42e0581dd14cd"
          ]
        },
        "id": "oFpZRiSR9mlh",
        "outputId": "1c96a534-981b-4ef7-d736-63cb90de3bc9"
      },
      "execution_count": 8,
      "outputs": [
        {
          "output_type": "display_data",
          "data": {
            "text/plain": [
              "Downloading tokenizer_config.json:   0%|          | 0.00/222 [00:00<?, ?B/s]"
            ],
            "application/vnd.jupyter.widget-view+json": {
              "version_major": 2,
              "version_minor": 0,
              "model_id": "a637da606c894b08acec5f8293842835"
            },
            "application/json": {
              "n": 0,
              "total": 222,
              "elapsed": 0.019510984420776367,
              "ncols": null,
              "nrows": null,
              "prefix": "Downloading tokenizer_config.json",
              "ascii": false,
              "unit": "B",
              "unit_scale": true,
              "rate": null,
              "bar_format": null,
              "postfix": null,
              "unit_divisor": 1024,
              "initial": 0,
              "colour": null
            }
          },
          "metadata": {}
        },
        {
          "output_type": "display_data",
          "data": {
            "text/plain": [
              "Downloading tokenizer.json:   0%|          | 0.00/13.8M [00:00<?, ?B/s]"
            ],
            "application/vnd.jupyter.widget-view+json": {
              "version_major": 2,
              "version_minor": 0,
              "model_id": "5252a07599d2476bbf658f160f717c1f"
            },
            "application/json": {
              "n": 0,
              "total": 14500438,
              "elapsed": 0.0179288387298584,
              "ncols": null,
              "nrows": null,
              "prefix": "Downloading tokenizer.json",
              "ascii": false,
              "unit": "B",
              "unit_scale": true,
              "rate": null,
              "bar_format": null,
              "postfix": null,
              "unit_divisor": 1024,
              "initial": 0,
              "colour": null
            }
          },
          "metadata": {}
        },
        {
          "output_type": "display_data",
          "data": {
            "text/plain": [
              "Downloading special_tokens_map.json:   0%|          | 0.00/85.0 [00:00<?, ?B/s]"
            ],
            "application/vnd.jupyter.widget-view+json": {
              "version_major": 2,
              "version_minor": 0,
              "model_id": "19b7726bda1544af96afeb3f36013f24"
            },
            "application/json": {
              "n": 0,
              "total": 85,
              "elapsed": 0.018318653106689453,
              "ncols": null,
              "nrows": null,
              "prefix": "Downloading special_tokens_map.json",
              "ascii": false,
              "unit": "B",
              "unit_scale": true,
              "rate": null,
              "bar_format": null,
              "postfix": null,
              "unit_divisor": 1024,
              "initial": 0,
              "colour": null
            }
          },
          "metadata": {}
        },
        {
          "output_type": "display_data",
          "data": {
            "text/plain": [
              "Downloading config.json:   0%|          | 0.00/710 [00:00<?, ?B/s]"
            ],
            "application/vnd.jupyter.widget-view+json": {
              "version_major": 2,
              "version_minor": 0,
              "model_id": "f9f6ddf69a8c41df981535727f593b3c"
            },
            "application/json": {
              "n": 0,
              "total": 710,
              "elapsed": 0.01842522621154785,
              "ncols": null,
              "nrows": null,
              "prefix": "Downloading config.json",
              "ascii": false,
              "unit": "B",
              "unit_scale": true,
              "rate": null,
              "bar_format": null,
              "postfix": null,
              "unit_divisor": 1024,
              "initial": 0,
              "colour": null
            }
          },
          "metadata": {}
        },
        {
          "output_type": "display_data",
          "data": {
            "text/plain": [
              "Downloading pytorch_model.bin:   0%|          | 0.00/1.98G [00:00<?, ?B/s]"
            ],
            "application/vnd.jupyter.widget-view+json": {
              "version_major": 2,
              "version_minor": 0,
              "model_id": "40c0c0346d674703b852a59eef04476b"
            },
            "application/json": {
              "n": 0,
              "total": 2130731319,
              "elapsed": 0.018312454223632812,
              "ncols": null,
              "nrows": null,
              "prefix": "Downloading pytorch_model.bin",
              "ascii": false,
              "unit": "B",
              "unit_scale": true,
              "rate": null,
              "bar_format": null,
              "postfix": null,
              "unit_divisor": 1024,
              "initial": 0,
              "colour": null
            }
          },
          "metadata": {}
        }
      ]
    },
    {
      "cell_type": "code",
      "source": [
        "exm_inputs = tokenizer(\"encode this example\", return_tensors=\"pt\")\n",
        "exm_inputs"
      ],
      "metadata": {
        "colab": {
          "base_uri": "https://localhost:8080/"
        },
        "id": "Pt71gDBRyla1",
        "outputId": "f3f498a8-c5de-4d5d-a066-a9249fd573fb"
      },
      "execution_count": 9,
      "outputs": [
        {
          "output_type": "execute_result",
          "data": {
            "text/plain": [
              "{'input_ids': tensor([[47813,  1119,  6635]]), 'attention_mask': tensor([[1, 1, 1]])}"
            ]
          },
          "metadata": {},
          "execution_count": 9
        }
      ]
    },
    {
      "cell_type": "code",
      "source": [
        "logits_pt_tensor = model(**exm_inputs, labels=exm_inputs[\"input_ids\"]).logits.squeeze(0)\n",
        "logits_pt_tensor"
      ],
      "metadata": {
        "id": "qmsQeaNdckUD",
        "outputId": "7654114f-bdf4-458f-e0fb-89f4e89d9908",
        "colab": {
          "base_uri": "https://localhost:8080/"
        }
      },
      "execution_count": 10,
      "outputs": [
        {
          "output_type": "execute_result",
          "data": {
            "text/plain": [
              "tensor([[-1.6262, -2.2337,  2.2758,  ..., -1.7645, -1.7644, -1.7643],\n",
              "        [-2.1960, -2.8377,  4.2420,  ..., -2.3659, -2.3647, -2.3649],\n",
              "        [-2.0677, -2.5625,  7.4347,  ..., -2.3167, -2.3160, -2.3161]],\n",
              "       grad_fn=<SqueezeBackward1>)"
            ]
          },
          "metadata": {},
          "execution_count": 10
        }
      ]
    },
    {
      "cell_type": "code",
      "source": [
        "soft_max_func = Softmax(dim=1)"
      ],
      "metadata": {
        "id": "s3Zd_Fl5cv7R"
      },
      "execution_count": 11,
      "outputs": []
    },
    {
      "cell_type": "code",
      "source": [
        "prob_tensor = soft_max_func(logits_pt_tensor)\n",
        "prob_tensor"
      ],
      "metadata": {
        "id": "chLQK4-icynz",
        "outputId": "af9f4773-1701-4929-be34-3d13f8ad6f53",
        "colab": {
          "base_uri": "https://localhost:8080/"
        }
      },
      "execution_count": 13,
      "outputs": [
        {
          "output_type": "execute_result",
          "data": {
            "text/plain": [
              "tensor([[6.3068e-08, 3.4355e-08, 3.1220e-06,  ..., 5.4926e-08, 5.4927e-08,\n",
              "         5.4937e-08],\n",
              "        [5.1066e-08, 2.6880e-08, 3.1926e-05,  ..., 4.3087e-08, 4.3138e-08,\n",
              "         4.3129e-08],\n",
              "        [1.9451e-08, 1.1859e-08, 2.6050e-04,  ..., 1.5165e-08, 1.5175e-08,\n",
              "         1.5173e-08]], grad_fn=<SoftmaxBackward0>)"
            ]
          },
          "metadata": {},
          "execution_count": 13
        }
      ]
    },
    {
      "cell_type": "code",
      "source": [
        "import torch\n",
        "torch.sum(prob_tensor, axis=1)"
      ],
      "metadata": {
        "id": "nL7L9hQuyjx0",
        "outputId": "df4c32ca-2330-41c1-c865-dcf4ec4d4321",
        "colab": {
          "base_uri": "https://localhost:8080/"
        }
      },
      "execution_count": 15,
      "outputs": [
        {
          "output_type": "execute_result",
          "data": {
            "text/plain": [
              "tensor([1.0000, 1.0000, 1.0000], grad_fn=<SumBackward1>)"
            ]
          },
          "metadata": {},
          "execution_count": 15
        }
      ]
    },
    {
      "cell_type": "code",
      "execution_count": 16,
      "metadata": {
        "id": "Fjc53pLR3z5X"
      },
      "outputs": [],
      "source": [
        "def get_prob_mat(model_name, str_prompt, group_size):\n",
        "    \"\"\"Returns the probability matrix as a list of lists of floats\"\"\"\n",
        "    if \"bloom\" in model_name:\n",
        "        inputs = tokenizer(str_prompt, return_tensors=\"pt\")\n",
        "        logits_pt_tensor = model(**inputs, labels=inputs[\"input_ids\"]).logits.squeeze(0)\n",
        "    prob_tensor = soft_max_func(logits_pt_tensor)\n",
        "    try:\n",
        "        prob_tensor = prob_tensor[:group_size, :]\n",
        "    except IndexError as e:\n",
        "        raise [e, ValueError(\"Group size must be smaller than the size of the prompt in tokens\")]\n",
        "    \n",
        "    prob_mat = [prob_tensor[i, :].tolist() for i in range(group_size)]\n",
        "    return prob_mat"
      ]
    },
    {
      "cell_type": "code",
      "source": [
        "def combinations(mat):\n",
        "    \"\"\"Returns all the lists such that list[j] is in mat[j]\n",
        "    complexity: prod([len(mat[i]) for i in range(len(mat))])\"\"\"\n",
        "    if len(mat) == 1:\n",
        "        return [[mat[0][i]] for i in range(len(mat[0]))]\n",
        "    res = []\n",
        "    for i in mat[0]:\n",
        "        for j in combinations(mat[1:]):\n",
        "            res.append([i] + j)\n",
        "    return res\n",
        "\n",
        "\n",
        "def doesnt_have_duplicates(my_list):\n",
        "    \"\"\"Return if there isn't a repetition in the list\n",
        "    complexity: O(n) where n is the length of the list\"\"\"\n",
        "    return len(my_list) == len(set(my_list))\n",
        "\n",
        "\n",
        "def seq_prob(tokens, prob_mat):\n",
        "    \"\"\"Given the probability matrix and a list of tokens\n",
        "    returns the probability of the sequence\n",
        "    prob_mat[a][b] is the probability of the token with id b the a-th token in the sequence\n",
        "    comlexity: O(len(tokens))\"\"\"\n",
        "    probability = 1.0\n",
        "    sequence_length = len(tokens)\n",
        "    for i in range(sequence_length):\n",
        "        curr_token = tokens[i]\n",
        "        probability *= prob_mat[i][curr_token]\n",
        "    return probability\n",
        "\n",
        "\n",
        "def grouped_sampling(prob_mat: List[List[int]], top_p, top_k, group_size) -> Tuple[List[List[int]], List[float]]:\n",
        "    \"\"\"given a matrix of probabilities, returns a list of lists of tokens\n",
        "    the matrixs is of size group_size x vocab_size\n",
        "    where matrix[i, j] is the probability of token j the i-th token in the group\n",
        "    samples the tokens such that for each place in the group,\n",
        "    at most top_k tokens are sampled and at least one token is sampled\n",
        "    and the added probability of all the tokens is less than or equal top_p\n",
        "    returns a list of where every item is a tuple of a sequense and probability\n",
        "    overall complexity of the function in O(group_size * vocab_size * log(vocab_size))\"\"\"\n",
        "    \n",
        "    # prob_tensor.shape is now (group_size, vocab_size)\n",
        "    indices = []  # O(1)\n",
        "    for i in range(group_size): # group_size times\n",
        "        token_prob = prob_mat[i]  # O(1)\n",
        "        vocab_size = len(token_prob)  # O(1)\n",
        "        indexed_prob = list(zip(token_prob, range(vocab_size)))  # O(vocab_size)\n",
        "        sorted_indexed_prob = sorted(indexed_prob, key=lambda x: x[0], reverse=True)[:top_k] # O(vocab_size*log(vocab_size))\n",
        "        total_prob: float = sorted_indexed_prob[0][0]  # O(1)\n",
        "        curr_indices: List[List[int]] = [sorted_indexed_prob[0][1]]\n",
        "        for prob, token in sorted_indexed_prob:  # top_k times\n",
        "            if total_prob + prob > top_p:  # O(1)\n",
        "                break\n",
        "            total_prob += prob  # O(1)\n",
        "            curr_indices.append(token)  # O(1)\n",
        "        indices.append(curr_indices)  # O(1)\n",
        "    new_sequences: List[List[int]] = combinations(indices)  # theta(prod(len(indices[i]) for i in range(group_size)))\n",
        "    # len(indices[i]) <= min(top_k, vocab_size)\n",
        "    # therefore the complexity is O(min(top_k, vocab_size) * group_size)\n",
        "    filtered_sequences: Iterable[List[int]] = list(filter(doesnt_have_duplicates, new_sequences))\n",
        "    prob_list: List[Tuple[List[int], float]] = [seq_prob(seq, prob_mat) for seq in filtered_sequences]\n",
        "    return filtered_sequences, prob_list"
      ],
      "metadata": {
        "id": "7xP7MjctCfgq"
      },
      "execution_count": 27,
      "outputs": []
    },
    {
      "cell_type": "code",
      "source": [
        "from functools import reduce\n",
        "\n",
        "def flatten(l: list) -> List[int]:\n",
        "    # Complexity: O(len(the flatten list))\n",
        "    new_list = []\n",
        "    for item in l:\n",
        "        if isinstance(item, int):\n",
        "            new_list.append(item)\n",
        "        elif isinstance(item, list):\n",
        "            new_list.extend(flatten(item))\n",
        "    return new_list"
      ],
      "metadata": {
        "id": "b-5eu4O8OIrb"
      },
      "execution_count": 28,
      "outputs": []
    },
    {
      "cell_type": "code",
      "source": [
        "def remove_duplicates(completions: List[List[int]], probs: List[float]) -> Dict[Tuple[int], float]:\n",
        "    \"\"\"Given a list of tokenized answers and the probability of each complition,\n",
        "    removes every repeated completion and every complition that have repeated tokens\"\"\"\n",
        "    filtered_completions: Dict[Tuple[int], float] = dict()\n",
        "    for curr_comp, curr_prob in zip(completions, probs):\n",
        "        if len(curr_comp) == len(set(curr_comp)):\n",
        "            curr_comp_tuple = tuple(curr_comp)\n",
        "            filtered_completions[curr_comp_tuple] = curr_prob\n",
        "    return filtered_completions"
      ],
      "metadata": {
        "id": "-SPGu9BuUAZh"
      },
      "execution_count": 29,
      "outputs": []
    },
    {
      "cell_type": "code",
      "source": [
        "def complete(model_name, org_prompt, top_p, top_k, num_groups, group_size, org_prompt_prob = 1.0) -> Dict[Tuple[int], float]:\n",
        "    \"\"\"preprocess the prompt and completes the text\n",
        "    model name: str\n",
        "    org_prompt: str\"\"\"\n",
        "    if isinstance(org_prompt, str):\n",
        "        str_prompt = org_prompt\n",
        "        tokenized_prompt_ten = tokenizer(str_prompt, return_tensors=\"pt\")[\"input_ids\"]\n",
        "        tokenized_prompt_list = tokenized_prompt_ten.tolist()\n",
        "    elif isinstance(org_prompt, list):\n",
        "        tokenized_prompt_list = flatten(org_prompt)\n",
        "        str_prompt = tokenizer.decode(tokenized_prompt_list)\n",
        "    else:\n",
        "        raise ValueError(\"org_prompt must be a string or list of integers\")\n",
        "    \n",
        "    prob_mat = get_prob_mat(model_name, str_prompt, group_size)\n",
        "    tokenized_ans_list, prob_list = grouped_sampling(prob_mat, top_p, top_k, group_size)\n",
        "    new_prompts: List[List[int]] = [tokenized_prompt_list + ans for ans in tokenized_ans_list]\n",
        "    if num_groups == 1:\n",
        "        return remove_duplicates(new_prompts, prob_list)\n",
        "    all_new_completions: List[List[int]] = []\n",
        "    all_new_probs: List[float] = []\n",
        "    for curr_new_prompt, curr_new_prompt_prob in zip(new_prompts, prob_list):\n",
        "        curr_new_prompt_prob *= org_prompt_prob\n",
        "        curr_completions = complete(model_name, curr_new_prompt, top_p, top_k, num_groups - 1, group_size, curr_new_prompt_prob)\n",
        "        for tokens, prob in curr_completions.items():\n",
        "            all_new_completions.append(tokens)\n",
        "            all_new_probs.append(prob)\n",
        "    return remove_duplicates(all_new_completions, all_new_probs)"
      ],
      "metadata": {
        "id": "cCWIfQ5h4R0i"
      },
      "execution_count": 30,
      "outputs": []
    },
    {
      "cell_type": "code",
      "source": [
        "def token_list_to_str(token_list: List[int], library: str) -> str:\n",
        "    \"\"\"decodes a list of tokens ids (integers) to a string\"\"\"\n",
        "    return tokenizer.decode(token_list) "
      ],
      "metadata": {
        "id": "qJi3sj9mCE2b"
      },
      "execution_count": 31,
      "outputs": []
    },
    {
      "cell_type": "code",
      "source": [
        "prompt = 'A large langange model is a ' #@param {type:\"string\"}\n",
        "top_p = 0.8 #@param {type:\"slider\", min:0.0, max:1.0, step:0.05}\n",
        "top_k = 2 #@param {type:\"integer\"}\n",
        "group_size = 4 #@param {type:\"integer\"}\n",
        "num_groups = 3 #@param {type:\"integer\"}"
      ],
      "metadata": {
        "cellView": "form",
        "id": "9BUwTv4reNg_"
      },
      "execution_count": 21,
      "outputs": []
    },
    {
      "cell_type": "code",
      "source": [
        "max_num_calls = sum((top_k ** i) for i in range(num_groups))\n",
        "num_tokens_genrated = num_groups * group_size\n",
        "pervious_num_calls = sum((top_k ** i) for i in range(num_tokens_genrated))\n",
        "\n",
        "print(f\"The model will generate {num_tokens_genrated} tokens (words or parts of words)\")\n",
        "print(f\"It will call the model less than {max_num_calls} calls to the model\")\n",
        "print(f\"Previous methods will need {max_num_calls} call to the model to genrate the same text\")"
      ],
      "metadata": {
        "id": "ksTMjoKjpra7",
        "outputId": "db01c6ef-3cf7-4a1b-db17-0fd9a3461583",
        "colab": {
          "base_uri": "https://localhost:8080/"
        }
      },
      "execution_count": 32,
      "outputs": [
        {
          "output_type": "stream",
          "name": "stdout",
          "text": [
            "The model will generate 12 tokens (words or parts of words)\n",
            "It will call the model less than 7 calls to the model\n",
            "Previous methods will need 7 call to the model to genrate the same text\n"
          ]
        }
      ]
    },
    {
      "cell_type": "code",
      "source": [
        "completions = complete(model_name, prompt, top_p, top_k, num_groups, group_size)\n",
        "completions"
      ],
      "metadata": {
        "id": "-gsa-WOdi2eF"
      },
      "execution_count": 33,
      "outputs": []
    },
    {
      "cell_type": "code",
      "source": [
        "completions"
      ],
      "metadata": {
        "id": "DjItFsxj1XDv",
        "outputId": "e790faa3-fe6d-48c8-ab1b-31d46ac1817f",
        "colab": {
          "base_uri": "https://localhost:8080/"
        }
      },
      "execution_count": 35,
      "outputs": [
        {
          "output_type": "execute_result",
          "data": {
            "text/plain": [
              "{}"
            ]
          },
          "metadata": {},
          "execution_count": 35
        }
      ]
    },
    {
      "cell_type": "code",
      "source": [
        "max_key = max(completions, key=completions.get)"
      ],
      "metadata": {
        "id": "5X4jSTghn5fD",
        "outputId": "99b43ac0-b7c8-450b-f5d0-91b60d5ed349",
        "colab": {
          "base_uri": "https://localhost:8080/",
          "height": 166
        }
      },
      "execution_count": 25,
      "outputs": [
        {
          "output_type": "error",
          "ename": "ValueError",
          "evalue": "ignored",
          "traceback": [
            "\u001b[0;31m---------------------------------------------------------------------------\u001b[0m",
            "\u001b[0;31mValueError\u001b[0m                                Traceback (most recent call last)",
            "\u001b[0;32m<ipython-input-25-3efa892d2078>\u001b[0m in \u001b[0;36m<module>\u001b[0;34m\u001b[0m\n\u001b[0;32m----> 1\u001b[0;31m \u001b[0mmax_key\u001b[0m \u001b[0;34m=\u001b[0m \u001b[0mmax\u001b[0m\u001b[0;34m(\u001b[0m\u001b[0mcompletions\u001b[0m\u001b[0;34m,\u001b[0m \u001b[0mkey\u001b[0m\u001b[0;34m=\u001b[0m\u001b[0mcompletions\u001b[0m\u001b[0;34m.\u001b[0m\u001b[0mget\u001b[0m\u001b[0;34m)\u001b[0m\u001b[0;34m\u001b[0m\u001b[0;34m\u001b[0m\u001b[0m\n\u001b[0m",
            "\u001b[0;31mValueError\u001b[0m: max() arg is an empty sequence"
          ]
        }
      ]
    },
    {
      "cell_type": "code",
      "source": [
        "tokenizer.decode(max_key)"
      ],
      "metadata": {
        "id": "KLHVYgUVdxtI"
      },
      "execution_count": null,
      "outputs": []
    },
    {
      "cell_type": "code",
      "source": [
        "sorted_complitions = dict(sorted(completions.items(), key = lambda item: item[1]))\n",
        "type(sorted_complitions)"
      ],
      "metadata": {
        "id": "5y1Tu90rpFu0"
      },
      "execution_count": null,
      "outputs": []
    },
    {
      "cell_type": "code",
      "source": [
        "for tokens, prob in sorted_complitions.items():\n",
        "    print(tokenizer.decode(tokens), prob)"
      ],
      "metadata": {
        "id": "j0MS0FfCoU4S"
      },
      "execution_count": null,
      "outputs": []
    }
  ]
}